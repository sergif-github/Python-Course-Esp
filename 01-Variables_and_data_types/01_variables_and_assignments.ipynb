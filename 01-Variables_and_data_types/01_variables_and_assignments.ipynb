{
 "cells": [
  {
   "attachments": {},
   "cell_type": "markdown",
   "id": "977964ae",
   "metadata": {},
   "source": [
    "# Module 1: Variables and data types\n",
    "\n",
    "## Part 1: Variables and assignments\n",
    "\n",
    "In Python, variables are used to store data values. A variable is like a container that holds a value, which can be of different types such as numbers, \n",
    "strings, or other objects. Assigning a value to a variable is known as variable assignment.\n",
    "\n",
    "### 1.1. Variable names\n",
    "\n",
    "When choosing variable names, there are a few rules to follow:\n",
    "\n",
    "- Variable names can only contain letters (a-z, A-Z), digits (0-9), and underscores (_). \n",
    "- Variable names cannot start with a digit.\n",
    "- Variable names are case-sensitive. For example, myVariable and myvariable are different variables.\n",
    "- Variable names should be descriptive and meaningful, helping to understand the purpose of the variable.\n",
    "\n",
    "Here are some valid variable names:"
   ]
  },
  {
   "cell_type": "code",
   "execution_count": 1,
   "id": "4df8b932",
   "metadata": {},
   "outputs": [],
   "source": [
    "age = 25\n",
    "name = \"Alice\"\n",
    "is_student = True"
   ]
  },
  {
   "attachments": {},
   "cell_type": "markdown",
   "id": "6f5f19bc",
   "metadata": {},
   "source": [
    "### 1.2. Variable assignment\n",
    "\n",
    "In Python, you can assign a value to a variable using the \"=\" operator. The variable on the left side of the \"=\" sign is assigned the value on the right side. \n",
    "\n",
    "For example:"
   ]
  },
  {
   "cell_type": "code",
   "execution_count": null,
   "id": "42bcd7c9",
   "metadata": {},
   "outputs": [],
   "source": [
    "x = 10\n",
    "y = 5.5\n",
    "message = \"Hello, World!\""
   ]
  },
  {
   "attachments": {},
   "cell_type": "markdown",
   "id": "56e90c13",
   "metadata": {
    "lines_to_next_cell": 0
   },
   "source": [
    "You can also assign multiple variables in a single line:"
   ]
  },
  {
   "cell_type": "code",
   "execution_count": null,
   "id": "140f7a9d",
   "metadata": {},
   "outputs": [],
   "source": [
    "a, b, c = 1, 2, 3"
   ]
  },
  {
   "attachments": {},
   "cell_type": "markdown",
   "id": "5cc69b57",
   "metadata": {},
   "source": [
    "### 1.3. Variable reassignment\n",
    "\n",
    "In Python, you can change the value of a variable by assigning a new value to it. This is known as variable reassignment.\n",
    "When you reassign a variable, the new value overwrites the previous value stored in that variable.\n",
    "\n",
    "\n",
    "For example:"
   ]
  },
  {
   "cell_type": "code",
   "execution_count": 2,
   "id": "c9379f7a",
   "metadata": {},
   "outputs": [
    {
     "name": "stdout",
     "output_type": "stream",
     "text": [
      "10\n",
      "20\n"
     ]
    }
   ],
   "source": [
    "x = 10\n",
    "print(x)  # Output: 10\n",
    "\n",
    "x = 20\n",
    "print(x)  # Output: 20"
   ]
  },
  {
   "attachments": {},
   "cell_type": "markdown",
   "id": "a2213f19",
   "metadata": {},
   "source": [
    "### 1.4. Printing variables\n",
    "\n",
    "To display the value of a variable, you can use the print() function. This allows you to see the current value stored in a variable during program execution.\n",
    "\n",
    " For example:"
   ]
  },
  {
   "cell_type": "code",
   "execution_count": 3,
   "id": "79dca10b",
   "metadata": {},
   "outputs": [
    {
     "name": "stdout",
     "output_type": "stream",
     "text": [
      "Alice\n",
      "Age: 25\n"
     ]
    }
   ],
   "source": [
    "name = \"Alice\"\n",
    "print(name)  # Output: Alice\n",
    "\n",
    "age = 25\n",
    "print(\"Age:\", age)  # Output: Age: 25"
   ]
  },
  {
   "attachments": {},
   "cell_type": "markdown",
   "id": "cd93c5e1",
   "metadata": {},
   "source": [
    "The print() function can take one or more arguments, separated by commas. It converts each argument to a string and displays it on the console.\n",
    "\n",
    "For example:"
   ]
  },
  {
   "cell_type": "code",
   "execution_count": 4,
   "id": "35455aa9",
   "metadata": {},
   "outputs": [
    {
     "name": "stdout",
     "output_type": "stream",
     "text": [
      "Alice 25 USA\n"
     ]
    }
   ],
   "source": [
    "name = \"Alice\"\n",
    "age = 25\n",
    "country = \"USA\"\n",
    "\n",
    "print(name, age, country)"
   ]
  },
  {
   "attachments": {},
   "cell_type": "markdown",
   "id": "b2c51e3f",
   "metadata": {},
   "source": [
    "### 1.5. Summary\n",
    "\n",
    "In this part, you learned about variables, variable names, variable assignment, variable reassignment, and printing variables. \n",
    "Variables are fundamental in Python programming as they allow you to store and manipulate data dynamically."
   ]
  }
 ],
 "metadata": {
  "jupytext": {
   "cell_metadata_filter": "-all",
   "main_language": "python",
   "notebook_metadata_filter": "-all"
  },
  "kernelspec": {
   "display_name": "Python 3",
   "language": "python",
   "name": "python3"
  },
  "language_info": {
   "codemirror_mode": {
    "name": "ipython",
    "version": 3
   },
   "file_extension": ".py",
   "mimetype": "text/x-python",
   "name": "python",
   "nbconvert_exporter": "python",
   "pygments_lexer": "ipython3",
   "version": "3.8.10"
  }
 },
 "nbformat": 4,
 "nbformat_minor": 5
}
