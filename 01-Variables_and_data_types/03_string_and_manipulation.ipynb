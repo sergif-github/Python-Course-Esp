{
 "cells": [
  {
   "attachments": {},
   "cell_type": "markdown",
   "id": "ceb7d26e",
   "metadata": {},
   "source": [
    "# Module 1: Variables and data types\n",
    "\n",
    "## Part 3: Strings and dtring manipulation\n",
    "\n",
    "In Python, a string is a sequence of characters enclosed in single quotes ( ' ) or double quotes ( \" ). It is used to represent \n",
    "text or a collection of characters. Strings are immutable, meaning that once they are created, their values cannot be changed.\n",
    "\n",
    "### 3.1. Creating Strings\n",
    "\n",
    "You can create strings by enclosing text within single quotes or double quotes. For example:"
   ]
  },
  {
   "cell_type": "code",
   "execution_count": 2,
   "id": "3f101002",
   "metadata": {
    "lines_to_next_cell": 0
   },
   "outputs": [],
   "source": [
    "name = 'Alice'\n",
    "message = \"Hello, World!\""
   ]
  },
  {
   "attachments": {},
   "cell_type": "markdown",
   "id": "dffc9e19",
   "metadata": {
    "lines_to_next_cell": 0
   },
   "source": [
    "Both single quotes and double quotes can be used interchangeably to define strings. However, make sure to use the same type \n",
    "of quotes at the beginning and end of the string.\n",
    "\n",
    "### 3.2. String manipulation\n",
    "\n",
    "Python provides various operations and methods for manipulating strings. Here are some commonly used string manipulation techniques:\n",
    "\n",
    "#### 3.2.1. concatenation\n",
    "You can concatenate two or more strings using the + operator. This combines the strings into a single string:"
   ]
  },
  {
   "cell_type": "code",
   "execution_count": 3,
   "id": "743e740f",
   "metadata": {},
   "outputs": [
    {
     "name": "stdout",
     "output_type": "stream",
     "text": [
      "John Doe\n"
     ]
    }
   ],
   "source": [
    "first_name = \"John\"\n",
    "last_name = \"Doe\"\n",
    "\n",
    "full_name = first_name + \" \" + last_name\n",
    "print(full_name)"
   ]
  },
  {
   "attachments": {},
   "cell_type": "markdown",
   "id": "bf3389ba",
   "metadata": {},
   "source": [
    "#### 3.2.2. String length and count\n",
    "\n",
    "You can determine the length of a string using the len() function. It returns the number of characters in the string:"
   ]
  },
  {
   "cell_type": "code",
   "execution_count": 4,
   "id": "576e5944",
   "metadata": {},
   "outputs": [
    {
     "name": "stdout",
     "output_type": "stream",
     "text": [
      "Length: 13\n"
     ]
    }
   ],
   "source": [
    "message = \"Hello, World!\"\n",
    "length = len(message)\n",
    "print(\"Length:\", length)"
   ]
  },
  {
   "attachments": {},
   "cell_type": "markdown",
   "id": "86c322cd",
   "metadata": {},
   "source": [
    "You can determine the occurrences of a word in a string using the count() function. It returns the number of occurrences in the string:"
   ]
  },
  {
   "cell_type": "code",
   "execution_count": 5,
   "id": "6e67a0f5",
   "metadata": {},
   "outputs": [
    {
     "name": "stdout",
     "output_type": "stream",
     "text": [
      "Occurrences: 1\n"
     ]
    }
   ],
   "source": [
    "message = \"Hello, World!\"\n",
    "word = \"Hello\"\n",
    "occurrences = message.count(word)\n",
    "print(\"Occurrences:\", occurrences)"
   ]
  },
  {
   "attachments": {},
   "cell_type": "markdown",
   "id": "788634dd",
   "metadata": {},
   "source": [
    "#### 3.2.3. Accessing characters\n",
    "\n",
    "You can access individual characters within a string by using indexing. Indexing starts from 0 for the first character:"
   ]
  },
  {
   "cell_type": "code",
   "execution_count": 8,
   "id": "98d1c940",
   "metadata": {},
   "outputs": [
    {
     "name": "stdout",
     "output_type": "stream",
     "text": [
      "First Character: H\n"
     ]
    }
   ],
   "source": [
    "message = \"Hello, World\"\n",
    "first_char = message[0]\n",
    "print(\"First Character:\", first_char)"
   ]
  },
  {
   "attachments": {},
   "cell_type": "markdown",
   "id": "a7cdf5f8",
   "metadata": {},
   "source": [
    "You can also use negative indexing to access characters from the end of the string. -1 refers to the last character:"
   ]
  },
  {
   "cell_type": "code",
   "execution_count": 9,
   "id": "a2aa1274",
   "metadata": {},
   "outputs": [
    {
     "name": "stdout",
     "output_type": "stream",
     "text": [
      "Last Character: d\n"
     ]
    }
   ],
   "source": [
    "last_char = message[-1]\n",
    "print(\"Last Character:\", last_char)"
   ]
  },
  {
   "attachments": {},
   "cell_type": "markdown",
   "id": "a47d66da",
   "metadata": {},
   "source": [
    "#### 3.2.4. Slicing\n",
    "\n",
    "You can extract a substring from a string using slicing. Slicing allows you to specify a range of indices to extract a portion of the string:"
   ]
  },
  {
   "cell_type": "code",
   "execution_count": 10,
   "id": "41827751",
   "metadata": {},
   "outputs": [
    {
     "name": "stdout",
     "output_type": "stream",
     "text": [
      "Substring: World\n"
     ]
    }
   ],
   "source": [
    "message = \"Hello, World!\"\n",
    "substring = message[7:12]\n",
    "print(\"Substring:\", substring)"
   ]
  },
  {
   "attachments": {},
   "cell_type": "markdown",
   "id": "e4d9edbf",
   "metadata": {},
   "source": [
    "### 3.3. String methods\n",
    "\n",
    "Python provides a rich set of built-in string methods that allow you to manipulate strings. Here are some commonly used string methods:"
   ]
  },
  {
   "cell_type": "code",
   "execution_count": 11,
   "id": "f803bb3f",
   "metadata": {},
   "outputs": [
    {
     "name": "stdout",
     "output_type": "stream",
     "text": [
      "Uppercase: HELLO, WORLD!\n",
      "Lowercase: hello, world!\n",
      "Replaced: Hi, World!\n",
      "Words: ['Hello', 'World!']\n"
     ]
    }
   ],
   "source": [
    "message = \"Hello, World!\"\n",
    "\n",
    "# Convert to uppercase\n",
    "uppercase = message.upper()\n",
    "print(\"Uppercase:\", uppercase)  # Output: Uppercase: HELLO, WORLD!\n",
    "\n",
    "# Convert to lowercase\n",
    "lowercase = message.lower()\n",
    "print(\"Lowercase:\", lowercase)  # Output: Lowercase: hello, world!\n",
    "\n",
    "# Replace substring\n",
    "replaced = message.replace(\"Hello\", \"Hi\")\n",
    "print(\"Replaced:\", replaced)  # Output: Replaced: Hi, World!\n",
    "\n",
    "# Split into a list\n",
    "words = message.split(\", \")\n",
    "print(\"Words:\", words)  # Output: Words: ['Hello', 'World!']"
   ]
  },
  {
   "attachments": {},
   "cell_type": "markdown",
   "id": "27110ad5",
   "metadata": {},
   "source": [
    "### 3.4. Summary\n",
    "\n",
    "In this part, you explored strings and string manipulation in Python. Strings are used to represent text and can be manipulated using\n",
    "various operations and methods. Understanding string manipulation techniques is crucial for working with textual data in Python."
   ]
  }
 ],
 "metadata": {
  "jupytext": {
   "cell_metadata_filter": "-all",
   "main_language": "python",
   "notebook_metadata_filter": "-all"
  },
  "kernelspec": {
   "display_name": "Python 3",
   "language": "python",
   "name": "python3"
  },
  "language_info": {
   "codemirror_mode": {
    "name": "ipython",
    "version": 3
   },
   "file_extension": ".py",
   "mimetype": "text/x-python",
   "name": "python",
   "nbconvert_exporter": "python",
   "pygments_lexer": "ipython3",
   "version": "3.8.10"
  }
 },
 "nbformat": 4,
 "nbformat_minor": 5
}
