{
 "cells": [
  {
   "attachments": {},
   "cell_type": "markdown",
   "id": "e6d05bcc",
   "metadata": {},
   "source": [
    "# Module 1: Variables and data types\n",
    "\n",
    "## Part 4: Boolean data type\n",
    "\n",
    "In Python, the bool data type represents Boolean values, which can have two possible states: True or False. Booleans are often used in programming for logical operations, decision-making, and comparisons.\n",
    "Boolean values are commonly used in conditional statements and logical operations to determine the flow of the program based on certain conditions.\n",
    "\n",
    "\n",
    "### 4.1. Boolean values\n",
    "\n",
    "The Boolean values True and False are keywords in Python and are used to represent the concept of truth or falsehood. \n",
    "\n",
    "For example:"
   ]
  },
  {
   "cell_type": "code",
   "execution_count": 4,
   "id": "65a0b038",
   "metadata": {},
   "outputs": [
    {
     "name": "stdout",
     "output_type": "stream",
     "text": [
      "True\n",
      "False\n"
     ]
    }
   ],
   "source": [
    "is_raining = True\n",
    "is_sunny = False\n",
    "print(is_raining)\n",
    "print(is_sunny)"
   ]
  },
  {
   "attachments": {},
   "cell_type": "markdown",
   "id": "6d1c33a4",
   "metadata": {},
   "source": [
    "### 4.2. Comparison operators\n",
    "\n",
    "Python provides various comparison operators that can be used to compare values and produce Boolean results. Some commonly used comparison operators include:\n",
    "\n",
    "- == (equal to)\n",
    "- != (not equal to)\n",
    "- \\> (greater than)\n",
    "- < (less than)\n",
    "- \\>= (greater than or equal to)\n",
    "- <= (less than or equal to)\n",
    "\n",
    "These operators compare two values and return True or False based on the comparison result. For example:"
   ]
  },
  {
   "cell_type": "code",
   "execution_count": 3,
   "id": "adc9b5cf",
   "metadata": {},
   "outputs": [
    {
     "name": "stdout",
     "output_type": "stream",
     "text": [
      "True\n",
      "False\n",
      "True\n"
     ]
    }
   ],
   "source": [
    "x = 10\n",
    "y = 5\n",
    "\n",
    "result1 = x > y\n",
    "result2 = x == y\n",
    "result3 = x != y\n",
    "print(result1)\n",
    "print(result2)\n",
    "print(result3)"
   ]
  },
  {
   "attachments": {},
   "cell_type": "markdown",
   "id": "a8834213",
   "metadata": {},
   "source": [
    "### 4.3. Logical operators\n",
    "\n",
    "Python also provides logical operators that can be used to combine multiple Boolean values or expressions. The three logical operators are:\n",
    "\n",
    "- and (logical AND)\n",
    "- or (logical OR)\n",
    "- not (logical NOT)\n",
    "\n",
    "These operators allow you to perform logical operations on Boolean values and produce Boolean results. \n",
    "\n",
    "For example:"
   ]
  },
  {
   "cell_type": "code",
   "execution_count": 5,
   "id": "5ec2a6a9",
   "metadata": {},
   "outputs": [
    {
     "name": "stdout",
     "output_type": "stream",
     "text": [
      "True\n",
      "False\n",
      "False\n"
     ]
    }
   ],
   "source": [
    "x = 10\n",
    "y = 5\n",
    "\n",
    "result1 = x > 0 and y > 0\n",
    "result2 = x > 10 or y > 10\n",
    "result3 = not(x > y)\n",
    "print(result1)\n",
    "print(result2)\n",
    "print(result3)"
   ]
  },
  {
   "attachments": {},
   "cell_type": "markdown",
   "id": "89718c64",
   "metadata": {},
   "source": [
    "### 4.4. Summary\n",
    "\n",
    "In this part, you explored the Boolean data type in Python. Booleans represent truth or falsehood and are commonly used in conditional statements, logical operations, and comparisons. Understanding Boolean values and operators is essential for decision-making and controlling the flow of your programs."
   ]
  }
 ],
 "metadata": {
  "jupytext": {
   "cell_metadata_filter": "-all",
   "main_language": "python",
   "notebook_metadata_filter": "-all"
  },
  "kernelspec": {
   "display_name": "Python 3",
   "language": "python",
   "name": "python3"
  },
  "language_info": {
   "codemirror_mode": {
    "name": "ipython",
    "version": 3
   },
   "file_extension": ".py",
   "mimetype": "text/x-python",
   "name": "python",
   "nbconvert_exporter": "python",
   "pygments_lexer": "ipython3",
   "version": "3.8.10"
  }
 },
 "nbformat": 4,
 "nbformat_minor": 5
}
