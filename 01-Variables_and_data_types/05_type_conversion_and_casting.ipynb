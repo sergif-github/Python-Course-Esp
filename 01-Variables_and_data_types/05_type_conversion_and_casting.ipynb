{
 "cells": [
  {
   "attachments": {},
   "cell_type": "markdown",
   "id": "cddca993",
   "metadata": {
    "lines_to_next_cell": 0
   },
   "source": [
    "# Module 1: Variables and data types\n",
    "\n",
    "## Part 5: Type conversion and casting\n",
    "\n",
    "In Python, you can convert one data type to another using type conversion or casting. Type conversion allows you to change the data\n",
    "type of a value, while casting explicitly specifies the desired data type.\n",
    "\n",
    "### 5.1. Implicit type conversion\n",
    "\n",
    "Python automatically performs implicit type conversion when it encounters expressions involving different data types. For example,\n",
    "when you perform arithmetic operations between different numeric types, Python will automatically convert the operands to a common type."
   ]
  },
  {
   "cell_type": "code",
   "execution_count": 2,
   "id": "968e2e22",
   "metadata": {},
   "outputs": [
    {
     "name": "stdout",
     "output_type": "stream",
     "text": [
      "Result type: <class 'float'>\n",
      "Result: 13.5\n"
     ]
    }
   ],
   "source": [
    "x = 10\n",
    "y = 3.5\n",
    "\n",
    "result = x + y  # Implicit conversion of int to float\n",
    "print(\"Result type:\", type(result)) \n",
    "print(\"Result:\", result) "
   ]
  },
  {
   "attachments": {},
   "cell_type": "markdown",
   "id": "1c9cd27c",
   "metadata": {
    "lines_to_next_cell": 0
   },
   "source": [
    "In this example, the integer x is implicitly converted to a float to perform the addition operation with y.\n",
    "\n",
    "### 5.2. Explicit type casting\n",
    "\n",
    "You can explicitly cast values from one data type to another using casting functions. Python provides several built-in functions for type\n",
    "casting, including:\n",
    "\n",
    "- int(): Converts a value to an integer\n",
    "- float(): Converts a value to a float\n",
    "- str(): Converts a value to a string\n",
    "- bool(): Converts a value to a Boolean\n",
    "\n",
    "For example:"
   ]
  },
  {
   "cell_type": "code",
   "execution_count": 4,
   "id": "6aa26680",
   "metadata": {},
   "outputs": [
    {
     "name": "stdout",
     "output_type": "stream",
     "text": [
      "10\n",
      "<class 'int'>\n",
      "3.14\n",
      "<class 'float'>\n",
      "42\n",
      "<class 'str'>\n",
      "False\n",
      "<class 'bool'>\n"
     ]
    }
   ],
   "source": [
    "# Convert a value to an integer\n",
    "value1 = \"10\"\n",
    "integer_value = int(value1)\n",
    "print(integer_value)  # Output: 10\n",
    "print(type(integer_value))  # Output: <class 'int'>\n",
    "\n",
    "# Convert a value to a float\n",
    "value2 = \"3.14\"\n",
    "float_value = float(value2)\n",
    "print(float_value)  # Output: 3.14\n",
    "print(type(float_value))  # Output: <class 'float'>\n",
    "\n",
    "# Convert a value to a string\n",
    "value3 = 42\n",
    "string_value = str(value3)\n",
    "print(string_value)  # Output: \"42\"\n",
    "print(type(string_value))  # Output: <class 'str'>\n",
    "\n",
    "# Convert a value to a boolean\n",
    "value4 = 0\n",
    "bool_value = bool(value4)\n",
    "print(bool_value)  # Output: False\n",
    "print(type(bool_value))  # Output: <class 'bool'>"
   ]
  },
  {
   "attachments": {},
   "cell_type": "markdown",
   "id": "5c06923c",
   "metadata": {},
   "source": [
    "In this example, we start with different values (10, 3.14, 42, and 0) and apply the corresponding conversion functions (int(), float(), str(), and bool()) to convert them to the desired types. Then, we print the converted values and their corresponding types using the print() function.\n",
    "\n",
    "### 5.3. Summary\n",
    "\n",
    "In this part, you explored type conversion and casting in Python. Implicit type conversion allows Python to automatically convert\n",
    "values of different data types, while explicit type casting enables you to explicitly convert values using casting functions. \n",
    "Understanding type conversion and casting is important for manipulating and transforming data in your programs."
   ]
  }
 ],
 "metadata": {
  "jupytext": {
   "cell_metadata_filter": "-all",
   "main_language": "python",
   "notebook_metadata_filter": "-all"
  },
  "kernelspec": {
   "display_name": "Python 3",
   "language": "python",
   "name": "python3"
  },
  "language_info": {
   "codemirror_mode": {
    "name": "ipython",
    "version": 3
   },
   "file_extension": ".py",
   "mimetype": "text/x-python",
   "name": "python",
   "nbconvert_exporter": "python",
   "pygments_lexer": "ipython3",
   "version": "3.8.10"
  }
 },
 "nbformat": 4,
 "nbformat_minor": 5
}
