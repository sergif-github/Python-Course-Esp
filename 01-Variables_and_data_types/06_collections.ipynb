{
 "cells": [
  {
   "attachments": {},
   "cell_type": "markdown",
   "id": "adc15652",
   "metadata": {},
   "source": [
    "# Module 1: Variables and data types\n",
    "\n",
    "## Part 6: Working with collections\n",
    "\n",
    "In Python, collections are data structures used to store multiple values together. There are several built-in collection types that provide different functionalities for organizing and manipulating data.\n",
    "\n",
    "### 6.1. Lists\n",
    "\n",
    "A list is an ordered collection that can contain elements of different data types. Lists are mutable, meaning that you can modify their elements after they are created. Lists are defined by enclosing elements in square brackets ([]) and separating them with commas. \n",
    "\n",
    "For example:"
   ]
  },
  {
   "cell_type": "code",
   "execution_count": null,
   "id": "9da19d68",
   "metadata": {},
   "outputs": [],
   "source": [
    "fruits = ['apple', 'banana', 'cherry']\n",
    "numbers = [1, 2, 3, 4, 5]\n",
    "mixed = [1, 'apple', True]\n",
    "\n",
    "print(fruits)  # Output: ['apple', 'banana', 'cherry']\n",
    "print(numbers)  # Output: [1, 2, 3, 4, 5]\n",
    "print(mixed)  # Output: [1, 'apple', True]"
   ]
  },
  {
   "attachments": {},
   "cell_type": "markdown",
   "id": "fe614e86",
   "metadata": {},
   "source": [
    "As a collection lists support various operations and methods for adding, removing, and modifying elements:"
   ]
  },
  {
   "cell_type": "code",
   "execution_count": 1,
   "id": "49b5845a",
   "metadata": {},
   "outputs": [
    {
     "name": "stdout",
     "output_type": "stream",
     "text": [
      "['apple', 'banana', 'cherry', 'orange']\n",
      "5\n",
      "apple\n",
      "[1, 2, 4, 5]\n",
      "True\n",
      "2\n",
      "['orange', 'cherry', 'banana', 'apple']\n",
      "[1, 2, 4, 5]\n"
     ]
    }
   ],
   "source": [
    "fruits = ['apple', 'banana', 'cherry']\n",
    "numbers = [1, 2, 3, 4, 5]\n",
    "mixed = [1, 'apple', True]\n",
    "\n",
    "# Append an item to a list\n",
    "fruits.append('orange')\n",
    "print(fruits)  # Output: ['apple', 'banana', 'cherry', 'orange']\n",
    "\n",
    "# Get the length of a list\n",
    "length = len(numbers)\n",
    "print(length)  # Output: 5\n",
    "\n",
    "# Access an item by index\n",
    "item = mixed[1]\n",
    "print(item)  # Output: 'apple'\n",
    "\n",
    "# Remove an item from a list\n",
    "numbers.remove(3)\n",
    "print(numbers)  # Output: [1, 2, 4, 5]\n",
    "\n",
    "# Check if an item exists in a list\n",
    "exists = 'apple' in fruits\n",
    "print(exists)  # Output: True\n",
    "\n",
    "# Count the occurrences of an item in a list\n",
    "count = mixed.count(1)\n",
    "print(count)  # Output: 1\n",
    "\n",
    "# Reverse the order of a list\n",
    "fruits.reverse()\n",
    "print(fruits)  # Output: ['orange', 'cherry', 'banana', 'apple']\n",
    "\n",
    "# Sort a list in ascending order\n",
    "numbers.sort()\n",
    "print(numbers)  # Output: [1, 2, 4, 5]"
   ]
  },
  {
   "attachments": {},
   "cell_type": "markdown",
   "id": "69675aac",
   "metadata": {},
   "source": [
    "### 6.2. Tuples\n",
    "\n",
    "A tuple is an ordered collection similar to a list, but tuples are immutable, meaning that their elements cannot be modified once they are created. Tuples are defined by enclosing elements in parentheses (()) and separating them with commas. \n",
    "\n",
    "For example:"
   ]
  },
  {
   "cell_type": "code",
   "execution_count": null,
   "id": "9de15a1d",
   "metadata": {},
   "outputs": [],
   "source": [
    "coordinates = (3, 4)\n",
    "person = ('John', 25, 'Engineer')\n",
    "\n",
    "print(coordinates)  # Output: (3, 4)\n",
    "print(person)  # Output: ('John', 25, 'Engineer')"
   ]
  },
  {
   "attachments": {},
   "cell_type": "markdown",
   "id": "5048cc1a",
   "metadata": {},
   "source": [
    "Tuples are often used to represent a collection of related values that should not be modified.\n",
    "\n",
    "As a collection, lists support various operations and methods:\n"
   ]
  },
  {
   "cell_type": "code",
   "execution_count": 1,
   "id": "3323158b",
   "metadata": {},
   "outputs": [
    {
     "name": "stdout",
     "output_type": "stream",
     "text": [
      "3\n",
      "3\n",
      "(3, 4, 'John', 25, 'Engineer')\n",
      "1\n",
      "0\n",
      "True\n"
     ]
    }
   ],
   "source": [
    "coordinates = (3, 4)\n",
    "person = ('John', 25, 'Engineer')\n",
    "\n",
    "# Access an item by index\n",
    "x = coordinates[0]\n",
    "print(x)  # Output: 3\n",
    "\n",
    "# Get the length of a tuple\n",
    "length = len(person)\n",
    "print(length)  # Output: 3\n",
    "\n",
    "# Concatenate two tuples\n",
    "combined = coordinates + person\n",
    "print(combined)  # Output: (3, 4, 'John', 25, 'Engineer')\n",
    "\n",
    "# Count the occurrences of an item in a tuple\n",
    "count = person.count('Engineer')\n",
    "print(count)  # Output: 1\n",
    "\n",
    "# Find the index of an item in a tuple\n",
    "index = person.index('John')\n",
    "print(index)  # Output: 0\n",
    "\n",
    "# Check if an item exists in a tuple\n",
    "exists = 25 in person\n",
    "print(exists)  # Output: True"
   ]
  },
  {
   "attachments": {},
   "cell_type": "markdown",
   "id": "bb4d6643",
   "metadata": {},
   "source": [
    "### 6.3. Sets\n",
    "\n",
    "A set is an unordered collection of unique elements. Sets are mutable, and you can add or remove elements from them. Sets are defined by enclosing elements in curly braces ({}) or using the set() constructor. \n",
    "\n",
    "For example:"
   ]
  },
  {
   "cell_type": "code",
   "execution_count": 2,
   "id": "29b0f109",
   "metadata": {},
   "outputs": [
    {
     "name": "stdout",
     "output_type": "stream",
     "text": [
      "{'banana', 'apple', 'cherry'}\n",
      "{1, 2, 3, 4, 5}\n"
     ]
    }
   ],
   "source": [
    "fruits = {'apple', 'banana', 'cherry'}\n",
    "numbers = set([1, 2, 3, 4, 5])\n",
    "\n",
    "print(fruits)  # Output: {'apple', 'banana', 'cherry'}\n",
    "print(numbers)  # Output: {1, 2, 3, 4, 5}"
   ]
  },
  {
   "attachments": {},
   "cell_type": "markdown",
   "id": "fbfd830c",
   "metadata": {},
   "source": [
    "Sets are useful for operations such as finding unique elements, set operations (union, intersection, difference), and membership testing.\n",
    "\n",
    "As a collection, sets support various operations and methods:\n"
   ]
  },
  {
   "cell_type": "code",
   "execution_count": 3,
   "id": "9efdb152",
   "metadata": {},
   "outputs": [
    {
     "name": "stdout",
     "output_type": "stream",
     "text": [
      "{'banana', 'orange', 'apple', 'cherry'}\n",
      "{1, 2, 4, 5}\n",
      "True\n",
      "4\n",
      "{1, 2, 4, 'apple', 5, 'cherry', 'banana', 'orange'}\n",
      "set()\n",
      "{'banana', 'apple', 'orange', 'cherry'}\n"
     ]
    }
   ],
   "source": [
    "fruits = {'apple', 'banana', 'cherry'}\n",
    "numbers = set([1, 2, 3, 4, 5])\n",
    "\n",
    "# Add an item to a set\n",
    "fruits.add('orange')\n",
    "print(fruits)  # Output: {'apple', 'banana', 'cherry', 'orange'}\n",
    "\n",
    "# Remove an item from a set\n",
    "numbers.remove(3)\n",
    "print(numbers)  # Output: {1, 2, 4, 5}\n",
    "\n",
    "# Check if an item exists in a set\n",
    "exists = 'apple' in fruits\n",
    "print(exists)  # Output: True\n",
    "\n",
    "# Get the length of a set\n",
    "length = len(numbers)\n",
    "print(length)  # Output: 4\n",
    "\n",
    "# Perform union of two sets\n",
    "combined = fruits.union(numbers)\n",
    "print(combined)  # Output: {1, 2, 4, 5, 'banana', 'apple', 'cherry', 'orange'}\n",
    "\n",
    "# Perform intersection of two sets\n",
    "intersection = fruits.intersection(numbers)\n",
    "print(intersection)  # Output: set()\n",
    "\n",
    "# Perform difference of two sets\n",
    "difference = fruits.difference(numbers)\n",
    "print(difference)  # Output: {'banana', 'apple', 'cherry', 'orange'}"
   ]
  },
  {
   "attachments": {},
   "cell_type": "markdown",
   "id": "09e4d281",
   "metadata": {},
   "source": [
    "### 6.4. Dictionaries\n",
    "\n",
    "A dictionary is an unordered collection of key-value pairs. Each value is associated with a unique key, allowing for efficient retrieval of values based on their keys. Dictionaries are defined by enclosing key-value pairs in curly braces ({}) or using the dict() constructor. \n",
    "\n",
    "For example:"
   ]
  },
  {
   "cell_type": "code",
   "execution_count": null,
   "id": "75bbf0cb",
   "metadata": {},
   "outputs": [],
   "source": [
    "person = {'name': 'John', 'age': 25, 'occupation': 'Engineer'}\n",
    "\n",
    "print(person)  # Output: {'name': 'John', 'age': 25, 'occupation': 'Engineer'}"
   ]
  },
  {
   "attachments": {},
   "cell_type": "markdown",
   "id": "728a8818",
   "metadata": {},
   "source": [
    "Dictionaries are commonly used for storing and retrieving data based on specific keys.\n",
    "\n",
    "As a collection, dictionaries support various operations and methods:"
   ]
  },
  {
   "cell_type": "code",
   "execution_count": null,
   "id": "9577a221",
   "metadata": {},
   "outputs": [],
   "source": [
    "person = {'name': 'John', 'age': 25, 'occupation': 'Engineer'}\n",
    "\n",
    "# Access a value by key\n",
    "name = person['name']\n",
    "print(name)  # Output: 'John'\n",
    "\n",
    "# Get the keys of a dictionary\n",
    "keys = person.keys()\n",
    "print(keys)  # Output: dict_keys(['name', 'age', 'occupation'])\n",
    "\n",
    "# Get the values of a dictionary\n",
    "values = person.values()\n",
    "print(values)  # Output: dict_values(['John', 25, 'Engineer'])\n",
    "\n",
    "# Check if a key exists in a dictionary\n",
    "exists = 'age' in person\n",
    "print(exists)  # Output: True\n",
    "\n",
    "# Add a new key-value pair to a dictionary\n",
    "person['city'] = 'New York'\n",
    "print(person)  # Output: {'name': 'John', 'age': 25, 'occupation': 'Engineer', 'city': 'New York'}\n",
    "\n",
    "# Remove a key-value pair from a dictionary\n",
    "removed_value = person.pop('occupation')\n",
    "print(removed_value)  # Output: 'Engineer'\n",
    "print(person)  # Output: {'name': 'John', 'age': 25, 'city': 'New York'}\n",
    "\n",
    "# Clear all key-value pairs from a dictionary\n",
    "person.clear()\n",
    "print(person)  # Output: {}"
   ]
  },
  {
   "attachments": {},
   "cell_type": "markdown",
   "id": "99a14a30",
   "metadata": {},
   "source": [
    "### 6.5. Collections differencies and efficiency\n",
    "\n",
    "Each collection has its own characteristics, which can impact their efficiency and suitability for different tasks. \n",
    "It's worth noting that the efficiency differences between these collections may not be significant for small-scale tasks. Choosing the appropriate collection depends on factors such as the size of the data, the frequency and type of operations performed, and the specific requirements of your program.\n",
    "\n",
    "Let's explore the differences and efficiency considerations for each of these collections:\n",
    "\n",
    "Lists \n",
    "- Characteristics: Lists are mutable, ordered, and allow duplicate elements.\n",
    "- Efficiency: Lists provide efficient access to elements based on their index, making it easy to retrieve or modify individual elements. However, searching for specific elements can be slower for larger lists as it requires iterating through the entire list. Adding or removing elements at the end of a list is efficient, but inserting or deleting elements in the middle requires shifting subsequent elements.\n",
    "\n",
    "Tuples\n",
    "- Characteristics: Tuples are immutable and ordered, similar to lists.\n",
    "- Efficiency: Tuples offer similar efficiency to lists for accessing elements by index. However, due to their immutability, they provide the advantage of being hashable, which makes them suitable for use as keys in dictionaries or elements in sets. Tuples also have a slight advantage in memory efficiency compared to lists.\n",
    "\n",
    "Sets\n",
    "- Characteristics: Sets are mutable, unordered, and store only unique elements.\n",
    "- Efficiency: Sets are highly efficient for membership testing and checking for uniqueness. They utilize hash-based indexing, making operations like adding or removing elements, or checking for membership, very fast, even with large sets. However, sets do not provide direct access to individual elements, as they are unordered.\n",
    "\n",
    "Dictionaries\n",
    "- Characteristics: Dictionaries are mutable, unordered, and store elements as key-value pairs.\n",
    "- Efficiency: Dictionaries excel in efficient key-based lookup. They use hash tables to store and retrieve values based on unique keys, allowing for fast access even with large dictionaries. However, iterating over the dictionary's elements may not maintain a specific order since the elements are unordered. Adding, updating, or deleting key-value pairs in dictionaries is generally efficient.\n",
    "\n",
    "Efficiency considerations depend on the specific operations and use cases. If you need to preserve the order of elements and allow duplicates, lists or tuples may be suitable choices. If uniqueness and fast membership testing are crucial, sets offer efficient solutions. For tasks involving key-value mappings or fast lookup based on keys, dictionaries are the go-to option.\n",
    "\n",
    "\n",
    "### 6.6. Summary\n",
    "\n",
    "In this part, you explored different types of collections in Python, including lists, tuples, sets, and dictionaries. Each collection type has its own characteristics and use cases. Understanding collections is essential for organizing and manipulating data effectively in your programs."
   ]
  }
 ],
 "metadata": {
  "jupytext": {
   "cell_metadata_filter": "-all",
   "main_language": "python",
   "notebook_metadata_filter": "-all"
  },
  "kernelspec": {
   "display_name": "Python 3",
   "language": "python",
   "name": "python3"
  },
  "language_info": {
   "codemirror_mode": {
    "name": "ipython",
    "version": 3
   },
   "file_extension": ".py",
   "mimetype": "text/x-python",
   "name": "python",
   "nbconvert_exporter": "python",
   "pygments_lexer": "ipython3",
   "version": "3.8.10"
  }
 },
 "nbformat": 4,
 "nbformat_minor": 5
}
