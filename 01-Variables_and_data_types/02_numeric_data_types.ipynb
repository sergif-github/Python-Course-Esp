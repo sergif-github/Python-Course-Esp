{
 "cells": [
  {
   "attachments": {},
   "cell_type": "markdown",
   "id": "06db9aa5",
   "metadata": {},
   "source": [
    "# Module 1: Variables and data types\n",
    "\n",
    "## Part 2: Numeric data types (int, float)\n",
    "\n",
    "In Python, there are two primary numeric data types: int and float. These data types are used to represent whole numbers and floating-point numbers, respectively.\n",
    "\n",
    "### 2.1. Integer (int) data type\n",
    "\n",
    "The int data type represents whole numbers without any fractional parts. It can be used to store positive and negative numbers, as well as zero. \n",
    "\n",
    "For example:"
   ]
  },
  {
   "cell_type": "code",
   "execution_count": 1,
   "id": "347cac11",
   "metadata": {},
   "outputs": [],
   "source": [
    "age = 25\n",
    "quantity = -10\n",
    "population = 1000000"
   ]
  },
  {
   "attachments": {},
   "cell_type": "markdown",
   "id": "be8a55d5",
   "metadata": {},
   "source": [
    "Python provides various arithmetic operations that can be performed on int values, such as addition, subtraction, multiplication, and division.\n",
    "These operations return results of type int when both operands are integers. \n",
    "\n",
    "For example:"
   ]
  },
  {
   "cell_type": "code",
   "execution_count": 3,
   "id": "62fa1c6c",
   "metadata": {},
   "outputs": [
    {
     "name": "stdout",
     "output_type": "stream",
     "text": [
      "Sum: 13\n",
      "Difference: 7\n",
      "Product: 30\n",
      "Quotient: 3.3333333333333335\n"
     ]
    }
   ],
   "source": [
    "x = 10\n",
    "y = 3\n",
    "\n",
    "sum = x + y\n",
    "difference = x - y\n",
    "product = x * y\n",
    "quotient = x / y\n",
    "\n",
    "print(\"Sum:\", sum)\n",
    "print(\"Difference:\", difference)\n",
    "print(\"Product:\", product)\n",
    "print(\"Quotient:\", quotient)"
   ]
  },
  {
   "attachments": {},
   "cell_type": "markdown",
   "id": "c25a18c2",
   "metadata": {},
   "source": [
    "### 2.2. Floating point (float) data type\n",
    "\n",
    "The float data type represents numbers with fractional parts. It can store both small and large floating-point numbers. \n",
    "\n",
    "For example:"
   ]
  },
  {
   "cell_type": "code",
   "execution_count": 4,
   "id": "fc66eec2",
   "metadata": {},
   "outputs": [],
   "source": [
    "pi = 3.14159\n",
    "temperature = -10.5\n",
    "price = 19.99"
   ]
  },
  {
   "attachments": {},
   "cell_type": "markdown",
   "id": "64ae2b52",
   "metadata": {},
   "source": [
    "Floating-point numbers can also be used in arithmetic operations:"
   ]
  },
  {
   "cell_type": "code",
   "execution_count": 6,
   "id": "e008446d",
   "metadata": {},
   "outputs": [
    {
     "name": "stdout",
     "output_type": "stream",
     "text": [
      "Sum: 7.0\n",
      "Difference: 3.0\n",
      "Product: 10.0\n",
      "Quotient: 2.5\n"
     ]
    }
   ],
   "source": [
    "x = 5.0\n",
    "y = 2.0\n",
    "\n",
    "sum = x + y\n",
    "difference = x - y\n",
    "product = x * y\n",
    "quotient = x / y\n",
    "\n",
    "print(\"Sum:\", sum)\n",
    "print(\"Difference:\", difference)\n",
    "print(\"Product:\", product)\n",
    "print(\"Quotient:\", quotient)"
   ]
  },
  {
   "attachments": {},
   "cell_type": "markdown",
   "id": "28ba86ce",
   "metadata": {},
   "source": [
    "It's important to note that when an int and a float are used in an arithmetic operation, the result will be a float:"
   ]
  },
  {
   "cell_type": "code",
   "execution_count": 5,
   "id": "b27e5c66",
   "metadata": {},
   "outputs": [
    {
     "name": "stdout",
     "output_type": "stream",
     "text": [
      "Result: 3.3333333333333335\n"
     ]
    }
   ],
   "source": [
    "x = 10\n",
    "y = 3.0\n",
    "\n",
    "result = x / y\n",
    "\n",
    "print(\"Result:\", result)"
   ]
  },
  {
   "attachments": {},
   "cell_type": "markdown",
   "id": "8b7200df",
   "metadata": {},
   "source": [
    "### 2.3. Summary\n",
    "\n",
    "In this part, you explored the int and float data types in Python. These data types are used to represent whole numbers and floating-point numbers,\n",
    "respectively. They support various arithmetic operations and can be used in mathematical calculations."
   ]
  }
 ],
 "metadata": {
  "jupytext": {
   "cell_metadata_filter": "-all",
   "main_language": "python",
   "notebook_metadata_filter": "-all"
  },
  "kernelspec": {
   "display_name": "Python 3",
   "language": "python",
   "name": "python3"
  },
  "language_info": {
   "name": "python",
   "version": "3.8.10"
  }
 },
 "nbformat": 4,
 "nbformat_minor": 5
}
