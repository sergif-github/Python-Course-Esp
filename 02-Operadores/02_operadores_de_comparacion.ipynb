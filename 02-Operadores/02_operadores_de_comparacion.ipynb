{
 "cells": [
  {
   "attachments": {},
   "cell_type": "markdown",
   "id": "fb139e0c",
   "metadata": {},
   "source": [
    "# Módulo 2: Operadores\n",
    "\n",
    "## Parte 2: Operadores de comparación\n",
    "\n",
    "Los operadores de comparación se utilizan para comparar valores y determinar la relación entre ellos.\n",
    "\n",
    "### 2.1. Operadores de comparación\n",
    "\n",
    "Python proporciona varios operadores de comparación para verificar la igualdad, la desigualdad, mayor que, menor que y más.\n",
    "\n",
    "#### Operador de igualdad (==)\n",
    "\n",
    "El operador igual a (==) verifica si dos valores son iguales. Devuelve True si los valores son iguales y False en caso contrario.\n",
    "\n",
    "Por ejemplo:"
   ]
  },
  {
   "cell_type": "code",
   "execution_count": null,
   "id": "4644cb0a",
   "metadata": {},
   "outputs": [],
   "source": [
    "x = 5\n",
    "y = 3\n",
    "\n",
    "resultado = x == y # 5 == 3 -> Falso\n",
    "print(\"Resultado:\", resultado) # Salida: Resultado: Falso"
   ]
  },
  {
   "attachments": {},
   "cell_type": "markdown",
   "id": "5ca385f3",
   "metadata": {},
   "source": [
    "#### Operador de desigualdad (!=)\n",
    "\n",
    "El operador no igual a (!=) comprueba si dos valores no son iguales. Devuelve True si los valores no son iguales y False si lo son.\n",
    "\n",
    "Por ejemplo:"
   ]
  },
  {
   "cell_type": "code",
   "execution_count": null,
   "id": "bc3c3f3c",
   "metadata": {},
   "outputs": [],
   "source": [
    "x = 5\n",
    "y = 3\n",
    "\n",
    "resultado = x != y # 5 != 3 -> Verdadero\n",
    "print(\"Resultado:\", resultado) # Salida: Resultado: Verdadero"
   ]
  },
  {
   "attachments": {},
   "cell_type": "markdown",
   "id": "9c0e753d",
   "metadata": {},
   "source": [
    "#### Operador mayor que (>)\n",
    "\n",
    "El operador mayor que (>) verifica si el operando izquierdo es mayor que el operando derecho. Devuelve True si la condición es verdadera y False en caso contrario.\n",
    "\n",
    "Por ejemplo:"
   ]
  },
  {
   "cell_type": "code",
   "execution_count": null,
   "id": "0c9278d3",
   "metadata": {},
   "outputs": [],
   "source": [
    "x = 5\n",
    "y = 3\n",
    "\n",
    "resultado = x > y # 5 > 3 -> Verdadero\n",
    "print(\"Resultado:\", resultado) # Salida: Resultado: Verdadero"
   ]
  },
  {
   "attachments": {},
   "cell_type": "markdown",
   "id": "d7f9c7a7",
   "metadata": {},
   "source": [
    "#### Operador menor que (<)\n",
    "\n",
    "El operador menor que (<) verifica si el operando izquierdo es menor que el operando derecho. Devuelve True si la condición es verdadera y False en caso contrario.\n",
    "\n",
    "Por ejemplo:"
   ]
  },
  {
   "cell_type": "code",
   "execution_count": null,
   "id": "53f5a68e",
   "metadata": {},
   "outputs": [],
   "source": [
    "x = 5\n",
    "y = 3\n",
    "\n",
    "resultado = x < y # 5 < 3 -> Falso\n",
    "print(\"Resultado:\", resultado) # Salida: Resultado: Falso"
   ]
  },
  {
   "attachments": {},
   "cell_type": "markdown",
   "id": "69096c87",
   "metadata": {},
   "source": [
    "#### Operador mayor o igual que (>=)\n",
    "\n",
    "El operador mayor o igual que (>=) verifica si el operando izquierdo es mayor o igual que el operando derecho. Devuelve True si la condición es verdadera y False en caso contrario.\n",
    "\n",
    "Por ejemplo:"
   ]
  },
  {
   "cell_type": "code",
   "execution_count": null,
   "id": "d00a66e3",
   "metadata": {},
   "outputs": [],
   "source": [
    "x = 5\n",
    "y = 3\n",
    "\n",
    "resultado = x >= y # 5 >= 3 -> Verdadero\n",
    "print(\"Resultado:\", resultado) # Salida: Resultado: Verdadero"
   ]
  },
  {
   "attachments": {},
   "cell_type": "markdown",
   "id": "778ac14c",
   "metadata": {},
   "source": [
    "#### Operador menor o igual que (<=)\n",
    "\n",
    "El operador menor o igual que (<=) verifica si el operando izquierdo es menor o igual que el operando derecho. Devuelve True si la condición es verdadera y False en caso contrario.\n",
    "\n",
    "Por ejemplo:"
   ]
  },
  {
   "cell_type": "code",
   "execution_count": null,
   "id": "30a37e11",
   "metadata": {},
   "outputs": [],
   "source": [
    "x = 5\n",
    "y = 3\n",
    "\n",
    "resultado = x <= y # 5 <= 3 -> Falso\n",
    "print(\"Resultado:\", resultado) # Salida: Resultado: Falso"
   ]
  },
  {
   "attachments": {},
   "cell_type": "markdown",
   "id": "008dc45f",
   "metadata": {},
   "source": [
    "### 2.2. Resumen\n",
    "\n",
    "En esta parte, exploró los operadores de comparación en Python, incluidos los operadores igual a, no igual a, mayor que, menor que, mayor que o igual a y menor o igual a. Estos operadores se utilizan para comparar valores y tomar decisiones lógicas en sus programas."
   ]
  }
 ],
 "metadata": {
  "jupytext": {
   "cell_metadata_filter": "-all",
   "main_language": "python",
   "notebook_metadata_filter": "-all"
  },
  "kernelspec": {
   "display_name": "Python 3",
   "language": "python",
   "name": "python3"
  },
  "language_info": {
   "codemirror_mode": {
    "name": "ipython",
    "version": 3
   },
   "file_extension": ".py",
   "mimetype": "text/x-python",
   "name": "python",
   "nbconvert_exporter": "python",
   "pygments_lexer": "ipython3",
   "version": "3.8.10"
  }
 },
 "nbformat": 4,
 "nbformat_minor": 5
}
