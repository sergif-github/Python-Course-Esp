{
 "cells": [
  {
   "attachments": {},
   "cell_type": "markdown",
   "id": "19cdeb47",
   "metadata": {},
   "source": [
    "# Módulo 2: Operadores\n",
    "\n",
    "## Parte 4: Operadores de asignación\n",
    "\n",
    "Los operadores de asignación se utilizan para asignar valores a las variables.\n",
    "\n",
    "### 4.1. Operadores de Asignación\n",
    "\n",
    "Combinan el operador de asignación (=) con otros operadores para realizar una operación y asignar el resultado a una variable en un solo paso.\n",
    "\n",
    "#### Operador de asignación simple (=)\n",
    "\n",
    "El operador de asignación simple (=) se utiliza para asignar un valor a una variable.\n",
    "\n",
    "Por ejemplo:"
   ]
  },
  {
   "cell_type": "code",
   "execution_count": 1,
   "id": "53c33940",
   "metadata": {},
   "outputs": [],
   "source": [
    "x = 5\n",
    "y = 3"
   ]
  },
  {
   "attachments": {},
   "cell_type": "markdown",
   "id": "7904c7e6",
   "metadata": {},
   "source": [
    "### 4.2. Operadores de asignación compuestos\n",
    "\n",
    "Python proporciona operadores de asignación compuestos que combinan una operación aritmética o bit a bit con la operación de asignación. Le permiten realizar una operación y actualizar el valor de la variable en un solo paso.\n",
    "\n",
    "#### Operador de asignación de suma (+=)\n",
    "\n",
    "El operador de asignación de suma (+=) suma el operando derecho al operando izquierdo y asigna el resultado al operando izquierdo.\n",
    "\n",
    "Por ejemplo:"
   ]
  },
  {
   "cell_type": "code",
   "execution_count": null,
   "id": "a0d2dd6d",
   "metadata": {},
   "outputs": [],
   "source": [
    "x = 5\n",
    "x += 3 # x = x + 3 -> 5 + 3 -> 8\n",
    "print(\"Resultado:\", x) # Salida: Resultado: 8"
   ]
  },
  {
   "attachments": {},
   "cell_type": "markdown",
   "id": "4aac0767",
   "metadata": {},
   "source": [
    "#### Operador de asignación de resta (-=)\n",
    "\n",
    "El operador de asignación de resta (-=) resta el operando derecho del operando izquierdo y asigna el resultado al operando izquierdo.\n",
    "\n",
    "Por ejemplo:"
   ]
  },
  {
   "cell_type": "code",
   "execution_count": null,
   "id": "7c5c5c16",
   "metadata": {},
   "outputs": [],
   "source": [
    "x = 5\n",
    "x -= 3 # x = x - 3 -> 5 - 3 -> 2\n",
    "print(\"Resultado:\", x) # Salida: Resultado: 2"
   ]
  },
  {
   "attachments": {},
   "cell_type": "markdown",
   "id": "44c73ac9",
   "metadata": {},
   "source": [
    "#### Operador de asignación de multiplicación (*=)\n",
    "\n",
    "El operador de asignación de multiplicación (*=) multiplica el operando derecho con el operando izquierdo y asigna el resultado al operando izquierdo.\n",
    "\n",
    "Por ejemplo:"
   ]
  },
  {
   "cell_type": "code",
   "execution_count": null,
   "id": "d59e1bc3",
   "metadata": {},
   "outputs": [],
   "source": [
    "x = 5\n",
    "x *= 3 # x = x * 3 -> 5 * 3 -> 15\n",
    "print(\"Resultado:\", x) # Salida: Resultado: 15"
   ]
  },
  {
   "attachments": {},
   "cell_type": "markdown",
   "id": "6f179bc0",
   "metadata": {},
   "source": [
    "#### Operador de asignación de división (/=)\n",
    "\n",
    "El operador de asignación de división (/=) divide el operando izquierdo por el operando derecho y asigna el resultado al operando izquierdo.\n",
    "\n",
    "Por ejemplo:"
   ]
  },
  {
   "cell_type": "code",
   "execution_count": null,
   "id": "2c7cc4b6",
   "metadata": {},
   "outputs": [],
   "source": [
    "X = 10\n",
    "x/= 2 # x = x/2 -> 10/2 -> 5.0\n",
    "print(\"Resultado:\", x) # Salida: Resultado: 5.0"
   ]
  },
  {
   "attachments": {},
   "cell_type": "markdown",
   "id": "201bd609",
   "metadata": {},
   "source": [
    "#### Operador de asignación de módulo (%=)\n",
    "\n",
    "El operador de asignación de módulo (%=) calcula el resto cuando el operando izquierdo se divide por el operando derecho y asigna el resultado al operando izquierdo.\n",
    "\n",
    "Por ejemplo:"
   ]
  },
  {
   "cell_type": "code",
   "execution_count": null,
   "id": "ea825d0e",
   "metadata": {},
   "outputs": [],
   "source": [
    "X = 10\n",
    "x %= 3 # x = x % 3 -> 10 % 3 -> 1\n",
    "print(\"Resultado:\", x) # Salida: Resultado: 1"
   ]
  },
  {
   "attachments": {},
   "cell_type": "markdown",
   "id": "9446f65e",
   "metadata": {},
   "source": [
    "#### Operador de asignación de exponenciación (**=)\n",
    "\n",
    "El operador de asignación de exponenciación (**=) eleva el operando izquierdo a la potencia del operando derecho y asigna el resultado al operando izquierdo.\n",
    "\n",
    "Por ejemplo:"
   ]
  },
  {
   "cell_type": "code",
   "execution_count": null,
   "id": "90bd0757",
   "metadata": {},
   "outputs": [],
   "source": [
    "x = 2\n",
    "x **= 3 # x = x ** 3 -> 2 ** 3 -> 8\n",
    "print(\"Resultado:\", x) # Salida: Resultado: 8"
   ]
  },
  {
   "attachments": {},
   "cell_type": "markdown",
   "id": "5468c048",
   "metadata": {},
   "source": [
    "#### Operador de asignación de división entera (//=)\n",
    "\n",
    "El operador de asignación de división entera (//=) realiza la división entera entre el operando izquierdo y el operando derecho, descartando la parte fraccionaria, y asigna el resultado al operando izquierdo.\n",
    "\n",
    "Por ejemplo:"
   ]
  },
  {
   "cell_type": "code",
   "execution_count": null,
   "id": "7a6f52e7",
   "metadata": {},
   "outputs": [],
   "source": [
    "X = 10\n",
    "x //= 3 # x = x // 3 -> 10 // 3 -> 3\n",
    "print(\"Resultado:\", x) # Salida: Resultado: 3"
   ]
  },
  {
   "attachments": {},
   "cell_type": "markdown",
   "id": "33a3f3f3",
   "metadata": {},
   "source": [
    "### 4.3. Resumen\n",
    "\n",
    "En esta parte, aprendió sobre los operadores de asignación en Python, incluido el operador de asignación simple (=) y los operadores de asignación compuestos (+=, -=, *=, /=, %=, **=, //=). Estos operadores son útiles para realizar una operación y asignar el resultado a una variable en un solo paso."
   ]
  }
 ],
 "metadata": {
  "jupytext": {
   "cell_metadata_filter": "-all",
   "main_language": "python",
   "notebook_metadata_filter": "-all"
  },
  "kernelspec": {
   "display_name": "Python 3",
   "language": "python",
   "name": "python3"
  },
  "language_info": {
   "codemirror_mode": {
    "name": "ipython",
    "version": 3
   },
   "file_extension": ".py",
   "mimetype": "text/x-python",
   "name": "python",
   "nbconvert_exporter": "python",
   "pygments_lexer": "ipython3",
   "version": "3.8.10"
  }
 },
 "nbformat": 4,
 "nbformat_minor": 5
}
