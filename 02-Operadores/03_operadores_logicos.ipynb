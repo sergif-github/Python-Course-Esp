{
 "cells": [
  {
   "attachments": {},
   "cell_type": "markdown",
   "id": "b5772955",
   "metadata": {},
   "source": [
    "# Módulo 2: Operadores\n",
    "\n",
    "## Parte 3: Operadores lógicos\n",
    "\n",
    "Los operadores lógicos se utilizan para combinar varias condiciones y realizar operaciones lógicas.\n",
    "\n",
    "### 3.1. Operadores logicos\n",
    "\n",
    "Python proporciona tres operadores lógicos: and, or y not. Estos operadores son útiles para tomar decisiones basadas en múltiples condiciones.\n",
    "\n",
    "#### Operador AND lógico (y)\n",
    "\n",
    "El operador lógico AND (y) devuelve True si ambos operandos son True y False en caso contrario.\n",
    "\n",
    "Por ejemplo:"
   ]
  },
  {
   "cell_type": "code",
   "execution_count": null,
   "id": "7ce525cf",
   "metadata": {},
   "outputs": [],
   "source": [
    "x = 5\n",
    "y = 3\n",
    "z = 7\n",
    "\n",
    "resultado = (x > y) and (y < z) # (5 > 3) y (3 < 7) -> Verdadero y Verdadero -> Verdadero\n",
    "print(\"Resultado:\", resultado) # Salida: Resultado: Verdadero"
   ]
  },
  {
   "attachments": {},
   "cell_type": "markdown",
   "id": "f3e8847e",
   "metadata": {},
   "source": [
    "#### Operador OR lógico (o)\n",
    "\n",
    "El operador lógico OR (o) devuelve True si al menos uno de sus operandos es True y False si ambos operandos son False.\n",
    "\n",
    "Por ejemplo:"
   ]
  },
  {
   "cell_type": "code",
   "execution_count": null,
   "id": "9c0c7c90",
   "metadata": {},
   "outputs": [],
   "source": [
    "x = 5\n",
    "y = 3\n",
    "z = 7\n",
    "\n",
    "resultado = (x > y) or (y > z) # (5 > 3) o (3 > 7) -> Verdadero o Falso -> Verdadero\n",
    "print(\"Resultado:\", resultado) # Salida: Resultado: Verdadero"
   ]
  },
  {
   "attachments": {},
   "cell_type": "markdown",
   "id": "3e1f3452",
   "metadata": {},
   "source": [
    "#### Operador lógico NOT (not)\n",
    "\n",
    "El operador lógico NOT (not) niega el valor de su operando. Si el operando es Verdadero, devuelve Falso, y si el operando es Falso, devuelve Verdadero.\n",
    "\n",
    "Por ejemplo:"
   ]
  },
  {
   "cell_type": "code",
   "execution_count": null,
   "id": "5702a5f4",
   "metadata": {},
   "outputs": [],
   "source": [
    "x = True\n",
    "\n",
    "resultado = not(x) # no es Verdadero -> Falso\n",
    "print(\"Resultado:\", resultado) # Salida: Resultado: Falso"
   ]
  },
  {
   "attachments": {},
   "cell_type": "markdown",
   "id": "473f2238",
   "metadata": {},
   "source": [
    "### 3.2. Resumen\n",
    "\n",
    "En esta parte, exploró los operadores lógicos en Python, incluidos los operadores lógicos. Estos operadores son útiles para combinar condiciones y tomar decisiones basadas en expresiones lógicas."
   ]
  }
 ],
 "metadata": {
  "jupytext": {
   "cell_metadata_filter": "-all",
   "main_language": "python",
   "notebook_metadata_filter": "-all"
  },
  "kernelspec": {
   "display_name": "Python 3",
   "language": "python",
   "name": "python3"
  },
  "language_info": {
   "codemirror_mode": {
    "name": "ipython",
    "version": 3
   },
   "file_extension": ".py",
   "mimetype": "text/x-python",
   "name": "python",
   "nbconvert_exporter": "python",
   "pygments_lexer": "ipython3",
   "version": "3.8.10"
  }
 },
 "nbformat": 4,
 "nbformat_minor": 5
}
