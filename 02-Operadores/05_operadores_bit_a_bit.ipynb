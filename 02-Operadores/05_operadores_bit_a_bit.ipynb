{
 "cells": [
  {
   "attachments": {},
   "cell_type": "markdown",
   "id": "f58cc2b8",
   "metadata": {},
   "source": [
    "# Módulo 2: Operadores\n",
    "\n",
    "## Parte 5: Operadores bit a bit\n",
    "\n",
    "Los operadores bit a bit se utilizan para realizar operaciones bit a bit en la representación binaria de números enteros.\n",
    "\n",
    "### 5.1. Operadores bit a bit\n",
    "\n",
    "Estos operadores trabajan en bits individuales de los operandos. Python proporciona varios operadores bit a bit para realizar operaciones a nivel de bits.\n",
    "\n",
    "#### Operador AND bit a bit (&)\n",
    "\n",
    "El operador AND bit a bit (&) realiza una operación AND bit a bit entre los bits correspondientes de dos operandos. Devuelve un valor en el que se establece cada bit si ambos bits correspondientes están establecidos en los operandos.\n",
    "\n",
    "Por ejemplo:"
   ]
  },
  {
   "cell_type": "code",
   "execution_count": null,
   "id": "86172ee1",
   "metadata": {},
   "outputs": [],
   "source": [
    "x = 5 # Binario: 0101\n",
    "y = 3 # Binario: 0011\n",
    "\n",
    "resultado = x & y # Binario: 0001 -> Decimal: 1\n",
    "print(\"Resultado:\", resultado) # Salida: Resultado: 1"
   ]
  },
  {
   "attachments": {},
   "cell_type": "markdown",
   "id": "00d9ee35",
   "metadata": {},
   "source": [
    "#### Operador OR bit a bit (|)\n",
    "\n",
    "El operador OR bit a bit (|) realiza una operación OR bit a bit entre los bits correspondientes de dos operandos. Devuelve un valor donde cada bit se establece si al menos uno de los bits correspondientes se establece en los operandos.\n",
    "\n",
    "Por ejemplo:"
   ]
  },
  {
   "cell_type": "code",
   "execution_count": null,
   "id": "498bd58c",
   "metadata": {},
   "outputs": [],
   "source": [
    "x = 5 # Binario: 0101\n",
    "y = 3 # Binario: 0011\n",
    "\n",
    "resultado = x | y # Binario: 0111 -> Decimal: 7\n",
    "print(\"Resultado:\", resultado) # Salida: Resultado: 7"
   ]
  },
  {
   "attachments": {},
   "cell_type": "markdown",
   "id": "32bdc6e6",
   "metadata": {},
   "source": [
    "#### Operador XOR bit a bit (^)\n",
    "\n",
    "El operador XOR bit a bit (^) realiza una operación OR exclusiva bit a bit entre los bits correspondientes de dos operandos. Devuelve un valor en el que se establece cada bit si solo se establece uno de los bits correspondientes en los operandos.\n",
    "\n",
    "Por ejemplo:"
   ]
  },
  {
   "cell_type": "code",
   "execution_count": null,
   "id": "dfcadba0",
   "metadata": {},
   "outputs": [],
   "source": [
    "x = 5 # Binario: 0101\n",
    "y = 3 # Binario: 0011\n",
    "\n",
    "resultado = x^y # Binario: 0110 -> Decimal: 6\n",
    "print(\"Resultado:\", resultado) # Salida: Resultado: 6"
   ]
  },
  {
   "attachments": {},
   "cell_type": "markdown",
   "id": "3dc02763",
   "metadata": {},
   "source": [
    "#### Operador NOT bit a bit (~)\n",
    "\n",
    "El operador NOT bit a bit (~) realiza una operación de complemento bit a bit en el operando, que voltea los bits. Devuelve el complemento a uno del operando.\n",
    "\n",
    "Por ejemplo:"
   ]
  },
  {
   "cell_type": "code",
   "execution_count": null,
   "id": "9c16fe45",
   "metadata": {},
   "outputs": [],
   "source": [
    "x = 5 # Binario: 0101\n",
    "\n",
    "resultado = ~x # Binario: 1010 -> Decimal: -6\n",
    "print(\"Resultado:\", resultado) # Salida: Resultado: -6"
   ]
  },
  {
   "attachments": {},
   "cell_type": "markdown",
   "id": "92575278",
   "metadata": {},
   "source": [
    "#### Operador de desplazamiento a la izquierda bit a bit (<<)\n",
    "\n",
    "El operador de desplazamiento a la izquierda bit a bit (<<) desplaza los bits del operando izquierdo hacia la izquierda el número de posiciones especificado por el operando derecho.\n",
    "\n",
    "Por ejemplo:"
   ]
  },
  {
   "cell_type": "code",
   "execution_count": null,
   "id": "78deb574",
   "metadata": {},
   "outputs": [],
   "source": [
    "x = 5 # Binario: 0101\n",
    "\n",
    "resultado = x << 2 # Binario: 010100 -> Decimal: 20\n",
    "print(\"Resultado:\", resultado) # Salida: Resultado: 20"
   ]
  },
  {
   "attachments": {},
   "cell_type": "markdown",
   "id": "a43547be",
   "metadata": {},
   "source": [
    "#### Operador de desplazamiento a la derecha bit a bit (>>)\n",
    "\n",
    "El operador de desplazamiento a la derecha bit a bit (>>) desplaza los bits del operando izquierdo hacia la derecha el número de posiciones especificado por el operando derecho.\n",
    "\n",
    "Por ejemplo:"
   ]
  },
  {
   "cell_type": "code",
   "execution_count": null,
   "id": "1cd7428e",
   "metadata": {},
   "outputs": [],
   "source": [
    "x = 5 # Binario: 0101\n",
    "\n",
    "resultado = x >> 2 # Binario: 0001 -> Decimal: 1\n",
    "print(\"Resultado:\", resultado) # Salida: Resultado: 1"
   ]
  },
  {
   "attachments": {},
   "cell_type": "markdown",
   "id": "77299036",
   "metadata": {},
   "source": [
    "### 5.2. Resumen\n",
    "\n",
    "En esta parte, exploró los operadores bit a bit en Python, incluidos AND bit a bit (&), OR bit a bit (|), XOR bit a bit (^), NOT bit a bit (~), desplazamiento a la izquierda bit a bit (<<) y desplazamiento a la derecha bit a bit (>>). Estos operadores son útiles para realizar operaciones a nivel de bit en representaciones binarias de enteros."
   ]
  }
 ],
 "metadata": {
  "jupytext": {
   "cell_metadata_filter": "-all",
   "main_language": "python",
   "notebook_metadata_filter": "-all"
  },
  "kernelspec": {
   "display_name": "Python 3",
   "language": "python",
   "name": "python3"
  },
  "language_info": {
   "codemirror_mode": {
    "name": "ipython",
    "version": 3
   },
   "file_extension": ".py",
   "mimetype": "text/x-python",
   "name": "python",
   "nbconvert_exporter": "python",
   "pygments_lexer": "ipython3",
   "version": "3.8.10"
  }
 },
 "nbformat": 4,
 "nbformat_minor": 5
}
