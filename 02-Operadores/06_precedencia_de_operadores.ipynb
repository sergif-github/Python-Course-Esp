{
 "cells": [
  {
   "attachments": {},
   "cell_type": "markdown",
   "id": "985470a9",
   "metadata": {},
   "source": [
    "# Módulo 2: Operadores\n",
    "\n",
    "## Parte 6: Precedencia de operadores\n",
    "\n",
    "La precedencia de operadores determina el orden en que se evalúan los operadores en una expresión. Cuando se utilizan varios operadores en la misma expresión, se evalúa primero el operador con mayor prioridad.\n",
    "\n",
    "### 6.1. Precedencia del operador\n",
    "\n",
    "Python sigue un conjunto específico de reglas para determinar la precedencia de los operadores. Aquí hay algunos puntos clave para entender:\n",
    "\n",
    "- Los operadores con mayor precedencia se evalúan antes que los operadores con menor precedencia.\n",
    "- Los paréntesis se pueden utilizar para anular la precedencia predeterminada y especificar el orden de evaluación.\n",
    "- Los operadores de la misma precedencia se evalúan de izquierda a derecha.\n",
    "\n",
    "Aquí hay una descripción general de la precedencia del operador en Python:\n",
    "\n",
    "1. Paréntesis: ()\n",
    "2. Exponenciación: **\n",
    "3. Signo positivo/negativo: +x, -x\n",
    "4. Multiplicación, División, División Piso, Módulo: *, /, //, %\n",
    "5. Sumas y Restas: +, -\n",
    "6. Cambios bit a bit: <<, >>\n",
    "7. Bit a bit Y: &\n",
    "8. Bit a bit O: |\n",
    "9. XOR bit a bit: ^\n",
    "10. Operadores de comparación: <, <=, >, >=, ==, !=\n",
    "11. NO lógico: no\n",
    "12. AND lógico: y\n",
    "13. OR lógico: o\n",
    "\n",
    "Es importante tener en cuenta que, en caso de duda sobre el orden de evaluación, el uso de paréntesis siempre es una buena práctica para garantizar el resultado deseado.\n",
    "\n",
    "Ejemplo:"
   ]
  },
  {
   "cell_type": "code",
   "execution_count": null,
   "id": "a5fa43a2",
   "metadata": {},
   "outputs": [],
   "source": [
    "resultado = 10 + 2 * 3 # La multiplicación tiene mayor precedencia que la suma\n",
    "print(\"Resultado:\", resultado) # Salida: Resultado: 16\n",
    "\n",
    "resultado = (10 + 2) * 3 # Uso de paréntesis para cambiar el orden de evaluación\n",
    "print(\"Resultado:\", resultado) # Salida: Resultado: 36"
   ]
  },
  {
   "attachments": {},
   "cell_type": "markdown",
   "id": "008064e8",
   "metadata": {},
   "source": [
    "En el primer ejemplo, sin paréntesis, la multiplicación se evalúa primero, lo que da como resultado 10 + 6 = 16. En el segundo ejemplo, los paréntesis obligan a evaluar primero la suma, lo que da como resultado (10 + 2) * 3 = 36.\n",
    "\n",
    "Comprender la precedencia de los operadores es crucial para escribir expresiones que produzcan los resultados deseados.\n",
    "\n",
    "### 6.2. Resumen\n",
    "\n",
    "En esta parte, aprendió sobre la precedencia de operadores en Python. La precedencia de operadores determina el orden en que se evalúan los operadores en una expresión. Los paréntesis se pueden utilizar para anular la precedencia predeterminada y especificar el orden de evaluación. Recuerde utilizar paréntesis en caso de duda para garantizar el resultado deseado."
   ]
  }
 ],
 "metadata": {
  "jupytext": {
   "cell_metadata_filter": "-all",
   "main_language": "python",
   "notebook_metadata_filter": "-all"
  },
  "kernelspec": {
   "display_name": "Python 3",
   "language": "python",
   "name": "python3"
  },
  "language_info": {
   "codemirror_mode": {
    "name": "ipython",
    "version": 3
   },
   "file_extension": ".py",
   "mimetype": "text/x-python",
   "name": "python",
   "nbconvert_exporter": "python",
   "pygments_lexer": "ipython3",
   "version": "3.8.10"
  }
 },
 "nbformat": 4,
 "nbformat_minor": 5
}
