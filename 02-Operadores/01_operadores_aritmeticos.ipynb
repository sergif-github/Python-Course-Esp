{
 "cells": [
  {
   "attachments": {},
   "cell_type": "markdown",
   "id": "3a62cb14",
   "metadata": {},
   "source": [
    "# Módulo 2: Operadores\n",
    "\n",
    "## Parte 1: Operadores aritméticos\n",
    "\n",
    "Los operadores aritméticos se utilizan para realizar operaciones matemáticas en operandos numéricos.\n",
    "\n",
    "### 1.1. Operadores aritméticos\n",
    "\n",
    "Python proporciona varios operadores aritméticos para suma, resta, multiplicación, división y más.\n",
    "\n",
    "#### Operador de suma (+)\n",
    "\n",
    "El operador de suma (+) se usa para sumar dos números.\n",
    "\n",
    "Por ejemplo:"
   ]
  },
  {
   "cell_type": "code",
   "execution_count": null,
   "id": "de5a1ba1",
   "metadata": {},
   "outputs": [],
   "source": [
    "x = 5\n",
    "y = 3\n",
    "\n",
    "resultado = x + y  # 5 + 3 = 8\n",
    "print(\"Resultado:\", resultado)  # Salida: Resultado: 8"
   ]
  },
  {
   "attachments": {},
   "cell_type": "markdown",
   "id": "016c2451",
   "metadata": {},
   "source": [
    "#### Operador de resta (-)\n",
    "\n",
    "El operador de resta (-) se utiliza para restar un número de otro.\n",
    "\n",
    "Por ejemplo:"
   ]
  },
  {
   "cell_type": "code",
   "execution_count": null,
   "id": "42f8afe9",
   "metadata": {},
   "outputs": [],
   "source": [
    "x = 10\n",
    "y = 3\n",
    "\n",
    "resultado = x - y  # 10 - 3 = 7\n",
    "print(\"Resultado:\", resultado)  # Salida: Resultado: 7"
   ]
  },
  {
   "attachments": {},
   "cell_type": "markdown",
   "id": "078b0f41",
   "metadata": {},
   "source": [
    "#### Operador de multiplicación (*)\n",
    "\n",
    "El operador de multiplicación (*) se utiliza para multiplicar dos números.\n",
    "\n",
    "Por ejemplo:"
   ]
  },
  {
   "cell_type": "code",
   "execution_count": null,
   "id": "cbb84d78",
   "metadata": {},
   "outputs": [],
   "source": [
    "x = 4\n",
    "y = 5\n",
    "\n",
    "resultado = x * y  # 4 * 5 = 20\n",
    "print(\"Resultado:\", resultado)  # Salida: Resultado: 20"
   ]
  },
  {
   "attachments": {},
   "cell_type": "markdown",
   "id": "910cc58a",
   "metadata": {},
   "source": [
    "#### Operador de división (/)\n",
    "\n",
    "El operador de división (/) se utiliza para dividir un número por otro. En Python 3.x, el operador de división siempre devuelve un resultado flotante, incluso si los operandos son números enteros.\n",
    "\n",
    "Por ejemplo:"
   ]
  },
  {
   "cell_type": "code",
   "execution_count": null,
   "id": "a2325afe",
   "metadata": {},
   "outputs": [],
   "source": [
    "x = 10\n",
    "y = 3\n",
    "\n",
    "resultado = x / y  # 10 / 3 = 3.3333333333333335\n",
    "print(\"Resultado:\", resultado)  # Salida: Resultado: 3.3333333333333335"
   ]
  },
  {
   "attachments": {},
   "cell_type": "markdown",
   "id": "5e7e0c25",
   "metadata": {},
   "source": [
    "O#### perador de división entera  (//)\n",
    "\n",
    "El operador de división entera (//) se usa para realizar la división de enteros. Devuelve el mayor cociente entero posible sin considerar el resto.\n",
    "\n",
    "Por ejemplo:"
   ]
  },
  {
   "cell_type": "code",
   "execution_count": null,
   "id": "c836ef20",
   "metadata": {},
   "outputs": [],
   "source": [
    "x = 10\n",
    "y = 3\n",
    "\n",
    "resultado = x // y  # 10 // 3 = 3\n",
    "print(\"Resultado:\", resultado)  # Salida: Resultado: 3"
   ]
  },
  {
   "attachments": {},
   "cell_type": "markdown",
   "id": "98053ac6",
   "metadata": {},
   "source": [
    "#### Operador de módulo (%)\n",
    "\n",
    "El operador de módulo (%) se utiliza para encontrar el resto de la división entre dos números.\n",
    "\n",
    "Por ejemplo:"
   ]
  },
  {
   "cell_type": "code",
   "execution_count": null,
   "id": "43115e74",
   "metadata": {},
   "outputs": [],
   "source": [
    "x = 10\n",
    "y = 3\n",
    "\n",
    "resultado = x % y  # 10 % 3 = 1\n",
    "print(\"Resultado:\", resultado)  # Salida: Resultado: 1"
   ]
  },
  {
   "attachments": {},
   "cell_type": "markdown",
   "id": "483b95cb",
   "metadata": {},
   "source": [
    "#### Operador de exponenciación (**)\n",
    "\n",
    "El operador de exponenciación (**) se utiliza para elevar un número a la potencia de otro número.\n",
    "\n",
    "Por ejemplo:"
   ]
  },
  {
   "cell_type": "code",
   "execution_count": null,
   "id": "4cc77655",
   "metadata": {
    "lines_to_next_cell": 0
   },
   "outputs": [],
   "source": [
    "x = 2\n",
    "y = 3\n",
    "\n",
    "resultado = x ** y  # 2 ** 3 = 8\n",
    "print(\"Resultado:\", resultado)  # Salida: Resultado: 8"
   ]
  },
  {
   "attachments": {},
   "cell_type": "markdown",
   "id": "b859ba18",
   "metadata": {},
   "source": [
    "### 1.2. Resumen\n",
    "\n",
    "En esta parte, exploró los operadores aritméticos en Python, incluidas la suma, la resta, la multiplicación, la división, la división mínima, el módulo y la exponenciación. Estos operadores son esenciales para realizar operaciones matemáticas en sus programas."
   ]
  }
 ],
 "metadata": {
  "jupytext": {
   "cell_metadata_filter": "-all",
   "main_language": "python",
   "notebook_metadata_filter": "-all"
  },
  "kernelspec": {
   "display_name": "Python 3",
   "language": "python",
   "name": "python3"
  },
  "language_info": {
   "name": "python",
   "version": "3.8.10"
  }
 },
 "nbformat": 4,
 "nbformat_minor": 5
}
