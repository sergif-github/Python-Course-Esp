{
 "cells": [
  {
   "attachments": {},
   "cell_type": "markdown",
   "id": "28a3f096",
   "metadata": {},
   "source": [
    "# Module 3: Control flow statements\n",
    "\n",
    "## Part 3: Logical operators in conditionals\n",
    "\n",
    "Logical operators are used to combine multiple conditions in conditional statements. In Python, the logical operators and, or, and not are commonly used to perform logical operations on boolean values. Here's an overview of how these operators work in conditionals:\n",
    "\n",
    "- The and operator returns True if both conditions on its left and right are True.\n",
    "- The or operator returns True if at least one of the conditions on its left or right is True.\n",
    "- The not operator returns the negation of a condition. If the condition is True, not returns False, and vice versa.\n",
    "\n",
    "Logical operators are often used to create more complex conditions by combining multiple simple conditions. \n",
    "\n",
    "Here's an example that demonstrates the use of logical operators in conditionals:"
   ]
  },
  {
   "cell_type": "code",
   "execution_count": 1,
   "id": "b49e2a64",
   "metadata": {},
   "outputs": [
    {
     "name": "stdout",
     "output_type": "stream",
     "text": [
      "You are eligible to vote in the USA.\n"
     ]
    }
   ],
   "source": [
    "age = 25\n",
    "country = \"USA\"\n",
    "\n",
    "if age >= 18 and country == \"USA\":\n",
    "    print(\"You are eligible to vote in the USA.\")\n",
    "else:\n",
    "    print(\"You are not eligible to vote in the USA.\")"
   ]
  },
  {
   "attachments": {},
   "cell_type": "markdown",
   "id": "f94a3095",
   "metadata": {},
   "source": [
    "In this example, the and operator is used to combine two conditions: age >= 18 and country == \"USA\". If both conditions are True, the code block inside the if statement is executed, and the message \"You are eligible to vote in the USA.\" is printed. Otherwise, the code block inside the else statement is executed, and the message \"You are not eligible to vote in the USA.\" is printed.\n",
    "\n",
    "You can also use the or operator to create conditions where at least one of the conditions needs to be True. \n",
    "\n",
    "Here's an example:"
   ]
  },
  {
   "cell_type": "code",
   "execution_count": 2,
   "id": "fe303755",
   "metadata": {},
   "outputs": [
    {
     "name": "stdout",
     "output_type": "stream",
     "text": [
      "You did not pass the exam.\n"
     ]
    }
   ],
   "source": [
    "score = 85\n",
    "\n",
    "if score >= 90 or score <= 60:\n",
    "    print(\"You passed the exam.\")\n",
    "else:\n",
    "    print(\"You did not pass the exam.\")"
   ]
  },
  {
   "attachments": {},
   "cell_type": "markdown",
   "id": "4ffb7376",
   "metadata": {},
   "source": [
    "In this example, the or operator is used to combine two conditions: score >= 90 and score <= 60. If either of the conditions is True, the code block inside the if statement is executed, and the message \"You passed the exam.\" is printed. Otherwise, the code block inside the else statement is executed, and the message \"You did not pass the exam.\" is printed.\n",
    "\n",
    "The not operator can be used to negate a condition. \n",
    "\n",
    "Here's an example:"
   ]
  },
  {
   "cell_type": "code",
   "execution_count": 3,
   "id": "8c334693",
   "metadata": {},
   "outputs": [
    {
     "name": "stdout",
     "output_type": "stream",
     "text": [
      "Please log in to continue.\n"
     ]
    }
   ],
   "source": [
    "is_logged_in = False\n",
    "\n",
    "if not is_logged_in:\n",
    "    print(\"Please log in to continue.\")"
   ]
  },
  {
   "attachments": {},
   "cell_type": "markdown",
   "id": "1d0b0f2b",
   "metadata": {},
   "source": [
    "In this example, the not operator is used to check if is_logged_in is False. If the condition is True, the code block inside the if statement is executed, and the message \"Please log in to continue.\" is printed.\n",
    "\n",
    "### Summary\n",
    "\n",
    "In this part, you learned about the use of logical operators (and, or, not) in conditionals. Logical operators allow you to combine multiple conditions and create more complex conditions. Use and to check if both conditions are True, or to check if at least one condition is True, and not to negate a condition."
   ]
  }
 ],
 "metadata": {
  "jupytext": {
   "cell_metadata_filter": "-all",
   "main_language": "python",
   "notebook_metadata_filter": "-all"
  },
  "kernelspec": {
   "display_name": "Python 3",
   "language": "python",
   "name": "python3"
  },
  "language_info": {
   "codemirror_mode": {
    "name": "ipython",
    "version": 3
   },
   "file_extension": ".py",
   "mimetype": "text/x-python",
   "name": "python",
   "nbconvert_exporter": "python",
   "pygments_lexer": "ipython3",
   "version": "3.8.10"
  }
 },
 "nbformat": 4,
 "nbformat_minor": 5
}
