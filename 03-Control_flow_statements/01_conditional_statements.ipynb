{
 "cells": [
  {
   "attachments": {},
   "cell_type": "markdown",
   "id": "546a039f",
   "metadata": {},
   "source": [
    "# Module 3: Control flow statements\n",
    "\n",
    "## Part 1: Conditional statements (if, else, elif)\n",
    "\n",
    "Conditional statements are used in Python to execute different blocks of code based on certain conditions. The most common conditional statements in Python are the if, else, and elif statements.\n",
    "\n",
    "### 1.1. The if statement\n",
    "\n",
    "The if statement is used to check a condition and execute a block of code if the condition is true. \n",
    "\n",
    "Here's the basic syntax of the if statement:"
   ]
  },
  {
   "cell_type": "code",
   "execution_count": 4,
   "id": "3d0e4dd4",
   "metadata": {},
   "outputs": [
    {
     "name": "stdout",
     "output_type": "stream",
     "text": [
      "code to execute if the condition is true\n"
     ]
    }
   ],
   "source": [
    "condition = 1 == 1\n",
    "if condition:\n",
    "    print(\"Code to execute if the condition is true\")\n"
   ]
  },
  {
   "attachments": {},
   "cell_type": "markdown",
   "id": "ea963d80",
   "metadata": {},
   "source": [
    "Example:"
   ]
  },
  {
   "cell_type": "code",
   "execution_count": 5,
   "id": "807a1af0",
   "metadata": {},
   "outputs": [
    {
     "name": "stdout",
     "output_type": "stream",
     "text": [
      "You are an adult.\n"
     ]
    }
   ],
   "source": [
    "age = 20\n",
    "\n",
    "if age >= 18:\n",
    "    print(\"You are an adult.\")"
   ]
  },
  {
   "attachments": {},
   "cell_type": "markdown",
   "id": "dc9433b1",
   "metadata": {},
   "source": [
    "In this example, the if statement checks if the age variable is greater than or equal to 18. If the condition is true, the code block inside the if statement is executed, and the message \"You are an adult.\" is printed.\n",
    "\n",
    "### 1.2. The else statement\n",
    "\n",
    "The else statement is used to specify a block of code to be executed if the condition in the if statement is false.\n",
    "\n",
    " Here's the basic syntax of the else statement:"
   ]
  },
  {
   "cell_type": "code",
   "execution_count": 6,
   "id": "c7cb6a4f",
   "metadata": {},
   "outputs": [
    {
     "name": "stdout",
     "output_type": "stream",
     "text": [
      "code to execute if the condition is false\n"
     ]
    }
   ],
   "source": [
    "condition = 1 == 0\n",
    "if condition:\n",
    "    print(\"Code to execute if the condition is true\")\n",
    "else:\n",
    "    print(\"Code to execute if the condition is false\")"
   ]
  },
  {
   "attachments": {},
   "cell_type": "markdown",
   "id": "6f01362f",
   "metadata": {},
   "source": [
    "Example:"
   ]
  },
  {
   "cell_type": "code",
   "execution_count": 7,
   "id": "b2b4b803",
   "metadata": {},
   "outputs": [
    {
     "name": "stdout",
     "output_type": "stream",
     "text": [
      "You are a minor.\n"
     ]
    }
   ],
   "source": [
    "age = 15\n",
    "\n",
    "if age >= 18:\n",
    "    print(\"You are an adult.\")\n",
    "else:\n",
    "    print(\"You are a minor.\")"
   ]
  },
  {
   "attachments": {},
   "cell_type": "markdown",
   "id": "9ccc51dd",
   "metadata": {},
   "source": [
    "In this example, if the condition age >= 18 is false, the code block inside the else statement is executed, and the message \"You are a minor.\" is printed.\n",
    "\n",
    "### 1.3. The elif statement\n",
    "\n",
    "The elif statement is short for \"else if\" and is used to specify additional conditions to check if the preceding if statement is false. \n",
    "\n",
    "Here's the basic syntax of the elif statement:"
   ]
  },
  {
   "cell_type": "code",
   "execution_count": 9,
   "id": "2429ef1e",
   "metadata": {},
   "outputs": [
    {
     "name": "stdout",
     "output_type": "stream",
     "text": [
      "Code to execute if the condition is false\n"
     ]
    }
   ],
   "source": [
    "condition = 1 == 0\n",
    "if condition:\n",
    "    print(\"Code to execute if the condition is true\")\n",
    "elif not condition:\n",
    "    print(\"Code to execute if the condition is false\")"
   ]
  },
  {
   "attachments": {},
   "cell_type": "markdown",
   "id": "a29f9d74",
   "metadata": {},
   "source": [
    "Example:"
   ]
  },
  {
   "cell_type": "code",
   "execution_count": null,
   "id": "150dfb0c",
   "metadata": {},
   "outputs": [],
   "source": [
    "age = 25\n",
    "\n",
    "if age < 18:\n",
    "    print(\"You are a minor.\")\n",
    "elif age >= 18 and age < 65:\n",
    "    print(\"You are an adult.\")\n",
    "else:\n",
    "    print(\"You are a senior citizen.\")"
   ]
  },
  {
   "attachments": {},
   "cell_type": "markdown",
   "id": "31171627",
   "metadata": {},
   "source": [
    "In this example, the elif statement checks if the age is between 18 and 65. If the first condition is false and the second condition is true, the code block inside the elif statement is executed, and the message \"You are an adult.\" is printed.\n",
    "\n",
    "### 1.4. Summary\n",
    "\n",
    "In this part, you learned about conditional statements in Python, including the if, else, and elif statements. Conditional statements allow you to execute different blocks of code based on certain conditions. Use the if statement to check a condition, the else statement to specify code for when the condition is false, and the elif statement to check additional conditions if the preceding if statement is false."
   ]
  }
 ],
 "metadata": {
  "jupytext": {
   "cell_metadata_filter": "-all",
   "main_language": "python",
   "notebook_metadata_filter": "-all"
  },
  "kernelspec": {
   "display_name": "Python 3",
   "language": "python",
   "name": "python3"
  },
  "language_info": {
   "codemirror_mode": {
    "name": "ipython",
    "version": 3
   },
   "file_extension": ".py",
   "mimetype": "text/x-python",
   "name": "python",
   "nbconvert_exporter": "python",
   "pygments_lexer": "ipython3",
   "version": "3.8.10"
  }
 },
 "nbformat": 4,
 "nbformat_minor": 5
}
