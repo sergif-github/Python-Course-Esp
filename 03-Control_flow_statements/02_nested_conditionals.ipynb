{
 "cells": [
  {
   "attachments": {},
   "cell_type": "markdown",
   "id": "bb70469d",
   "metadata": {},
   "source": [
    "# Module 3: Control flow statements\n",
    "\n",
    "## Part 2: Nested conditionals\n",
    "\n",
    "Nested conditionals are conditional statements that are placed inside other conditional statements. They allow you to check multiple conditions and execute different blocks of code based on those conditions.\n",
    "\n",
    "Here's an example of nested conditionals:"
   ]
  },
  {
   "cell_type": "code",
   "execution_count": 1,
   "id": "57b6f906",
   "metadata": {},
   "outputs": [
    {
     "name": "stdout",
     "output_type": "stream",
     "text": [
      "Number is positive.\n",
      "Number is even.\n"
     ]
    }
   ],
   "source": [
    "num = 10\n",
    "\n",
    "if num > 0:\n",
    "    print(\"Number is positive.\")\n",
    "    if num % 2 == 0:\n",
    "        print(\"Number is even.\")\n",
    "    else:\n",
    "        print(\"Number is odd.\")\n",
    "else:\n",
    "    print(\"Number is non-positive.\")"
   ]
  },
  {
   "attachments": {},
   "cell_type": "markdown",
   "id": "7187d221",
   "metadata": {},
   "source": [
    "In this example, the outer if statement checks if num is greater than 0. If the condition is true, it prints \"Number is positive.\" Then, there is a nested if-else statement inside the first code block. It checks if num is divisible by 2 to determine if it's even or odd.\n",
    "\n",
    "Nested conditionals can have multiple levels depending on the complexity of the conditions you need to check. It's important to properly indent the code blocks to indicate the hierarchy of the conditionals.\n",
    "\n",
    "Nested conditionals allow for more precise control over the flow of the program based on different conditions. However, it's essential to keep the code readable and maintainable by using proper indentation and avoiding excessive nesting.\n",
    "\n",
    "### Summary\n",
    "\n",
    "In this part, you learned about nested conditionals in Python. Nested conditionals allow you to place conditional statements inside other conditional statements, enabling you to check multiple conditions and execute different blocks of code based on those conditions. Make sure to properly indent the code blocks to indicate the hierarchy of the conditionals and maintain readability."
   ]
  }
 ],
 "metadata": {
  "jupytext": {
   "cell_metadata_filter": "-all",
   "main_language": "python",
   "notebook_metadata_filter": "-all"
  },
  "kernelspec": {
   "display_name": "Python 3",
   "language": "python",
   "name": "python3"
  },
  "language_info": {
   "codemirror_mode": {
    "name": "ipython",
    "version": 3
   },
   "file_extension": ".py",
   "mimetype": "text/x-python",
   "name": "python",
   "nbconvert_exporter": "python",
   "pygments_lexer": "ipython3",
   "version": "3.8.10"
  }
 },
 "nbformat": 4,
 "nbformat_minor": 5
}
