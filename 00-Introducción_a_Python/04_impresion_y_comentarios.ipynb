{
 "cells": [
  {
   "attachments": {},
   "cell_type": "markdown",
   "id": "1fad0cb3",
   "metadata": {
    "lines_to_next_cell": 0
   },
   "source": [
    "# Módulo 0: Introducción a Python\n",
    "\n",
    "## Parte 4: Código de impresión y comentarios\n",
    "\n",
    "La impresión y los comentarios de código son aspectos esenciales de la programación de Python. Lo ayudan a comunicar información, dar formato a la salida y proporcionar explicaciones dentro de su código. Esta sección cubre las técnicas y las mejores prácticas para imprimir, formatear y comentar de manera efectiva en Python.\n",
    "\n",
    "### 4.1. Salida de impresión\n",
    "\n",
    "La función print() se usa para mostrar la salida en la consola. Le permite imprimir cadenas, variables y expresiones.\n",
    "\n",
    "Aquí hay un ejemplo:"
   ]
  },
  {
   "cell_type": "code",
   "execution_count": null,
   "id": "bfdf9c84",
   "metadata": {},
   "outputs": [],
   "source": [
    "print(\"Hola, Mundo!\")"
   ]
  },
  {
   "attachments": {},
   "cell_type": "markdown",
   "id": "802286e5",
   "metadata": {},
   "source": [
    "### 4.2. Formato de impresión\n",
    "\n",
    "El formato de impresión le permite personalizar la forma en que se muestran los datos. Python proporciona diferentes técnicas para dar formato a la salida, incluida la concatenación de cadenas, la interpolación de cadenas y el método format().\n",
    "\n",
    "Aquí hay unos ejemplos:"
   ]
  },
  {
   "cell_type": "code",
   "execution_count": null,
   "id": "ad4fd3d7",
   "metadata": {},
   "outputs": [],
   "source": [
    "# Concatenación de cadenas\n",
    "nombre = \"Alicia\"\n",
    "edad = 25\n",
    "print(\"Mi nombre es \" + nombre + \" y tengo \" + str(edad) + \" años\")"
   ]
  },
  {
   "cell_type": "code",
   "execution_count": null,
   "id": "95995bcd",
   "metadata": {},
   "outputs": [],
   "source": [
    "# Interpolación de cadenas (f-strings)\n",
    "nombre = \"Alicia\"\n",
    "edad = 25\n",
    "print(f\"Mi nombre es {nombre} y tengo {edad} años\")"
   ]
  },
  {
   "cell_type": "code",
   "execution_count": null,
   "id": "16c2a8df",
   "metadata": {},
   "outputs": [],
   "source": [
    "# Método format()\n",
    "nombre = \"Alicia\"\n",
    "edad = 25\n",
    "print(\"Mi nombre es {} y tengo {} años\".format(nombre, edad))"
   ]
  },
  {
   "attachments": {},
   "cell_type": "markdown",
   "id": "a0c8f58f",
   "metadata": {},
   "source": [
    "### 4.3. Formateo numérico\n",
    "\n",
    "Además del formato de impresión general, Python proporciona opciones específicas para el formato de valores numéricos. Esto le permite controlar la precisión, los lugares decimales y la alineación de la salida numérica.\n",
    "\n",
    "Aquí hay algunas técnicas para el formato numérico:\n",
    "\n",
    "#### 4.3.1. Formateo de números de punto flotante\n",
    "\n",
    "Los números de punto flotante se pueden formatear usando el método format() o f-strings. Puede especificar el número de lugares decimales y elegir si mostrar ceros finales.\n",
    "\n",
    "Aquí hay un ejemplo:"
   ]
  },
  {
   "cell_type": "code",
   "execution_count": null,
   "id": "7a218367",
   "metadata": {},
   "outputs": [],
   "source": [
    "pi = 3.14159\n",
    "formateado_pi = \"{:.2f}\".format(pi) # Da formato a pi con 2 decimales\n",
    "print(formateado_pi) # Salida: 3.14\n",
    "\n",
    "formateado_pi = f\"{pi:.2f}\" # Uso de f-strings\n",
    "print(formateado_pi) # Salida: 3.14"
   ]
  },
  {
   "attachments": {},
   "cell_type": "markdown",
   "id": "45117992",
   "metadata": {},
   "source": [
    "#### 4.3.2. Formateo de números enteros\n",
    "\n",
    "Los números enteros se pueden formatear usando el método format() o f-strings.\n",
    "\n",
    "Aquí hay un ejemplo:"
   ]
  },
  {
   "cell_type": "code",
   "execution_count": null,
   "id": "f736fe19",
   "metadata": {},
   "outputs": [],
   "source": [
    "numero = 42\n",
    "formateado_num = \"{:4d}\".format(numero) # Da formato a num con un ancho mínimo de 4\n",
    "print(formateado_num) # Salida: 42\n",
    "\n",
    "formateado_num = f\"{numero:4d}\" # Uso de f-strings\n",
    "print (formateado_num) # Salida: 42"
   ]
  },
  {
   "attachments": {},
   "cell_type": "markdown",
   "id": "e817cccd",
   "metadata": {},
   "source": [
    "#### 4.3.3. Formateo con separadores de miles\n",
    "\n",
    "Puede formatear números grandes con separadores de miles para mejorar la legibilidad. El método format() admite el uso de comas como separadores de miles.\n",
    "\n",
    "Aquí hay un ejemplo:"
   ]
  },
  {
   "cell_type": "code",
   "execution_count": null,
   "id": "57fc9378",
   "metadata": {},
   "outputs": [],
   "source": [
    "poblacion = 5000000\n",
    "formatted_pop = \"{:,}\".format(poblacion) # Da formato a la población con separadores de miles\n",
    "print(formatted_pop) # Salida: 5,000,000"
   ]
  },
  {
   "attachments": {},
   "cell_type": "markdown",
   "id": "842259e9",
   "metadata": {},
   "source": [
    "### 4.4. Comentando el código\n",
    "\n",
    "Los comentarios en Python se utilizan para proporcionar explicaciones, documentar el código y hacerlo más comprensible. No son ejecutados por el intérprete. Python admite comentarios de una sola línea y comentarios de varias líneas.\n",
    "\n",
    "Aquí hay unos ejemplos:"
   ]
  },
  {
   "cell_type": "code",
   "execution_count": null,
   "id": "88931de8",
   "metadata": {},
   "outputs": [],
   "source": [
    "# Este es un comentario de una sola línea.\n",
    "\n",
    "\"\"\"\n",
    "Este es un comentario de varias líneas.\n",
    "Puede abarcar varias líneas.\n",
    "\"\"\"\n",
    "'''\n",
    "Este también es un comentario de varias líneas.\n",
    "Puede abarcar varias líneas.\n",
    "'''"
   ]
  },
  {
   "attachments": {},
   "cell_type": "markdown",
   "id": "091ae440",
   "metadata": {},
   "source": [
    "### 4.5. Resumen\n",
    "\n",
    "La impresión y los comentarios son vitales para una comunicación y documentación efectivas dentro de su código Python. La función print() le permite mostrar la salida, mientras que las técnicas de formato de impresión ayudan a personalizar la apariencia de la salida. Comentar su código ayuda a proporcionar explicaciones, documentar la funcionalidad y mejorar la legibilidad del código. Al seguir las mejores prácticas para imprimir, dar formato a la impresión y comentar el código, puede hacer que su código sea más comprensible, mantenible y colaborativo."
   ]
  }
 ],
 "metadata": {
  "jupytext": {
   "cell_metadata_filter": "-all",
   "main_language": "python",
   "notebook_metadata_filter": "-all"
  },
  "kernelspec": {
   "display_name": "Python 3",
   "language": "python",
   "name": "python3"
  },
  "language_info": {
   "codemirror_mode": {
    "name": "ipython",
    "version": 3
   },
   "file_extension": ".py",
   "mimetype": "text/x-python",
   "name": "python",
   "nbconvert_exporter": "python",
   "pygments_lexer": "ipython3",
   "version": "3.8.10"
  }
 },
 "nbformat": 4,
 "nbformat_minor": 5
}
