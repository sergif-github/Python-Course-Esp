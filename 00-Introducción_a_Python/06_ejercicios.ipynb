{
 "cells": [
  {
   "attachments": {},
   "cell_type": "markdown",
   "id": "5f268d45",
   "metadata": {},
   "source": [
    "# Módulo 0: Introducción a Python\n",
    "\n",
    "## Parte 6: Ejercicios"
   ]
  },
  {
   "attachments": {},
   "cell_type": "markdown",
   "id": "ce903a74",
   "metadata": {
    "lines_to_next_cell": 2
   },
   "source": [
    "### Ejercicio 1\n",
    "Escriba un programa de Python para mostrar \"¡Hola, Python!\" como salida."
   ]
  },
  {
   "cell_type": "code",
   "execution_count": null,
   "id": "bbd5826f",
   "metadata": {},
   "outputs": [],
   "source": []
  },
  {
   "attachments": {},
   "cell_type": "markdown",
   "id": "a41692bc",
   "metadata": {
    "lines_to_next_cell": 2
   },
   "source": [
    "### Ejercicio 2\n",
    "Escriba un programa de Python que solicite al usuario que ingrese su nombre e imprima un mensaje de bienvenida."
   ]
  },
  {
   "cell_type": "code",
   "execution_count": null,
   "id": "a780d01a",
   "metadata": {},
   "outputs": [],
   "source": []
  },
  {
   "attachments": {},
   "cell_type": "markdown",
   "id": "a5349ffa",
   "metadata": {
    "lines_to_next_cell": 2
   },
   "source": [
    "### Ejercicio 3\n",
    "Escriba un programa en Python que solicite al usuario que ingrese dos números e imprima su suma."
   ]
  },
  {
   "cell_type": "code",
   "execution_count": null,
   "id": "84939492",
   "metadata": {},
   "outputs": [],
   "source": []
  },
  {
   "attachments": {},
   "cell_type": "markdown",
   "id": "e92328eb",
   "metadata": {},
   "source": [
    "### Ejercicio 4\n",
    "Escriba un programa de Python que solicite al usuario que ingrese tres palabras y las imprima en orden inverso, separadas por un espacio."
   ]
  },
  {
   "cell_type": "code",
   "execution_count": null,
   "id": "20360cc2",
   "metadata": {
    "lines_to_next_cell": 2
   },
   "outputs": [],
   "source": []
  }
 ],
 "metadata": {
  "jupytext": {
   "cell_metadata_filter": "-all",
   "main_language": "python",
   "notebook_metadata_filter": "-all"
  },
  "language_info": {
   "name": "python"
  }
 },
 "nbformat": 4,
 "nbformat_minor": 5
}
