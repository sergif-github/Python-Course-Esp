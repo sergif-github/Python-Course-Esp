{
 "cells": [
  {
   "attachments": {},
   "cell_type": "markdown",
   "id": "aac7448c",
   "metadata": {},
   "source": [
    "# Módulo 0: Introducción a Python\n",
    "\n",
    "## Parte 7: Soluciones"
   ]
  },
  {
   "attachments": {},
   "cell_type": "markdown",
   "id": "054649d9",
   "metadata": {},
   "source": [
    "### Ejercicio 1\n",
    "Escriba un programa de Python para mostrar \"¡Hola, Python!\" como salida."
   ]
  },
  {
   "cell_type": "code",
   "execution_count": null,
   "id": "6e7b36a3",
   "metadata": {
    "lines_to_next_cell": 2
   },
   "outputs": [],
   "source": [
    "print(\"¡Hola, Python!\")"
   ]
  },
  {
   "attachments": {},
   "cell_type": "markdown",
   "id": "e9d36b69",
   "metadata": {},
   "source": [
    "### Ejercicio 2\n",
    "Escriba un programa de Python que solicite al usuario que ingrese su nombre e imprima un mensaje de bienvenida."
   ]
  },
  {
   "cell_type": "code",
   "execution_count": null,
   "id": "d81f0f1a",
   "metadata": {},
   "outputs": [],
   "source": [
    "nombre = input(\"Ingrese su nombre:\")\n",
    "mensaje = \"¡Hola, \" + nombre + \"! ¡Bienvenido al mundo de Python!\"\n",
    "print(mensaje)"
   ]
  },
  {
   "attachments": {},
   "cell_type": "markdown",
   "id": "ef0cb4a3",
   "metadata": {},
   "source": [
    "### Ejercicio 3\n",
    "Escriba un programa en Python que solicite al usuario que ingrese dos números e imprima su suma."
   ]
  },
  {
   "cell_type": "code",
   "execution_count": null,
   "id": "3d0678cf",
   "metadata": {
    "lines_to_next_cell": 2
   },
   "outputs": [],
   "source": [
    "num1 = input(\"Ingrese el primer número:\")\n",
    "num2 = input(\"Ingrese el segundo número:\")\n",
    "print(\"El primer número es:\", num1)\n",
    "print(\"El segundo numero es:\", num2)"
   ]
  },
  {
   "attachments": {},
   "cell_type": "markdown",
   "id": "f5b15a57",
   "metadata": {},
   "source": [
    "### Ejercicio 4\n",
    "Escriba un programa de Python que solicite al usuario que ingrese tres palabras y las imprima en orden inverso, separadas por un espacio."
   ]
  },
  {
   "cell_type": "code",
   "execution_count": null,
   "id": "f3ad4cc7",
   "metadata": {},
   "outputs": [],
   "source": [
    "palabra1 = input(\"Ingrese la primera palabra: \")\n",
    "palabra2 = input(\"Ingrese la segunda palabra: \")\n",
    "palabra3 = input(\"Ingrese la tercera palabra: \")\n",
    "print(palabra3, palabra2, palabra1)"
   ]
  }
 ],
 "metadata": {
  "jupytext": {
   "cell_metadata_filter": "-all",
   "main_language": "python",
   "notebook_metadata_filter": "-all"
  },
  "kernelspec": {
   "display_name": "Python 3",
   "language": "python",
   "name": "python3"
  },
  "language_info": {
   "codemirror_mode": {
    "name": "ipython",
    "version": 3
   },
   "file_extension": ".py",
   "mimetype": "text/x-python",
   "name": "python",
   "nbconvert_exporter": "python",
   "pygments_lexer": "ipython3",
   "version": "3.8.10"
  }
 },
 "nbformat": 4,
 "nbformat_minor": 5
}
