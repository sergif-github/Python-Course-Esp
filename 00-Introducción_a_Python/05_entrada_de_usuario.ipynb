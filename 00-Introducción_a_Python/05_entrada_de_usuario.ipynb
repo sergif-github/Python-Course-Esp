{
 "cells": [
  {
   "attachments": {},
   "cell_type": "markdown",
   "id": "93c0cbf2",
   "metadata": {},
   "source": [
    "# Módulo 0: Introducción a Python\n",
    "\n",
    "## Parte 5: Entrada del usuario\n",
    "\n",
    "### 5.1. Entrada de usuario con input()\n",
    "\n",
    "En Python, puede interactuar con el usuario pidiéndole que ingrese valores usando la función input(). La función le permite capturar la entrada del usuario y almacenarla en una variable para su posterior procesamiento.\n",
    "\n",
    "Para obtener información del usuario, puede usar la siguiente sintaxis:\n",
    "\n",
    "```python\n",
    "nombre_variable = input(solicitud)\n",
    "```\n",
    "\n",
    "Aquí, nombre_variable es el nombre de la variable en la que desea almacenar la entrada del usuario, y solicitud es una cadena opcional que puede mostrar al usuario como una solicitud.\n",
    "\n",
    "Veamos un ejemplo:"
   ]
  },
  {
   "cell_type": "code",
   "execution_count": null,
   "id": "b1990833",
   "metadata": {},
   "outputs": [],
   "source": [
    "nombre = input(\"Ingrese su nombre:\")\n",
    "print(\"¡Hola, \" + nombre + \"! Encantado de conocerte.\")"
   ]
  },
  {
   "attachments": {},
   "cell_type": "markdown",
   "id": "1bab74d0",
   "metadata": {},
   "source": [
    "En este ejemplo, la función input() se usa para capturar el nombre del usuario, que se almacena en la variable de nombre. El mensaje \"Ingrese su nombre: \" se muestra al usuario. La función print() luego muestra un mensaje de saludo personalizado usando el nombre ingresado.\n",
    "\n",
    "Es importante tener en cuenta que la función input() siempre devuelve una cadena. Si desea realizar operaciones numéricas en la entrada del usuario, debe convertir la entrada al tipo de datos deseado mediante funciones como int() o float().\n",
    "\n",
    "Aquí hay un ejemplo de cómo convertir la entrada del usuario a un número entero:"
   ]
  },
  {
   "cell_type": "code",
   "execution_count": null,
   "id": "32af15a2",
   "metadata": {},
   "outputs": [],
   "source": [
    "edad = int(input(\"Ingrese su edad: \"))\n",
    "restante = 100 - edad\n",
    "print(\"Tienes aproximadamente \" + str(restante) + \" años hasta que cumplas 100.\")"
   ]
  },
  {
   "attachments": {},
   "cell_type": "markdown",
   "id": "d3f5f306",
   "metadata": {},
   "source": [
    "En este ejemplo, la función input() captura la edad del usuario como una cadena, que luego se convierte en un número entero mediante la función int(). El resultado se almacena en la variable edad y se realizan más cálculos sobre el valor entero.\n",
    "\n",
    "### 5.2. Resumen\n",
    "\n",
    "Recuerde manejar la entrada del usuario con precaución. Es posible que desee agregar validación y manejo de errores para asegurarse de que el usuario ingrese el tipo de entrada esperado y manejar las posibles excepciones que puedan ocurrir.\n",
    "\n",
    "La entrada del usuario es una herramienta poderosa que permite que sus programas de Python interactúen con los usuarios, haciéndolos más dinámicos e interactivos."
   ]
  }
 ],
 "metadata": {
  "jupytext": {
   "cell_metadata_filter": "-all",
   "main_language": "python",
   "notebook_metadata_filter": "-all"
  },
  "kernelspec": {
   "display_name": "Python 3",
   "language": "python",
   "name": "python3"
  },
  "language_info": {
   "codemirror_mode": {
    "name": "ipython",
    "version": 3
   },
   "file_extension": ".py",
   "mimetype": "text/x-python",
   "name": "python",
   "nbconvert_exporter": "python",
   "pygments_lexer": "ipython3",
   "version": "3.8.10"
  }
 },
 "nbformat": 4,
 "nbformat_minor": 5
}
