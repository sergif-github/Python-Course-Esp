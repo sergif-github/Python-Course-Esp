{
 "cells": [
  {
   "attachments": {},
   "cell_type": "markdown",
   "id": "e7249158",
   "metadata": {
    "lines_to_next_cell": 0
   },
   "source": [
    "# Módulo 0: Introducción a Python\n",
    "\n",
    "## Parte 3: Sintaxis básica y sangría\n",
    "\n",
    "Python sigue una sintaxis simple y legible que usa la sangría para definir la estructura de los bloques de código.\n",
    "Comprender las reglas de sintaxis básicas y la sangría adecuada es crucial para escribir programas de Python correctos y fáciles de mantener.\n",
    "\n",
    "### 3.1. Declaraciones y líneas\n",
    "\n",
    "En Python, las declaraciones son instrucciones o comandos que realizan acciones específicas. Cada declaración normalmente ocupa una sola línea,\n",
    "pero puede extender una declaración a través de varias líneas usando técnicas de continuación de línea.\n",
    "\n",
    "Una línea de código en Python termina con un carácter de nueva línea. Sin embargo, puede usar una barra invertida (\\\\) al final de una línea\n",
    "para indicar que la declaración continúa en la línea siguiente.\n",
    "\n",
    "Por ejemplo:"
   ]
  },
  {
   "cell_type": "code",
   "execution_count": null,
   "id": "bc2bdb8f",
   "metadata": {},
   "outputs": [],
   "source": [
    "resultado = 10 + 20 + \\\n",
    "         30 + 40 + \\\n",
    "         50\n",
    "\n",
    "print(resultado)  # Salida: 150"
   ]
  },
  {
   "attachments": {},
   "cell_type": "markdown",
   "id": "228289ca",
   "metadata": {
    "lines_to_next_cell": 0
   },
   "source": [
    "### 3.2. Sangría\n",
    "\n",
    "En Python, la sangría juega un papel crucial en la definición de la estructura y el alcance de los bloques de código. A diferencia de otros lenguajes de programación\n",
    "que usan llaves o palabras clave, Python usa una sangría consistente para indicar el comienzo y el final de los bloques.\n",
    "La sangría generalmente se realiza con espacios o tabulaciones, pero es esencial mantener la coherencia en todo el código.\n",
    "La recomendación estándar es utilizar cuatro espacios para cada nivel de sangría.\n",
    "\n",
    "Por ejemplo:\n",
    "\n",
    "```python\n",
    "if condición:\n",
    "     # Bloque de código sangrado\n",
    "     declaración1\n",
    "     declaración2\n",
    "else:\n",
    "     # Otro bloque de código sangrado\n",
    "     declaración3\n",
    "     declaración4\n",
    "```\n",
    "\n",
    "La sangría adecuada es crucial para la legibilidad del código y garantiza que el intérprete de Python interprete correctamente la lógica del programa.\n",
    "\n",
    "### 3.3. Líneas en blanco\n",
    "\n",
    "El intérprete de Python ignora las líneas en blanco y se pueden usar para mejorar la legibilidad del código separando\n",
    "secciones de código o bloques lógicos. Puede usar líneas en blanco para mejorar la estructura visual y la organización de su código.\n",
    "\n",
    "### 3.4. Bloques de código de control de flujo\n",
    "\n",
    "Las declaraciones de control como if, for, while y definiciones de funciones crean bloques de código. Estos bloques de código están definidos por sus\n",
    "nivel de sangría. Todas las declaraciones dentro de un bloque de código deben estar sangradas al mismo nivel.\n",
    "\n",
    "Por ejemplo:\n",
    "\n",
    "```python\n",
    "if condición:\n",
    "     # Bloque de código 1\n",
    "     declaración1\n",
    "     declaración2\n",
    "else:\n",
    "     # Bloque de código 2\n",
    "     declaración3\n",
    "     declaración4\n",
    "```\n",
    "\n",
    "### 3.5. Resumen\n",
    "\n",
    "La sangría define la jerarquía y el anidamiento de bloques de código. Es importante garantizar una sangría adecuada para evitar errores y representar con precisión la lógica del programa deseado.\n",
    "\n",
    "Comprender y adherirse a las reglas básicas de sintaxis y los principios de sangría en Python es fundamental para escribir con claridad,\n",
    "código legible y libre de errores. Promueve la consistencia y ayuda a otros a comprender y mantener su código."
   ]
  }
 ],
 "metadata": {
  "jupytext": {
   "cell_metadata_filter": "-all",
   "main_language": "python",
   "notebook_metadata_filter": "-all"
  },
  "kernelspec": {
   "display_name": "Python 3",
   "language": "python",
   "name": "python3"
  },
  "language_info": {
   "codemirror_mode": {
    "name": "ipython",
    "version": 3
   },
   "file_extension": ".py",
   "mimetype": "text/x-python",
   "name": "python",
   "nbconvert_exporter": "python",
   "pygments_lexer": "ipython3",
   "version": "3.8.10"
  }
 },
 "nbformat": 4,
 "nbformat_minor": 5
}
