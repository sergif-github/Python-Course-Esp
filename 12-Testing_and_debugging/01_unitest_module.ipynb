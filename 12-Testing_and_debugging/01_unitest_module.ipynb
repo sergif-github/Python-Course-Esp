{
 "cells": [
  {
   "attachments": {},
   "cell_type": "markdown",
   "id": "8efb8f36",
   "metadata": {
    "lines_to_next_cell": 0
   },
   "source": [
    "# Module 12: Testing and debugging\n",
    "\n",
    "## Part 1 Unit Testing with the unittest module\n",
    "\n",
    "In software development, unit testing is a crucial practice that involves testing individual units or components of code to ensure their correctness and functionality. The unittest module in Python provides a framework for writing and running unit tests. It offers various features and assertions to help developers create comprehensive test cases.\n",
    "\n",
    "### 1.1. Key components of the unittest module\n",
    "\n",
    "- Test Case: A test case is a subclass of the unittest.TestCase class and represents an individual unit of code to be tested. It typically contains multiple test methods that verify different aspects of the code's behavior.\n",
    "\n",
    "- Test Method: A test method is a method defined within a test case class that performs a specific test on a piece of code. Each test method's name should start with the prefix \"test_\" to be automatically discovered and executed by the unittest test runner.\n",
    "\n",
    "- Assertions: Assertions are statements that check if a given condition is true. The unittest module provides a wide range of assertion methods to verify expected results, compare values, check for exceptions, and more.\n",
    "\n",
    "### 1.2. Writing unit tests with unittest\n",
    "\n",
    "To create unit tests using the unittest module, follow these steps:\n",
    "\n",
    "- Import the unittest module: Begin by importing the unittest module in your test script.\n",
    "\n",
    "- Define a Test Case: Create a subclass of unittest.TestCase and define test methods within it. Each test method should start with the prefix \"test_\" and contain assertions to verify the expected behavior.\n",
    "\n",
    "- Run the Tests: Use the unittest test runner to discover and execute the test methods. This can be done by calling unittest.main() at the end of your test script, or using other methods provided by the unittest module."
   ]
  },
  {
   "cell_type": "code",
   "execution_count": null,
   "id": "a852491e",
   "metadata": {},
   "outputs": [],
   "source": [
    "import unittest\n",
    "\n",
    "# Example code to be tested\n",
    "def add_numbers(a, b):\n",
    "    return a + b\n",
    "\n",
    "# Test case class\n",
    "class TestAddNumbers(unittest.TestCase):\n",
    "\n",
    "    def test_add_numbers(self):\n",
    "        result = add_numbers(2, 3)\n",
    "        self.assertEqual(result, 5)  # Asserts that the result is equal to 5\n",
    "\n",
    "        result = add_numbers(10, -5)\n",
    "        self.assertEqual(result, 5)  # Asserts that the result is equal to 5\n",
    "\n",
    "        result = add_numbers(0, 0)\n",
    "        self.assertEqual(result, 0)  # Asserts that the result is equal to 0\n",
    "\n",
    "if __name__ == '__main__':\n",
    "    unittest.main()"
   ]
  },
  {
   "attachments": {},
   "cell_type": "markdown",
   "id": "4deb2146",
   "metadata": {},
   "source": [
    "In this example, the TestAddNumbers class is a subclass of unittest.TestCase and contains a single test method called test_add_numbers. The test method calls the add_numbers function with different input values and uses the self.assertEqual() assertion to check if the results match the expected values.\n",
    "\n",
    "By running this script, the unittest test runner executes the test methods within the TestAddNumbers class and displays the test results.\n",
    "\n",
    "### 1.3. Benefits of unit testing with unittest\n",
    "\n",
    "- Ensures code correctness: Unit tests help identify and fix bugs early in the development process, ensuring that the code behaves as expected.\n",
    "- Facilitates code refactoring: Unit tests provide confidence when making changes to code, as they quickly identify any regressions introduced during refactoring.\n",
    "- Improves code maintainability: Well-written unit tests serve as documentation and make it easier to understand the intended behavior of the code.\n",
    "- Supports test-driven development (TDD): The unittest module enables developers to follow TDD practices by writing tests before implementing the code.\n",
    "\n",
    "### 1.4. Summary\n",
    "\n",
    "The unittest module is a powerful tool for implementing unit tests in Python. By writing comprehensive test cases, you can enhance the quality and reliability of your code while streamlining the debugging and development process."
   ]
  }
 ],
 "metadata": {
  "jupytext": {
   "cell_metadata_filter": "-all",
   "main_language": "python",
   "notebook_metadata_filter": "-all"
  },
  "language_info": {
   "name": "python"
  }
 },
 "nbformat": 4,
 "nbformat_minor": 5
}
