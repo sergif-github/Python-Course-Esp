{
 "cells": [
  {
   "attachments": {},
   "cell_type": "markdown",
   "id": "934d3db1",
   "metadata": {},
   "source": [
    "# Módulo 3: Declaraciones de flujo de control\n",
    "\n",
    "## Parte 4: Operador ternario\n",
    "\n",
    "El operador ternario, también conocido como expresión condicional, proporciona una forma concisa de escribir declaraciones condicionales simples en Python. Le permite evaluar una condición y devolver un valor basado en el resultado de la condición.\n",
    "\n",
    "Aquí hay un ejemplo para ilustrar el uso del operador ternario:"
   ]
  },
  {
   "cell_type": "code",
   "execution_count": null,
   "id": "d2dd78d1",
   "metadata": {},
   "outputs": [],
   "source": [
    "numero = 10\n",
    "\n",
    "resultado = \"Positivo\" if numero > 0 else \"No positivo\"\n",
    "print(resultado)"
   ]
  },
  {
   "attachments": {},
   "cell_type": "markdown",
   "id": "a6764e7a",
   "metadata": {},
   "source": [
    "En este ejemplo, el operador ternario se usa para asignar un valor a la variable resultado basado en la condición num > 0. Si la condición es Verdadera, el valor \"Positivo\" se asigna a resultado; en caso contrario, se asigna el valor \"No positivo\". Luego se imprime el valor del resultado, que será \"Positivo\" o \"No positivo\" según el valor de num.\n",
    "\n",
    "El operador ternario se puede usar para simplificar el código y hacerlo más legible en los casos en que necesite asignar un valor basado en una condición simple. Sin embargo, es importante usarlo con prudencia y evitar anidar múltiples operadores ternarios, ya que puede hacer que el código sea menos comprensible.\n",
    "\n",
    "### Resumen\n",
    "\n",
    "En esta parte, aprendiste sobre el operador ternario en Python. El operador ternario proporciona una forma concisa de escribir declaraciones condicionales simples y asignar un valor basado en una condición. Puede hacer que el código sea más legible y compacto en ciertas situaciones. Sin embargo, es importante usarlo con moderación y evitar el anidamiento excesivo para mantener la claridad del código."
   ]
  }
 ],
 "metadata": {
  "jupytext": {
   "cell_metadata_filter": "-all",
   "main_language": "python",
   "notebook_metadata_filter": "-all"
  },
  "kernelspec": {
   "display_name": "Python 3",
   "language": "python",
   "name": "python3"
  },
  "language_info": {
   "codemirror_mode": {
    "name": "ipython",
    "version": 3
   },
   "file_extension": ".py",
   "mimetype": "text/x-python",
   "name": "python",
   "nbconvert_exporter": "python",
   "pygments_lexer": "ipython3",
   "version": "3.8.10"
  }
 },
 "nbformat": 4,
 "nbformat_minor": 5
}
