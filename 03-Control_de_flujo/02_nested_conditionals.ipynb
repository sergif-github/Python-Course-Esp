{
 "cells": [
  {
   "attachments": {},
   "cell_type": "markdown",
   "id": "bb70469d",
   "metadata": {},
   "source": [
    "# Módulo 3: Declaraciones de control de flujo\n",
    "\n",
    "## Parte 2: Condicionales anidados\n",
    "\n",
    "Los condicionales anidados son declaraciones condicionales que se colocan dentro de otras declaraciones condicionales. Le permiten verificar múltiples condiciones y ejecutar diferentes bloques de código en función de esas condiciones.\n",
    "\n",
    "Aquí hay un ejemplo de condicionales anidados:"
   ]
  },
  {
   "cell_type": "code",
   "execution_count": null,
   "id": "57b6f906",
   "metadata": {},
   "outputs": [],
   "source": [
    "numero = 10\n",
    "\n",
    "if numero > 0:\n",
    "    print(\"El numero es positivo\") \n",
    "    if numero % 2 == 0:\n",
    "        print(\"El numero es par\")\n",
    "    else:\n",
    "        print(\"El numero es impar\")\n",
    "else:\n",
    "    print(\"El numero no es positivo\")"
   ]
  },
  {
   "attachments": {},
   "cell_type": "markdown",
   "id": "7187d221",
   "metadata": {},
   "source": [
    "En este ejemplo, la declaración if externa verifica si num es mayor que 0. Si la condición es verdadera, imprime \"Número es positivo\". Luego, hay una declaración if-else anidada dentro del primer bloque de código. Comprueba si num es divisible por 2 para determinar si es par o impar.\n",
    "\n",
    "Los condicionales anidados pueden tener múltiples niveles dependiendo de la complejidad de las condiciones que necesita verificar. Es importante sangrar correctamente los bloques de código para indicar la jerarquía de los condicionales.\n",
    "\n",
    "### Resumen\n",
    "\n",
    "En esta parte, aprendió sobre los condicionales anidados en Python. Los condicionales anidados le permiten colocar declaraciones condicionales dentro de otras declaraciones condicionales, lo que le permite verificar varias condiciones y ejecutar diferentes bloques de código en función de esas condiciones. Asegúrese de sangrar correctamente los bloques de código para indicar la jerarquía de los condicionales y mantener la legibilidad."
   ]
  }
 ],
 "metadata": {
  "jupytext": {
   "cell_metadata_filter": "-all",
   "main_language": "python",
   "notebook_metadata_filter": "-all"
  },
  "kernelspec": {
   "display_name": "Python 3",
   "language": "python",
   "name": "python3"
  },
  "language_info": {
   "codemirror_mode": {
    "name": "ipython",
    "version": 3
   },
   "file_extension": ".py",
   "mimetype": "text/x-python",
   "name": "python",
   "nbconvert_exporter": "python",
   "pygments_lexer": "ipython3",
   "version": "3.8.10"
  }
 },
 "nbformat": 4,
 "nbformat_minor": 5
}
