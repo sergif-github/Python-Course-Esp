{
 "cells": [
  {
   "attachments": {},
   "cell_type": "markdown",
   "id": "28a3f096",
   "metadata": {},
   "source": [
    "# Módulo 3: Declaraciones de control de flujo\n",
    "\n",
    "## Parte 3: Operadores lógicos en condicionales\n",
    "\n",
    "Los operadores lógicos se utilizan para combinar múltiples condiciones en declaraciones condicionales. En Python, los operadores lógicos and, or y not se usan comúnmente para realizar operaciones lógicas en valores booleanos. Aquí hay una descripción general de cómo funcionan estos operadores en condicionales:\n",
    "\n",
    "- El operador and devuelve True si ambas condiciones a su izquierda y derecha son True.\n",
    "- El operador or devuelve True si al menos una de las condiciones a su izquierda o derecha es True.\n",
    "- El operador not devuelve la negación de una condición. Si la condición es True, no devuelve False, y viceversa.\n",
    "\n",
    "Los operadores lógicos se utilizan a menudo para crear condiciones más complejas mediante la combinación de múltiples condiciones simples.\n",
    "\n",
    "Aquí hay un ejemplo que demuestra el uso de operadores lógicos en condicionales:"
   ]
  },
  {
   "cell_type": "code",
   "execution_count": null,
   "id": "b49e2a64",
   "metadata": {},
   "outputs": [],
   "source": [
    "edad = 25\n",
    "pais = \"Estados Unidos\"\n",
    "\n",
    "if edad >= 18 and pais == \"USA\":\n",
    "     print(\"Usted es elegible para votar en los EE. UU.\")\n",
    "else:\n",
    "     print(\"Usted no es elegible para votar en los EE. UU.\")"
   ]
  },
  {
   "attachments": {},
   "cell_type": "markdown",
   "id": "f94a3095",
   "metadata": {},
   "source": [
    "En este ejemplo, el operador y se usa para combinar dos condiciones: edad >= 18 and país == \"EE.UU.\". Si ambas condiciones son verdaderas, se ejecuta el bloque de código dentro de la declaración if y aparece el mensaje \"Usted es elegible para votar en los EE. UU.\". está impreso. De lo contrario, se ejecuta el bloque de código dentro de la declaración else y aparece el mensaje \"Usted no es elegible para votar en los EE. UU.\".\n",
    "\n",
    "También puede usar el operador o para crear condiciones en las que al menos una de las condiciones debe ser verdadera.\n",
    "\n",
    "Aquí hay un ejemplo:"
   ]
  },
  {
   "cell_type": "code",
   "execution_count": null,
   "id": "fe303755",
   "metadata": {},
   "outputs": [],
   "source": [
    "puntuacion = 85\n",
    "\n",
    "if puntuacion >= 90 or puntuacion <= 60:\n",
    "     print(\"Aprobaste el examen\")\n",
    "else:\n",
    "     print(\"No aprobaste el examen\")"
   ]
  },
  {
   "attachments": {},
   "cell_type": "markdown",
   "id": "4ffb7376",
   "metadata": {},
   "source": [
    "En este ejemplo, el operador o se usa para combinar dos condiciones: puntuacion >= 90 or puntuacion <= 60. Si alguna de las condiciones es verdadera, se ejecuta el bloque de código dentro de la instrucción if y aparece el mensaje \"Aprobaste el examen\". De lo contrario, se ejecuta el bloque de código dentro de la instrucción else y aparece el mensaje \"No aprobaste el examen\".\n",
    "\n",
    "El operador not puede usarse para negar una condición.\n",
    "\n",
    "Aquí hay un ejemplo:"
   ]
  },
  {
   "cell_type": "code",
   "execution_count": null,
   "id": "8c334693",
   "metadata": {},
   "outputs": [],
   "source": [
    "esta_loggeado = False\n",
    "\n",
    "if not(esta_loggeado):\n",
    "     print(\"Inicie sesión para continuar\")"
   ]
  },
  {
   "attachments": {},
   "cell_type": "markdown",
   "id": "1d0b0f2b",
   "metadata": {},
   "source": [
    "En este ejemplo, el operador not se usa para comprobar si esta_loggeado es falso. Si la condición es verdadera, se ejecuta el bloque de código dentro de la instrucción if y aparece el mensaje \"Inicie sesión para continuar\".\n",
    "\n",
    "### Resumen\n",
    "\n",
    "En esta parte, aprendiste sobre el uso de operadores lógicos (and, or y not) en condicionales. Los operadores lógicos le permiten combinar varias condiciones y crear condiciones más complejas. Use y para verificar si ambas condiciones son verdaderas, o para verificar si al menos una condición es verdadera y no para negar una condición."
   ]
  }
 ],
 "metadata": {
  "jupytext": {
   "cell_metadata_filter": "-all",
   "main_language": "python",
   "notebook_metadata_filter": "-all"
  },
  "kernelspec": {
   "display_name": "Python 3",
   "language": "python",
   "name": "python3"
  },
  "language_info": {
   "codemirror_mode": {
    "name": "ipython",
    "version": 3
   },
   "file_extension": ".py",
   "mimetype": "text/x-python",
   "name": "python",
   "nbconvert_exporter": "python",
   "pygments_lexer": "ipython3",
   "version": "3.8.10"
  }
 },
 "nbformat": 4,
 "nbformat_minor": 5
}
