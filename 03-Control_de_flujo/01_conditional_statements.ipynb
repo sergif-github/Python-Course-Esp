{
 "cells": [
  {
   "attachments": {},
   "cell_type": "markdown",
   "id": "546a039f",
   "metadata": {},
   "source": [
    "# Módulo 3: Declaraciones de control de flujo\n",
    "\n",
    "## Parte 1: Declaraciones condicionales (if, else, elif)\n",
    "\n",
    "Las declaraciones condicionales se utilizan en Python para ejecutar diferentes bloques de código en función de ciertas condiciones. Las declaraciones condicionales más comunes en Python son las declaraciones if, else y elif.\n",
    "\n",
    "### 1.1. La sentencia if\n",
    "\n",
    "La declaración if se usa para verificar una condición y ejecutar un bloque de código si la condición es verdadera.\n",
    "\n",
    "Esta es la sintaxis básica de la sentencia if:"
   ]
  },
  {
   "cell_type": "code",
   "execution_count": null,
   "id": "3d0e4dd4",
   "metadata": {},
   "outputs": [],
   "source": [
    "condicion = 1 == 1\n",
    "if condicion:\n",
    "     print(\"Código a ejecutar si la condición es verdadera\")"
   ]
  },
  {
   "attachments": {},
   "cell_type": "markdown",
   "id": "ea963d80",
   "metadata": {},
   "source": [
    "Ejemplo:"
   ]
  },
  {
   "cell_type": "code",
   "execution_count": null,
   "id": "807a1af0",
   "metadata": {},
   "outputs": [],
   "source": [
    "edad = 20\n",
    "\n",
    "if edad >= 18:\n",
    "     print(\"Eres mayor de edad\")"
   ]
  },
  {
   "attachments": {},
   "cell_type": "markdown",
   "id": "dc9433b1",
   "metadata": {},
   "source": [
    "En este ejemplo, la instrucción if verifica si la variable edad es mayor o igual a 18. Si la condición es verdadera, se ejecuta el bloque de código dentro de la instrucción if y aparece el mensaje \"Eres mayor de edad\".\n",
    "\n",
    "### 1.2. La declaración else\n",
    "\n",
    "La declaración else se usa para especificar un bloque de código que se ejecutará si la condición en la declaración if es falsa.\n",
    "\n",
    "Esta es la sintaxis básica de la sentencia else:"
   ]
  },
  {
   "cell_type": "code",
   "execution_count": null,
   "id": "c7cb6a4f",
   "metadata": {},
   "outputs": [],
   "source": [
    "condicion = 1 == 0\n",
    "if condicion:\n",
    "     print(\"Código a ejecutar si la condición es verdadera\")\n",
    "else:\n",
    "     print(\"Código a ejecutar si la condición es falsa\")"
   ]
  },
  {
   "attachments": {},
   "cell_type": "markdown",
   "id": "6f01362f",
   "metadata": {},
   "source": [
    "Ejemplo:"
   ]
  },
  {
   "cell_type": "code",
   "execution_count": null,
   "id": "b2b4b803",
   "metadata": {},
   "outputs": [],
   "source": [
    "edad = 15\n",
    "\n",
    "if edad >= 18:\n",
    "     print(\"Eres mayor de edad\")\n",
    "else:\n",
    "     print(\"Eres menor de edad\")"
   ]
  },
  {
   "attachments": {},
   "cell_type": "markdown",
   "id": "9ccc51dd",
   "metadata": {},
   "source": [
    "En este ejemplo, si la condición edad >= 18 es falsa, se ejecuta el bloque de código dentro de la instrucción else y aparece el mensaje \"Eres menor de edad\".\n",
    "\n",
    "### 1.3. La declaración de elif\n",
    "\n",
    "La declaración elif es la abreviatura de \"else if\" y se usa para especificar condiciones adicionales para verificar si la declaración if anterior es falsa.\n",
    "\n",
    "Aquí está la sintaxis básica de la instrucción elif:"
   ]
  },
  {
   "cell_type": "code",
   "execution_count": null,
   "id": "2429ef1e",
   "metadata": {},
   "outputs": [],
   "source": [
    "condicion = 1 == 0\n",
    "if condicion:\n",
    "     print(\"Código a ejecutar si la condición es verdadera\")\n",
    "elif not(condicion):\n",
    "     print(\"Código a ejecutar si la condición es falsa\")"
   ]
  },
  {
   "attachments": {},
   "cell_type": "markdown",
   "id": "a29f9d74",
   "metadata": {},
   "source": [
    "Ejemplo:"
   ]
  },
  {
   "cell_type": "code",
   "execution_count": null,
   "id": "150dfb0c",
   "metadata": {},
   "outputs": [],
   "source": [
    "edad = 25\n",
    "\n",
    "if edad < 18:\n",
    "     print(\"Eres menor de edad\")\n",
    "elif edad >= 18 and edad < 65:\n",
    "     print(\"Eres mayor de edad\")\n",
    "else:\n",
    "     print(\"Eres una persona de la tercera edad\")"
   ]
  },
  {
   "attachments": {},
   "cell_type": "markdown",
   "id": "31171627",
   "metadata": {},
   "source": [
    "En este ejemplo, la declaración elif verifica si la edad está entre 18 y 65 años. Si la primera condición es falsa y la segunda condición es verdadera, se ejecuta el bloque de código dentro de la declaración elif y aparece el mensaje \"Eres un adulto\".\n",
    "\n",
    "### 1.4. Resumen\n",
    "\n",
    "En esta parte, aprendió sobre las declaraciones condicionales en Python, incluidas las declaraciones if, else y elif. Las declaraciones condicionales le permiten ejecutar diferentes bloques de código en función de ciertas condiciones. Use la declaración if para verificar una condición, la declaración else para especificar el código cuando la condición es falsa y la declaración elif para verificar condiciones adicionales si la declaración if anterior es falsa."
   ]
  }
 ],
 "metadata": {
  "jupytext": {
   "cell_metadata_filter": "-all",
   "main_language": "python",
   "notebook_metadata_filter": "-all"
  },
  "kernelspec": {
   "display_name": "Python 3",
   "language": "python",
   "name": "python3"
  },
  "language_info": {
   "codemirror_mode": {
    "name": "ipython",
    "version": 3
   },
   "file_extension": ".py",
   "mimetype": "text/x-python",
   "name": "python",
   "nbconvert_exporter": "python",
   "pygments_lexer": "ipython3",
   "version": "3.8.10"
  }
 },
 "nbformat": 4,
 "nbformat_minor": 5
}
