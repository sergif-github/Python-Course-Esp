{
 "cells": [
  {
   "attachments": {},
   "cell_type": "markdown",
   "metadata": {},
   "source": [
    "# Módulo 3: Declaraciones de flujo de control\n",
    "\n",
    "## Parte 6: Soluciones\n",
    "\n",
    "### Ejercicio 1\n",
    "Escriba un programa en Python que le pida al usuario que ingrese su edad. Si la edad es mayor o igual a 18, muestra \"Eres elegible para votar\". De lo contrario, muestre \"Usted no es elegible para votar\"."
   ]
  },
  {
   "cell_type": "code",
   "execution_count": null,
   "metadata": {},
   "outputs": [],
   "source": [
    "edad = int(input(\"Ingrese su edad: \"))\n",
    "if edad >= 18:\n",
    "     print(\"Usted es elegible para votar.\")\n",
    "else:\n",
    "     print(\"Usted no es elegible para votar.\")"
   ]
  },
  {
   "attachments": {},
   "cell_type": "markdown",
   "metadata": {},
   "source": [
    "### Ejercicio 2\n",
    "Escriba un programa en Python que le pida al usuario que ingrese un numero. Si el numero es positivo, muestra \"El numero es positivo\". Si el numero es negativo, muestra \"El numero es negativo\". Si el numero es cero, muestra \"El numero es cero\"."
   ]
  },
  {
   "cell_type": "code",
   "execution_count": null,
   "metadata": {},
   "outputs": [],
   "source": [
    "numero = float(input(\"Ingrese un numero: \"))\n",
    "if numero > 0:\n",
    "     print(\"El numero es positivo\")\n",
    "elif numero < 0:\n",
    "     print(\"El numero es negativo\")\n",
    "else:\n",
    "     print(\"El numero es cero\")"
   ]
  },
  {
   "attachments": {},
   "cell_type": "markdown",
   "metadata": {},
   "source": [
    "### Ejercicio 3\n",
    "Escriba un programa en Python que le pida al usuario que ingrese dos numeros. Compare los numeros y muestre el numero mayor con el mensaje \"El numero mayor es: [numero mayor]\"."
   ]
  },
  {
   "cell_type": "code",
   "execution_count": null,
   "metadata": {},
   "outputs": [],
   "source": [
    "num1 = float(input(\"Ingrese el primer numero: \"))\n",
    "num2 = float(input(\"Ingrese el segundo número: \"))\n",
    "if num1 > num2:\n",
    "     print(\"El numero mayor es:\", num1)\n",
    "else:\n",
    "     print(\"El numero mayor es:\", num2)"
   ]
  },
  {
   "attachments": {},
   "cell_type": "markdown",
   "metadata": {},
   "source": [
    "### Ejercicio 4\n",
    "Escriba un programa que solicite al usuario que ingrese dos numeros y muestre el máximo de los dos numeros usando el operador ternario."
   ]
  },
  {
   "cell_type": "code",
   "execution_count": null,
   "metadata": {},
   "outputs": [],
   "source": [
    "num1 = int(input(\"Ingrese el primer numero: \"))\n",
    "num2 = int(input(\"Ingrese el segundo numero: \"))\n",
    "maximo = num1 if num1 > num2 else num2\n",
    "print(\"El numero maximo es:\", maximo)"
   ]
  },
  {
   "attachments": {},
   "cell_type": "markdown",
   "metadata": {},
   "source": [
    "### Ejercicio 5\n",
    "Escriba un programa en Python que le pida al usuario que ingrese una calificación (un numero entero entre 0 y 100). Use condicionales anidados para determinar la calificación con letras en función de los siguientes criterios:\n",
    "Si la calificación es 90 o superior, muestre \"A\"\n",
    "Si la calificación está entre 80 y 89, mostrar \"B\"\n",
    "Si la calificación está entre 70 y 79, mostrar \"C\"\n",
    "Si la calificación está entre 60 y 69, mostrar \"D\"\n",
    "Si la calificación es inferior a 60, muestra \"F\""
   ]
  },
  {
   "cell_type": "code",
   "execution_count": null,
   "metadata": {},
   "outputs": [],
   "source": [
    "calificacion = int(input(\"Ingrese su calificación: \"))\n",
    "if calificacion >= 90:\n",
    "     print(\"A\")\n",
    "elif calificacion >= 80:\n",
    "     print(\"B\")\n",
    "elif calificacion >= 70:\n",
    "     print(\"C\")\n",
    "elif calificacion >= 60:\n",
    "     print(\"D\")\n",
    "else:\n",
    "     print(\"F\")"
   ]
  },
  {
   "attachments": {},
   "cell_type": "markdown",
   "metadata": {},
   "source": [
    "### Ejercicio 6\n",
    "Escriba un programa en Python que le pida al usuario que ingrese un numero. Verifique si el numero es divisible por 2 y 3 usando operadores lógicos en la declaración condicional. Si es verdadero, muestra \"El numero es divisible por 2 y 3\". Si es falso, muestra \"El numero no es divisible por 2 y 3\"."
   ]
  },
  {
   "cell_type": "code",
   "execution_count": null,
   "metadata": {},
   "outputs": [],
   "source": [
    "numero = int(input(\"Ingrese un numero: \"))\n",
    "if numero % 2 == 0 and numero % 3 == 0:\n",
    "     print(\"El numero es divisible por 2 y 3\")\n",
    "else:\n",
    "     print(\"El numero no es divisible por 2 y 3\")"
   ]
  },
  {
   "attachments": {},
   "cell_type": "markdown",
   "metadata": {},
   "source": [
    "### Ejercicio 7\n",
    "Escriba un programa que solicite al usuario que ingrese un numero. Si el numero es positivo, el programa debe comprobar si es divisible por 2. Si es divisible por 2, el programa debe mostrar un mensaje indicando que es un numero par positivo. Si no es divisible por 2, el programa debería mostrar un mensaje indicando que es un numero impar positivo. Si el numero es negativo, el programa debería mostrar un mensaje indicando que es un numero negativo."
   ]
  },
  {
   "cell_type": "code",
   "execution_count": null,
   "metadata": {},
   "outputs": [],
   "source": [
    "numero = int(input(\"Ingrese un numero: \"))\n",
    "if numero > 0:\n",
    "     if numero % 2 == 0:\n",
    "         print(\"Es un numero par positivo\")\n",
    "     else:\n",
    "         print(\"Es un numero impar positivo\")\n",
    "elif numero < 0:\n",
    "     print(\"Es un numero negativo\")\n",
    "else:\n",
    "     print(\"Es cero\")"
   ]
  },
  {
   "attachments": {},
   "cell_type": "markdown",
   "metadata": {},
   "source": [
    "### Ejercicio 8\n",
    "Escriba un programa que solicite al usuario que ingrese un numero y muestre si es positivo o negativo usando el operador ternario."
   ]
  },
  {
   "cell_type": "code",
   "execution_count": null,
   "metadata": {},
   "outputs": [],
   "source": [
    "numero = int(input(\"Ingrese un numero: \"))\n",
    "resultado = \"Positivo\" if numero >= 0 else \"Negativo\"\n",
    "print(\"El numero es:\", resultado)"
   ]
  },
  {
   "attachments": {},
   "cell_type": "markdown",
   "metadata": {},
   "source": [
    "### Ejercicio 9\n",
    "Escriba un programa en Python que le pida al usuario que ingrese su edad. Utilice el operador ternario para verificar si la edad es mayor o igual a 18. Si es verdadero, muestre \"Eres un adulto\". Si es falso, muestra \"Eres menor de edad\"."
   ]
  },
  {
   "cell_type": "code",
   "execution_count": null,
   "metadata": {},
   "outputs": [],
   "source": [
    "edad = int(input(\"Ingrese su edad: \"))\n",
    "estado = \"Eres un adulto\" if edad >= 18 else \"Eres menor de edad\"\n",
    "print(estado)"
   ]
  },
  {
   "attachments": {},
   "cell_type": "markdown",
   "metadata": {},
   "source": [
    "### Ejercicio 10\n",
    "Escriba un programa que solicite al usuario que ingrese su edad. Según la edad ingresada, el programa debe mostrar un mensaje indicando si la persona es un niño, un adolescente, un adulto o una persona de la tercera edad."
   ]
  },
  {
   "cell_type": "code",
   "execution_count": null,
   "metadata": {},
   "outputs": [],
   "source": [
    "edad = int(input(\"Ingrese su edad: \"))\n",
    "\n",
    "if edad < 0:\n",
    "     print(\"Edad ingresada no válida\")\n",
    "elif edad < 18:\n",
    "     if edad < 13:\n",
    "         print(\"Eres un niño\")\n",
    "     else:\n",
    "         print(\"Eres un adolescente\")\n",
    "elif edad < 65:\n",
    "     print(\"Eres mayor de edad\")\n",
    "else:\n",
    "     print(\"Eres una persona de la tercera edad\")"
   ]
  }
 ],
 "metadata": {
  "kernelspec": {
   "display_name": "Python 3",
   "language": "python",
   "name": "python3"
  },
  "language_info": {
   "codemirror_mode": {
    "name": "ipython",
    "version": 3
   },
   "file_extension": ".py",
   "mimetype": "text/x-python",
   "name": "python",
   "nbconvert_exporter": "python",
   "pygments_lexer": "ipython3",
   "version": "3.8.10"
  },
  "orig_nbformat": 4
 },
 "nbformat": 4,
 "nbformat_minor": 2
}
