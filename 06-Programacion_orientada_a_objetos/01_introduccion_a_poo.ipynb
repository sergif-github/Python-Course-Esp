{
 "cells": [
  {
   "attachments": {},
   "cell_type": "markdown",
   "id": "4d612bb8",
   "metadata": {},
   "source": [
    "# Módulo 6: Programación orientada a objetos\n",
    "\n",
    "## Parte 1: Introducción a la programación orientada a objetos\n",
    "\n",
    "### 1.1. ¿Qué es la programación orientada a objetos (POO)?\n",
    "\n",
    "La programación orientada a objetos (POO) es un paradigma de programación que gira en torno al concepto de objetos. Un objeto es una instancia de una clase, que encapsula datos (atributos) y comportamientos (métodos) en una sola entidad. OOP proporciona una forma de estructurar y organizar el código mediante el modelado de entidades del mundo real o conceptos abstractos como objetos.\n",
    "\n",
    "### 1.2. Comprensión de objetos, clases e instancias\n",
    "\n",
    "En OOP, un objeto es una instancia de una clase. Una clase define el modelo o plantilla para crear objetos. Especifica los atributos (datos) y comportamientos (métodos) que poseerán los objetos de esa clase.\n",
    "\n",
    "Aquí hay un ejemplo de una clase simple en Python:"
   ]
  },
  {
   "cell_type": "code",
   "execution_count": null,
   "id": "35df952e",
   "metadata": {},
   "outputs": [],
   "source": [
    "class Coche:\n",
    "    def __init__(self, marca, modelo, año):\n",
    "        self.marca = marca\n",
    "        self.modelo = modelo\n",
    "        self.año = año\n",
    "    \n",
    "    def arrancar_motor(auto):\n",
    "        print(\"El motor del auto esta arrancando\")\n",
    "\n",
    "# Creando una instancia de la clase Car\n",
    "mi_coche = Coche(\"Honda\", \"Civic\", 2022)\n",
    "\n",
    "# Acceso a atributos y métodos de llamada\n",
    "print(mi_coche.marca) # Salida: Honda\n",
    "print(mi_coche.modelo) # Salida: Civic\n",
    "print(mi_coche.año) # Salida: 2022\n",
    "mi_coche.arrancar_motor() # Salida: El motor del coche está arrancando."
   ]
  },
  {
   "attachments": {},
   "cell_type": "markdown",
   "id": "967c2782",
   "metadata": {},
   "source": [
    "En este ejemplo, Coche es la clase y mi_coche es una instancia de la clase Coche. El método __init__ es un método especial llamado constructor, que se usa para inicializar los atributos del objeto. El método arrancar_motor es un comportamiento asociado con la clase Car.\n",
    "\n",
    "### 1.3. Conceptos clave: encapsulación, herencia y polimorfismo\n",
    "\n",
    "OOP gira en torno a tres conceptos clave:\n",
    "\n",
    "- Encapsulación\n",
    "\n",
    "     La encapsulación es la práctica de agrupar datos y comportamientos relacionados dentro de una clase. Permite ocultar información, asegurando que el estado interno de un objeto no sea directamente accesible desde el exterior, promoviendo la integridad y seguridad de los datos.\n",
    "- Herencia\n",
    "\n",
    "     La herencia es un mecanismo que permite crear nuevas clases (clases derivadas) basadas en clases existentes (clases base o padres). Las clases derivadas heredan los atributos y métodos de sus clases principales, lo que permite la reutilización del código y establece una relación jerárquica entre clases.\n",
    "- Polimorfismo\n",
    "\n",
    "     El polimorfismo permite tratar objetos de diferentes clases como instancias de una clase base común. Permite que el mismo método se comporte de manera diferente según el objeto específico al que se llama. El polimorfismo promueve la flexibilidad, la extensibilidad y la modularidad del código.\n",
    "\n",
    "### 1.4. Resumen\n",
    "\n",
    "OOP se usa ampliamente en el desarrollo de software debido a sus beneficios en la organización del código, la modularidad y la capacidad de mantenimiento. Permite a los desarrolladores abordar problemas complejos dividiéndolos en unidades (objetos) más pequeñas y manejables. OOP promueve la reutilización de código, reduce su duplicación y proporciona una estructura clara para la colaboración entre los miembros del equipo.\n",
    "\n",
    "Comprender la programación orientada a objetos es esencial para el desarrollo de software, ya que proporciona una forma de abordar problemas complejos, promueve la modularidad y la reutilización del código, y mejora la colaboración entre los desarrolladores. OOP sirve como base para muchos lenguajes y marcos de programación, por lo que es una habilidad vital para los desarrolladores."
   ]
  }
 ],
 "metadata": {
  "jupytext": {
   "cell_metadata_filter": "-all",
   "main_language": "python",
   "notebook_metadata_filter": "-all"
  },
  "kernelspec": {
   "display_name": "Python 3",
   "language": "python",
   "name": "python3"
  },
  "language_info": {
   "codemirror_mode": {
    "name": "ipython",
    "version": 3
   },
   "file_extension": ".py",
   "mimetype": "text/x-python",
   "name": "python",
   "nbconvert_exporter": "python",
   "pygments_lexer": "ipython3",
   "version": "3.8.10"
  }
 },
 "nbformat": 4,
 "nbformat_minor": 5
}
