{
 "cells": [
  {
   "attachments": {},
   "cell_type": "markdown",
   "metadata": {},
   "source": [
    "# Módulo 6: Programación orientada a objetos\n",
    "\n",
    "## Parte 7: Soluciones\n",
    "\n",
    "### Ejercicio 1\n",
    "Cree una jerarquía de formas que consista en una class base denominada Forma y dos classs secundarias denominadas Rectángulo y Círculo. La class Forma debe tener un método abstracto de calcular_área () que debe ser anulado por las classs secundarias. La class Rectángulo debe tener atributos para largo y ancho, mientras que la class Círculo debe tener un atributo para radio. Implemente los métodos necesarios y demuestre el polimorfismo calculando las áreas de un rectángulo y un círculo."
   ]
  },
  {
   "cell_type": "code",
   "execution_count": null,
   "metadata": {},
   "outputs": [],
   "source": [
    "from abc import ABC, abstractmethod\n",
    "\n",
    "class Forma(ABC):\n",
    "    @abstractmethod\n",
    "    def calcular_area(self):\n",
    "        pass\n",
    "\n",
    "class Rectangulo(Forma):\n",
    "    def __init__(self, largo, ancho):\n",
    "        self.largo = largo\n",
    "        self.ancho = ancho\n",
    "\n",
    "    def calcular_area(self):\n",
    "        return self.largo * self.ancho\n",
    "\n",
    "class Circulo(Forma):\n",
    "    def __init__(self, radio):\n",
    "        self.radio = radio\n",
    "\n",
    "    def calcular_area(self):\n",
    "        return 3.14 * self.radio**2\n",
    "\n",
    "rectangulo = Rectangulo (4, 5)\n",
    "circulo = Circulo(3)\n",
    "\n",
    "print(rectangulo.calcular_area()) # Salida: 20\n",
    "print(circulo.calcular_area()) # Salida: 28.26"
   ]
  },
  {
   "attachments": {},
   "cell_type": "markdown",
   "metadata": {},
   "source": [
    "### Ejercicio 2\n",
    "Cree una jerarquía de animales que consista en una class base llamada Animal y dos classs secundarias llamadas Perro y Gato. La class Animal debe tener un método abstracto hacer_sonido() que debe ser anulado por las classs secundarias. Implementa los métodos necesarios y demuestra el polimorfismo haciendo que diferentes animales (un perro y un gato) emitan sus respectivos sonidos."
   ]
  },
  {
   "cell_type": "code",
   "execution_count": null,
   "metadata": {},
   "outputs": [],
   "source": [
    "from abc import ABC, abstractmethod\n",
    "\n",
    "class Animal(ABC):\n",
    "    @abstractmethod\n",
    "    def hacer_sonido(self):\n",
    "        pass\n",
    "\n",
    "class Perro(Animal):\n",
    "    def hacer_sonido(self):\n",
    "        print(\"¡El perro ladra!\")\n",
    "\n",
    "class Gato(Animal):\n",
    "    def hacer_sonido(self):\n",
    "        print(\"¡Gato maulla!\")\n",
    "\n",
    "perro = Perro()\n",
    "gato = Gato()\n",
    "\n",
    "perro.hacer_sonido() # Salida: ¡El perro ladra!\n",
    "gato.hacer_sonido() # Salida: ¡Gato maúlla!"
   ]
  },
  {
   "attachments": {},
   "cell_type": "markdown",
   "metadata": {},
   "source": [
    "### Ejercicio 3\n",
    "Cree una jerarquía de empleados que consista en una class base denominada Empleado y dos classs secundarias denominadas Administrador y Desarrollador. La class Empleado debe tener atributos para nombre y salario, así como métodos para obtener y establecer el salario. La class Gerente debe tener un atributo adicional para el departamento, mientras que la class Desarrollador debe tener un atributo adicional para el lenguaje de programación. Implemente los métodos necesarios y demuestre polimorfismo, herencia y encapsulación creando instancias de un administrador y un desarrollador y accediendo a sus atributos y métodos."
   ]
  },
  {
   "cell_type": "code",
   "execution_count": null,
   "metadata": {},
   "outputs": [],
   "source": [
    "class Empleado:\n",
    "    def __init__(self, nombre, salario):\n",
    "        self.nombre = nombre\n",
    "        self._salario = salario\n",
    "\n",
    "    def obtener_salario(self):\n",
    "        return self._salario\n",
    "\n",
    "    def set_salary(self, new_salary):\n",
    "        self._salario = new_salary\n",
    "\n",
    "    def mostrar_informacion(self):\n",
    "        print(f\"Nombre: {self.nombre}\")\n",
    "        print(f\"Salario: {self._salario}\")\n",
    "\n",
    "class Administrador(Empleado):\n",
    "    def __init__(self, nombre, salario, departamento):\n",
    "        super().__init__(nombre, salario)\n",
    "        self.departamento = departamento\n",
    "\n",
    "    def mostrar_informacion(self):\n",
    "        super().mostrar_informacion()\n",
    "        print(f\"Departamento: {self.departamento}\")\n",
    "\n",
    "class Desarrollador(Empleado):\n",
    "    def __init__(self, nombre, salario, lenguaje_programacion):\n",
    "        super().__init__(nombre, salario)\n",
    "        self.lenguaje_programacion = lenguaje_programacion\n",
    "\n",
    "    def mostrar_informacion(self):\n",
    "        super().mostrar_informacion()\n",
    "        print(f\"Lenguaje de programación: {self.lenguaje_programacion}\")\n",
    "\n",
    "# Ejemplo de polimorfismo\n",
    "def print_informacion_empleado(empleado):\n",
    "    empleado.mostrar_informacion()\n",
    "\n",
    "gerente = Administrador(\"Juan\", 5000, \"TI\")\n",
    "desarrollador = Desarrollador(\"Alicia\", 4000, \"Python\")\n",
    "\n",
    "print_informacion_empleado(gerente) # Salida: Nombre: John, Salario: 5000, Departamento: TI\n",
    "print_informacion_empleado(desarrollador) # Salida: Nombre: Alice, Salario: 4000, Lenguaje de programación: Python"
   ]
  }
 ],
 "metadata": {
  "kernelspec": {
   "display_name": "Python 3",
   "language": "python",
   "name": "python3"
  },
  "language_info": {
   "codemirror_mode": {
    "name": "ipython",
    "version": 3
   },
   "file_extension": ".py",
   "mimetype": "text/x-python",
   "name": "python",
   "nbconvert_exporter": "python",
   "pygments_lexer": "ipython3",
   "version": "3.8.10"
  },
  "orig_nbformat": 4
 },
 "nbformat": 4,
 "nbformat_minor": 2
}
