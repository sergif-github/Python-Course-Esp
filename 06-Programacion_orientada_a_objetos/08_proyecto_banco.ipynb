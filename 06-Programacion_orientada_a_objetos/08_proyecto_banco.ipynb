{
 "cells": [
  {
   "attachments": {},
   "cell_type": "markdown",
   "metadata": {},
   "source": [
    "# Módulo 6: Programación orientada a objetos\n",
    "\n",
    "## Parte 9: Proyecto, cuenta bancaria\n",
    "\n",
    "Descripción:\n",
    "Cree un programa que simule un sistema básico de gestión de cuentas bancarias utilizando principios de programación orientada a objetos. El programa debe permitir al usuario crear múltiples cuentas bancarias, realizar transacciones como depósitos y retiros y mostrar los detalles de la cuenta.\n",
    "\n",
    "Requisitos:\n",
    "\n",
    "- Cree una clase BankAccount que represente una cuenta bancaria. La clase debe tener atributos como el número de cuenta, el nombre del titular de la cuenta y el saldo.\n",
    "- Implementar métodos en la clase BankAccount para realizar transacciones, como depositar y retirar fondos.\n",
    "- Implemente el método de visualización de detalles de la cuenta, incluido el número de cuenta, el nombre del titular de la cuenta y el saldo actual.\n",
    "\n",
    "Características adicionales (opcional):\n",
    "\n",
    "- Permitir al usuario crear múltiples cuentas bancarias y realizar transacciones en cada cuenta.\n",
    "\n",
    "Consideraciones:\n",
    "\n",
    "- Diseñe cuidadosamente la estructura de clases y los atributos para garantizar una representación lógica de las cuentas bancarias.\n",
    "- Utilizar principios orientados a objetos.\n",
    "- Dividir el proyecto en métodos o funciones más pequeños para mejorar la organización y legibilidad del código.\n",
    "- Probar el programa con varios escenarios para asegurar un comportamiento correcto y manejar casos extremos."
   ]
  },
  {
   "cell_type": "code",
   "execution_count": null,
   "metadata": {},
   "outputs": [],
   "source": []
  }
 ],
 "metadata": {
  "kernelspec": {
   "display_name": "Python 3",
   "language": "python",
   "name": "python3"
  },
  "language_info": {
   "codemirror_mode": {
    "name": "ipython",
    "version": 3
   },
   "file_extension": ".py",
   "mimetype": "text/x-python",
   "name": "python",
   "nbconvert_exporter": "python",
   "pygments_lexer": "ipython3",
   "version": "3.8.10"
  },
  "orig_nbformat": 4
 },
 "nbformat": 4,
 "nbformat_minor": 2
}
