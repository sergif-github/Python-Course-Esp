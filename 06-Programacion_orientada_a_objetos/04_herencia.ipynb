{
 "cells": [
  {
   "attachments": {},
   "cell_type": "markdown",
   "id": "7b33c392",
   "metadata": {},
   "source": [
    "# Módulo 6: Programación orientada a objetos\n",
    "\n",
    "## Parte 4: Herencia\n",
    "\n",
    "La herencia es un concepto poderoso en la Programación Orientada a Objetos (POO) que nos permite crear nuevas clases (clases secundarias) basadas en clases existentes (clases primarias). Permite que las clases secundarias hereden atributos y comportamientos de sus clases principales, promoviendo la reutilización del código y ampliando su funcionalidad.\n",
    "\n",
    "### 4.1. Introducción a la herencia"
   ]
  },
  {
   "cell_type": "code",
   "execution_count": null,
   "id": "d082edec",
   "metadata": {},
   "outputs": [],
   "source": [
    "# Clase base\n",
    "class Vehiculo:\n",
    "    def __init__(self, marca, color):\n",
    "        self.marca = marca\n",
    "        self.color = color\n",
    "    \n",
    "    def acelerar(self):\n",
    "        print(\"El vehiculo esta acelerando\")\n",
    "\n",
    "# Clase secundaria que hereda de la clase Vehiculo\n",
    "class Coche(Vehiculo):\n",
    "    def __init__(self, marca, color, modelo):\n",
    "        # Llamar al constructor de la clase padre\n",
    "        super().__init__(marca, color)\n",
    "        self.modelo = modelo\n",
    "    \n",
    "    def bocina(self):\n",
    "        print(\"El coche toca la bocina\")\n",
    "\n",
    "# Creando una instancia de la clase Car\n",
    "mi_coche = Coche(\"Toyota\", \"Rojo\", \"Camry\")\n",
    "\n",
    "# Acceso a atributos y métodos de llamada\n",
    "print(mi_coche.marca) # Salida: Toyota\n",
    "print(mi_coche.color) # Salida: Rojo\n",
    "mi_coche.acelerar() # Salida: El vehículo está acelerando.\n",
    "mi_coche.bocina() # Salida: El coche está tocando la bocina."
   ]
  },
  {
   "attachments": {},
   "cell_type": "markdown",
   "id": "3aae0659",
   "metadata": {},
   "source": [
    "En este ejemplo, la clase Vehiculo es la clase principal y la clase Coche es la clase secundaria que hereda de ella.\n",
    "\n",
    "La clase secundaria amplía la funcionalidad de la clase principal al agregar un nuevo atributo (modelo) y un nuevo método (bocina).\n",
    "\n",
    "Al usar la función super(), la clase secundaria puede acceder y utilizar los atributos y métodos de la clase principal.\n",
    "\n",
    "### 4.2. Tipos de herencia\n",
    "\n",
    "Python admite múltiples tipos de herencia, incluida la herencia única, la herencia múltiple y la herencia de varios niveles.\n",
    "\n",
    "- Herencia Única\n",
    "\n",
    "     La herencia única involucra una clase secundaria que hereda de una clase principal única. Permite que la clase secundaria herede atributos y comportamientos de la clase principal.\n",
    "\n",
    "- Herencia múltiple\n",
    "\n",
    "     La herencia múltiple involucra una clase secundaria que hereda de varias clases principales. Permite que la clase secundaria herede atributos y comportamientos de múltiples fuentes, combinando las características de múltiples clases.\n",
    "\n",
    "- Herencia multinivel\n",
    "\n",
    "     La herencia multinivel involucra una clase secundaria hereda de otra clase secundaria, creando una estructura de herencia jerárquica. Permite que la clase secundaria herede atributos y comportamientos de múltiples niveles de clases principales."
   ]
  },
  {
   "cell_type": "code",
   "execution_count": null,
   "id": "7e76a969",
   "metadata": {},
   "outputs": [],
   "source": [
    "# Ejemplo de herencia múltiple\n",
    "class Animal:\n",
    "    def __init__(self, nombre):\n",
    "        self.nombre = nombre\n",
    "    \n",
    "    def comer (self):\n",
    "        print(\"El animal esta comiendo\")\n",
    "\n",
    "class Vuela:\n",
    "    def volar(auto):\n",
    "        print(\"El animal esta volando\")\n",
    "\n",
    "# Clase secundaria que hereda de varias clases principales\n",
    "class Ave(Animal, Vuela):\n",
    "    def __init__(self, nombre, especie):\n",
    "        super().__init__(nombre)\n",
    "        self.especie = especie\n",
    "\n",
    "    def cantar(auto):\n",
    "        print(\"El pájaro está cantando\")\n",
    "\n",
    "# Creando una instancia de la clase Ave\n",
    "mi_pajaro = Ave(\"Gorrión\", \"Paserino\")\n",
    "\n",
    "# Acceso a atributos y métodos de llamada\n",
    "print(mi_pajaro.nombre) # Salida: Gorrión\n",
    "mi_pajaro.comer() # Salida: El animal está comiendo.\n",
    "mi_pajaro.volar() # Salida: El animal está volando.\n",
    "mi_pajaro.cantar() # Salida: El pájaro está cantando."
   ]
  },
  {
   "attachments": {},
   "cell_type": "markdown",
   "id": "aa22f8c2",
   "metadata": {},
   "source": [
    "En este ejemplo, la clase Ave hereda tanto de la clase Animal como de la clase Vuela, exhibiendo una herencia múltiple. La clase secundaria hereda atributos y comportamientos de ambas clases principales y agrega sus propios atributos y métodos específicos.\n",
    "\n",
    "Comprender la herencia nos permite crear una jerarquía de clases, promover la reutilización de código y crear sistemas complejos aprovechando las características y los comportamientos heredados de las clases principales. En las siguientes secciones, exploraremos conceptos de programación orientada a objetos más avanzados, como la anulación de métodos, la sobrecarga de métodos y el polimorfismo.\n",
    "\n",
    "### 4.3. Resumen\n",
    "\n",
    "Exploramos el concepto de herencia en la programación orientada a objetos (POO). La herencia nos permite crear clases secundarias que heredan atributos y comportamientos de las clases principales, promoviendo la reutilización del código y ampliando la funcionalidad. Aprendimos sobre la herencia única, donde una clase secundaria hereda de una única clase principal, la herencia múltiple, donde una clase secundaria hereda de varias clases principales y la herencia de varios niveles, donde una clase secundaria hereda de otra clase secundaria. Comprender la herencia es esencial para construir estructuras de código modulares, extensibles y eficientes."
   ]
  }
 ],
 "metadata": {
  "jupytext": {
   "cell_metadata_filter": "-all",
   "main_language": "python",
   "notebook_metadata_filter": "-all"
  },
  "kernelspec": {
   "display_name": "Python 3",
   "language": "python",
   "name": "python3"
  },
  "language_info": {
   "codemirror_mode": {
    "name": "ipython",
    "version": 3
   },
   "file_extension": ".py",
   "mimetype": "text/x-python",
   "name": "python",
   "nbconvert_exporter": "python",
   "pygments_lexer": "ipython3",
   "version": "3.8.10"
  }
 },
 "nbformat": 4,
 "nbformat_minor": 5
}
