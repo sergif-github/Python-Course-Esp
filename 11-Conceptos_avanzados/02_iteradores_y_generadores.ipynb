{
 "cells": [
  {
   "attachments": {},
   "cell_type": "markdown",
   "id": "edd970d0",
   "metadata": {},
   "source": [
    "# Módulo 11: Conceptos avanzados\n",
    "\n",
    "## Parte 2: Iteradores y generadores\n",
    "\n",
    "En Python, los iteradores y los generadores son conceptos que brindan una forma conveniente y eficiente de memoria para trabajar con secuencias de datos. Le permiten iterar sobre una colección o generar valores sobre la marcha sin cargar todos los datos en la memoria a la vez. En esta sección, exploraremos iteradores y generadores y comprenderemos su uso y beneficios.\n",
    "\n",
    "### 2.1. Iteradores\n",
    "\n",
    "Un iterador es un objeto que implementa el protocolo iter. Le permite iterar sobre una colección de elementos o valores uno a la vez."
   ]
  },
  {
   "cell_type": "code",
   "execution_count": null,
   "id": "42bff452",
   "metadata": {},
   "outputs": [],
   "source": [
    "numeros = [1, 2, 3, 4, 5]\n",
    "iterador = iter(numeros)\n",
    "\n",
    "print(next(iterador)) # Salida: 1\n",
    "print(next(iterador)) # Salida: 2\n",
    "print(next(iterador)) # Salida: 3"
   ]
  },
  {
   "attachments": {},
   "cell_type": "markdown",
   "id": "8fc36c1b",
   "metadata": {},
   "source": [
    "En este fragmento de código, creamos una lista de números. Usamos la función iter() para obtener un objeto iterador de la lista. Luego, la función next() se usa para recuperar el next valor del iterador en secuencia. Cada llamada posterior a next() devuelve el next valor hasta que se agotan todos los elementos del iterador.\n",
    "\n",
    "El protocolo de iteración consta de dos métodos: __iter__() y __next__(). Al implementar estos métodos, puede hacer que un objeto\n",
    "iterable y definir cómo se comporta durante la iteración.\n",
    "\n",
    "- El método __iter__() es responsable de devolver un objeto iterador. Se llama cuando comienzas a iterar sobre un objeto. Este método inicializa cualquier estado necesario y devuelve un objeto iterador.\n",
    "- El método __next__() se llama en el objeto iterador y es responsable de devolver el next valor en la iteración. Debería generar la excepción StopIteration cuando no haya más valores para devolver.\n",
    "\n",
    "Al implementar el protocolo de iteración, puede crear objetos iterables personalizados y definir su comportamiento de iteración.\n",
    "Esto le permite controlar cómo se iteran los objetos y qué valores se devuelven durante cada iteración.\n",
    "\n",
    "Comprender los protocolos de iteración es esencial para crear objetos iterables avanzados y trabajar con iteradores y generadores personalizados en Python.\n",
    "\n",
    "Aquí hay un ejemplo de cómo crear un iterador personalizado para una lista de números:"
   ]
  },
  {
   "cell_type": "code",
   "execution_count": null,
   "id": "59de46ec",
   "metadata": {},
   "outputs": [],
   "source": [
    "class IteradorNumeros:\n",
    "    def __init__(self, numeros):\n",
    "        self.numeros = numeros\n",
    "        self.indice = 0\n",
    "\n",
    "    def __iter__(self):\n",
    "        return self\n",
    "\n",
    "    def __next__(self):\n",
    "        if self.indice >= len(self.numeros):\n",
    "            raise StopIteration\n",
    "        valor = self.numeros[self.indice]\n",
    "        self.indice += 1\n",
    "        return valor\n",
    "\n",
    "numeros = [1, 2, 3, 4, 5]\n",
    "iterador = IteradorNumeros(numeros)\n",
    "\n",
    "for numero in iterador:\n",
    "    print(numero)"
   ]
  },
  {
   "attachments": {},
   "cell_type": "markdown",
   "id": "6d08b10b",
   "metadata": {},
   "source": [
    "En este ejemplo, definimos una clase IteradorNumeros que toma una lista de números como entrada. Implementa el método __iter__(), que devuelve el propio objeto iterador, y el método __next__(), que recupera el next valor de la lista. Cuando no hay más valores para iterar, lanzamos una excepción StopIteration. Luego podemos usar el objeto IteradorNumeros en un bucle for para iterar sobre cada número en la lista.\n",
    "\n",
    "### 2.2. Generadores\n",
    "\n",
    "Los generadores son un tipo especial de iterador que se puede crear utilizando funciones de generador o expresiones de generador. Las funciones generadoras se definen como funciones normales, pero usan la palabra clave yield para devolver valores de uno en uno, manteniendo su estado entre rendimientos sucesivos. Las expresiones generadoras son similares a las listas de comprensión, pero usan paréntesis en lugar de corchetes, lo que genera un objeto generador."
   ]
  },
  {
   "cell_type": "code",
   "execution_count": null,
   "id": "e47f6aec",
   "metadata": {},
   "outputs": [],
   "source": [
    "numeros = [1, 2, 3, 4, 5]\n",
    "cuadrados = (x ** 2 for x in numeros)\n",
    "\n",
    "for cuadrado in cuadrados:\n",
    "     print(cuadrado, end = \" \") # Salida: 1 4 9 16 25"
   ]
  },
  {
   "attachments": {},
   "cell_type": "markdown",
   "id": "d9fd8626",
   "metadata": {},
   "source": [
    "En este fragmento de código, creamos una lista de números. Usamos una expresión generadora (x ** 2 para x en números) para generar el cuadrado de cada número. La expresión del generador produce un objeto generador que produce los valores al cuadrado cuando se itera. El ciclo for recupera e imprime cada valor al cuadrado en secuencia."
   ]
  },
  {
   "cell_type": "code",
   "execution_count": null,
   "id": "46bd9d37",
   "metadata": {},
   "outputs": [],
   "source": [
    "def cuenta_regresiva(n):\n",
    "     while n > 0:\n",
    "         yield n\n",
    "         n -= 1\n",
    "\n",
    "for num in cuenta_regresiva(5):\n",
    "     print(num, end=\" \") # Salida: 5 4 3 2 1"
   ]
  },
  {
   "attachments": {},
   "cell_type": "markdown",
   "id": "95fdec94",
   "metadata": {},
   "source": [
    "En este ejemplo, definimos una función generadora llamada cuenta regresiva que toma un número n como entrada. Dentro de la función, usamos un ciclo while para generar valores en orden descendente de n a 1 usando la instrucción yield. Cuando se llama a la función generadora en un bucle for, se obtiene el next valor de la secuencia hasta que se completa el bucle.\n",
    "\n",
    "Aquí hay otro ejemplo de una función generadora que genera una secuencia de números de Fibonacci:"
   ]
  },
  {
   "cell_type": "code",
   "execution_count": null,
   "id": "c6f4699c",
   "metadata": {},
   "outputs": [],
   "source": [
    "def fibonacci_generador():\n",
    "     a, b = 0, 1\n",
    "     while True:\n",
    "         yield a\n",
    "         a, b = b, a + b\n",
    "\n",
    "fibonacci = fibonacci_generador()\n",
    "\n",
    "for _ in range(10):\n",
    "     print(next(fibonacci))"
   ]
  },
  {
   "attachments": {},
   "cell_type": "markdown",
   "id": "16c210fa",
   "metadata": {},
   "source": [
    "En este ejemplo, definimos una función fibonacci_generador usando la palabra clave yield. Inicializa dos variables a y b para los números iniciales de Fibonacci. La función entra en un bucle infinito y produce el número de Fibonacci actual. Luego se actualiza las variables a los nexts números de Fibonacci. Podemos usar el generador en un bucle for llamando a la función next() en el que recupera el next valor del generador.\n",
    "\n",
    "Los generadores son eficientes en memoria porque generan valores sobre la marcha y solo producen el next valor cuando se solicita. Esto hace particularmente útiles para trabajar con grandes conjuntos de datos o secuencias infinitas.\n",
    "\n",
    "### 2.3. Resumen\n",
    "\n",
    "Los iteradores y generadores son construcciones poderosas en Python que permiten una iteración eficiente sobre secuencias de datos. Los iteradores proporcionan una forma de acceder secuencialmente a los elementos de una colección, mientras que los generadores permiten la generación dinámica de valores bajo demanda. Son particularmente útiles cuando se trabaja con conjuntos de datos grandes o infinitos donde cargar todos los datos en la memoria a la vez no es práctico. Al comprender los iteradores y los generadores, puede aprovechar sus beneficios para escribir código más eficiente y compatible con la memoria en sus programas de Python."
   ]
  }
 ],
 "metadata": {
  "jupytext": {
   "cell_metadata_filter": "-all",
   "main_language": "python",
   "notebook_metadata_filter": "-all"
  },
  "kernelspec": {
   "display_name": "Python 3",
   "language": "python",
   "name": "python3"
  },
  "language_info": {
   "codemirror_mode": {
    "name": "ipython",
    "version": 3
   },
   "file_extension": ".py",
   "mimetype": "text/x-python",
   "name": "python",
   "nbconvert_exporter": "python",
   "pygments_lexer": "ipython3",
   "version": "3.8.10"
  }
 },
 "nbformat": 4,
 "nbformat_minor": 5
}
