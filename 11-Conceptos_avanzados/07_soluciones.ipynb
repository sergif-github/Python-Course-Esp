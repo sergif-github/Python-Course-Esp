{
 "cells": [
  {
   "attachments": {},
   "cell_type": "markdown",
   "metadata": {},
   "source": [
    "# Módulo 11: Conceptos avanzados\n",
    "\n",
    "## Parte 7: Soluciones\n",
    "\n",
    "### Ejercicio 1\n",
    "Escriba una función de decorador llamada decorador_mayusculas que tome una función como argumento y la envuelva con código para convertir el resultado a mayúsculas. Utilice el decorador para modificar la función de saludo que devuelve un mensaje de saludo."
   ]
  },
  {
   "cell_type": "code",
   "execution_count": null,
   "metadata": {},
   "outputs": [],
   "source": [
    "def decorador_mayusculas(funcion):\n",
    "     def envoltura():\n",
    "         resultado = funcion()\n",
    "         return resultado.upper()\n",
    "     return envoltura\n",
    "\n",
    "@decorador_mayusculas\n",
    "def saludo():\n",
    "     return \"Hola, mundo!\"\n",
    "\n",
    "print(saludo())"
   ]
  },
  {
   "attachments": {},
   "cell_type": "markdown",
   "metadata": {},
   "source": [
    "### Ejercicio 2\n",
    "Cree una función generadora llamada fibonacci que genere la secuencia de Fibonacci hasta un número dado n. Itere sobre la secuencia generada usando un bucle for e imprima cada número."
   ]
  },
  {
   "cell_type": "code",
   "execution_count": null,
   "metadata": {},
   "outputs": [],
   "source": [
    "def fibonacci(n):\n",
    "     a, b = 0, 1\n",
    "     while a < n:\n",
    "         yield a\n",
    "         a, b = b, a + b\n",
    "\n",
    "for numero in fibonacci(100):\n",
    "     print(numero)"
   ]
  },
  {
   "attachments": {},
   "cell_type": "markdown",
   "metadata": {},
   "source": [
    "### Ejercicio 3\n",
    "Escribe una función recursiva llamada factorial que calcule el factorial de un número dado n. Prueba la función calculando el factorial de 5."
   ]
  },
  {
   "cell_type": "code",
   "execution_count": null,
   "metadata": {},
   "outputs": [],
   "source": [
    "def factorial(n):\n",
    "    if n == 0:\n",
    "        return 1\n",
    "    return n * factorial(n - 1)\n",
    "\n",
    "print(factorial(5))"
   ]
  },
  {
   "attachments": {},
   "cell_type": "markdown",
   "metadata": {},
   "source": [
    "### Ejercicio 4\n",
    "Depure el siguiente código usando el módulo pdb para identificar y corregir el error:"
   ]
  },
  {
   "cell_type": "code",
   "execution_count": null,
   "metadata": {},
   "outputs": [],
   "source": [
    "import pdb\n",
    "\n",
    "def dividir(a, b):\n",
    "     resultado = a / b # Error: división por cero\n",
    "     return resultado\n",
    "\n",
    "pdb.set_trace()\n",
    "x = 10\n",
    "y = 0\n",
    "z = dividir(x, y)\n",
    "print(z)"
   ]
  },
  {
   "attachments": {},
   "cell_type": "markdown",
   "metadata": {},
   "source": [
    "### Ejercicio 5\n",
    "Mide el tiempo de ejecución de dos implementaciones diferentes de una función que calcula la suma de cuadrados de 1 a n. Compara los tiempos de ejecución utilizando el módulo timeit."
   ]
  },
  {
   "cell_type": "code",
   "execution_count": null,
   "metadata": {},
   "outputs": [],
   "source": [
    "import timeit\n",
    "\n",
    "def suma_de_cuadrados(n):\n",
    "     return sum([i ** 2 for i in range(1, n + 1)])\n",
    "\n",
    "def suma_de_cuadrados_optimizado(n):\n",
    "     return (n * (n + 1) * (2 * n + 1)) // 6\n",
    "\n",
    "n = 1000000\n",
    "\n",
    "tiempo_ejecucion_regular = timeit.timeit(lambda: suma_de_cuadrados(n), number=10)\n",
    "tiempo_de_ejecucion_optimizado = timeit.timeit(lambda: suma_de_cuadrados_optimizado(n), number=10)\n",
    "\n",
    "print(\"Tiempo de ejecución de la implementación normal:\", tiempo_ejecucion_regular)\n",
    "print(\"Tiempo de ejecución de la implementación optimizada:\", tiempo_de_ejecucion_optimizado)"
   ]
  }
 ],
 "metadata": {
  "kernelspec": {
   "display_name": "Python 3",
   "language": "python",
   "name": "python3"
  },
  "language_info": {
   "codemirror_mode": {
    "name": "ipython",
    "version": 3
   },
   "file_extension": ".py",
   "mimetype": "text/x-python",
   "name": "python",
   "nbconvert_exporter": "python",
   "pygments_lexer": "ipython3",
   "version": "3.8.10"
  },
  "orig_nbformat": 4
 },
 "nbformat": 4,
 "nbformat_minor": 2
}
