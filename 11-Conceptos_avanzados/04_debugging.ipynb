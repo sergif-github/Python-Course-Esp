{
 "cells": [
  {
   "attachments": {},
   "cell_type": "markdown",
   "id": "fd139ade",
   "metadata": {},
   "source": [
    "# Módulo 11: Conceptos avanzados\n",
    "\n",
    "## Parte 4: Depuración con el depurador\n",
    "\n",
    "La depuración es una habilidad esencial para todo programador. Al dominar el arte de la depuración, puede identificar y corregir errores en su código de manera efectiva.\n",
    "dando lugar a programas más robustos y fiables.\n",
    "\n",
    "### 4.1. Módulo pdb\n",
    "\n",
    "El módulo pdb en Python significa \"Python Debugger\" y proporciona un depurador incorporado para la depuración interactiva de programas de Python. Le permite pausar la ejecución de su programa, inspeccionar variables, evaluar expresiones y rastrear el flujo de control para identificar y solucionar problemas. En esta sección, exploraremos el módulo pdb y aprenderemos a usarlo con fines de depuración.\n",
    "\n",
    "### 4.2. Comandos de depuración\n",
    "\n",
    "El módulo pdb proporciona varios comandos que puede usar durante la depuración para navegar y analizar su código. Algunos comandos de uso común incluyen:\n",
    "\n",
    "- s o paso: Ejecutar la línea actual y detenerse en la línea siguiente.\n",
    "- n o siguiente: Ejecuta la línea actual y continúa con la línea siguiente.\n",
    "- l o lista: muestra la línea de código actual y las líneas circundantes.\n",
    "- p o print: Imprime el valor de una variable o expresión.\n",
    "- q o quit: Salir del depurador y finalizar el programa."
   ]
  },
  {
   "cell_type": "code",
   "execution_count": null,
   "id": "b17a5e69",
   "metadata": {},
   "outputs": [],
   "source": [
    "import pdb\n",
    "\n",
    "def calcular_suma(a, b):\n",
    "    resultado = a + b\n",
    "    pdb.set_trace() # Agregue un punto de interrupción aquí\n",
    "    return resultado\n",
    "\n",
    "numero1 = 5\n",
    "numero2 = 10\n",
    "resultado_suma = calcular_suma(numero1, numero2)\n",
    "print(\"Suma:\", resultado_suma)"
   ]
  },
  {
   "attachments": {},
   "cell_type": "markdown",
   "id": "f53e4da0",
   "metadata": {},
   "source": [
    "En este ejemplo, importamos el módulo pdb y agregamos una instrucción pdb.set_trace() en el punto de interrupción deseado. Cuando la ejecución del código alcanza\n",
    "este punto, se detendrá y aparecerá el aviso del depurador. Desde aquí, puede interactuar con el depurador usando varios comandos.\n",
    "\n",
    "### 4.3. Resumen\n",
    "\n",
    "El módulo pdb en Python proporciona un potente depurador incorporado para la depuración interactiva de sus programas. Con la capacidad de establecer puntos de interrupción, recorrer el código y examinar variables, el módulo pdb le permite identificar y solucionar problemas en su código de manera efectiva. Mediante el uso de los diversos comandos de depuración proporcionados por pdb, puede obtener información sobre el comportamiento de su programa y resolver errores o comportamientos inesperados. El módulo pdb es una herramienta valiosa para los desarrolladores, especialmente cuando se trata de código complejo o errores difíciles de reproducir."
   ]
  }
 ],
 "metadata": {
  "jupytext": {
   "cell_metadata_filter": "-all",
   "main_language": "python",
   "notebook_metadata_filter": "-all"
  },
  "kernelspec": {
   "display_name": "Python 3",
   "language": "python",
   "name": "python3"
  },
  "language_info": {
   "codemirror_mode": {
    "name": "ipython",
    "version": 3
   },
   "file_extension": ".py",
   "mimetype": "text/x-python",
   "name": "python",
   "nbconvert_exporter": "python",
   "pygments_lexer": "ipython3",
   "version": "3.8.10"
  }
 },
 "nbformat": 4,
 "nbformat_minor": 5
}
