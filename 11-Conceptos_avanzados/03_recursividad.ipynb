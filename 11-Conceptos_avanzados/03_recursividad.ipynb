{
 "cells": [
  {
   "attachments": {},
   "cell_type": "markdown",
   "id": "1d293e82",
   "metadata": {},
   "source": [
    "# Módulo 11: Conceptos avanzados\n",
    "\n",
    "## Parte 3: Recursividad\n",
    "\n",
    "La recursividad es una poderosa técnica de programación en la que una función se llama a sí misma para resolver un problema dividiéndolo en subproblemas más pequeños. Es una alternativa a las soluciones iterativas (basadas en bucles) y puede ser particularmente útil para resolver problemas que exhiben una estructura recursiva. En esta sección, exploraremos la recursividad y comprenderemos sus principios y aplicaciones.\n",
    "\n",
    "### 3.1. Principios de recursividad\n",
    "\n",
    "La recursividad sigue el principio de resolver un problema reduciéndolo a una versión más simple del mismo problema. Se trata de dos componentes esenciales:\n",
    "\n",
    "- Caso base: Condición que determina cuándo debe detenerse la recursividad. Representa la forma más simple del problema que se puede resolver directamente.\n",
    "- Caso Recursivo: La parte del problema que se puede descomponer en subproblemas más pequeños. La función se llama a sí misma con entrada modificada para resolver estos subproblemas.\n",
    "\n",
    "### 3.2. Problemas típicos de recursión\n",
    "\n",
    "La recursividad se usa comúnmente para resolver una variedad de problemas en la programación. Algunos problemas típicos de recursión incluyen:\n",
    "\n",
    "- **Factorial**: El factorial de un entero no negativo n, denotado como n!, es el producto de todos los enteros positivos menores o iguales a n.\n",
    "- **Búsqueda binaria**: Un algoritmo divide y vencerás para buscar elementos en una matriz ordenada.\n",
    "- **Tower of Hanoi**: un rompecabezas que involucra mover discos de una clavija a otra usando tres clavijas.\n",
    "- **Búsqueda primero en profundidad**: un algoritmo de recorrido de gráfico que explora lo más lejos posible a lo largo de cada rama antes de retroceder.\n",
    "- **Merge Sort**: un algoritmo de clasificación que divide la matriz de entrada en subarreglos más pequeños, los clasifica y luego los vuelve a fusionar.\n",
    "- **Permutaciones y Combinaciones**: Problemas de generación de todos los arreglos o selecciones posibles de elementos.\n",
    "- **Backtracking**: una técnica algorítmica general para encontrar soluciones probando todas las opciones posibles y deshaciendo las opciones incorrectas."
   ]
  },
  {
   "attachments": {},
   "cell_type": "markdown",
   "id": "e1a1dee4",
   "metadata": {},
   "source": [
    "#### 3.2.1. Factorial\n",
    "\n",
    "La función factorial se llama recursivamente, reduciendo el problema a subproblemas más pequeños hasta llegar al caso base (n == 0),\n",
    "donde devuelve el valor 1. Las llamadas recursivas luego se multiplican para calcular el factorial de n."
   ]
  },
  {
   "cell_type": "code",
   "execution_count": 1,
   "id": "46a81811",
   "metadata": {},
   "outputs": [],
   "source": [
    "def factorial(n):\n",
    "    if n == 0:\n",
    "        return 1\n",
    "    else:\n",
    "        return n * factorial(n - 1)"
   ]
  },
  {
   "attachments": {},
   "cell_type": "markdown",
   "id": "af8cd91e",
   "metadata": {},
   "source": [
    "Ejemplo de uso:"
   ]
  },
  {
   "cell_type": "code",
   "execution_count": null,
   "id": "1117ab73",
   "metadata": {},
   "outputs": [],
   "source": [
    "print(factorial(5))  # Output: 120\n",
    "print(factorial(0))  # Output: 1"
   ]
  },
  {
   "attachments": {},
   "cell_type": "markdown",
   "id": "97db7b17",
   "metadata": {},
   "source": [
    "#### 3.2.2. Búsqueda binaria\n",
    "\n",
    "La búsqueda binaria es un algoritmo de búsqueda que encuentra la posición de un valor objetivo dentro de una matriz ordenada. Funciona repetidamente\n",
    "dividir el espacio de búsqueda por la mitad hasta que se encuentre el valor objetivo o se determine que no está presente."
   ]
  },
  {
   "cell_type": "code",
   "execution_count": 3,
   "id": "d48f4238",
   "metadata": {},
   "outputs": [],
   "source": [
    "def binary_search(array, objetivo, pequeno, grande):\n",
    "    if pequeno > grande:\n",
    "        return -1\n",
    "    else:\n",
    "        mitad = (pequeno + grande) // 2\n",
    "        if array[mitad] == objetivo:\n",
    "            return mitad\n",
    "        elif array[mitad] < objetivo:\n",
    "            return binary_search(array, objetivo, mitad + 1, grande)\n",
    "        else:\n",
    "            return binary_search(array, objetivo, pequeno, mitad - 1)"
   ]
  },
  {
   "attachments": {},
   "cell_type": "markdown",
   "id": "1beb7a75",
   "metadata": {},
   "source": [
    "Ejemplo de uso:"
   ]
  },
  {
   "cell_type": "code",
   "execution_count": null,
   "id": "1a479545",
   "metadata": {},
   "outputs": [],
   "source": [
    "array = [1, 3, 5, 7, 9, 11, 13]\n",
    "objetivo = 7\n",
    "resultado = binary_search(array, objetivo, 0, len(array) - 1)\n",
    "print(resultado)  # Output: 3"
   ]
  },
  {
   "attachments": {},
   "cell_type": "markdown",
   "id": "c80fc91b",
   "metadata": {},
   "source": [
    "#### 3.2.3. Torre de Hanoi\n",
    "\n",
    "La Torre de Hanoi es un rompecabezas matemático que consta de tres clavijas y una serie de discos de diferentes tamaños. El objetivo es mover\n",
    "toda la pila de discos de una clavija a otra, siguiendo las reglas de que solo se puede mover un disco a la vez y un disco más grande\n",
    "no se puede colocar encima de un disco más pequeño."
   ]
  },
  {
   "cell_type": "code",
   "execution_count": 6,
   "id": "f4c005e4",
   "metadata": {},
   "outputs": [],
   "source": [
    "def torre_de_hanoi(n, origen, destino, auxiliar):\n",
    "    if n > 0:\n",
    "        torre_de_hanoi(n - 1, origen, auxiliar, destino)\n",
    "        print(f\"Mover disco {n} de {origen} a {destino}\")\n",
    "        torre_de_hanoi(n - 1, auxiliar, destino, origen)"
   ]
  },
  {
   "attachments": {},
   "cell_type": "markdown",
   "id": "d450ab61",
   "metadata": {},
   "source": [
    "Ejemplo de uso:"
   ]
  },
  {
   "cell_type": "code",
   "execution_count": null,
   "id": "c7e75ffe",
   "metadata": {
    "lines_to_next_cell": 0
   },
   "outputs": [],
   "source": [
    "torre_de_hanoi(3, 'A', 'C', 'B')"
   ]
  },
  {
   "attachments": {},
   "cell_type": "markdown",
   "id": "2c6a6042",
   "metadata": {},
   "source": [
    "Resultado:\n",
    "```\n",
    "Mover el disco 1 de A a C\n",
    "Mover el disco 2 de A a B\n",
    "Mover el disco 1 de C a B\n",
    "Mover el disco 3 de A a C\n",
    "Mover el disco 1 de B a A\n",
    "Mover el disco 2 de B a C\n",
    "Mover el disco 1 de A a C\n",
    "```\n",
    "\n",
    "#### 3.2.4. Búsqueda en profundidad (DFS)\n",
    "\n",
    "La búsqueda primero en profundidad es un algoritmo de recorrido de gráficos que explora lo más lejos posible a lo largo de cada rama antes de retroceder. Se puede implementar recursivamente."
   ]
  },
  {
   "cell_type": "code",
   "execution_count": 11,
   "id": "ae855074",
   "metadata": {},
   "outputs": [],
   "source": [
    "def dfs(grafo, inicio, visitado=None):\n",
    "    if visitado is None:\n",
    "        visitado = set()\n",
    "    visitado.add(inicio)\n",
    "    print(inicio)\n",
    "    for vecino in grafo[inicio]:\n",
    "        if vecino not in visitado:\n",
    "            dfs(grafo, vecino, visitado)"
   ]
  },
  {
   "attachments": {},
   "cell_type": "markdown",
   "id": "8a399e04",
   "metadata": {},
   "source": [
    "Ejemplo de uso:"
   ]
  },
  {
   "cell_type": "code",
   "execution_count": null,
   "id": "8d20c67d",
   "metadata": {},
   "outputs": [],
   "source": [
    "grafo = {\n",
    "    'A': ['B', 'C'],\n",
    "    'B': ['D', 'E'],\n",
    "    'C': ['F'],\n",
    "    'D': [],\n",
    "    'E': [],\n",
    "    'F': []\n",
    "}\n",
    "\n",
    "dfs(grafo, 'A')"
   ]
  },
  {
   "attachments": {},
   "cell_type": "markdown",
   "id": "be00cfc4",
   "metadata": {},
   "source": [
    "Producción:\n",
    "```\n",
    "A\n",
    "B\n",
    "D\n",
    "E\n",
    "C\n",
    "F\n",
    "```\n",
    "\n",
    "#### 3.2.5. Ordenar por fusión\n",
    "\n",
    "Merge Sort es un algoritmo de clasificación que sigue el enfoque de divide y vencerás. Divide recursivamente la matriz de entrada en dos mitades,\n",
    "los ordena por separado y luego fusiona las mitades ordenadas."
   ]
  },
  {
   "cell_type": "code",
   "execution_count": 21,
   "id": "5e1142c0",
   "metadata": {},
   "outputs": [],
   "source": [
    "def merge_sort(array):\n",
    "    if len(array) <= 1:\n",
    "        return array\n",
    "    medio = len(array) // 2\n",
    "    izquierda = merge_sort(array[:medio])\n",
    "    derecha = merge_sort(array[medio:])\n",
    "    return fusionar(izquierda, derecha)\n",
    "\n",
    "def fusionar(izquierda, derecha):\n",
    "    resultado = []\n",
    "    i, j = 0, 0\n",
    "    while i < len(izquierda) and j < len(derecha):\n",
    "        if izquierda[i] <= derecha[j]:\n",
    "            resultado.append(izquierda[i])\n",
    "            i += 1\n",
    "        else:\n",
    "            resultado.append(derecha[j])\n",
    "            j += 1\n",
    "    resultado.extend(izquierda[i:])\n",
    "    resultado.extend(derecha[j:])\n",
    "    return resultado"
   ]
  },
  {
   "attachments": {},
   "cell_type": "markdown",
   "id": "d23c9310",
   "metadata": {},
   "source": [
    "Ejemplo de uso:"
   ]
  },
  {
   "cell_type": "code",
   "execution_count": null,
   "id": "1e67e93f",
   "metadata": {},
   "outputs": [],
   "source": [
    "array = [9, 5, 1, 3, 7, 2, 8, 6, 4]\n",
    "array_ordenado = merge_sort(array)\n",
    "print(array_ordenado)  # Output: [1, 2, 3, 4, 5, 6, 7, 8, 9]"
   ]
  },
  {
   "attachments": {},
   "cell_type": "markdown",
   "id": "8322164e",
   "metadata": {},
   "source": [
    "#### 3.2.6. Permutaciones y combinaciones\n",
    "\n",
    "Las permutaciones y combinaciones son conceptos matemáticos que se utilizan para contar el número de arreglos o selecciones posibles de un conjunto dado de elementos.\n",
    "Se pueden calcular recursivamente."
   ]
  },
  {
   "cell_type": "code",
   "execution_count": null,
   "id": "abcba599",
   "metadata": {},
   "outputs": [],
   "source": [
    "import itertools\n",
    "\n",
    "# permutaciones\n",
    "articulos = ['A', 'B', 'C']\n",
    "permutaciones = list(itertools.permutations(articulos))\n",
    "print(permutaciones) # Salida: [('A', 'B', 'C'), ('A', 'C', 'B'), ('B', 'A', 'C'), ('B', 'C', 'A'), ('C', 'A', 'B'), ('C', 'B', 'A')]\n",
    "\n",
    "# Combinaciones\n",
    "combinaciones = list(itertools.combinations(articulos, 2))\n",
    "print (combinaciones) # Salida: [('A', 'B'), ('A', 'C'), ('B', 'C')]"
   ]
  },
  {
   "attachments": {},
   "cell_type": "markdown",
   "id": "de2ddee9",
   "metadata": {},
   "source": [
    "#### 3.2.7. Backtracking\n",
    "\n",
    "Backtracking es una técnica algorítmica avanzada que implica explorar todas las soluciones posibles mediante la creación incremental de candidatos y el abandono de un candidato.\n",
    "tan pronto como se determine que no es válido. A menudo se usa para resolver problemas, como encontrar todas las permutaciones, combinaciones o resolver acertijos posibles.\n",
    "\n",
    "La implementación del backtracking varía según el problema específico que se está resolviendo.\n",
    "\n",
    "### 3.3. Resumen\n",
    "\n",
    "La recursividad es una técnica poderosa en la programación que involucra una función que se llama a sí misma para resolver un problema dividiéndolo en subproblemas más pequeños. Sigue los principios de un caso base y un caso recursivo, donde el caso base representa la forma más simple del problema que se puede resolver directamente, y el caso recursivo divide el problema en subproblemas más pequeños. La recursividad se puede aplicar a una amplia gama de problemas y proporciona una solución elegante y concisa en muchos casos. Sin embargo, requiere una consideración cuidadosa de las condiciones de terminación y puede conducir potencialmente a un desbordamiento de pila si no se implementa correctamente. Con una comprensión de la recursividad, puede abordar problemas complejos y desarrollar algoritmos eficientes en sus programas de Python."
   ]
  }
 ],
 "metadata": {
  "jupytext": {
   "cell_metadata_filter": "-all",
   "main_language": "python",
   "notebook_metadata_filter": "-all"
  },
  "kernelspec": {
   "display_name": "Python 3",
   "language": "python",
   "name": "python3"
  },
  "language_info": {
   "codemirror_mode": {
    "name": "ipython",
    "version": 3
   },
   "file_extension": ".py",
   "mimetype": "text/x-python",
   "name": "python",
   "nbconvert_exporter": "python",
   "pygments_lexer": "ipython3",
   "version": "3.8.10"
  }
 },
 "nbformat": 4,
 "nbformat_minor": 5
}
