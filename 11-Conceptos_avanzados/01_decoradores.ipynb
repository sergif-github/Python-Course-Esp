{
 "cells": [
  {
   "attachments": {},
   "cell_type": "markdown",
   "id": "766c8f6f",
   "metadata": {},
   "source": [
    "# Módulo 11: Conceptos avanzados\n",
    "\n",
    "## Parte 1: Decoradores (decoradores de funciones y decoradores de clases)\n",
    "\n",
    "Los decoradores son una característica poderosa en Python que le permite modificar el comportamiento de las funciones y clases sin cambiar su código fuente. Los decoradores brindan una forma concisa y elegante de agregar funcionalidad, modificar entradas o salidas, o realizar acciones antes o después de la ejecución de funciones o clases. En esta sección, exploraremos los decoradores de funciones y los decoradores de clases en Python.\n",
    "\n",
    "### 1.1. Decoradores de funciones\n",
    "\n",
    "Los decoradores de funciones son funciones que envuelven otra función y modifican su comportamiento. Se denotan con la sintaxis @nombre_decorador y se colocan encima de la definición de la función. Los decoradores de funciones se pueden usar para agregar funciones adicionales, como registro, temporización, almacenamiento en caché o validación de entrada, a la función envuelta."
   ]
  },
  {
   "cell_type": "code",
   "execution_count": null,
   "id": "52c7aba6",
   "metadata": {},
   "outputs": [],
   "source": [
    "def mayusculas_decorador(funcion):\n",
    "     def envoltorio(texto):\n",
    "         resultado = funcion(texto.upper())\n",
    "         return resultado\n",
    "\n",
    "     return envoltorio\n",
    "\n",
    "@mayusculas_decorador\n",
    "def saludar(nombre):\n",
    "     return f\"¡Hola, {nombre}!\"\n",
    "\n",
    "print(saludar(\"Juan\")) # Salida: ¡Hola, Juan!"
   ]
  },
  {
   "attachments": {},
   "cell_type": "markdown",
   "id": "06f8cc66",
   "metadata": {},
   "source": [
    "En este ejemplo, definimos un decorador de función llamado uppercase_decorator. Toma una función func como entrada y define una función contenedora contenedora que convierte el texto de entrada a mayúsculas antes de llamar a la función envuelta func. El decorador devuelve la función contenedora. Aplicamos el decorador_mayúsculas a la función de saludo usando la sintaxis @. Cuando llamamos a saludar(\"Juan\"), el decorador convierte el nombre a mayúsculas (\"JOHN\") antes de que se devuelva el saludo."
   ]
  },
  {
   "cell_type": "code",
   "execution_count": null,
   "id": "63610ae1",
   "metadata": {},
   "outputs": [],
   "source": [
    "def decorador(funcion):\n",
    "     def envoltorio(*args, **kwargs):\n",
    "         # Realizar acciones antes de la ejecución de la función\n",
    "         print(\"Decorador: Antes de la ejecución de la función\")\n",
    "\n",
    "         # Llamar a la función envuelta\n",
    "         resultado = funcion(*args, **kwargs)\n",
    "\n",
    "         # Realizar acciones después de la ejecución de la función\n",
    "         print(\"Decorador: Después de la ejecución de la función\")\n",
    "\n",
    "         # Devuelve el resultado de la función envuelta\n",
    "         return resultado\n",
    "\n",
    "     return envoltorio\n",
    "\n",
    "@decorador\n",
    "def saludo(nombre):\n",
    "     print(\"Hola,\", nombre)\n",
    "\n",
    "saludo (\"Juan\")"
   ]
  },
  {
   "attachments": {},
   "cell_type": "markdown",
   "id": "07ef4504",
   "metadata": {},
   "source": [
    "En este fragmento de código, definimos una función de decorador llamada decorador. La función decoradora toma otra función func como entrada, define una función contenedora contenedora que realiza acciones antes y después de la ejecución de la función y devuelve la función contenedora. Usamos la sintaxis @decorator para aplicar el decorador a la función de saludo. Cuando llamamos a la función de saludo con el nombre \"John\", las acciones del decorador se ejecutan antes y después de la ejecución de la función de saludo.\n",
    "\n",
    "### 1.2. decoradores de clase\n",
    "\n",
    "Los decoradores de clases son similares a los decoradores de funciones, pero operan en clases en lugar de funciones. Envuelven la clase y modifican su comportamiento o agregan funcionalidad adicional. Los decoradores de clase se indican mediante la sintaxis @nombre_decorador y se colocan encima de la definición de clase. Se pueden usar para agregar mixins, aplicar restricciones a nivel de clase o modificar los atributos o métodos de la clase."
   ]
  },
  {
   "cell_type": "code",
   "execution_count": null,
   "id": "05834b6b",
   "metadata": {},
   "outputs": [],
   "source": [
    "def agregar_propiedad(cls):\n",
    "     cls.nueva_propiedad = \"Nueva propiedad\"\n",
    "     return cls\n",
    "\n",
    "@agregar_propiedad\n",
    "class MiClase:\n",
    "     pass\n",
    "\n",
    "obj = MiClase()\n",
    "print(obj.nueva_propiedad) # Salida: Nueva propiedad"
   ]
  },
  {
   "attachments": {},
   "cell_type": "markdown",
   "id": "7d308a91",
   "metadata": {},
   "source": [
    "En este ejemplo, definimos un decorador de clase llamado agregar_propiedad. Toma una clase cls como entrada y agrega un nuevo atributo de clase llamado nueva_propiedad a la clase. El decorador devuelve la clase modificada. Aplicamos el decorador agregar_propiedad a la clase MiClase usando la sintaxis @. Cuando creamos una instancia de MiClase y accedemos al atributo nueva_propiedad, devuelve el valor \"Nueva propiedad\" que agregó el decorador."
   ]
  },
  {
   "cell_type": "code",
   "execution_count": null,
   "id": "f77a2b7a",
   "metadata": {},
   "outputs": [],
   "source": [
    "def decorador(cls):\n",
    "    class EnvolturaClase:\n",
    "        def __init__(self, *args, **kwargs):\n",
    "            self.envuelto = cls(*args, **kwargs)\n",
    "\n",
    "        def saludar(self):\n",
    "            print(\"Decorador: Antes de saludar\")\n",
    "            self.envuelto.saludar()\n",
    "            print(\"Decorador: Después del saludo\")\n",
    "\n",
    "    return EnvolturaClase\n",
    "\n",
    "@decorador\n",
    "class Saludo:\n",
    "    def __init__(self, nombre):\n",
    "        self.nombre = nombre\n",
    "\n",
    "    def saludar(self):\n",
    "        print(\"Hola,\", self.nombre)\n",
    "\n",
    "obj = Saludo(\"Juan\")\n",
    "obj.saludar()"
   ]
  },
  {
   "attachments": {},
   "cell_type": "markdown",
   "id": "7ede0732",
   "metadata": {},
   "source": [
    "En este ejemplo, definimos una función decoradora llamada decorador que toma una clase cls como entrada. La función decoradora define una clase contenedora EnvolturaClase, que envuelve la clase original y modifica su comportamiento. EnvolturaClase tiene un método __init__ para instanciar la clase envuelta y un método de saludo que realiza acciones antes y después del método de saludo de la clase envuelta. Usamos la sintaxis @decorator para aplicar el decorador a la clase Saludo. Cuando creamos una instancia de la clase Saludo y llamamos a su método de saludar, las acciones del decorador se ejecutan antes y después del método de saludo de la clase envuelta.\n",
    "\n",
    "### 1.3. Resumen\n",
    "\n",
    "Los decoradores de funciones y clases proporcionan una manera flexible y elegante de modificar el comportamiento de las funciones y clases en Python. Los decoradores de funciones envuelven funciones y le permiten agregar funcionalidad adicional o modificar sus entradas o salidas. Los decoradores de clases envuelven las clases y le permiten modificar el comportamiento, los atributos o los métodos de la clase. Los decoradores son herramientas poderosas que promueven la reutilización de código, la separación de preocupaciones y la extensibilidad. Al aplicar decoradores, puede mejorar las capacidades de funciones y clases sin modificar su código fuente original."
   ]
  }
 ],
 "metadata": {
  "jupytext": {
   "cell_metadata_filter": "-all",
   "main_language": "python",
   "notebook_metadata_filter": "-all"
  },
  "kernelspec": {
   "display_name": "Python 3",
   "language": "python",
   "name": "python3"
  },
  "language_info": {
   "codemirror_mode": {
    "name": "ipython",
    "version": 3
   },
   "file_extension": ".py",
   "mimetype": "text/x-python",
   "name": "python",
   "nbconvert_exporter": "python",
   "pygments_lexer": "ipython3",
   "version": "3.8.10"
  }
 },
 "nbformat": 4,
 "nbformat_minor": 5
}
