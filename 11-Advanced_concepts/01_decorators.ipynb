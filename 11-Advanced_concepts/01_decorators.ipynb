{
 "cells": [
  {
   "attachments": {},
   "cell_type": "markdown",
   "id": "766c8f6f",
   "metadata": {},
   "source": [
    "# Module 11: Advanced concepts\n",
    "\n",
    "## Part 1: Decorators (function decorators and class decorators)\n",
    "\n",
    "Decorators are a powerful feature in Python that allow you to modify the behavior of functions and classes without changing their source code. Decorators provide a concise and elegant way to add functionality, modify inputs or outputs, or perform actions before or after function or class execution. In this section, we will explore function decorators and class decorators in Python.\n",
    "\n",
    "### 1.1. Function decorators\n",
    "\n",
    "Function decorators are functions that wrap another function and modify its behavior. They are denoted by the @decorator_name syntax and placed above the function definition. Function decorators can be used to add additional functionality, such as logging, timing, caching, or input validation, to the wrapped function."
   ]
  },
  {
   "cell_type": "code",
   "execution_count": 2,
   "id": "52c7aba6",
   "metadata": {},
   "outputs": [
    {
     "name": "stdout",
     "output_type": "stream",
     "text": [
      "Hello, JOHN!\n"
     ]
    }
   ],
   "source": [
    "def uppercase_decorator(func):\n",
    "    def wrapper(text):\n",
    "        result = func(text.upper())\n",
    "        return result\n",
    "\n",
    "    return wrapper\n",
    "\n",
    "@uppercase_decorator\n",
    "def greet(name):\n",
    "    return f\"Hello, {name}!\"\n",
    "\n",
    "print(greet(\"John\"))  # Output: Hello, JOHN!"
   ]
  },
  {
   "attachments": {},
   "cell_type": "markdown",
   "id": "06f8cc66",
   "metadata": {},
   "source": [
    "In this example, we define a function decorator called uppercase_decorator. It takes a function func as input and defines a wrapper function wrapper that converts the input text to uppercase before calling the wrapped function func. The decorator returns the wrapper function. We apply the uppercase_decorator to the greet function using the @ syntax. When we call greet(\"John\"), the decorator converts the name to uppercase (\"JOHN\") before the greeting is returned."
   ]
  },
  {
   "cell_type": "code",
   "execution_count": 1,
   "id": "63610ae1",
   "metadata": {},
   "outputs": [
    {
     "name": "stdout",
     "output_type": "stream",
     "text": [
      "Decorator: Before function execution\n",
      "Hello, John\n",
      "Decorator: After function execution\n"
     ]
    }
   ],
   "source": [
    "def decorator(func):\n",
    "    def wrapper(*args, **kwargs):\n",
    "        # Perform actions before function execution\n",
    "        print(\"Decorator: Before function execution\")\n",
    "\n",
    "        # Call the wrapped function\n",
    "        result = func(*args, **kwargs)\n",
    "\n",
    "        # Perform actions after function execution\n",
    "        print(\"Decorator: After function execution\")\n",
    "\n",
    "        # Return the result of the wrapped function\n",
    "        return result\n",
    "\n",
    "    return wrapper\n",
    "\n",
    "@decorator\n",
    "def greeting(name):\n",
    "    print(\"Hello,\", name)\n",
    "\n",
    "greeting(\"John\")"
   ]
  },
  {
   "attachments": {},
   "cell_type": "markdown",
   "id": "07ef4504",
   "metadata": {},
   "source": [
    "In this code snippet, we define a decorator function called decorator. The decorator function takes another function func as input, defines a wrapper function wrapper that performs actions before and after function execution, and returns the wrapper function. We use the @decorator syntax to apply the decorator to the greeting function. When we call the greeting function with the name \"John\", the decorator's actions are executed before and after the greeting function's execution.\n",
    "\n",
    "### 1.2. Class decorators\n",
    "\n",
    "Class decorators are similar to function decorators but operate on classes instead of functions. They wrap the class and modify its behavior or add additional functionality. Class decorators are denoted by the @decorator_name syntax and placed above the class definition. They can be used to add mixins, enforce class-level constraints, or modify the class attributes or methods."
   ]
  },
  {
   "cell_type": "code",
   "execution_count": 3,
   "id": "05834b6b",
   "metadata": {},
   "outputs": [
    {
     "name": "stdout",
     "output_type": "stream",
     "text": [
      "New Property\n"
     ]
    }
   ],
   "source": [
    "def add_property(cls):\n",
    "    cls.new_property = \"New Property\"\n",
    "    return cls\n",
    "\n",
    "@add_property\n",
    "class MyClass:\n",
    "    pass\n",
    "\n",
    "obj = MyClass()\n",
    "print(obj.new_property)  # Output: New Property\n"
   ]
  },
  {
   "attachments": {},
   "cell_type": "markdown",
   "id": "7d308a91",
   "metadata": {},
   "source": [
    "In this example, we define a class decorator called add_property. It takes a class cls as input and adds a new class attribute called new_property to the class. The decorator returns the modified class. We apply the add_property decorator to the MyClass class using the @ syntax. When we create an instance of MyClass and access the new_property attribute, it returns the value \"New Property\" that was added by the decorator."
   ]
  },
  {
   "cell_type": "code",
   "execution_count": 4,
   "id": "f77a2b7a",
   "metadata": {},
   "outputs": [
    {
     "name": "stdout",
     "output_type": "stream",
     "text": [
      "Decorator: Before greeting\n",
      "Hello, John\n",
      "Decorator: After greeting\n"
     ]
    }
   ],
   "source": [
    "def decorator(cls):\n",
    "    class WrapperClass:\n",
    "        def __init__(self, *args, **kwargs):\n",
    "            self.wrapped = cls(*args, **kwargs)\n",
    "\n",
    "        def greet(self):\n",
    "            print(\"Decorator: Before greeting\")\n",
    "            self.wrapped.greet()\n",
    "            print(\"Decorator: After greeting\")\n",
    "\n",
    "    return WrapperClass\n",
    "\n",
    "@decorator\n",
    "class Greeting:\n",
    "    def __init__(self, name):\n",
    "        self.name = name\n",
    "\n",
    "    def greet(self):\n",
    "        print(\"Hello,\", self.name)\n",
    "\n",
    "obj = Greeting(\"John\")\n",
    "obj.greet()"
   ]
  },
  {
   "attachments": {},
   "cell_type": "markdown",
   "id": "7ede0732",
   "metadata": {},
   "source": [
    "In this example, we define a decorator function called decorator that takes a class cls as input. The decorator function defines a wrapper class WrapperClass, which wraps the original class and modifies its behavior. The WrapperClass has an __init__ method to instantiate the wrapped class and a greet method that performs actions before and after the greet method of the wrapped class. We use the @decorator syntax to apply the decorator to the Greeting class. When we create an instance of the Greeting class and call its greet method, the decorator's actions are executed before and after the greet method of the wrapped class.\n",
    "\n",
    "### 1.3. Summary\n",
    "\n",
    "Function and class decorators provide a flexible and elegant way to modify the behavior of functions and classes in Python. Function decorators wrap functions and allow you to add additional functionality or modify their inputs or outputs. Class decorators wrap classes and enable you to modify class behavior, attributes, or methods. Decorators are powerful tools that promote code reuse, separation of concerns, and extensibility. By applying decorators, you can enhance the capabilities of functions and classes without modifying their original source code."
   ]
  }
 ],
 "metadata": {
  "jupytext": {
   "cell_metadata_filter": "-all",
   "main_language": "python",
   "notebook_metadata_filter": "-all"
  },
  "kernelspec": {
   "display_name": "Python 3",
   "language": "python",
   "name": "python3"
  },
  "language_info": {
   "codemirror_mode": {
    "name": "ipython",
    "version": 3
   },
   "file_extension": ".py",
   "mimetype": "text/x-python",
   "name": "python",
   "nbconvert_exporter": "python",
   "pygments_lexer": "ipython3",
   "version": "3.8.10"
  }
 },
 "nbformat": 4,
 "nbformat_minor": 5
}
