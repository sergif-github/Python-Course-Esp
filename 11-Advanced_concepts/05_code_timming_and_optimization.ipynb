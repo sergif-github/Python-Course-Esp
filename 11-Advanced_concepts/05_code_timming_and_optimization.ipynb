{
 "cells": [
  {
   "attachments": {},
   "cell_type": "markdown",
   "id": "a35f9256",
   "metadata": {},
   "source": [
    "# Module 11: Advanced concepts\n",
    "\n",
    "## Part 5: Code timing and optimization\n",
    "\n",
    "In Python, it is often necessary to measure the execution time of code and optimize its performance to achieve faster and more efficient results. This section explores techniques for measuring code execution time and optimizing Python programs to enhance their speed and efficiency.\n",
    "\n",
    "### 5.1. Code timing\n",
    "\n",
    "Measuring the execution time of code helps identify performance bottlenecks and allows you to assess the efficiency of different implementations. The time module in Python provides functions for timing code execution, such as time.time() and timeit.\n",
    "\n",
    "To measure the execution time of a specific block of code, we can use the time module as follows:"
   ]
  },
  {
   "cell_type": "code",
   "execution_count": 1,
   "id": "cdba6366",
   "metadata": {},
   "outputs": [
    {
     "name": "stdout",
     "output_type": "stream",
     "text": [
      "Execution time: 0.012998819351196289 seconds\n"
     ]
    }
   ],
   "source": [
    "import time\n",
    "\n",
    "start_time = time.time()\n",
    "\n",
    "# Code to be timed\n",
    "for i in range(1000000):\n",
    "    pass\n",
    "\n",
    "end_time = time.time()\n",
    "execution_time = end_time - start_time\n",
    "\n",
    "print(f\"Execution time: {execution_time} seconds\")"
   ]
  },
  {
   "attachments": {},
   "cell_type": "markdown",
   "id": "108c0381",
   "metadata": {},
   "source": [
    "In this example, we import the time module and record the start time using time.time(). We then execute the code to be timed, in this case, a simple loop. After the execution, we calculate the elapsed time by subtracting the start time from the current time (time.time()). Finally, we print the execution time in seconds.\n",
    "\n",
    "Alternatively, we can use the timeit module, which provides a more precise way to measure execution time:"
   ]
  },
  {
   "cell_type": "code",
   "execution_count": 8,
   "id": "9a13a4c7",
   "metadata": {},
   "outputs": [
    {
     "name": "stdout",
     "output_type": "stream",
     "text": [
      "Execution time: 0.0001935999999886917 seconds\n"
     ]
    }
   ],
   "source": [
    "import timeit\n",
    "\n",
    "def func():\n",
    "    i = 1000\n",
    "    for x in range(1000):\n",
    "        i -= 1\n",
    "\n",
    "execution_time = timeit.timeit(func, number=5)\n",
    "print(f\"Execution time: {execution_time} seconds\")"
   ]
  },
  {
   "attachments": {},
   "cell_type": "markdown",
   "id": "76d8e413",
   "metadata": {},
   "source": [
    "In this example, we define the code to be timed in func(). The timeit.timeit() function is then used to measure\n",
    "the execution time of the code. The number argument specifies the number of times the code should be executed to obtain an accurate timing result.\n",
    "\n",
    "### 5.2. Code optimization\n",
    "\n",
    "Code optimization aims to improve the performance of a program by reducing its execution time or memory usage. Common optimization techniques include algorithmic optimizations, data structure optimizations, and code-level optimizations.\n",
    "By selecting the right algorithm and data structure for a given problem, we can significantly improve the performance of our code.\n",
    "\n",
    "Some common examples of efficient algorithms and data structures include:\n",
    "- Using hash tables (dictionaries) for fast key-value lookups.\n",
    "- Employing binary search for efficient searching in sorted lists or arrays.\n",
    "- Utilizing dynamic programming to avoid redundant computations in recursive problems.\n",
    "- Implementing data structures like heaps or priority queues for efficient element insertion and retrieval.\n",
    "- Understanding algorithmic complexity (Big O notation) is also important in assessing the efficiency of different algorithms and choosing the most appropriate one for our specific use case.\n",
    "    Big O notation represents the upper bound or worst-case scenario of the time or space complexity of an algorithm. It expresses how the algorithm's performance scales as the input size increases. It focuses on the most significant term in the complexity equation and discards constants and lower-order terms.\n",
    "    - O(1): Constant time. The algorithm's runtime is constant, regardless of the input size.\n",
    "    - O(log n): Logarithmic time. The algorithm's runtime grows logarithmically with the input size.\n",
    "    - O(n): Linear time. The algorithm's runtime grows linearly with the input size.\n",
    "    - O(n log n): Log-linear time. The algorithm's runtime grows linearly multiplied by a logarithmic factor.\n",
    "    - O(n^2): Quadratic time. The algorithm's runtime grows quadratically with the input size.\n",
    "    - O(2^n): Exponential time. The algorithm's runtime grows exponentially with the input size.\n",
    "\n",
    "Apart from algorithmic improvements, there are various coding techniques we can employ to optimize code efficiency:\n",
    "- Minimize unnecessary computations and avoid redundant calculations.\n",
    "- Utilize built-in functions and libraries instead of reinventing the wheel.\n",
    "- Optimize loops by reducing the number of iterations or utilizing vectorized operations.\n",
    "- Avoid excessive memory usage by optimizing data structures and using generators or iterators when appropriate.\n",
    "- Use efficient string manipulation techniques, such as joining instead of concatenating strings in loops.\n",
    "- Profile and analyze code to identify performance bottlenecks and focus optimization efforts on critical sections.\n",
    "\n",
    "It is important to note that code optimization should be done judiciously. Premature optimization can lead to complex and harder-to-maintain code,\n",
    "so it is recommended to focus on optimizing critical sections that have a significant impact on performance."
   ]
  },
  {
   "cell_type": "code",
   "execution_count": 9,
   "id": "a33116ad",
   "metadata": {},
   "outputs": [
    {
     "name": "stdout",
     "output_type": "stream",
     "text": [
      "338350\n"
     ]
    }
   ],
   "source": [
    "def sum_of_squares(n):\n",
    "    return sum([i**2 for i in range(1, n+1)])\n",
    "\n",
    "print(sum_of_squares(100))"
   ]
  },
  {
   "attachments": {},
   "cell_type": "markdown",
   "id": "42c55602",
   "metadata": {},
   "source": [
    "In this example, we define a function called sum_of_squares that calculates the sum of squares from 1 to n. Initially, it uses a list comprehension to generate the squares of each number from 1 to n and then calculates their sum using the sum() function. This implementation has a time complexity of O(n). An optimized version could use a mathematical formula to directly compute the sum of squares, resulting in a time complexity of O(1)."
   ]
  },
  {
   "cell_type": "code",
   "execution_count": 10,
   "id": "5738acab",
   "metadata": {},
   "outputs": [],
   "source": [
    "def process_data(data):\n",
    "    result = []\n",
    "\n",
    "    for item in data:\n",
    "        # Perform some operations\n",
    "        processed_item = item * 2\n",
    "        result.append(processed_item)\n",
    "\n",
    "    return result\n",
    "\n",
    "data = [1, 2, 3, 4, 5]\n",
    "processed_data = process_data(data)"
   ]
  },
  {
   "attachments": {},
   "cell_type": "markdown",
   "id": "780b25cd",
   "metadata": {},
   "source": [
    "In this example, we have a function called process_data that performs some operations on a given list of data. The current implementation uses a for loop and repeatedly appends processed items to a result list. An optimized version could utilize list comprehension or generator expressions to eliminate the explicit loop and reduce memory usage.\n",
    "\n",
    "### 5.3. Summary\n",
    "\n",
    "We explored code timing and optimization techniques in Python. Timing code execution and optimizing Python programs are essential aspects of programming. By measuring execution time, you can identify performance bottlenecks and areas for improvement. Optimization techniques, such as algorithmic optimizations and code-level optimizations, allow you to enhance the speed and efficiency of your code. By understanding and applying these techniques, you can create more performant and optimized Python programs. Remember to profile and test your code to ensure that optimization efforts result in the desired improvements."
   ]
  }
 ],
 "metadata": {
  "jupytext": {
   "cell_metadata_filter": "-all",
   "main_language": "python",
   "notebook_metadata_filter": "-all"
  },
  "kernelspec": {
   "display_name": "Python 3",
   "language": "python",
   "name": "python3"
  },
  "language_info": {
   "codemirror_mode": {
    "name": "ipython",
    "version": 3
   },
   "file_extension": ".py",
   "mimetype": "text/x-python",
   "name": "python",
   "nbconvert_exporter": "python",
   "pygments_lexer": "ipython3",
   "version": "3.8.10"
  }
 },
 "nbformat": 4,
 "nbformat_minor": 5
}
