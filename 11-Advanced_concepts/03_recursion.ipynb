{
 "cells": [
  {
   "attachments": {},
   "cell_type": "markdown",
   "id": "1d293e82",
   "metadata": {},
   "source": [
    "# Module 11: Advanced concepts\n",
    "\n",
    "## Part 3: Recursion\n",
    "\n",
    "Recursion is a powerful programming technique where a function calls itself to solve a problem by breaking it down into smaller subproblems. It is an alternative to iterative (loop-based) solutions and can be particularly useful for solving problems that exhibit a recursive structure. In this section, we will explore recursion and understand its principles and applications.\n",
    "\n",
    "### 3.1. Principles of recursion\n",
    "\n",
    "Recursion follows the principle of solving a problem by reducing it to a simpler version of the same problem. It involves two essential components:\n",
    "\n",
    "- Base Case: A condition that determines when the recursion should stop. It represents the simplest form of the problem that can be directly solved.\n",
    "- Recursive Case: The portion of the problem that can be broken down into smaller subproblems. The function calls itself with modified input to solve these subproblems.\n",
    "\n",
    "### 3.2. Typical recursion problems \n",
    "\n",
    "Recursion is commonly used to solve a variety of problems in programming. Some typical recursion problems include:\n",
    "\n",
    "- **Factorial**: The factorial of a non-negative integer n, denoted as n!, is the product of all positive integers less than or equal to n.\n",
    "- **Binary Search**: A divide and conquer algorithm for searching elements in a sorted array.\n",
    "- **Tower of Hanoi**: A puzzle that involves moving disks from one peg to another using three pegs.\n",
    "- **Depth-First Search**: A graph traversal algorithm that explores as far as possible along each branch before backtracking.\n",
    "- **Merge Sort**: A sorting algorithm that divides the input array into smaller subarrays, sorts them, and then merges them back together.\n",
    "- **Permutations and Combinations**: Problems involving generating all possible arrangements or selections of elements.\n",
    "- **Backtracking**: A general algorithmic technique for finding solutions by trying all possible options and undoing incorrect choices."
   ]
  },
  {
   "attachments": {},
   "cell_type": "markdown",
   "id": "e1a1dee4",
   "metadata": {},
   "source": [
    "#### 3.2.1. Factorial\n",
    "\n",
    "The factorial function recursively calls itself, reducing the problem into smaller subproblems until the base case is reached (n == 0),\n",
    "where it returns the value 1. The recursive calls are then multiplied together to calculate the factorial of n."
   ]
  },
  {
   "cell_type": "code",
   "execution_count": 1,
   "id": "46a81811",
   "metadata": {},
   "outputs": [],
   "source": [
    "def factorial(n):\n",
    "    if n == 0:\n",
    "        return 1\n",
    "    else:\n",
    "        return n * factorial(n - 1)"
   ]
  },
  {
   "attachments": {},
   "cell_type": "markdown",
   "id": "af8cd91e",
   "metadata": {},
   "source": [
    "Example usage:"
   ]
  },
  {
   "cell_type": "code",
   "execution_count": 2,
   "id": "1117ab73",
   "metadata": {},
   "outputs": [
    {
     "name": "stdout",
     "output_type": "stream",
     "text": [
      "120\n",
      "1\n"
     ]
    }
   ],
   "source": [
    "print(factorial(5))  # Output: 120\n",
    "print(factorial(0))  # Output: 1"
   ]
  },
  {
   "attachments": {},
   "cell_type": "markdown",
   "id": "97db7b17",
   "metadata": {},
   "source": [
    "#### 3.2.2. Binary search\n",
    "\n",
    "Binary search is a searching algorithm that finds the position of a target value within a sorted array. It works by repeatedly \n",
    "dividing the search space in half until the target value is found or determined to be not present."
   ]
  },
  {
   "cell_type": "code",
   "execution_count": 3,
   "id": "d48f4238",
   "metadata": {},
   "outputs": [],
   "source": [
    "def binary_search(arr, target, low, high):\n",
    "    if low > high:\n",
    "        return -1\n",
    "    else:\n",
    "        mid = (low + high) // 2\n",
    "        if arr[mid] == target:\n",
    "            return mid\n",
    "        elif arr[mid] < target:\n",
    "            return binary_search(arr, target, mid + 1, high)\n",
    "        else:\n",
    "            return binary_search(arr, target, low, mid - 1)"
   ]
  },
  {
   "attachments": {},
   "cell_type": "markdown",
   "id": "1beb7a75",
   "metadata": {},
   "source": [
    "Example usage:"
   ]
  },
  {
   "cell_type": "code",
   "execution_count": 4,
   "id": "1a479545",
   "metadata": {},
   "outputs": [
    {
     "name": "stdout",
     "output_type": "stream",
     "text": [
      "3\n"
     ]
    }
   ],
   "source": [
    "arr = [1, 3, 5, 7, 9, 11, 13]\n",
    "target = 7\n",
    "result = binary_search(arr, target, 0, len(arr) - 1)\n",
    "print(result)  # Output: 3"
   ]
  },
  {
   "attachments": {},
   "cell_type": "markdown",
   "id": "c80fc91b",
   "metadata": {},
   "source": [
    "#### 3.2.3. Tower of hanoi\n",
    "\n",
    "The Tower of Hanoi is a mathematical puzzle that consists of three pegs and a number of disks of different sizes. The objective is to move \n",
    "the entire stack of disks from one peg to another, following the rules that only one disk can be moved at a time and a larger disk \n",
    "cannot be placed on top of a smaller disk."
   ]
  },
  {
   "cell_type": "code",
   "execution_count": 5,
   "id": "f4c005e4",
   "metadata": {},
   "outputs": [],
   "source": [
    "def tower_of_hanoi(n, source, destination, auxiliary):\n",
    "    if n > 0:\n",
    "        tower_of_hanoi(n - 1, source, auxiliary, destination)\n",
    "        print(f\"Move disk {n} from {source} to {destination}\")\n",
    "        tower_of_hanoi(n - 1, auxiliary, destination, source)"
   ]
  },
  {
   "attachments": {},
   "cell_type": "markdown",
   "id": "d450ab61",
   "metadata": {},
   "source": [
    "Example usage:"
   ]
  },
  {
   "cell_type": "code",
   "execution_count": 6,
   "id": "c7e75ffe",
   "metadata": {
    "lines_to_next_cell": 0
   },
   "outputs": [
    {
     "name": "stdout",
     "output_type": "stream",
     "text": [
      "Move disk 1 from A to C\n",
      "Move disk 2 from A to B\n",
      "Move disk 1 from C to B\n",
      "Move disk 3 from A to C\n",
      "Move disk 1 from B to A\n",
      "Move disk 2 from B to C\n",
      "Move disk 1 from A to C\n"
     ]
    }
   ],
   "source": [
    "tower_of_hanoi(3, 'A', 'C', 'B')"
   ]
  },
  {
   "attachments": {},
   "cell_type": "markdown",
   "id": "2c6a6042",
   "metadata": {},
   "source": [
    "Output:\n",
    "```\n",
    "Move disk 1 from A to C\n",
    "Move disk 2 from A to B\n",
    "Move disk 1 from C to B\n",
    "Move disk 3 from A to C\n",
    "Move disk 1 from B to A\n",
    "Move disk 2 from B to C\n",
    "Move disk 1 from A to C\n",
    "```\n",
    "\n",
    "#### 3.2.4. Depth-first search (DFS)\n",
    "\n",
    "Depth-First Search is a graph traversal algorithm that explores as far as possible along each branch before backtracking. It can be implemented recursively."
   ]
  },
  {
   "cell_type": "code",
   "execution_count": 7,
   "id": "ae855074",
   "metadata": {},
   "outputs": [],
   "source": [
    "def dfs(graph, start, visited=None):\n",
    "    if visited is None:\n",
    "        visited = set()\n",
    "    visited.add(start)\n",
    "    print(start)\n",
    "    for neighbor in graph[start]:\n",
    "        if neighbor not in visited:\n",
    "            dfs(graph, neighbor, visited)"
   ]
  },
  {
   "attachments": {},
   "cell_type": "markdown",
   "id": "8a399e04",
   "metadata": {},
   "source": [
    "Example usage:"
   ]
  },
  {
   "cell_type": "code",
   "execution_count": 8,
   "id": "8d20c67d",
   "metadata": {},
   "outputs": [
    {
     "name": "stdout",
     "output_type": "stream",
     "text": [
      "A\n",
      "B\n",
      "D\n",
      "E\n",
      "C\n",
      "F\n"
     ]
    }
   ],
   "source": [
    "graph = {\n",
    "    'A': ['B', 'C'],\n",
    "    'B': ['D', 'E'],\n",
    "    'C': ['F'],\n",
    "    'D': [],\n",
    "    'E': [],\n",
    "    'F': []\n",
    "}\n",
    "\n",
    "dfs(graph, 'A')"
   ]
  },
  {
   "attachments": {},
   "cell_type": "markdown",
   "id": "be00cfc4",
   "metadata": {},
   "source": [
    "Output:\n",
    "```\n",
    "A\n",
    "B\n",
    "D\n",
    "E\n",
    "C\n",
    "F\n",
    "```\n",
    "\n",
    "#### 3.2.5. Merge sort\n",
    "\n",
    "Merge Sort is a sorting algorithm that follows the divide-and-conquer approach. It recursively divides the input array into two halves, \n",
    "sorts them separately, and then merges the sorted halves."
   ]
  },
  {
   "cell_type": "code",
   "execution_count": 9,
   "id": "5e1142c0",
   "metadata": {},
   "outputs": [],
   "source": [
    "def merge_sort(arr):\n",
    "    if len(arr) <= 1:\n",
    "        return arr\n",
    "    mid = len(arr) // 2\n",
    "    left = merge_sort(arr[:mid])\n",
    "    right = merge_sort(arr[mid:])\n",
    "    return merge(left, right)\n",
    "\n",
    "def merge(left, right):\n",
    "    result = []\n",
    "    i, j = 0, 0\n",
    "    while i < len(left) and j < len(right):\n",
    "        if left[i] <= right[j]:\n",
    "            result.append(left[i])\n",
    "            i += 1\n",
    "        else:\n",
    "            result.append(right[j])\n",
    "            j += 1\n",
    "    result.extend(left[i:])\n",
    "    result.extend(right[j:])\n",
    "    return result"
   ]
  },
  {
   "attachments": {},
   "cell_type": "markdown",
   "id": "d23c9310",
   "metadata": {},
   "source": [
    "Example usage:"
   ]
  },
  {
   "cell_type": "code",
   "execution_count": 10,
   "id": "1e67e93f",
   "metadata": {},
   "outputs": [
    {
     "name": "stdout",
     "output_type": "stream",
     "text": [
      "[1, 2, 3, 4, 5, 6, 7, 8, 9]\n"
     ]
    }
   ],
   "source": [
    "arr = [9, 5, 1, 3, 7, 2, 8, 6, 4]\n",
    "sorted_arr = merge_sort(arr)\n",
    "print(sorted_arr)  # Output: [1, 2, 3, 4, 5, 6, 7, 8, 9]"
   ]
  },
  {
   "attachments": {},
   "cell_type": "markdown",
   "id": "8322164e",
   "metadata": {},
   "source": [
    "#### 3.2.6. Permutations and combinations\n",
    "\n",
    "Permutations and combinations are mathematical concepts used to count the number of possible arrangements or selections from a given set of elements.\n",
    "They can be computed recursively."
   ]
  },
  {
   "cell_type": "code",
   "execution_count": 11,
   "id": "abcba599",
   "metadata": {},
   "outputs": [
    {
     "name": "stdout",
     "output_type": "stream",
     "text": [
      "[('A', 'B', 'C'), ('A', 'C', 'B'), ('B', 'A', 'C'), ('B', 'C', 'A'), ('C', 'A', 'B'), ('C', 'B', 'A')]\n",
      "[('A', 'B'), ('A', 'C'), ('B', 'C')]\n"
     ]
    }
   ],
   "source": [
    "import itertools\n",
    "\n",
    "# Permutations\n",
    "items = ['A', 'B', 'C']\n",
    "permutations = list(itertools.permutations(items))\n",
    "print(permutations)  # Output: [('A', 'B', 'C'), ('A', 'C', 'B'), ('B', 'A', 'C'), ('B', 'C', 'A'), ('C', 'A', 'B'), ('C', 'B', 'A')]\n",
    "\n",
    "# Combinations\n",
    "combinations = list(itertools.combinations(items, 2))\n",
    "print(combinations)  # Output: [('A', 'B'), ('A', 'C'), ('B', 'C')]"
   ]
  },
  {
   "attachments": {},
   "cell_type": "markdown",
   "id": "de2ddee9",
   "metadata": {},
   "source": [
    "#### 3.2.7. Backtracking\n",
    "\n",
    "Backtracking is an advanced algorithmic technique that involves exploring all possible solutions by incrementally building candidates and abandoning a candidate\n",
    "as soon as it is determined to be invalid. It is often used for solving problems such as finding all possible permutations, combinations, or solving puzzles.\n",
    "\n",
    "The implementation of backtracking varies depending on the specific problem being solved.\n",
    "\n",
    "### 3.3. Summary \n",
    "\n",
    "Recursion is a powerful technique in programming that involves a function calling itself to solve a problem by breaking it down into smaller subproblems. It follows the principles of a base case and recursive case, where the base case represents the simplest form of the problem that can be directly solved, and the recursive case breaks down the problem into smaller subproblems. Recursion can be applied to a wide range of problems and provides an elegant and concise solution in many cases. However, it requires careful consideration of termination conditions and can potentially lead to stack overflow if not implemented correctly. With an understanding of recursion, you can tackle complex problems and develop efficient algorithms in your Python programs."
   ]
  }
 ],
 "metadata": {
  "jupytext": {
   "cell_metadata_filter": "-all",
   "main_language": "python",
   "notebook_metadata_filter": "-all"
  },
  "kernelspec": {
   "display_name": "Python 3",
   "language": "python",
   "name": "python3"
  },
  "language_info": {
   "codemirror_mode": {
    "name": "ipython",
    "version": 3
   },
   "file_extension": ".py",
   "mimetype": "text/x-python",
   "name": "python",
   "nbconvert_exporter": "python",
   "pygments_lexer": "ipython3",
   "version": "3.8.10"
  }
 },
 "nbformat": 4,
 "nbformat_minor": 5
}
