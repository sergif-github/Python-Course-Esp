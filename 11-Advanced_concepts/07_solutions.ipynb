{
 "cells": [
  {
   "attachments": {},
   "cell_type": "markdown",
   "metadata": {},
   "source": [
    "# Module 11: Advanced concepts\n",
    "\n",
    "## Part 7: Solutions\n",
    "\n",
    "### Exercise 1 \n",
    "Write a decorator function called uppercase_decorator that takes a function as an argument and wraps it with code to convert the result to uppercase. Use the decorator to modify the greeting function that returns a greeting message."
   ]
  },
  {
   "cell_type": "code",
   "execution_count": null,
   "metadata": {},
   "outputs": [],
   "source": [
    "def uppercase_decorator(func):\n",
    "    def wrapper():\n",
    "        result = func()\n",
    "        return result.upper()\n",
    "    return wrapper\n",
    "\n",
    "@uppercase_decorator\n",
    "def greeting():\n",
    "    return \"hello, world!\"\n",
    "\n",
    "print(greeting())"
   ]
  },
  {
   "attachments": {},
   "cell_type": "markdown",
   "metadata": {},
   "source": [
    "### Exercise 2\n",
    "Create a generator function called fibonacci that generates the Fibonacci sequence up to a given number n. Iterate over the generated sequence using a for loop and print each number."
   ]
  },
  {
   "cell_type": "code",
   "execution_count": null,
   "metadata": {},
   "outputs": [],
   "source": [
    "def fibonacci(n):\n",
    "    a, b = 0, 1\n",
    "    while a < n:\n",
    "        yield a\n",
    "        a, b = b, a + b\n",
    "\n",
    "for num in fibonacci(100):\n",
    "    print(num)"
   ]
  },
  {
   "attachments": {},
   "cell_type": "markdown",
   "metadata": {},
   "source": [
    "### Exercise 3\n",
    "Write a recursive function called factorial that calculates the factorial of a given number n. Test the function by calculating the factorial of 5."
   ]
  },
  {
   "cell_type": "code",
   "execution_count": null,
   "metadata": {},
   "outputs": [],
   "source": [
    "def factorial(n):\n",
    "    if n == 0:\n",
    "        return 1\n",
    "    return n * factorial(n - 1)\n",
    "\n",
    "print(factorial(5))"
   ]
  },
  {
   "attachments": {},
   "cell_type": "markdown",
   "metadata": {},
   "source": [
    "### Exercise 4\n",
    "Debug the following code using the pdb module to identify and fix the error:"
   ]
  },
  {
   "cell_type": "code",
   "execution_count": null,
   "metadata": {},
   "outputs": [],
   "source": [
    "import pdb\n",
    "\n",
    "def divide(a, b):\n",
    "    result = a / b  # Error: division by zero \n",
    "    return result\n",
    "\n",
    "pdb.set_trace()\n",
    "x = 10\n",
    "y = 0\n",
    "z = divide(x, y)\n",
    "print(z)"
   ]
  },
  {
   "attachments": {},
   "cell_type": "markdown",
   "metadata": {},
   "source": [
    "### Exercise 5\n",
    "Measure the execution time of two different implementations of a function that calculates the sum of squares from 1 to n. Compare the execution times using the timeit module."
   ]
  },
  {
   "cell_type": "code",
   "execution_count": 3,
   "metadata": {},
   "outputs": [
    {
     "name": "stdout",
     "output_type": "stream",
     "text": [
      "Regular implementation execution time: 1.4490614999999991\n",
      "Optimized implementation execution time: 3.900000010048643e-06\n"
     ]
    }
   ],
   "source": [
    "import timeit\n",
    "\n",
    "def sum_of_squares(n):\n",
    "    return sum([i**2 for i in range(1, n+1)])\n",
    "\n",
    "def sum_of_squares_optimized(n):\n",
    "    return (n * (n + 1) * (2 * n + 1)) // 6\n",
    "\n",
    "n = 1000000\n",
    "\n",
    "execution_time_regular = timeit.timeit(lambda: sum_of_squares(n), number=10)\n",
    "execution_time_optimized = timeit.timeit(lambda: sum_of_squares_optimized(n), number=10)\n",
    "\n",
    "print(\"Regular implementation execution time:\", execution_time_regular)\n",
    "print(\"Optimized implementation execution time:\", execution_time_optimized)\n"
   ]
  }
 ],
 "metadata": {
  "kernelspec": {
   "display_name": "Python 3",
   "language": "python",
   "name": "python3"
  },
  "language_info": {
   "codemirror_mode": {
    "name": "ipython",
    "version": 3
   },
   "file_extension": ".py",
   "mimetype": "text/x-python",
   "name": "python",
   "nbconvert_exporter": "python",
   "pygments_lexer": "ipython3",
   "version": "3.8.10"
  },
  "orig_nbformat": 4
 },
 "nbformat": 4,
 "nbformat_minor": 2
}
