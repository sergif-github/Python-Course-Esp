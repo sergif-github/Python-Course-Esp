{
 "cells": [
  {
   "attachments": {},
   "cell_type": "markdown",
   "id": "fd139ade",
   "metadata": {},
   "source": [
    "# Module 11: Advanced concepts\n",
    "\n",
    "## Part 4: Debugging with the debugger\n",
    "\n",
    "Debugging is an essential skill for every programmer. By mastering the art of debugging, you can effectively identify and fix errors in your code,\n",
    "leading to more robust and reliable programs.\n",
    "\n",
    "### 4.1. Pdb module\n",
    "\n",
    "The pdb module in Python stands for \"Python Debugger\" and provides a built-in debugger for interactive debugging of Python programs. It allows you to pause the execution of your program, inspect variables, evaluate expressions, and trace the flow of control to identify and fix issues. In this section, we will explore the pdb module and learn how to use it for debugging purposes."
   ]
  },
  {
   "cell_type": "code",
   "execution_count": 2,
   "id": "b17a5e69",
   "metadata": {},
   "outputs": [
    {
     "name": "stdout",
     "output_type": "stream",
     "text": [
      "> \u001b[1;32mc:\\users\\coronis\\appdata\\local\\temp\\ipykernel_17740\\1009947089.py\u001b[0m(6)\u001b[0;36mcalculate_sum\u001b[1;34m()\u001b[0m\n",
      "\n"
     ]
    }
   ],
   "source": [
    "import pdb\n",
    "\n",
    "def calculate_sum(a, b):\n",
    "    result = a + b\n",
    "    pdb.set_trace()  # Add a breakpoint here\n",
    "    return result\n",
    "\n",
    "num1 = 5\n",
    "num2 = 10\n",
    "sum_result = calculate_sum(num1, num2)\n",
    "print(\"Sum:\", sum_result)"
   ]
  },
  {
   "attachments": {},
   "cell_type": "markdown",
   "id": "f53e4da0",
   "metadata": {},
   "source": [
    "In this example, we import the pdb module and add a pdb.set_trace() statement at the desired breakpoint. When the code execution reaches\n",
    "this point, it will pause, and the debugger prompt will appear. From here, you can interact with the debugger using various commands.\n",
    "\n",
    "### 4.2. Debugging commands\n",
    "\n",
    "The pdb module provides various commands that you can use during debugging to navigate and analyze your code. Some commonly used commands include:\n",
    "\n",
    "- s or step: Execute the current line and stop at the next line.\n",
    "- n or next: Execute the current line and continue to the next line.\n",
    "- l or list: Show the current line of code and the surrounding lines.\n",
    "- p or print: Print the value of a variable or expression.\n",
    "- q or quit: Quit the debugger and terminate the program.\n",
    "\n",
    "### 4.3. Summary\n",
    "\n",
    "The pdb module in Python provides a powerful built-in debugger for interactive debugging of your programs. With the ability to set breakpoints, step through code, and examine variables, the pdb module allows you to identify and fix issues in your code effectively. By using the various debugging commands provided by pdb, you can gain insights into the behavior of your program and resolve errors or unexpected behaviors. The pdb module is a valuable tool for developers, especially when dealing with complex code or difficult-to-reproduce bugs."
   ]
  }
 ],
 "metadata": {
  "jupytext": {
   "cell_metadata_filter": "-all",
   "main_language": "python",
   "notebook_metadata_filter": "-all"
  },
  "kernelspec": {
   "display_name": "Python 3",
   "language": "python",
   "name": "python3"
  },
  "language_info": {
   "codemirror_mode": {
    "name": "ipython",
    "version": 3
   },
   "file_extension": ".py",
   "mimetype": "text/x-python",
   "name": "python",
   "nbconvert_exporter": "python",
   "pygments_lexer": "ipython3",
   "version": "3.8.10"
  }
 },
 "nbformat": 4,
 "nbformat_minor": 5
}
