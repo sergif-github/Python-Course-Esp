{
 "cells": [
  {
   "attachments": {},
   "cell_type": "markdown",
   "id": "76dfedc1",
   "metadata": {},
   "source": [
    "# Module 7: Exception handling\n",
    "\n",
    "## Part 3: Raising exceptions\n",
    "\n",
    "In Python, you can raise exceptions explicitly to indicate that an error or exceptional condition has occurred during the execution\n",
    "of your code. This can be useful when you want to handle specific situations or enforce certain conditions.\n",
    "\n",
    "### 3.1. Raising exceptions\n",
    "\n",
    "To raise an exception, you use the raise statement followed by an instance of an exception class or an exception object. \n",
    "\n",
    "Here's the basic syntax:\n",
    "\n",
    "```python\n",
    "raise ExceptionType(\"Error message\")\n",
    "```\n",
    "\n",
    "For example, to raise a ValueError exception with a custom error message, you can write:\n",
    "\n",
    "```python\n",
    "raise ValueError(\"Invalid input. Please enter a positive number.\")\n",
    "```\n",
    "\n",
    "When an exception is raised, the program flow is interrupted, and the raised exception is propagated up the call stack until \n",
    "it is caught by an appropriate except block.\n",
    "\n",
    "Here's an example that demonstrates raising a custom exception:"
   ]
  },
  {
   "cell_type": "code",
   "execution_count": 1,
   "id": "1a97c55d",
   "metadata": {},
   "outputs": [
    {
     "name": "stdout",
     "output_type": "stream",
     "text": [
      "Error: Value must be positive.\n"
     ]
    }
   ],
   "source": [
    "def check_positive(value):\n",
    "    if value <= 0:\n",
    "        raise ValueError(\"Value must be positive.\")\n",
    "    return value\n",
    "\n",
    "try:\n",
    "    num = int(input(\"Enter a positive number: \"))\n",
    "    validated_num = check_positive(num)\n",
    "    print(\"Number:\", validated_num)\n",
    "except ValueError as ve:\n",
    "    print(\"Error:\", str(ve))"
   ]
  },
  {
   "attachments": {},
   "cell_type": "markdown",
   "id": "81e4ee68",
   "metadata": {},
   "source": [
    "In this example, we have a function check_positive that validates whether a given number is positive. If the number is less than or equal to 0, we raise a ValueError with a custom error message.\n",
    "\n",
    "Inside the try block, we prompt the user to enter a positive number, and then call the check_positive function to validate it. If the number fails the validation, a ValueError is raised, and the corresponding except block handles the exception by printing the error message.\n",
    "\n",
    "This example demonstrates a concise way to raise a custom exception based on a specific condition. It ensures that the entered number meets the required criteria, and if not, it provides a clear error message to the user.\n",
    "\n",
    "### 3.2. Custom exceptions\n",
    "\n",
    "In addition to built-in exceptions, you can also create your own custom exception classes to represent specific types of \n",
    "errors or exceptional conditions in your code. Custom exceptions can provide more meaningful error messages and allow you to \n",
    "handle specific situations with greater control.\n",
    "\n",
    "To create a custom exception, you typically define a new class that inherits from the Exception class or one of its subclasses. \n",
    "\n",
    "Here's the last example using custom exceptions:"
   ]
  },
  {
   "cell_type": "code",
   "execution_count": 2,
   "id": "4b0c5c1d",
   "metadata": {},
   "outputs": [
    {
     "name": "stdout",
     "output_type": "stream",
     "text": [
      "Error: Value must be positive.\n"
     ]
    }
   ],
   "source": [
    "class NonPositiveError(Exception):\n",
    "    def __init__(self, message=\"Value must be positive.\"):\n",
    "        self.message = message\n",
    "        super().__init__(self.message)\n",
    "\n",
    "def check_positive(value):\n",
    "    if value <= 0:\n",
    "        raise NonPositiveError()\n",
    "    return value\n",
    "\n",
    "try:\n",
    "    num = int(input(\"Enter a positive number: \"))\n",
    "    validated_num = check_positive(num)\n",
    "    print(\"Number:\", validated_num)\n",
    "except NonPositiveError as npe:\n",
    "    print(\"Error:\", str(npe))"
   ]
  },
  {
   "attachments": {},
   "cell_type": "markdown",
   "id": "7ae0f4f3",
   "metadata": {},
   "source": [
    "In this example, we define a custom exception called NonPositiveError, which is a subclass of the base Exception class. The NonPositiveError class overrides the __init__ method to allow customization of the error message.\n",
    "\n",
    "Inside the check_positive function, if the value is less than or equal to 0, we raise the NonPositiveError exception.\n",
    "\n",
    "Within the try block, we prompt the user to enter a positive number and call the check_positive function. If the number fails the validation, a NonPositiveError is raised. The corresponding except block specifically handles the NonPositiveError exception and displays the error message associated with it.\n",
    "\n",
    "By using custom exceptions, we can provide more specific and descriptive error messages tailored to the specific type of error encountered. It helps improve code readability and allows for more meaningful error handling.\n",
    "\n",
    "### 3.3. Summary\n",
    "\n",
    "Raising exceptions allows you to explicitly indicate errors or exceptional conditions in your code. By raising built-in or custom\n",
    "exceptions, you can handle specific situations, enforce conditions, and provide meaningful error messages. When an exception is raised,\n",
    "the program flow is interrupted and the raised exception is propagated up the call stack until it is caught by an appropriate except block."
   ]
  }
 ],
 "metadata": {
  "jupytext": {
   "cell_metadata_filter": "-all",
   "main_language": "python",
   "notebook_metadata_filter": "-all"
  },
  "kernelspec": {
   "display_name": "Python 3",
   "language": "python",
   "name": "python3"
  },
  "language_info": {
   "codemirror_mode": {
    "name": "ipython",
    "version": 3
   },
   "file_extension": ".py",
   "mimetype": "text/x-python",
   "name": "python",
   "nbconvert_exporter": "python",
   "pygments_lexer": "ipython3",
   "version": "3.8.10"
  }
 },
 "nbformat": 4,
 "nbformat_minor": 5
}
