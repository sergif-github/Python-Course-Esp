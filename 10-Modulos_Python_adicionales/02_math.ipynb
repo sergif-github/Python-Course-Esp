{
 "cells": [
  {
   "attachments": {},
   "cell_type": "markdown",
   "id": "14c54ceb",
   "metadata": {},
   "source": [
    "# Módulo 10: Módulos adicionales de Python\n",
    "\n",
    "## Parte 2: Módulo math\n",
    "\n",
    "El módulo math en Python proporciona un conjunto de funciones y constantes para realizar varias operaciones matemáticas. Ofrece funcionalidades más allá de las operaciones aritméticas básicas proporcionadas por los operadores integrados de Python. Exploremos el módulo math y sus características clave.\n",
    "\n",
    "### 2.1. Introducción al módulo math\n",
    "\n",
    "El módulo math es parte de la biblioteca estándar de Python y brinda acceso a una variedad de funciones y constantes. Es particularmente útil para cálculos matemáticos avanzados que van más allá de las operaciones aritméticas básicas. El módulo le permite realizar operaciones como trigonometría, exponenciación, logaritmos y más.\n",
    "\n",
    "Aquí hay un ejemplo:"
   ]
  },
  {
   "cell_type": "code",
   "execution_count": null,
   "id": "89452a4c",
   "metadata": {},
   "outputs": [],
   "source": [
    "import math\n",
    "\n",
    "# Calcular la raíz cuadrada de un número\n",
    "x = 16\n",
    "sqrt_x = math.sqrt(x)\n",
    "print(sqrt_x)\n",
    "\n",
    "# Calcular el valor de pi\n",
    "pi = math.pi\n",
    "print(pi)"
   ]
  },
  {
   "attachments": {},
   "cell_type": "markdown",
   "id": "d022d040",
   "metadata": {},
   "source": [
    "En este fragmento de código, importamos el módulo matemático. Luego usamos la función sqrt() del módulo para calcular la raíz cuadrada de un número (x = 16). El resultado se almacena en la variable sqrt_x y se imprime. Además, accedemos a la constante pi desde el módulo math e imprimimos su valor.\n",
    "\n",
    "### 2.2. Funciones trigonométricas\n",
    "\n",
    "El módulo math proporciona varias funciones trigonométricas, como seno, coseno y tangente, para realizar cálculos que involucran ángulos. Estas funciones son esenciales en campos como la geometría, la física y la ingeniería."
   ]
  },
  {
   "cell_type": "code",
   "execution_count": null,
   "id": "ceeb21f4",
   "metadata": {},
   "outputs": [],
   "source": [
    "import math\n",
    "\n",
    "# Calcular el seno de un ángulo\n",
    "ángulo = math.pi / 4\n",
    "sin_ángulo = math.sin(ángulo)\n",
    "print(sin_ángulo)\n",
    "\n",
    "# Calcular el coseno de un ángulo\n",
    "cos_ángulo = math.cos(ángulo)\n",
    "print(cos_ángulo)\n",
    "\n",
    "# Calcular la tangente de un ángulo\n",
    "tan_angle = math.tan(ángulo)\n",
    "print(tan_angle)"
   ]
  },
  {
   "attachments": {},
   "cell_type": "markdown",
   "id": "9ead7e81",
   "metadata": {},
   "source": [
    "Aquí, importamos el módulo matemático. Definimos un ángulo (π/4) y usamos las funciones sin(), cos() y tan() del módulo math para calcular el seno, el coseno y la tangente del ángulo, respectivamente. Los resultados se almacenan en las variables sin_angle, cos_angle y tan_angle y se imprimen.\n",
    "\n",
    "### 2.3. Exponenciación y funciones logarítmicas\n",
    "\n",
    "El módulo math proporciona funciones para exponenciación y operaciones logarítmicas. Estas funciones son útiles para cálculos que involucran potencias y logaritmos."
   ]
  },
  {
   "cell_type": "code",
   "execution_count": null,
   "id": "33b0d47b",
   "metadata": {},
   "outputs": [],
   "source": [
    "import math\n",
    "\n",
    "# Calcular la potencia de un número\n",
    "base = 2\n",
    "exponente = 3\n",
    "potencia = math.pow(base, exponente)\n",
    "print(potencia)\n",
    "\n",
    "# Calcular el logaritmo natural de un número\n",
    "x = 10\n",
    "logaritmo = math.log(x)\n",
    "print(logaritmo)\n",
    "\n",
    "# Calcular el logaritmo de un número con una base específica\n",
    "base = 5\n",
    "logaritmo_base = math.log(x, base)\n",
    "print(logaritmo_base)"
   ]
  },
  {
   "attachments": {},
   "cell_type": "markdown",
   "id": "609ab41b",
   "metadata": {},
   "source": [
    "En este ejemplo, importamos el módulo matemático. Calculamos la potencia de un número (base = 2, exponente = 3) usando la función pow() del módulo math. El resultado se almacena en la variable potencia y se imprime. A continuación, calculamos el logaritmo natural de un número (x = 10) usando la función log(). El logaritmo natural se almacena en el logaritmo variable y se imprime. Finalmente, calculamos el logaritmo de x con una base específica (base = 5) usando la función log(). El logaritmo con la base especificada se almacena en la variable logaritmo_base y se imprime.\n",
    "\n",
    "### 2.4. Funciones de redondeo y valor absoluto\n",
    "\n",
    "El módulo math proporciona funciones para redondear números y obtener el valor absoluto. Estas funciones son útiles para manipular y formatear datos numéricos."
   ]
  },
  {
   "cell_type": "code",
   "execution_count": null,
   "id": "4880dc4d",
   "metadata": {},
   "outputs": [],
   "source": [
    "import math\n",
    "\n",
    "# Redondear un numero\n",
    "x = 3.7\n",
    "#redondeado = math.redondo(x)\n",
    "redondeado = round(x)\n",
    "print(redondeado)\n",
    "\n",
    "# Obtener el valor absoluto de un número\n",
    "y = -5\n",
    "#valor_absoluto = math.abs(y)\n",
    "valor_absoluto = abs(y)\n",
    "\n",
    "print(valor_absoluto)"
   ]
  },
  {
   "attachments": {},
   "cell_type": "markdown",
   "id": "53de5c24",
   "metadata": {},
   "source": [
    "Aquí, importamos el módulo y redondeamos un número (x = 3.7) usando la función round(). El valor redondeado se almacena en la variable redondeado e impreso. Luego, obtenemos el valor absoluto de un número (y = -5) usando la función abs(). El valor absoluto se almacena en la variable valor_absoluto y se imprime.\n",
    "\n",
    "Round() y abs() se pueden encontrar ahora en la biblioteca estándar de python como una función integrada.\n",
    "\n",
    "### 2.5. Funciones math adicionales\n",
    "\n",
    "El módulo math ofrece varias funciones math adicionales, incluidas funciones de piso y techo, factorial y más. Estas funciones se pueden utilizar para realizar cálculos matemáticos especializados."
   ]
  },
  {
   "cell_type": "code",
   "execution_count": null,
   "id": "02290fd6",
   "metadata": {},
   "outputs": [],
   "source": [
    "import math\n",
    "\n",
    "# Calcular el factorial de un número\n",
    "n = 5\n",
    "factorial = math.factorial(n)\n",
    "print(factorial)\n",
    "\n",
    "# Calcular el piso y el techo de un número\n",
    "x = 3.7\n",
    "piso = math.floor(x)\n",
    "techo = math.ceil(x)\n",
    "print(piso, techo)"
   ]
  },
  {
   "attachments": {},
   "cell_type": "markdown",
   "id": "5f1623b4",
   "metadata": {},
   "source": [
    "En este ejemplo, importamos el módulo matemático. Calculamos el factorial de un número (n = 5) usando la función factorial() del módulo de math. El factorial se almacena en la variable factorial y se imprime. A continuación, imprimimos los valores suelo y techo.\n",
    "\n",
    "### 2.6. Resumen\n",
    "\n",
    "El módulo math proporciona una amplia gama de funciones y constantes math que amplían las capacidades aritméticas básicas del lenguaje. Le permite realizar operaciones math complejas, que incluyen trigonometría, exponenciación, logaritmos, redondeo y más. Al aprovechar el módulo math, puede manejar cálculos matemáticos avanzados de manera eficiente en sus programas de Python."
   ]
  }
 ],
 "metadata": {
  "jupytext": {
   "cell_metadata_filter": "-all",
   "main_language": "python",
   "notebook_metadata_filter": "-all"
  },
  "kernelspec": {
   "display_name": "Python 3",
   "language": "python",
   "name": "python3"
  },
  "language_info": {
   "codemirror_mode": {
    "name": "ipython",
    "version": 3
   },
   "file_extension": ".py",
   "mimetype": "text/x-python",
   "name": "python",
   "nbconvert_exporter": "python",
   "pygments_lexer": "ipython3",
   "version": "3.8.10"
  }
 },
 "nbformat": 4,
 "nbformat_minor": 5
}
