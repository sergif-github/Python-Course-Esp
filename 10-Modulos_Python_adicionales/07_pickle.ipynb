{
 "cells": [
  {
   "attachments": {},
   "cell_type": "markdown",
   "metadata": {},
   "source": [
    "# Módulo 10: Módulos adicionales de Python\n",
    "\n",
    "## Parte 7: Serialización y deserialización de objetos (módulo pickle)\n",
    "\n",
    "La serialización es el proceso de convertir un objeto en un formato que se puede almacenar o transmitir, mientras que la deserialización es el proceso inverso de reconstruir el objeto a partir de su forma serializada. En Python, puede serializar y deserializar objetos usando varios módulos, como pickle, json y yaml. Esta sección explora cómo serializar y deserializar objetos utilizando el módulo pickle como ejemplo.\n",
    "\n",
    "### 7.1. Serializar objetos con pickle\n",
    "\n",
    "El módulo pickle en Python le permite serializar objetos. Puede manejar una amplia gama de objetos de Python, incluidas clases personalizadas, listas, diccionarios y más. Los datos serializados pueden almacenarse en un archivo o transmitirse a través de una red."
   ]
  },
  {
   "cell_type": "code",
   "execution_count": null,
   "metadata": {},
   "outputs": [],
   "source": [
    "import pickle\n",
    "\n",
    "class Persona:\n",
    "    def __init__(self, nombre, edad):\n",
    "        self.nombre = nombre\n",
    "        self.edad = edad\n",
    "\n",
    "persona = Persona(\"Alicia\", 25)\n",
    "\n",
    "with open(\"persona.pkl\", \"wb\") as archivo:\n",
    "    pickle.dump(persona, archivo)"
   ]
  },
  {
   "attachments": {},
   "cell_type": "markdown",
   "metadata": {},
   "source": [
    "En este ejemplo, definimos una clase de Persona con atributos de nombre y edad. La función pickle.dump() se usa para serializar el objeto persona y escribirlo en un archivo llamado \"persona.pkl\" en modo binario.\n",
    "\n",
    "### 7.2. Deserializar objetos con pickle\n",
    "\n",
    "La deserialización es el proceso de reconstrucción de un objeto a partir de su forma serializada. En Python, puede usar el módulo pickle para deserializar objetos leyendo los datos serializados de un archivo o flujo de red."
   ]
  },
  {
   "cell_type": "code",
   "execution_count": null,
   "metadata": {},
   "outputs": [],
   "source": [
    "import pickle\n",
    "\n",
    "with open(\"persona.pkl\", \"rb\") as archivo:\n",
    "    persona = pickle.load(archivo)\n",
    "    print(persona.nombre)\n",
    "    print(persona.edad)"
   ]
  },
  {
   "attachments": {},
   "cell_type": "markdown",
   "metadata": {},
   "source": [
    "En este ejemplo, abrimos el archivo \"persona.pkl\" en modo binario y usamos la función pickle.load() para deserializar el objeto almacenado en el archivo. A continuación, se puede acceder al objeto persona deserializado y utilizarlo como antes.\n",
    "\n",
    "### 7.3. Otros formatos de serialización\n",
    "\n",
    "Si bien pickle es conveniente para objetos específicos de Python, es posible que deba serializar objetos en otros formatos para la interoperabilidad con diferentes lenguajes o sistemas de programación. Los módulos json y yaml en Python brindan soporte para serializar y deserializar objetos en formatos JSON y YAML, respectivamente.\n",
    "\n",
    "Ejemplo de serialización y deserialización con json:"
   ]
  },
  {
   "cell_type": "code",
   "execution_count": null,
   "metadata": {},
   "outputs": [],
   "source": [
    "import json\n",
    "\n",
    "persona = {\"nombre\": \"Alicia\", \"edad\": 25}\n",
    "\n",
    "# Serializando a JSON\n",
    "json_datos = json.dumps(persona)\n",
    "print(json_datos)\n",
    "\n",
    "# Deserializar desde JSON\n",
    "persona_deserializada = json.loads(json_datos)\n",
    "print(persona_deserializada[\"nombre\"])\n",
    "print(persona_deserializada[\"edad\"])"
   ]
  },
  {
   "attachments": {},
   "cell_type": "markdown",
   "metadata": {},
   "source": [
    "En este ejemplo, usamos la función json.dumps() para serializar el objeto del diccionario de personas en una cadena con formato JSON. La función json.loads() se usa para deserializar la cadena JSON de nuevo en un objeto de Python.\n",
    "\n",
    "### 7.4. Resumen\n",
    "\n",
    "La serialización es el proceso de convertir objetos en un formato adecuado para el almacenamiento o la transmisión, mientras que la deserialización es el proceso inverso de reconstrucción de objetos a partir de su forma serializada. Python proporciona varios módulos, como pickle, json y yaml, para serializar y deserializar objetos. El módulo pickle es particularmente útil para serializar y deserializar objetos específicos de Python, mientras que los módulos json y yaml son adecuados para trabajar con formatos JSON y YAML, respectivamente. Comprender la serialización y la deserialización le permite guardar y restaurar estados de objetos o intercambiar datos entre diferentes sistemas de manera eficiente."
   ]
  }
 ],
 "metadata": {
  "language_info": {
   "name": "python"
  },
  "orig_nbformat": 4
 },
 "nbformat": 4,
 "nbformat_minor": 2
}
