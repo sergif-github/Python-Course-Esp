{
 "cells": [
  {
   "attachments": {},
   "cell_type": "markdown",
   "metadata": {},
   "source": [
    "# Módulo 10: Módulos adicionales de Python\n",
    "\n",
    "## Parte 9: Soluciones\n",
    "\n",
    "### Ejercicio 1\n",
    "Escriba un programa de Python que muestre la fecha y la hora actual en el siguiente formato: \"YYYY-MM-DD HH:MM:SS\"."
   ]
  },
  {
   "cell_type": "code",
   "execution_count": null,
   "metadata": {},
   "outputs": [],
   "source": [
    "import datetime\n",
    "\n",
    "fecha_hora_actual = datetime.datetime.now()\n",
    "fecha_y_hora_formateada = fecha_hora_actual.strftime(\"%Y-%m-%d %H:%M:%S\")\n",
    "print(\"Fecha y hora actual:\", fecha_y_hora_formateada)"
   ]
  },
  {
   "attachments": {},
   "cell_type": "markdown",
   "metadata": {},
   "source": [
    "### Ejercicio 2\n",
    "Escriba un programa en Python que calcule la raíz cuadrada de un número dado."
   ]
  },
  {
   "cell_type": "code",
   "execution_count": null,
   "metadata": {},
   "outputs": [],
   "source": [
    "import math\n",
    "\n",
    "numero = 25\n",
    "raiz_cuadrada = math.sqrt(numero)\n",
    "\n",
    "print(\"Raíz cuadrada de\", numero, \"es\", raiz_cuadrada)"
   ]
  },
  {
   "attachments": {},
   "cell_type": "markdown",
   "metadata": {},
   "source": [
    "### Ejercicio 3\n",
    "Escriba un programa en Python que genere un número aleatorio entre 1 y 10."
   ]
  },
  {
   "cell_type": "code",
   "execution_count": null,
   "metadata": {},
   "outputs": [],
   "source": [
    "import random\n",
    "\n",
    "numero_aleatorio = random.randint(1, 10)\n",
    "\n",
    "print(\"Número aleatorio:\", numero_aleatorio)"
   ]
  },
  {
   "attachments": {},
   "cell_type": "markdown",
   "metadata": {},
   "source": [
    "### Ejercicio 4\n",
    "Escriba un programa de Python que abra un archivo de imagen y lo cambie de tamaño a un ancho y alto específicos."
   ]
  },
  {
   "cell_type": "code",
   "execution_count": 5,
   "metadata": {},
   "outputs": [],
   "source": [
    "from PIL import Image\n",
    "\n",
    "imagen = Image.open(\"imagen.jpg\")\n",
    "imagen_redimensionada = imagen.resize((800, 600))\n",
    "\n",
    "imagen_redimensionada.save(\"imagen_redimensionada.jpg\")"
   ]
  },
  {
   "attachments": {},
   "cell_type": "markdown",
   "metadata": {},
   "source": [
    "### Ejercicio 5\n",
    "Escriba un programa de Python que cree un nuevo archivo zip y le agregue varios archivos."
   ]
  },
  {
   "cell_type": "code",
   "execution_count": 5,
   "metadata": {},
   "outputs": [],
   "source": [
    "import zipfile\n",
    "\n",
    "with zipfile.ZipFile(\"archive.zip\", \"w\") as zipf:\n",
    "    zipf.write(\"archivo1.txt\")\n",
    "    zipf.write(\"imagen.jpg\")"
   ]
  },
  {
   "attachments": {},
   "cell_type": "markdown",
   "metadata": {},
   "source": [
    "### Ejercicio 6\n",
    "Escriba un programa de Python que busque todas las apariciones de una palabra específica en un texto dado e imprima sus posiciones."
   ]
  },
  {
   "cell_type": "code",
   "execution_count": null,
   "metadata": {},
   "outputs": [],
   "source": [
    "import re\n",
    "\n",
    "texto = \"Python es un lenguaje de programación popular. Python es versátil y fácil de aprender\"\n",
    "\n",
    "palabra = \"Python\"\n",
    "patron = re.compile(r\"\\b\" + palabra + r\"\\b\")\n",
    "coincidencias = patron.finditer(texto)\n",
    "\n",
    "print(\"Ocurrencias de la palabra\", palabra + \":\")\n",
    "for coincidencia in coincidencias:\n",
    "     print(\"Posición:\", coincidencia.start())"
   ]
  },
  {
   "attachments": {},
   "cell_type": "markdown",
   "metadata": {},
   "source": [
    "### Ejercicio 7\n",
    "Cree una lista de objetos de Libro (nombre, autor y año) y serialícelo en un archivo usando el módulo pickle. Luego, deserialice el archivo e imprima los detalles de cada libro."
   ]
  },
  {
   "cell_type": "code",
   "execution_count": null,
   "metadata": {},
   "outputs": [],
   "source": [
    "import pickle\n",
    "\n",
    "class Libro:\n",
    "    def __init__(self, titulo, autor, fecha):\n",
    "        self.titulo = titulo\n",
    "        self.autor = autor\n",
    "        self.fecha = fecha\n",
    "\n",
    "libros = [\n",
    "    Libro(\"Libro 1\", \"Autor 1\", 2000),\n",
    "    Libro(\"Libro 2\", \"Autor 2\", 2005),\n",
    "    Libro(\"Libro 3\", \"Autor 3\", 2010)\n",
    "]\n",
    "\n",
    "# Serializar la lista de libros\n",
    "with open(\"books.pkl\", \"wb\") as archivo:\n",
    "    pickle.dump(libros, archivo)\n",
    "\n",
    "# Deserializar la lista de libros\n",
    "with open(\"books.pkl\", \"rb\") as archivo:\n",
    "    libros_deserializados = pickle.load(archivo)\n",
    "\n",
    "# Imprime los detalles de cada libro\n",
    "for libro in libros_deserializados:\n",
    "    print(f\"Título: {libro.titulo}\")\n",
    "    print(f\"Autor: {libro.autor}\")\n",
    "    print(f\"Fecha: {libro.fecha}\")\n",
    "    print()"
   ]
  }
 ],
 "metadata": {
  "kernelspec": {
   "display_name": "Python 3",
   "language": "python",
   "name": "python3"
  },
  "language_info": {
   "codemirror_mode": {
    "name": "ipython",
    "version": 3
   },
   "file_extension": ".py",
   "mimetype": "text/x-python",
   "name": "python",
   "nbconvert_exporter": "python",
   "pygments_lexer": "ipython3",
   "version": "3.8.10"
  },
  "orig_nbformat": 4
 },
 "nbformat": 4,
 "nbformat_minor": 2
}
