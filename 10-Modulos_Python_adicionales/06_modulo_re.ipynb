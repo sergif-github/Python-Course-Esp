{
 "cells": [
  {
   "attachments": {},
   "cell_type": "markdown",
   "id": "4aa85836",
   "metadata": {},
   "source": [
    "# Módulo 10: Módulos adicionales de Python\n",
    "\n",
    "## Parte 6: Expresiones regulares (módulo re)\n",
    "\n",
    "El módulo re en Python brinda soporte para expresiones regulares, que son herramientas poderosas para la coincidencia de patrones y la manipulación de texto. Las expresiones regulares le permiten buscar, extraer y manipular texto en función de patrones específicos, lo que las hace invaluables para tareas como la validación de datos, el análisis de texto y la manipulación de cadenas. Exploremos las características clave del módulo re.\n",
    "\n",
    "### 6.1. Introducción a las expresiones regulares\n",
    "\n",
    "Las expresiones regulares son secuencias de caracteres que definen un patrón de búsqueda. Proporcionan una forma flexible y concisa de hacer coincidir y manipular cadenas en función de patrones específicos. Las expresiones regulares usan una combinación de caracteres ordinarios y caracteres especiales llamados metacaracteres para definir patrones."
   ]
  },
  {
   "cell_type": "code",
   "execution_count": null,
   "id": "4924b411",
   "metadata": {},
   "outputs": [],
   "source": [
    "import re\n",
    "\n",
    "# Buscar un patrón en una cadena\n",
    "patron = r\"manzana\"\n",
    "texto = \"Tengo una manzana\"\n",
    "coincidencia = re.search(patron, texto)\n",
    "if coincidencia:\n",
    "     print(\"Patrón encontrado!\")\n",
    "else:\n",
    "     print(\"Patrón no encontrado\")"
   ]
  },
  {
   "attachments": {},
   "cell_type": "markdown",
   "id": "db015aaa",
   "metadata": {},
   "source": [
    "En este fragmento de código, importamos el módulo re. Definimos un patrón usando el prefijo r para crear una cadena sin procesar. El patrón se establece como \"manzana\". Definimos una cadena de texto como \"Tengo una manzana\". Usamos la función de search() del módulo re para buscar el patrón dentro del texto. Si se encuentra una coincidencia, aparecerá el mensaje \"¡Patrón encontrado!\". De lo contrario, \"Patrón no encontrado\" está impreso.\n",
    "\n",
    "### 6.2. Coincidencia de patrones básicos\n",
    "\n",
    "Las expresiones regulares proporcionan varios metacaracteres y secuencias especiales para crear patrones para hacer coincidir patrones de texto específicos. Metacaracteres como . (punto), * (asterisco), + (más) y [ ] (corchetes) se utilizan para definir las reglas del patrón."
   ]
  },
  {
   "cell_type": "code",
   "execution_count": null,
   "id": "ff83abba",
   "metadata": {},
   "outputs": [],
   "source": [
    "import re\n",
    "\n",
    "# Coincide con un patrón de dirección de correo electrónico\n",
    "patron = r\"\\w+@\\w+\\.\\w+\"\n",
    "texto = \"Contáctenos en info@example.com o support@example.com\"\n",
    "coincidencias = re.findall(patron, texto)\n",
    "print(coincidencias)"
   ]
  },
  {
   "attachments": {},
   "cell_type": "markdown",
   "id": "f591dee5",
   "metadata": {},
   "source": [
    "En este ejemplo, importamos el módulo re. El patrón se establece como \\w+@\\w+\\.\\w+, que coincide con un patrón de dirección de correo electrónico. Desglosemos el patrón:\n",
    "- \\w+: Coincide con uno o más caracteres de palabras (caracteres alfanuméricos y guiones bajos).\n",
    "- @: Coincide con el símbolo \"@\".\n",
    "- \\.: Coincide con un punto (se escapa con una barra invertida porque el punto es un carácter especial en las expresiones regulares).\n",
    "\n",
    "Definimos una cadena de texto que contiene dos direcciones de correo electrónico. Usamos la función findall() del módulo re para encontrar todas las ocurrencias del patrón dentro del texto. Las direcciones de correo electrónico coincidentes se almacenan en la variable de coincidencias, que luego se imprime.\n",
    "\n",
    "### 6.3. Sustitución de patrón\n",
    "\n",
    "El módulo re le permite realizar la sustitución de patrones, reemplazando los patrones coincidentes con el texto deseado. Esta función es útil cuando necesita reemplazar patrones específicos o manipular texto en función de ciertas condiciones coincidentes."
   ]
  },
  {
   "cell_type": "code",
   "execution_count": null,
   "id": "0fb31125",
   "metadata": {},
   "outputs": [],
   "source": [
    "import re\n",
    "\n",
    "# Reemplazar un patrón en una cadena\n",
    "patron = r\"manzana\"\n",
    "texto = \"Tengo una manzana\"\n",
    "nuevo_texto = re.sub(patron, \"naranja\", texto)\n",
    "print(nuevo_texto)"
   ]
  },
  {
   "attachments": {},
   "cell_type": "markdown",
   "id": "9b233711",
   "metadata": {},
   "source": [
    "En este fragmento de código, importamos el módulo re. Definimos un patrón usando una cadena sin procesar como \"manzana\". Definimos una cadena de texto como \"Tengo una manzana\". Usamos la función sub() del módulo re para sustituir el patrón con la palabra \"naranja\". La cadena resultante después de la sustitución se almacena en la variable nuevo_texto, que luego se imprime.\n",
    "\n",
    "### 6.4. Dividir cadenas usando patrones\n",
    "\n",
    "El módulo re le permite dividir cadenas en función de patrones específicos, en lugar de delimitadores fijos. Esta característica es útil cuando desea dividir una cadena en subcadenas en función de patrones variables."
   ]
  },
  {
   "cell_type": "code",
   "execution_count": null,
   "id": "924beb6a",
   "metadata": {},
   "outputs": [],
   "source": [
    "import re\n",
    "\n",
    "# Dividir una cadena usando un patrón\n",
    "patron = r\"\\s+\"\n",
    "texto = \"Hola mundo\"\n",
    "subcadenas = re.split(patron, texto)\n",
    "print(subcadenas)"
   ]
  },
  {
   "attachments": {},
   "cell_type": "markdown",
   "id": "aff2be90",
   "metadata": {},
   "source": [
    "En este ejemplo, importamos el módulo re. Definimos un patrón utilizando una cadena sin formato como \\s+, que coincide con uno o más caracteres de espacio en blanco. Definimos una cadena de texto como \"Hola mundo\", que contiene varios espacios. Usamos la función split() del módulo re para dividir la cadena en subcadenas según el patrón. Las subcadenas resultantes se almacenan en la variable de subcadenas, que luego se imprime.\n",
    "\n",
    "### 6.5. Resumen\n",
    "\n",
    "El módulo re en Python proporciona poderosas capacidades para la coincidencia de patrones y la manipulación de texto a través de expresiones regulares. Las expresiones regulares le permiten definir patrones de búsqueda, unir texto según reglas específicas, realizar sustituciones y dividir cadenas usando patrones. Al aprovechar las funciones del módulo re, puede manejar de manera eficiente tareas como la validación de datos, el análisis de texto y la manipulación de cadenas en sus programas de Python. Las expresiones regulares se usan ampliamente en varios dominios, lo que convierte al módulo re en una herramienta valiosa para trabajar con datos textuales."
   ]
  }
 ],
 "metadata": {
  "jupytext": {
   "cell_metadata_filter": "-all",
   "main_language": "python",
   "notebook_metadata_filter": "-all"
  },
  "kernelspec": {
   "display_name": "Python 3",
   "language": "python",
   "name": "python3"
  },
  "language_info": {
   "codemirror_mode": {
    "name": "ipython",
    "version": 3
   },
   "file_extension": ".py",
   "mimetype": "text/x-python",
   "name": "python",
   "nbconvert_exporter": "python",
   "pygments_lexer": "ipython3",
   "version": "3.8.10"
  }
 },
 "nbformat": 4,
 "nbformat_minor": 5
}
