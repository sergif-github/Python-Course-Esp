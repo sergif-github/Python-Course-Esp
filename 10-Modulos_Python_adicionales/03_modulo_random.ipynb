{
 "cells": [
  {
   "attachments": {},
   "cell_type": "markdown",
   "id": "73350fc4",
   "metadata": {},
   "source": [
    "# Módulo 10: Módulos adicionales de Python\n",
    "\n",
    "## Parte 3: Generación de números aleatorios (módulo random)\n",
    "\n",
    "El módulo random en Python proporciona funcionalidades para generar números aleatorios, seleccionar elementos aleatorios y mezclar secuencias. Es ampliamente utilizado en diversas aplicaciones, incluidas simulaciones, juegos y análisis estadístico. Exploremos el módulo random y sus características clave.\n",
    "\n",
    "### 3.1. Introducción al módulo random\n",
    "\n",
    "El módulo random es parte de la biblioteca estándar de Python y ofrece una variedad de funciones para generar números aleatorios y realizar operaciones aleatorias. Proporciona una forma de introducir aleatoriedad e imprevisibilidad en sus programas.\n",
    "\n",
    "Aquí hay un ejemplo:"
   ]
  },
  {
   "cell_type": "code",
   "execution_count": null,
   "id": "db82b195",
   "metadata": {},
   "outputs": [],
   "source": [
    "import random\n",
    "\n",
    "# Generar un entero aleatorio dentro de un rango\n",
    "numero_aleatorio = random.randint(1, 10)\n",
    "print(numero_aleatorio)\n",
    "\n",
    "# Generar un número aleatorio de punto flotante\n",
    "flotante_aleatorio = random.random()\n",
    "print(flotante_aleatorio)\n",
    "\n",
    "# Selecciona un elemento aleatorio de una secuencia\n",
    "frutas = [\"manzana\", \"plátano\", \"naranja\", \"mango\"]\n",
    "fruta_aleatoria = random.choice(frutas)\n",
    "print(fruta_aleatoria)"
   ]
  },
  {
   "attachments": {},
   "cell_type": "markdown",
   "id": "7b477954",
   "metadata": {},
   "source": [
    "En este fragmento de código, importamos el módulo aleatorio. Usamos la función randint() para generar un número entero aleatorio entre 1 y 10 (inclusive) y almacenarlo en la variable numero_aleatorio. Luego se imprime el número aleatorio. A continuación, usamos la función random() para generar un número aleatorio de coma flotante entre 0 y 1 y almacenarlo en la variable flotante_aleatorio. Se imprime el valor flotante aleatorio. Finalmente, tenemos una lista de frutas y usamos la función choice() para seleccionar una fruta al azar de la lista. La fruta seleccionada se almacena en la variable fruta_aleatoria y se imprime.\n",
    "\n",
    "### 3.2. Mezclar aleatoriamente una secuencia\n",
    "\n",
    "El módulo random proporciona una función para mezclar aleatoriamente los elementos de una secuencia. Esto es útil cuando desea introducir aleatoriedad en el orden de los elementos en una lista, tupla o cualquier iterable."
   ]
  },
  {
   "cell_type": "code",
   "execution_count": null,
   "id": "a23dfb99",
   "metadata": {},
   "outputs": [],
   "source": [
    "import random\n",
    "\n",
    "cartas = [\"As\", \"Rey\", \"Reina\", \"Jota\", \"10\", \"9\", \"8\", \"7\"]\n",
    "\n",
    "# Baraja las cartas al azar\n",
    "random.shuffle(cartas)\n",
    "print(cartas)"
   ]
  },
  {
   "attachments": {},
   "cell_type": "markdown",
   "id": "6876c119",
   "metadata": {},
   "source": [
    "Aquí, importamos el módulo aleatorio. Tenemos una lista de naipes. Usamos la función shuffle() del módulo random para mezclar aleatoriamente los elementos de la lista de cartas. Se cambia el orden de las cartas y se imprime la lista barajada.\n",
    "\n",
    "### 3.3. Generación de elecciones aleatorias a partir de una secuencia\n",
    "\n",
    "El módulo random proporciona una función para generar múltiples opciones aleatorias a partir de una secuencia. Esto es útil cuando desea seleccionar varios elementos aleatorios de una lista o cualquier elemento iterable."
   ]
  },
  {
   "cell_type": "code",
   "execution_count": null,
   "id": "e313d173",
   "metadata": {},
   "outputs": [],
   "source": [
    "import random\n",
    "\n",
    "colores = [\"rojo\", \"azul\", \"verde\", \"amarillo\", \"naranja\"]\n",
    "\n",
    "# Generar tres opciones de color aleatorias\n",
    "opciones_aleatorias = random.choices(colores, k=3)\n",
    "print(opciones_aleatorias)"
   ]
  },
  {
   "attachments": {},
   "cell_type": "markdown",
   "id": "63b0bfef",
   "metadata": {},
   "source": [
    "En este ejemplo, importamos el módulo aleatorio. Tenemos una lista de colores. Usamos la función de choices() del módulo aleatorio para generar tres opciones aleatorias de la lista de colores. Las elecciones aleatorias se almacenan en la lista opciones_aleatorias y se imprimen.\n",
    "\n",
    "### 3.4. Generando números aleatorios dentro de un rango\n",
    "\n",
    "El módulo random proporciona funciones para generar números aleatorios dentro de un rango específico. Esto es útil cuando desea generar valores aleatorios dentro de un intervalo específico."
   ]
  },
  {
   "cell_type": "code",
   "execution_count": null,
   "id": "f57e0265",
   "metadata": {},
   "outputs": [],
   "source": [
    "import random\n",
    "\n",
    "# Generar un entero aleatorio dentro de un rango\n",
    "numero_aleatorio = random.randint(1, 100)\n",
    "print(numero_aleatorio)\n",
    "\n",
    "# Generar un número aleatorio de punto flotante dentro de un rango\n",
    "flotante_aleatorio = random.uniform(0.0, 1.0)\n",
    "print(flotante_aleatorio)"
   ]
  },
  {
   "attachments": {},
   "cell_type": "markdown",
   "id": "1ee2c089",
   "metadata": {},
   "source": [
    "Aquí, importamos el módulo aleatorio. Usamos la función randint() para generar un número entero aleatorio entre 1 y 100 (inclusive) y almacenarlo en la variable numero_aleatorio. Luego se imprime el número aleatorio. A continuación, usamos la función uniform() para generar un número aleatorio de punto flotante entre 0,0 y 1,0 y almacenarlo en la variable flotante_aleatorio. Se imprime el valor flotante aleatorio.\n",
    "\n",
    "### 3.5. Configuración de la semilla aleatoria\n",
    "\n",
    "El módulo random le permite configurar la semilla aleatoria para generar la misma secuencia de números aleatorios. Esto es útil cuando desea reproducir un conjunto específico de valores aleatorios."
   ]
  },
  {
   "cell_type": "code",
   "execution_count": null,
   "id": "ecc6a95f",
   "metadata": {},
   "outputs": [],
   "source": [
    "import random\n",
    "\n",
    "# Establecer la semilla aleatoria\n",
    "random.seed(42)\n",
    "\n",
    "# Generar números aleatorios\n",
    "aleatorio1 = random.random()\n",
    "aleatorio2 = random.random()\n",
    "\n",
    "print(aleatorio1)\n",
    "print(aleatorio2)"
   ]
  },
  {
   "attachments": {},
   "cell_type": "markdown",
   "id": "e28b4cae",
   "metadata": {},
   "source": [
    "En este ejemplo, importamos el módulo aleatorio. Usamos la función seed() para establecer la semilla aleatoria en 42. Esto asegura que la secuencia de números aleatorios generados será la misma cada vez que se ejecute el código. Luego generamos dos números aleatorios de punto flotante usando la función random() y los almacenamos en variables aleatorio1 y aleatorio2. Los valores se imprimen y permanecerán iguales cada vez que se ejecute el código.\n",
    "\n",
    "### 3.6. Resumen\n",
    "\n",
    "El módulo random en Python proporciona funcionalidades esenciales para introducir la aleatoriedad en sus programas. Le permite generar números aleatorios, seleccionar elementos aleatorios, secuencias aleatorias y más. Al utilizar el módulo random, puede incorporar la aleatoriedad en simulaciones, juegos, análisis estadísticos y varias otras aplicaciones donde se desea la imprevisibilidad."
   ]
  }
 ],
 "metadata": {
  "jupytext": {
   "cell_metadata_filter": "-all",
   "main_language": "python",
   "notebook_metadata_filter": "-all"
  },
  "kernelspec": {
   "display_name": "Python 3",
   "language": "python",
   "name": "python3"
  },
  "language_info": {
   "codemirror_mode": {
    "name": "ipython",
    "version": 3
   },
   "file_extension": ".py",
   "mimetype": "text/x-python",
   "name": "python",
   "nbconvert_exporter": "python",
   "pygments_lexer": "ipython3",
   "version": "3.8.10"
  }
 },
 "nbformat": 4,
 "nbformat_minor": 5
}
