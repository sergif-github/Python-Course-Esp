{
 "cells": [
  {
   "attachments": {},
   "cell_type": "markdown",
   "id": "730b351b",
   "metadata": {},
   "source": [
    "# Módulo 10: Módulos adicionales de Python\n",
    "\n",
    "## Parte 4: Trabajar con imágenes (módulo pillow)\n",
    "\n",
    "El módulo Pillow (PIL) es una biblioteca popular de procesamiento de imágenes en Python. Proporciona una amplia gama de funciones y métodos para abrir, manipular y guardar diferentes formatos de archivo de Image. El módulo Pillow se usa ampliamente en aplicaciones que involucran procesamiento de imágenes, visión por computador y gráficos. Exploremos las características clave del módulo Pillow.\n",
    "\n",
    "### 4.1. Introducción al módulo pillow\n",
    "\n",
    "El módulo pillow proporciona una interfaz fácil de usar para realizar varias tareas relacionadas con imágenes, como abrir, cambiar el tamaño, recortar, aplicar filtros y guardar imágenes en diferentes formatos. El módulo Pillow admite una amplia gama de formatos de archivo de imagen, lo que lo hace versátil para trabajar con diferentes tipos de imágenes."
   ]
  },
  {
   "cell_type": "code",
   "execution_count": null,
   "id": "9ced004b",
   "metadata": {},
   "outputs": [],
   "source": [
    "from PIL import Image\n",
    "\n",
    "# Abrir un archivo de imagen\n",
    "imagen = Image.open(\"imagen.jpg\")\n",
    "\n",
    "# Mostrar propiedades de la imagen\n",
    "print(\"Formato de imagen:\", imagen.format)\n",
    "print(\"Tamaño de la imagen:\", imagen.size)\n",
    "print(\"Modo de imagen:\", imagen.mode)\n",
    "\n",
    "# Mostrar la imagen\n",
    "imagen.show()"
   ]
  },
  {
   "attachments": {},
   "cell_type": "markdown",
   "id": "4a3cee5c",
   "metadata": {},
   "source": [
    "En este fragmento de código, importamos la clase Imagen del módulo PIL. Abrimos un archivo de imagen llamado \"image.jpg\" usando el método open() de la clase Image y lo almacenamos en la variable image. Luego mostramos algunas propiedades de la imagen, incluido su formato, tamaño y modo. Finalmente, usamos el método show() para mostrar la imagen.\n",
    "\n",
    "### 4.2. Manipulación de imagen\n",
    "\n",
    "El módulo Pillow proporciona una variedad de métodos para manipular imágenes, como cambiar el tamaño, recortar, rotar y aplicar varios filtros de Image. Estas operaciones le permiten modificar la apariencia y las características de las imágenes para adaptarlas a sus necesidades."
   ]
  },
  {
   "cell_type": "code",
   "execution_count": 2,
   "id": "356737c9",
   "metadata": {},
   "outputs": [],
   "source": [
    "from PIL import Image\n",
    "\n",
    "# Abrir un archivo de imagen\n",
    "imagen = Image.open(\"imagen.jpg\")\n",
    "\n",
    "# Cambiar el tamaño de la imagen\n",
    "imagen_redimensionada = imagen.resize((400, 300))\n",
    "\n",
    "# Recortar una región de la imagen\n",
    "imagen_recortada = imagen.crop((100, 100, 300, 200))\n",
    "\n",
    "# Girar la imagen\n",
    "imagen_rotada = imagen.rotate(90)\n",
    "\n",
    "# Guardar imágenes modificadas\n",
    "imagen_redimensionada.save(\"imagen_redimensionada.jpg\")\n",
    "imagen_recortada.save(\"imagen_recortada.jpg\")\n",
    "imagen_rotada.save(\"imagen_rotada.jpg\")"
   ]
  },
  {
   "attachments": {},
   "cell_type": "markdown",
   "id": "c4edff3d",
   "metadata": {},
   "source": [
    "En este ejemplo, importamos la clase Imagen del módulo PIL. Abrimos un archivo de imagen llamado \"image.jpg\" usando el método open() de la clase Image y lo almacenamos en la variable image. Luego realizamos varias operaciones de manipulación de imágenes. Cambiamos el tamaño de la imagen a un ancho de 400 píxeles y una altura de 300 píxeles usando el método resize(), que devuelve una nueva imagen redimensionada almacenada en la variable resized_image. Recortamos una región de la imagen definida por las coordenadas (100, 100, 300, 200) usando el método crop(), lo que da como resultado una nueva imagen recortada almacenada en la variable cropped_image. También rotamos la imagen 90 grados en el sentido de las agujas del reloj usando el método de rotación (), produciendo una nueva imagen rotada almacenada en la variable de imagen_rotada. Finalmente, guardamos las imágenes modificadas en archivos separados usando el método save().\n",
    "\n",
    "### 4.3. Filtrado de imágenes\n",
    "\n",
    "El módulo Pillow proporciona varios filtros de imagen que se pueden aplicar a las imágenes para mejorar su apariencia o extraer características específicas. Estos filtros le permiten realizar operaciones como desenfoque, nitidez, detección de bordes y más."
   ]
  },
  {
   "cell_type": "code",
   "execution_count": 3,
   "id": "0bed0506",
   "metadata": {},
   "outputs": [],
   "source": [
    "from PIL import Image, ImageFilter\n",
    "\n",
    "# Abrir un archivo de imagen\n",
    "imagen = Image.open(\"imagen.jpg\")\n",
    "\n",
    "# Aplicar filtros de imagen\n",
    "imagen_borrosa = imagen.filter(ImageFilter.BLUR)\n",
    "imagen_afilada = imagen.filter(ImageFilter.SHARPEN)\n",
    "edge_detected_image = imagen.filter(ImageFilter.FIND_EDGES)\n",
    "\n",
    "# Guardar imágenes modificadas\n",
    "imagen_borrosa.save(\"imagen_borrosa.jpg\")\n",
    "imagen_afilada.save(\"imagen_afilada.jpg\")\n",
    "edge_detected_image.save(\"edge_detected_image.jpg\")"
   ]
  },
  {
   "attachments": {},
   "cell_type": "markdown",
   "id": "523d3d04",
   "metadata": {},
   "source": [
    "En este ejemplo, importamos la clase Image y el módulo ImageFilter del módulo PIL. Abrimos un archivo de imagen llamado \"image.jpg\" usando el método open() de la clase Image y lo almacenamos en la variable image. Luego aplicamos diferentes filtros de imagen a la imagen usando el método filter(). Aplicamos el filtro de desenfoque con ImageFilter.BLUR, el filtro de nitidez con ImageFilter.SHARPEN y el filtro de detección de bordes con ImageFilter.FIND_EDGES. Cada imagen filtrada se guarda en un archivo separado usando el método save().\n",
    "\n",
    "### 4.4. Conversión de formato de imagen\n",
    "\n",
    "El módulo Pillow le permite convertir imágenes de un formato a otro. Esta función es útil cuando necesita convertir imágenes entre diferentes formatos de archivo o cuando desea guardar una imagen en un formato específico."
   ]
  },
  {
   "cell_type": "code",
   "execution_count": 4,
   "id": "7d03828e",
   "metadata": {},
   "outputs": [],
   "source": [
    "from PIL import Image\n",
    "\n",
    "# Abrir un archivo de imagen\n",
    "imagen = Image.open(\"imagen.jpg\")\n",
    "\n",
    "# Convertir formato de imagen\n",
    "imagen.save(\"imagen.png\")\n",
    "imagen.save(\"imagen.bmp\")"
   ]
  },
  {
   "attachments": {},
   "cell_type": "markdown",
   "id": "d6bf7954",
   "metadata": {},
   "source": [
    "En este fragmento de código, importamos la clase Imagen del módulo PIL. Abrimos un archivo de imagen llamado \"image.jpg\" usando el método open() de la clase Image y lo almacenamos en la variable image. Luego guardamos la imagen en diferentes formatos usando el método save(). En este ejemplo, guardamos la imagen como un archivo PNG y un archivo BMP.\n",
    "\n",
    "### 4.5. Resumen\n",
    "\n",
    "El módulo Pillow (PIL) es una potente biblioteca de procesamiento de imágenes en Python que ofrece una amplia gama de funcionalidades para trabajar con imágenes. Le permite abrir, manipular y guardar imágenes en varios formatos. Con el módulo Pillow, puede realizar operaciones de manipulación de imágenes, aplicar filtros, convertir formatos de imagen y mucho más. Ya sea que esté creando aplicaciones relacionadas con imágenes, trabajando con visión por computadora o realizando análisis de imágenes, el módulo Pillow proporciona herramientas y capacidades esenciales para realizar sus tareas de manera eficiente."
   ]
  }
 ],
 "metadata": {
  "jupytext": {
   "cell_metadata_filter": "-all",
   "main_language": "python",
   "notebook_metadata_filter": "-all"
  },
  "kernelspec": {
   "display_name": "Python 3",
   "language": "python",
   "name": "python3"
  },
  "language_info": {
   "codemirror_mode": {
    "name": "ipython",
    "version": 3
   },
   "file_extension": ".py",
   "mimetype": "text/x-python",
   "name": "python",
   "nbconvert_exporter": "python",
   "pygments_lexer": "ipython3",
   "version": "3.8.10"
  }
 },
 "nbformat": 4,
 "nbformat_minor": 5
}
