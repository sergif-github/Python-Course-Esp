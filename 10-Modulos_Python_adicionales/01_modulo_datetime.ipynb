{
 "cells": [
  {
   "attachments": {},
   "cell_type": "markdown",
   "id": "10b4c796",
   "metadata": {},
   "source": [
    "# Módulo 10: Módulos adicionales de Python\n",
    "\n",
    "## Parte 1: Manipulación de fechas y horas (módulo de fecha y hora)\n",
    "\n",
    "Trabajar con fechas y horas es una tarea común en muchas aplicaciones de Python. El módulo datetime proporciona clases y funciones para manipular fechas, horas y marcas de tiempo en Python.\n",
    "\n",
    "### 1.1. Módulo datetime\n",
    "\n",
    "El módulo Datetime en Python ofrece varias funcionalidades para trabajar con fechas y horas, incluida la creación, manipulación, formateo y cálculo de diferencias entre fechas y horas."
   ]
  },
  {
   "cell_type": "code",
   "execution_count": null,
   "id": "51f22df2",
   "metadata": {},
   "outputs": [],
   "source": [
    "import datetime\n",
    "\n",
    "ahora = datetime.datetime.now()\n",
    "print(ahora)"
   ]
  },
  {
   "attachments": {},
   "cell_type": "markdown",
   "id": "3ab599b2",
   "metadata": {},
   "source": [
    "Este código demuestra cómo usar la función datetime.now() para obtener la fecha y la hora actuales. Necesitamos importar el módulo de fecha y hora y usar la función now() para obtener la fecha y la hora actuales. Almacenamos este valor en la variable ahora y lo imprimimos.\n",
    "\n",
    "### 1.2. Trabajando con fechas\n",
    "\n",
    "Las fechas representan días calendario específicos y constan de los componentes de año, mes y día. El constructor date() se usa para crear objetos de fecha. La aritmética de fechas le permite realizar operaciones como sumar o restar días de una fecha. Las fechas también se pueden formatear como cadenas usando el método strftime()."
   ]
  },
  {
   "cell_type": "code",
   "execution_count": null,
   "id": "ab086cf1",
   "metadata": {},
   "outputs": [],
   "source": [
    "import datetime\n",
    "\n",
    "hoy = datetime.date.today()\n",
    "print(hoy)\n",
    "\n",
    "# Fecha aritmética\n",
    "manana = hoy + datetime.timedelta(days=1)\n",
    "print(manana)\n",
    "\n",
    "# Formatear fechas\n",
    "fecha_formateada = hoy.strftime(\"%Y-%m-%d\")\n",
    "print(fecha_formateada)"
   ]
  },
  {
   "attachments": {},
   "cell_type": "markdown",
   "id": "29dca67f",
   "metadata": {},
   "source": [
    "Aquí, usamos la función date.today() para obtener la fecha actual y almacenarla en la variable today. Luego imprimimos el valor, que se mostrará como \"YYYY-MM-DD\" (predeterminado). A continuación, usamos la función timedelta() para crear una diferencia horaria de un día y agregarla a la fecha actual, lo que da como resultado la fecha de mañana. Finalmente, usamos el método strftime() para formatear la fecha como una cadena con el formato \"%Y-%m-%d\" (por ejemplo, \"2023-06-14\").\n",
    "\n",
    "### 1.3. trabajando con tiempos\n",
    "\n",
    "Los tiempos representan puntos específicos en el tiempo durante un día y consisten en los componentes de hora, minuto, segundo y microsegundo. El constructor time() se usa para crear objetos de tiempo. La aritmética del tiempo le permite realizar operaciones como sumar o restar intervalos de tiempo. Las horas también se pueden formatear como cadenas mediante el método strftime()."
   ]
  },
  {
   "cell_type": "code",
   "execution_count": null,
   "id": "8f092d6e",
   "metadata": {},
   "outputs": [],
   "source": [
    "import datetime\n",
    "\n",
    "hora_actual = datetime.datetime.now().time()\n",
    "print(hora_actual)\n",
    "\n",
    "# Aritmética del tiempo\n",
    "hora_futura = datetime.datetime.combine(datetime.date.today(), hora_actual) + datetime.timedelta(hours=2)\n",
    "print(hora_futura.time())\n",
    "\n",
    "# Tiempos de formateo\n",
    "formatted_time = hora_actual.strftime(\"%H:%M:%S\")\n",
    "print(formatted_time)"
   ]
  },
  {
   "attachments": {},
   "cell_type": "markdown",
   "id": "ff00fc86",
   "metadata": {},
   "source": [
    "En este ejemplo, usamos la función datetime.now().time() para obtener la hora actual y almacenarla en la variable hora_actual. Luego imprimimos el valor, que se mostrará como \"HH:MM:SS\" (formato de 24 horas). A continuación, usamos la función combine() para crear un objeto de fecha y hora combinando la fecha actual con la hora actual. Agregamos un timedelta de dos horas al objeto datetime combinado para obtener el tiempo dos horas en el futuro. Imprimimos el valor de tiempo resultante. Finalmente, usamos el método strftime() para formatear la hora actual como una cadena con el formato \"%H:%M:%S\".\n",
    "\n",
    "### 1.4. Combinando fechas y horas\n",
    "\n",
    "Las fechas y horas combinan los componentes de fecha y hora en un solo objeto. El constructor datetime() se usa para crear objetos de fecha y hora. Al igual que las fechas y las horas, los objetos de fecha y hora se pueden formatear como cadenas mediante el método strftime(). La aritmética de fecha y hora le permite realizar operaciones como encontrar la diferencia entre dos objetos de fecha y hora."
   ]
  },
  {
   "cell_type": "code",
   "execution_count": null,
   "id": "ec124ba1",
   "metadata": {},
   "outputs": [],
   "source": [
    "import datetime\n",
    "\n",
    "fecha_hora_actual = datetime.datetime.now()\n",
    "print(fecha_hora_actual)\n",
    "\n",
    "# Aritmética de fecha y hora\n",
    "fecha_hora_futura = fecha_hora_actual + datetime.timedelta(days=1, hours=3)\n",
    "print(fecha_hora_futura)\n",
    "\n",
    "# Formateo de fechas y horas\n",
    "formatted_datetime = fecha_hora_actual.strftime(\"%Y-%m-%d %H:%M:%S\")\n",
    "print(formatted_datetime)"
   ]
  },
  {
   "attachments": {},
   "cell_type": "markdown",
   "id": "a248fb99",
   "metadata": {},
   "source": [
    "Aquí, usamos la función datetime.now() para obtener la fecha y hora actual y almacenarla en la variable fecha_hora_actual. Imprimimos el valor, que incluye los componentes de fecha y hora. A continuación, usamos la función timedelta() para crear una diferencia horaria de un día y tres horas, y luego la agregamos a la fecha y hora actual, lo que da como resultado un valor de fecha y hora en el futuro. Imprimimos la fecha y hora futura. Finalmente, usamos el método strftime() para formatear la fecha y hora actual como una cadena con el formato \"%Y-%m-%d %H:%M:%S\" (por ejemplo, \"2023-06-14 10:30 :00\").\n",
    "\n",
    "### 1.5. Trabajar con zonas horarias\n",
    "\n",
    "Las zonas horarias son regiones con la misma hora estándar. La clase de zona horaria en el módulo de fecha y hora le permite trabajar con diferentes zonas horarias. Puede ajustar los objetos de fecha y hora a diferentes zonas horarias utilizando el método astimezone(). Es crucial manejar el horario de verano y convertir con precisión entre diferentes zonas horarias."
   ]
  },
  {
   "cell_type": "code",
   "execution_count": null,
   "id": "4cee6196",
   "metadata": {},
   "outputs": [],
   "source": [
    "import datetime\n",
    "import pytz\n",
    "\n",
    "utc_ahora = datetime.datetime.now(pytz.UTC)\n",
    "print(utc_ahora)\n",
    "\n",
    "# Ajuste de la zona horaria\n",
    "local_timezone = pytz.timezone(\"America/New_York\")\n",
    "hora_local = utc_ahora.astimezone(local_timezone)\n",
    "print(hora_local)\n",
    "\n",
    "# Manejo del horario de verano\n",
    "dst_timezone = pytz.timezone(\"Europe/Paris\")\n",
    "dst_time = utc_ahora.astimezone(dst_timezone)\n",
    "print(dst_time)"
   ]
  },
  {
   "attachments": {},
   "cell_type": "markdown",
   "id": "374d7df6",
   "metadata": {},
   "source": [
    "En este ejemplo, importamos el módulo datetime y el módulo pytz, que proporciona información sobre la zona horaria. Usamos datetime.now(pytz.UTC) para obtener la fecha y hora actual en hora universal coordinada (UTC) y almacenarla en la variable utc_ahora. Luego imprimimos este valor. A continuación, creamos un objeto de zona horaria para \"America/New_York\" usando pytz.timezone() y convertimos el objeto de fecha y hora utc_now a la hora local de Nueva York. Almacenamos la fecha y hora convertida en la variable local_time y la imprimimos. Finalmente, creamos un objeto de zona horaria para \"Europe/Paris\" y convertimos el objeto de fecha y hora utc_now a la hora local de París. Almacenamos la fecha y hora convertida en la variable dst_time y la imprimimos.\n",
    "\n",
    "### 1.6. Trabajando con timedeltas\n",
    "\n",
    "Timedelta representa la diferencia entre dos puntos en el tiempo. El constructor timedelta() se usa para crear timedeltas. Timedeltas se puede usar para operaciones aritméticas como sumar o restar intervalos de tiempo de fechas, horas o fechas y horas."
   ]
  },
  {
   "cell_type": "code",
   "execution_count": null,
   "id": "f6675377",
   "metadata": {},
   "outputs": [],
   "source": [
    "import datetime\n",
    "\n",
    "delta = datetime.timedelta(days=7, hours=3)\n",
    "print(delta)\n",
    "\n",
    "# Sumar y restar timedeltas\n",
    "fecha_futuro = datetime.datetime.now() + delta\n",
    "print(fecha_futuro)\n",
    "\n",
    "fecha_pasada = datetime.datetime.now() - delta\n",
    "print(fecha_pasada)"
   ]
  },
  {
   "attachments": {},
   "cell_type": "markdown",
   "id": "7c15d8b5",
   "metadata": {},
   "source": [
    "Aquí, creamos un objeto delta timedelta usando la función timedelta(), que representa una diferencia de tiempo de siete días y tres horas. Imprimimos el valor delta. A continuación, usamos el objeto timedelta para realizar operaciones aritméticas. Agregamos el delta a la fecha y hora actual usando datetime.now() + delta para obtener un valor de fecha y hora futura y lo imprimimos. De manera similar, restamos el delta de la fecha y hora actual usando datetime.now() - delta para obtener un valor de fecha y hora pasado, y lo imprimimos.\n",
    "\n",
    "### 1.7. Resumen\n",
    "\n",
    "El módulo Datetime es una poderosa herramienta para trabajar con fechas, horas y marcas de tiempo en Python. Proporciona varias clases y métodos para crear, manipular y formatear fechas y horas. Comprender cómo trabajar con fechas, horas, timedeltas, zonas horarias y calendarios es esencial para muchas aplicaciones. Al dominar el módulo Datetime, tendrá las habilidades para manejar una amplia gama de tareas relacionadas con la fecha y la hora en sus proyectos de Python."
   ]
  }
 ],
 "metadata": {
  "jupytext": {
   "cell_metadata_filter": "-all",
   "main_language": "python",
   "notebook_metadata_filter": "-all"
  },
  "kernelspec": {
   "display_name": "Python 3",
   "language": "python",
   "name": "python3"
  },
  "language_info": {
   "codemirror_mode": {
    "name": "ipython",
    "version": 3
   },
   "file_extension": ".py",
   "mimetype": "text/x-python",
   "name": "python",
   "nbconvert_exporter": "python",
   "pygments_lexer": "ipython3",
   "version": "3.8.10"
  }
 },
 "nbformat": 4,
 "nbformat_minor": 5
}
