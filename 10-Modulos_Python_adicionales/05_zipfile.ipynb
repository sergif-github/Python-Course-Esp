{
 "cells": [
  {
   "attachments": {},
   "cell_type": "markdown",
   "id": "55daa1bd",
   "metadata": {},
   "source": [
    "# Módulo 10: Módulos adicionales de Python\n",
    "\n",
    "## Parte 5: Archivos zip (módulo zipfile)\n",
    "\n",
    "El módulo Zipfile en Python proporciona funcionalidades para crear, extraer y manipular archivos zip. Le permite trabajar con archivos y carpetas comprimidos, lo que lo hace útil para tareas como la compresión de datos, el empaquetado de archivos y la copia de seguridad de datos. Exploremos las características clave del módulo Zipfile.\n",
    "\n",
    "### 5.1. Introducción al módulo zipfile\n",
    "\n",
    "El módulo Zipfile es parte de la biblioteca estándar de Python y proporciona una interfaz para trabajar con archivos zip. Le permite crear nuevos archivos zip, extraer archivos existentes, agregar archivos y realizar varias operaciones en archivos zip y su contenido."
   ]
  },
  {
   "cell_type": "code",
   "execution_count": 2,
   "id": "55dac38c",
   "metadata": {},
   "outputs": [],
   "source": [
    "import zipfile\n",
    "\n",
    "# Crear un nuevo archivo zip\n",
    "with zipfile.ZipFile(\"archivo.zip\", \"w\") as zipf:\n",
    "     zipf.write(\"archivo.txt\")\n",
    "\n",
    "# Extraer archivos de un archivo zip\n",
    "with zipfile.ZipFile(\"archivo.zip\", \"r\") as zipf:\n",
    "     zipf.extractall(\"archivos_extraidos\")"
   ]
  },
  {
   "attachments": {},
   "cell_type": "markdown",
   "id": "5bc513c0",
   "metadata": {},
   "source": [
    "En este fragmento de código, importamos el módulo zipfile. Creamos un nuevo archivo zip llamado \"archivo.zip\" usando la clase ZipFile y el modo \"w\" (escribir). Dentro de la declaración with, usamos el método write() para agregar \"archivo1.txt\" al archivo zip. El archivo se comprime y se agrega al archivo. A continuación, extraemos los archivos del archivo zip usando el método extractall(). Los archivos extraídos se guardan en un directorio llamado \"archivos_extraidos\".\n",
    "\n",
    "### 5.2. Agregar a un archivo zip\n",
    "\n",
    "El módulo Zipfile le permite agregar archivos a un archivo zip existente."
   ]
  },
  {
   "cell_type": "code",
   "execution_count": 13,
   "id": "0611e580",
   "metadata": {},
   "outputs": [],
   "source": [
    "import zipfile\n",
    "\n",
    "# Abrir un archivo zip existente\n",
    "with zipfile.ZipFile(\"archivo.zip\", \"a\") as zipf:\n",
    "     # Agregar un nuevo archivo al archivo\n",
    "     zipf.write(\"archivo1.txt\")"
   ]
  },
  {
   "attachments": {},
   "cell_type": "markdown",
   "id": "41d09a29",
   "metadata": {},
   "source": [
    "En este ejemplo, importamos el módulo zipfile. Abrimos un archivo zip existente llamado \"archivo.zip\" usando la clase ZipFile y el modo \"a\" (adjuntar). Dentro de la declaración with, usamos el método write() para agregar un nuevo archivo, \"archivo1.txt\", al archivo zip. El archivo se comprime y se agrega al archivo.\n",
    "\n",
    "### 5.3. Extraer archivos específicos de un archivo zip\n",
    "\n",
    "El módulo Zipfile le permite extraer archivos específicos o archivos seleccionados de un archivo zip. Esta función es útil cuando solo necesita extraer archivos específicos en lugar de todo el contenido del archivo."
   ]
  },
  {
   "cell_type": "code",
   "execution_count": null,
   "id": "956db2bc",
   "metadata": {},
   "outputs": [],
   "source": [
    "import zipfile\n",
    "\n",
    "carpeta_destino = \"./\"\n",
    "\n",
    "# Extraer archivos específicos de un archivo zip\n",
    "with zipfile.ZipFile(\"archivo.zip\", \"r\") as zipf:\n",
    "     zipf.extract(\"archivo1.txt\", carpeta_destino)"
   ]
  },
  {
   "attachments": {},
   "cell_type": "markdown",
   "id": "f63ef35b",
   "metadata": {},
   "source": [
    "En este fragmento de código, importamos el módulo zipfile. Abrimos un archivo zip llamado \"archivo.zip\" usando la clase ZipFile y el modo \"r\" (leer). Dentro de la instrucción with, usamos el método extract() para extraer archivos específicos del archivo. Extraemos \"archivo1.txt\" y especificamos la carpeta de destino como \"carpeta_destino\". Los archivos extraídos se guardan en la carpeta especificada.\n",
    "\n",
    "### 5.4. Listado del contenido de un archivo zip\n",
    "\n",
    "El módulo Zipfile le permite enumerar el contenido de un archivo zip sin extraer los archivos. Esta característica es útil cuando desea ver los archivos contenidos en un archivo sin extraerlos realmente."
   ]
  },
  {
   "cell_type": "code",
   "execution_count": null,
   "id": "685a5351",
   "metadata": {},
   "outputs": [],
   "source": [
    "import zipfile\n",
    "\n",
    "\n",
    "# Listar el contenido de un archivo zip\n",
    "with zipfile.ZipFile(\"archivo.zip\", \"r\") as zipf:\n",
    "     lista_de_archivos = zipf.namelist()\n",
    "\n",
    "# Imprime la lista de archivos\n",
    "print(\"Archivos en el archivo:\")\n",
    "for archivo in lista_de_archivos:\n",
    "     print(archivo)"
   ]
  },
  {
   "attachments": {},
   "cell_type": "markdown",
   "id": "ae56ffc2",
   "metadata": {},
   "source": [
    "En este ejemplo, importamos el módulo zipfile. Abrimos un archivo zip llamado \"archivo.zip\" usando la clase ZipFile y el modo \"r\" (leer). Dentro de la instrucción with, usamos el método namelist() para recuperar una lista de nombres de archivos presentes en el archivo zip. Almacenamos la lista de nombres de archivo en la variable lista_de_archivos. Finalmente, imprimimos la lista de archivos contenidos en el archivo.\n",
    "\n",
    "### 5.5. Resumen\n",
    "\n",
    "El módulo Zipfile en Python proporciona una forma conveniente de trabajar con archivos zip. Le permite crear nuevos archivos, extraer archivos de archivos existentes, agregar archivos a archivos y realizar varias operaciones en archivos zip y su contenido. Ya sea que necesite comprimir archivos, empaquetar archivos para su distribución o trabajar con archivos comprimidos, el módulo Zipfile ofrece funcionalidades esenciales para manejar archivos zip de manera eficiente."
   ]
  }
 ],
 "metadata": {
  "jupytext": {
   "cell_metadata_filter": "-all",
   "main_language": "python",
   "notebook_metadata_filter": "-all"
  },
  "kernelspec": {
   "display_name": "Python 3",
   "language": "python",
   "name": "python3"
  },
  "language_info": {
   "codemirror_mode": {
    "name": "ipython",
    "version": 3
   },
   "file_extension": ".py",
   "mimetype": "text/x-python",
   "name": "python",
   "nbconvert_exporter": "python",
   "pygments_lexer": "ipython3",
   "version": "3.8.10"
  }
 },
 "nbformat": 4,
 "nbformat_minor": 5
}
