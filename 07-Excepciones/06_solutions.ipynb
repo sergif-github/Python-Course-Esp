{
 "cells": [
  {
   "attachments": {},
   "cell_type": "markdown",
   "metadata": {},
   "source": [
    "# Módulo 7: Manejo de excepciones\n",
    "\n",
    "## Parte 6: Soluciones\n",
    "\n",
    "### Ejercicio 1\n",
    "Escriba un programa que tome dos enteros como entrada del usuario y calcule su división. Use un bloque try-except para manejar cualquier ZeroDivisionError potencial."
   ]
  },
  {
   "cell_type": "code",
   "execution_count": null,
   "metadata": {},
   "outputs": [],
   "source": [
    "try:\n",
    "     num1 = int(input(\"Ingrese el primer numero: \"))\n",
    "     num2 = int(input(\"Ingrese el segundo numero: \"))\n",
    "     resultado = num1 / num2\n",
    "     print(\"Resultado de la división:\", resultado)\n",
    "except ZeroDivisionError:\n",
    "     print(\"Error: No se puede dividir por cero\")"
   ]
  },
  {
   "attachments": {},
   "cell_type": "markdown",
   "metadata": {},
   "source": [
    "### Ejercicio 2\n",
    "Escriba un programa que le pida al usuario que ingrese un número y lo convierta en un número entero. Maneja las excepciones ValueError y TypeError que pueden ocurrir durante la conversión."
   ]
  },
  {
   "cell_type": "code",
   "execution_count": null,
   "metadata": {},
   "outputs": [],
   "source": [
    "try:\n",
    "     numero = int(input(\"Ingrese un numero: \"))\n",
    "     print(\"Número ingresado:\", numero)\n",
    "except ValueError:\n",
    "     print(\"Error: ValorError\")\n",
    "except TypeError:\n",
    "     print(\"Error: TipoError\")"
   ]
  },
  {
   "attachments": {},
   "cell_type": "markdown",
   "metadata": {},
   "source": [
    "### Ejercicio 3\n",
    "Escriba un programa que tome dos números como entrada del usuario y calcule su división. Usa las excepciones ZeroDivisionError y ValueError en un solo bloque except."
   ]
  },
  {
   "cell_type": "code",
   "execution_count": null,
   "metadata": {},
   "outputs": [],
   "source": [
    "try:\n",
    "     num1 = int(input(\"Ingrese el primer numero: \"))\n",
    "     num2 = int(input(\"Ingrese el segundo numero: \"))\n",
    "     resultado = num1 / num2\n",
    "     print(\"Resultado de la división:\", resultado)\n",
    "except (ZeroDivisionError, ValueError) as e:\n",
    "     print(\"Error:\", str(e))"
   ]
  },
  {
   "attachments": {},
   "cell_type": "markdown",
   "metadata": {},
   "source": [
    "### Ejercicio 4\n",
    "Escriba un programa que intente convertir una cadena en un número entero y realice una división. Usa las excepciones en el siguiente orden: ValueError, ZeroDivisionError y, finalmente, capture todas las excepciones restantes."
   ]
  },
  {
   "cell_type": "code",
   "execution_count": null,
   "metadata": {},
   "outputs": [],
   "source": [
    "try:\n",
    "     valor = int(input(\"Ingrese un numero: \"))\n",
    "     resultado = 10 / valor\n",
    "     print(\"Resultado:\", resultado)\n",
    "except ValueError:\n",
    "     print(\"Error: Entrada inválida. Ingrese un número válido.\")\n",
    "except ZeroDivisionError:\n",
    "     print(\"Error: No se puede dividir por cero\")\n",
    "except Exception as e:\n",
    "     print(\"Ha ocurrido un error:\", str(e))"
   ]
  },
  {
   "attachments": {},
   "cell_type": "markdown",
   "metadata": {},
   "source": [
    "### Ejercicio 5\n",
    "Escriba un programa que solicite al usuario que ingrese dos números y calcule su suma. Utilice una Exception ValueError y un bloque else para mostrar el resultado si no se produce ninguna excepcion."
   ]
  },
  {
   "cell_type": "code",
   "execution_count": null,
   "metadata": {},
   "outputs": [],
   "source": [
    "try:\n",
    "     num1 = int(input(\"Ingrese el primer numero: \"))\n",
    "     num2 = int(input(\"Ingrese el segundo numero: \"))\n",
    "except ValueError:\n",
    "     print(\"Error: Entrada inválida. Ingrese números válidos.\")\n",
    "else:\n",
    "     resultado = num1 + num2\n",
    "     print(\"Suma:\", resultado)"
   ]
  },
  {
   "attachments": {},
   "cell_type": "markdown",
   "metadata": {},
   "source": [
    "### Ejercicio 6\n",
    "Escribe una función que tome un número entero como argumento y verifique si es positivo. Si el número es negativo o cero, genera un ValueError con un mensaje apropiado."
   ]
  },
  {
   "cell_type": "code",
   "execution_count": null,
   "metadata": {},
   "outputs": [],
   "source": [
    "def cheque_positivo(num):\n",
    "     if num <= 0:\n",
    "         raise ValueError(\"El número debe ser positivo\")\n",
    "     else:\n",
    "         print(\"El numero es positivo\")\n",
    "try:\n",
    "     valor = int(input(\"Ingrese un numero: \"))\n",
    "     cheque_positivo(valor)\n",
    "except ValueError as ve:\n",
    "     print(\"Error:\", str(ve))"
   ]
  },
  {
   "attachments": {},
   "cell_type": "markdown",
   "metadata": {},
   "source": [
    "### Ejercicio 7\n",
    "Escriba una función que tome una cadena como entrada y verifique si contiene solo letras mayúsculas (use la función .isupper()). Si no se cumple la condición, genere una excepcion personalizada denominada UppercaseError con un mensaje de error adecuado."
   ]
  },
  {
   "cell_type": "code",
   "execution_count": null,
   "metadata": {},
   "outputs": [],
   "source": [
    "class MayusculasError(Exception):\n",
    "     def __init__(self, mensaje=\"La cadena debe contener solo letras mayúsculas\"):\n",
    "         self.mensaje = mensaje\n",
    "         super().__init__(self.mensaje)\n",
    "\n",
    "def check_mayusculas(cadena):\n",
    "     if not cadena.isupper():\n",
    "         raise MayusculasError()\n",
    "try:\n",
    "     texto = input(\"Ingrese una cadena:\")\n",
    "     check_mayusculas(texto)\n",
    "     print(\"La cadena está en mayúsculas\")\n",
    "except MayusculasError as ue:\n",
    "     print(\"Error:\", str(ue))"
   ]
  }
 ],
 "metadata": {
  "language_info": {
   "name": "python"
  },
  "orig_nbformat": 4
 },
 "nbformat": 4,
 "nbformat_minor": 2
}
