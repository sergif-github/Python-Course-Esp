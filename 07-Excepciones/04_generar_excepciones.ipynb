{
 "cells": [
  {
   "attachments": {},
   "cell_type": "markdown",
   "id": "76dfedc1",
   "metadata": {},
   "source": [
    "# Módulo 7: Manejo de excepciones\n",
    "\n",
    "## Parte 4: Generar excepciones\n",
    "\n",
    "En Python, puede generar excepciones explícitamente para indicar que se ha producido un error o una condición excepcional durante la ejecución.\n",
    "de tu código. Esto puede ser útil cuando desea manejar situaciones específicas o hacer cumplir ciertas condiciones.\n",
    "\n",
    "### 4.1. Generar excepciones\n",
    "\n",
    "Para generar una excepción, utilice la declaración de aumento seguida de una instancia de una clase de excepción o un objeto de excepción.\n",
    "\n",
    "Aquí está la sintaxis básica:\n",
    "\n",
    "```python\n",
    "raise ExceptionType(\"Mensaje de error\")\n",
    "```\n",
    "\n",
    "Por ejemplo, para generar una excepción ValueError con un mensaje de error personalizado, puede escribir:\n",
    "\n",
    "```python\n",
    "raise ValueError(\"Entrada no válida. Ingrese un número positivo.\")\n",
    "```\n",
    "\n",
    "Cuando se genera una excepción, el flujo del programa se interrumpe y la excepción generada se propaga hacia arriba en la pila de llamadas hasta que\n",
    "es capturado por un bloque except apropiado.\n",
    "\n",
    "Aquí hay un ejemplo que demuestra generar una excepción personalizada:"
   ]
  },
  {
   "cell_type": "code",
   "execution_count": null,
   "id": "1a97c55d",
   "metadata": {},
   "outputs": [],
   "source": [
    "def cheque_positivo(valor):\n",
    "    if valor <= 0:\n",
    "        raise ValueError(\"El valor debe ser positivo\")\n",
    "    return valor\n",
    "\n",
    "try:\n",
    "    num = int(input(\"Ingrese un número positivo: \"))\n",
    "    numero_validado = cheque_positivo(num)\n",
    "    print(\"Número:\", numero_validado)\n",
    "except ValueError as ve:\n",
    "    print(\"Error:\", str(ve))"
   ]
  },
  {
   "attachments": {},
   "cell_type": "markdown",
   "id": "81e4ee68",
   "metadata": {},
   "source": [
    "En este ejemplo, tenemos una función check_positive que valida si un número dado es positivo. Si el número es menor o igual a 0, generamos un ValueError con un mensaje de error personalizado.\n",
    "\n",
    "Dentro del bloque try, solicitamos al usuario que ingrese un número positivo y luego llamamos a la función cheque_positivo para validarlo. Si el número no pasa la validación, se genera un ValueError y el bloque de excepción correspondiente maneja la excepción al imprimir el mensaje de error.\n",
    "\n",
    "Este ejemplo muestra una forma concisa de generar una excepción personalizada basada en una condición específica. Asegura que el número ingresado cumple con los criterios requeridos y, de no ser así, proporciona un claro mensaje de error al usuario.\n",
    "\n",
    "### 4.2. Excepciones personalizadas\n",
    "\n",
    "Además de las excepciones integradas, también puede crear sus propias excepciones personalizadas para representar tipos específicos de\n",
    "errores o condiciones excepcionales en su código. Las excepciones personalizadas pueden proporcionar mensajes de error más significativos y permitirle\n",
    "manejar situaciones específicas con mayor control.\n",
    "\n",
    "Para crear una excepción personalizada, normalmente define una nueva clase que hereda de la clase Exception o una de sus subclases.\n",
    "\n",
    "Aquí está el ejemplo anterior usando excepciones personalizadas:"
   ]
  },
  {
   "cell_type": "code",
   "execution_count": null,
   "id": "4b0c5c1d",
   "metadata": {},
   "outputs": [],
   "source": [
    "class ErrorNoPositivo(Exception):\n",
    "    def __init__(self, mensaje=\"El valor debe ser positivo.\"):\n",
    "        self.mensaje = mensaje\n",
    "        super().__init__(self.mensaje)\n",
    "\n",
    "def cheque_positivo(valor):\n",
    "    if valor <= 0:\n",
    "        raise ErrorNoPositivo()\n",
    "    return valor\n",
    "\n",
    "try:\n",
    "    num = int(input(\"Ingrese un número positivo: \"))\n",
    "    numero_validado = cheque_positivo(num)\n",
    "    print(\"Número:\", numero_validado)\n",
    "except ErrorNoPositivo as enp:\n",
    "    print(\"Error:\", str(enp))"
   ]
  },
  {
   "attachments": {},
   "cell_type": "markdown",
   "id": "7ae0f4f3",
   "metadata": {},
   "source": [
    "En este ejemplo, definimos una excepción personalizada llamada ErrorNoPositivo, que es una subclase de la clase base Exception. La clase ErrorNoPositivo anula el método __init__ para permitir la personalización del mensaje de error.\n",
    "\n",
    "Dentro del bloque try solicitamos al usuario que ingrese un número positivo y llame a la función cheque_positivo. Si el número no pasa la validación, se genera un ErrorNoPositivo. El bloque de excepción correspondiente maneja específicamente la excepción ErrorNoPositivo y muestra el mensaje de error asociado.\n",
    "\n",
    "Mediante el uso de excepciones personalizadas, podemos proporcionar mensajes de error más específicos y descriptivos adaptados al tipo específico de error encontrado. Ayuda a mejorar la legibilidad del código y permite un manejo de errores más significativo.\n",
    "\n",
    "### 4.3. Resumen\n",
    "\n",
    "Generar excepciones le permite indicar explícitamente errores o condiciones excepcionales en su código. Al personalizar excepciones, puede manejar situaciones específicas, hacer cumplir condiciones y proporcionar mensajes de error significativos. Cuando se lanza una excepción, el flujo del programa se interrumpe y la excepción planteada se propaga hacia arriba en la pila de llamadas hasta que es capturada por un bloque excepto apropiado."
   ]
  }
 ],
 "metadata": {
  "jupytext": {
   "cell_metadata_filter": "-all",
   "main_language": "python",
   "notebook_metadata_filter": "-all"
  },
  "kernelspec": {
   "display_name": "Python 3",
   "language": "python",
   "name": "python3"
  },
  "language_info": {
   "codemirror_mode": {
    "name": "ipython",
    "version": 3
   },
   "file_extension": ".py",
   "mimetype": "text/x-python",
   "name": "python",
   "nbconvert_exporter": "python",
   "pygments_lexer": "ipython3",
   "version": "3.8.10"
  }
 },
 "nbformat": 4,
 "nbformat_minor": 5
}
