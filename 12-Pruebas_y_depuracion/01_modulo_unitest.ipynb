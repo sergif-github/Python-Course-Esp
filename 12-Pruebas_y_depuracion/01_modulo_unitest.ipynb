{
 "cells": [
  {
   "attachments": {},
   "cell_type": "markdown",
   "id": "8efb8f36",
   "metadata": {
    "lines_to_next_cell": 0
   },
   "source": [
    "# Módulo 12: Pruebas y depuración\n",
    "\n",
    "## Parte 1 Pruebas unitarias con el módulo unittest\n",
    "\n",
    "En el desarrollo de software, la prueba unitaria es una práctica crucial que implica probar unidades individuales o componentes de código para garantizar su corrección y funcionalidad. El módulo unittest en Python proporciona un marco para escribir y ejecutar pruebas unitarias. Ofrece varias funciones y afirmaciones para ayudar a los desarrolladores a crear casos de prueba completos.\n",
    "\n",
    "### 1.1. Componentes clave del módulo unittest\n",
    "\n",
    "- Caso de prueba: un caso de prueba es una subclase de la clase unittest.TestCase y representa una unidad individual de código que se probará. Por lo general, contiene varios métodos de prueba que verifican diferentes aspectos del comportamiento del código.\n",
    "\n",
    "- Método de prueba: un método de prueba es un método definido dentro de una clase de caso de prueba que realiza una prueba específica en una pieza de código. El nombre de cada método de prueba debe comenzar con el prefijo \"test_\" para que el ejecutor de pruebas unittest lo descubra y lo ejecute automáticamente.\n",
    "\n",
    "- Aserciones: Las aserciones son declaraciones que verifican si una condición dada es verdadera. El módulo unittest proporciona una amplia gama de métodos de aserción para verificar los resultados esperados, comparar valores, buscar excepciones y más.\n",
    "\n",
    "### 1.2. Escribir pruebas unitarias con unittest\n",
    "\n",
    "Para crear pruebas unitarias utilizando el módulo unittest, siga estos pasos:\n",
    "\n",
    "- Importe el módulo unittest: comience importando el módulo unittest en su script de prueba.\n",
    "\n",
    "- Defina un caso de prueba: cree una subclase de unittest.TestCase y defina métodos de prueba dentro de ella. Cada método de prueba debe comenzar con el prefijo \"test_\" y contener aserciones para verificar el comportamiento esperado.\n",
    "\n",
    "- Ejecute las pruebas: use el corredor de pruebas unittest para descubrir y ejecutar los métodos de prueba. Esto se puede hacer llamando a unittest.main() al final de su script de prueba, o usando otros métodos proporcionados por el módulo unittest."
   ]
  },
  {
   "cell_type": "code",
   "execution_count": null,
   "id": "a852491e",
   "metadata": {},
   "outputs": [],
   "source": [
    "import unittest\n",
    "\n",
    "# Código de ejemplo a probar\n",
    "def sumar_numeros(a, b):\n",
    "    return a + b\n",
    "\n",
    "# Clase de caso de prueba\n",
    "class TestSumarNumberos(unittest.TestCase):\n",
    "    def test_sumar_numeros(self):\n",
    "        resultado = sumar_numeros(2, 3)\n",
    "        self.assertEqual(resultado, 5) # Afirma que el resultado es igual a 5\n",
    "\n",
    "        resultado = sumar_numeros(10, -5)\n",
    "        self.assertEqual(resultado, 5) # Afirma que el resultado es igual a 5\n",
    "\n",
    "        resultado = sumar_numeros(0, 0)\n",
    "        self.assertEqual(resultado, 0) # Afirma que el resultado es igual a 0\n",
    "\n",
    "if __name__ == '__main__':\n",
    "    unittest.main()"
   ]
  },
  {
   "attachments": {},
   "cell_type": "markdown",
   "id": "4deb2146",
   "metadata": {},
   "source": [
    "En este ejemplo, la clase TestSumarNumberos es una subclase de unittest.TestCase y contiene un solo método de prueba denominado test_sumar_numeros. El método de prueba llama a la función sumar_numeros con diferentes valores de entrada y usa la afirmación self.assertEqual() para verificar si los resultados coinciden con los valores esperados.\n",
    "\n",
    "Al ejecutar este script, el ejecutor de pruebas unittest ejecuta los métodos de prueba dentro de la clase TestAddNumbers y muestra los resultados de la prueba.\n",
    "\n",
    "### 1.3. Beneficios de las pruebas unitarias con unittest\n",
    "\n",
    "- Garantiza la corrección del código: las pruebas unitarias ayudan a identificar y corregir errores al principio del proceso de desarrollo, lo que garantiza que el código se comporte como se espera.\n",
    "- Facilita la refactorización del código: las pruebas unitarias brindan confianza al realizar cambios en el código, ya que identifican rápidamente cualquier regresión introducida durante la refactorización.\n",
    "- Mejora la capacidad de mantenimiento del código: las pruebas unitarias bien escritas sirven como documentación y facilitan la comprensión del comportamiento previsto del código.\n",
    "- Admite el desarrollo basado en pruebas (TDD): el módulo unittest permite a los desarrolladores seguir las prácticas de TDD escribiendo pruebas antes de implementar el código.\n",
    "\n",
    "### 1.4. Resumen\n",
    "\n",
    "El módulo unittest es una poderosa herramienta para implementar pruebas unitarias en Python. Al escribir casos de prueba completos, puede mejorar la calidad y la confiabilidad de su código mientras optimiza el proceso de depuración y desarrollo."
   ]
  }
 ],
 "metadata": {
  "jupytext": {
   "cell_metadata_filter": "-all",
   "main_language": "python",
   "notebook_metadata_filter": "-all"
  },
  "kernelspec": {
   "display_name": "Python 3",
   "language": "python",
   "name": "python3"
  },
  "language_info": {
   "codemirror_mode": {
    "name": "ipython",
    "version": 3
   },
   "file_extension": ".py",
   "mimetype": "text/x-python",
   "name": "python",
   "nbconvert_exporter": "python",
   "pygments_lexer": "ipython3",
   "version": "3.8.10"
  }
 },
 "nbformat": 4,
 "nbformat_minor": 5
}
