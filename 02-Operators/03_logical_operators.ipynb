{
 "cells": [
  {
   "attachments": {},
   "cell_type": "markdown",
   "id": "b5772955",
   "metadata": {},
   "source": [
    "# Module 2: Operators\n",
    "\n",
    "## Part 3: Logical operators\n",
    "\n",
    "Logical operators are used to combine multiple conditions and perform logical operations.\n",
    "\n",
    "### 3.1. Logical operators\n",
    "\n",
    "Python provides three logical operators: and, or, and not. These operators are useful for making decisions based on multiple conditions.\n",
    "\n",
    "#### Logical AND operator (and)\n",
    "\n",
    "The logical AND operator (and) returns True if both of its operands are True, and False otherwise.\n",
    "\n",
    "For example:"
   ]
  },
  {
   "cell_type": "code",
   "execution_count": 1,
   "id": "7ce525cf",
   "metadata": {},
   "outputs": [
    {
     "name": "stdout",
     "output_type": "stream",
     "text": [
      "Result: True\n"
     ]
    }
   ],
   "source": [
    "x = 5\n",
    "y = 3\n",
    "z = 7\n",
    "\n",
    "result = (x > y) and (y < z)  # (5 > 3) and (3 < 7) -> True and True -> True\n",
    "print(\"Result:\", result)  # Output: Result: True"
   ]
  },
  {
   "attachments": {},
   "cell_type": "markdown",
   "id": "f3e8847e",
   "metadata": {},
   "source": [
    "#### Logical OR operator (or)\n",
    "\n",
    "The logical OR operator (or) returns True if at least one of its operands is True, and False if both operands are False. \n",
    "\n",
    "For example:"
   ]
  },
  {
   "cell_type": "code",
   "execution_count": 2,
   "id": "9c0c7c90",
   "metadata": {},
   "outputs": [
    {
     "name": "stdout",
     "output_type": "stream",
     "text": [
      "Result: True\n"
     ]
    }
   ],
   "source": [
    "x = 5\n",
    "y = 3\n",
    "z = 7\n",
    "\n",
    "result = (x > y) or (y > z)  # (5 > 3) or (3 > 7) -> True or False -> True\n",
    "print(\"Result:\", result)  # Output: Result: True"
   ]
  },
  {
   "attachments": {},
   "cell_type": "markdown",
   "id": "3e1f3452",
   "metadata": {},
   "source": [
    "#### Logical NOT operator (not)\n",
    "\n",
    "The logical NOT operator (not) negates the value of its operand. If the operand is True, it returns False, and if the operand is False, it returns True. \n",
    "\n",
    "For example:"
   ]
  },
  {
   "cell_type": "code",
   "execution_count": 3,
   "id": "5702a5f4",
   "metadata": {},
   "outputs": [
    {
     "name": "stdout",
     "output_type": "stream",
     "text": [
      "Result: False\n"
     ]
    }
   ],
   "source": [
    "x = True\n",
    "\n",
    "result = not x  # not True -> False\n",
    "print(\"Result:\", result)  # Output: Result: False"
   ]
  },
  {
   "attachments": {},
   "cell_type": "markdown",
   "id": "473f2238",
   "metadata": {},
   "source": [
    "### 3.2. Summary\n",
    "\n",
    "In this part, you explored the logical operators in Python, including the logical AND (and), logical OR (or), and logical NOT (not) operators. These operators are useful for combining conditions and making decisions based on logical expressions."
   ]
  }
 ],
 "metadata": {
  "jupytext": {
   "cell_metadata_filter": "-all",
   "main_language": "python",
   "notebook_metadata_filter": "-all"
  },
  "kernelspec": {
   "display_name": "Python 3",
   "language": "python",
   "name": "python3"
  },
  "language_info": {
   "codemirror_mode": {
    "name": "ipython",
    "version": 3
   },
   "file_extension": ".py",
   "mimetype": "text/x-python",
   "name": "python",
   "nbconvert_exporter": "python",
   "pygments_lexer": "ipython3",
   "version": "3.8.10"
  }
 },
 "nbformat": 4,
 "nbformat_minor": 5
}
