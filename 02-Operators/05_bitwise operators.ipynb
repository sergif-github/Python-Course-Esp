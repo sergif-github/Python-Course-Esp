{
 "cells": [
  {
   "attachments": {},
   "cell_type": "markdown",
   "id": "f58cc2b8",
   "metadata": {},
   "source": [
    "# Module 2: Operators\n",
    "\n",
    "## Part 5: Bitwise operators\n",
    "\n",
    "Bitwise operators are used to perform bitwise operations on the binary representation of integers. \n",
    "\n",
    "### 5.1. Bitwise operators\n",
    "\n",
    "These operators work on individual bits of the operands. Python provides several bitwise operators for performing operations at the bit level.\n",
    "\n",
    "#### Bitwise AND operator (&)\n",
    "\n",
    "The bitwise AND operator `&) performs a bitwise AND operation between the corresponding bits of two operands. It returns a value where each bit is set if both corresponding bits are set in the operands. \n",
    "\n",
    "For example:"
   ]
  },
  {
   "cell_type": "code",
   "execution_count": 2,
   "id": "86172ee1",
   "metadata": {},
   "outputs": [
    {
     "name": "stdout",
     "output_type": "stream",
     "text": [
      "Result: 1\n"
     ]
    }
   ],
   "source": [
    "x = 5  # Binary: 0101\n",
    "y = 3  # Binary: 0011\n",
    "\n",
    "result = x & y  # Binary: 0001 -> Decimal: 1\n",
    "print(\"Result:\", result)  # Output: Result: 1"
   ]
  },
  {
   "attachments": {},
   "cell_type": "markdown",
   "id": "00d9ee35",
   "metadata": {},
   "source": [
    "#### Bitwise OR operator (|)\n",
    "\n",
    "The bitwise OR operator (|) performs a bitwise OR operation between the corresponding bits of two operands. It returns a value where each bit is set if at least one of the corresponding bits is set in the operands. \n",
    "\n",
    "For example:"
   ]
  },
  {
   "cell_type": "code",
   "execution_count": 3,
   "id": "498bd58c",
   "metadata": {},
   "outputs": [
    {
     "name": "stdout",
     "output_type": "stream",
     "text": [
      "Result: 7\n"
     ]
    }
   ],
   "source": [
    "x = 5  # Binary: 0101\n",
    "y = 3  # Binary: 0011\n",
    "\n",
    "result = x | y  # Binary: 0111 -> Decimal: 7\n",
    "print(\"Result:\", result)  # Output: Result: 7"
   ]
  },
  {
   "attachments": {},
   "cell_type": "markdown",
   "id": "32bdc6e6",
   "metadata": {},
   "source": [
    "#### Bitwise XOR operator (^)\n",
    "\n",
    "The bitwise XOR operator (^) performs a bitwise exclusive OR operation between the corresponding bits of two operands. It returns a value where each bit is set if only one of the corresponding bits is set in the operands. \n",
    "\n",
    "For example:"
   ]
  },
  {
   "cell_type": "code",
   "execution_count": 4,
   "id": "dfcadba0",
   "metadata": {},
   "outputs": [
    {
     "name": "stdout",
     "output_type": "stream",
     "text": [
      "Result: 6\n"
     ]
    }
   ],
   "source": [
    "x = 5  # Binary: 0101\n",
    "y = 3  # Binary: 0011\n",
    "\n",
    "result = x ^ y  # Binary: 0110 -> Decimal: 6\n",
    "print(\"Result:\", result)  # Output: Result: 6"
   ]
  },
  {
   "attachments": {},
   "cell_type": "markdown",
   "id": "3dc02763",
   "metadata": {},
   "source": [
    "#### Bitwise NOT operator (~)\n",
    "\n",
    "The bitwise NOT operator (~) performs a bitwise complement operation on the operand, which flips the bits. It returns the one's complement of the operand. \n",
    "\n",
    "For example:"
   ]
  },
  {
   "cell_type": "code",
   "execution_count": 5,
   "id": "9c16fe45",
   "metadata": {},
   "outputs": [
    {
     "name": "stdout",
     "output_type": "stream",
     "text": [
      "Result: -6\n"
     ]
    }
   ],
   "source": [
    "x = 5  # Binary: 0101\n",
    "\n",
    "result = ~x  # Binary: 1010 -> Decimal: -6\n",
    "print(\"Result:\", result)  # Output: Result: -6"
   ]
  },
  {
   "attachments": {},
   "cell_type": "markdown",
   "id": "92575278",
   "metadata": {},
   "source": [
    "#### Bitwise left shift operator (<<)\n",
    "\n",
    "The bitwise left shift operator (<<) shifts the bits of the left operand to the left by the number of positions specified by the right operand. \n",
    "\n",
    "For example:"
   ]
  },
  {
   "cell_type": "code",
   "execution_count": 6,
   "id": "78deb574",
   "metadata": {},
   "outputs": [
    {
     "name": "stdout",
     "output_type": "stream",
     "text": [
      "Result: 20\n"
     ]
    }
   ],
   "source": [
    "x = 5  # Binary: 0101\n",
    "\n",
    "result = x << 2  # Binary: 010100 -> Decimal: 20\n",
    "print(\"Result:\", result)  # Output: Result: 20"
   ]
  },
  {
   "attachments": {},
   "cell_type": "markdown",
   "id": "a43547be",
   "metadata": {},
   "source": [
    "#### Bitwise right shift operator (>>)\n",
    "\n",
    "The bitwise right shift operator (>>) shifts the bits of the left operand to the right by the number of positions specified by the right operand. \n",
    "\n",
    "For example:"
   ]
  },
  {
   "cell_type": "code",
   "execution_count": 7,
   "id": "1cd7428e",
   "metadata": {},
   "outputs": [
    {
     "name": "stdout",
     "output_type": "stream",
     "text": [
      "Result: 1\n"
     ]
    }
   ],
   "source": [
    "x = 5  # Binary: 0101\n",
    "\n",
    "result = x >> 2  # Binary: 0001 -> Decimal: 1\n",
    "print(\"Result:\", result)  # Output: Result: 1"
   ]
  },
  {
   "attachments": {},
   "cell_type": "markdown",
   "id": "77299036",
   "metadata": {},
   "source": [
    "### 5.2. Summary\n",
    "\n",
    "In this part, you explored the bitwise operators in Python, including the bitwise AND (&), bitwise OR (|), bitwise XOR (^), bitwise NOT (~), bitwise left shift (<<), and bitwise right shift (>>) operators. These operators are useful for performing operations at the bit level on binary representations of integers."
   ]
  }
 ],
 "metadata": {
  "jupytext": {
   "cell_metadata_filter": "-all",
   "main_language": "python",
   "notebook_metadata_filter": "-all"
  },
  "kernelspec": {
   "display_name": "Python 3",
   "language": "python",
   "name": "python3"
  },
  "language_info": {
   "codemirror_mode": {
    "name": "ipython",
    "version": 3
   },
   "file_extension": ".py",
   "mimetype": "text/x-python",
   "name": "python",
   "nbconvert_exporter": "python",
   "pygments_lexer": "ipython3",
   "version": "3.8.10"
  }
 },
 "nbformat": 4,
 "nbformat_minor": 5
}
