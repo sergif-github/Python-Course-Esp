{
 "cells": [
  {
   "attachments": {},
   "cell_type": "markdown",
   "id": "fb139e0c",
   "metadata": {},
   "source": [
    "# Module 2: Operators\n",
    "\n",
    "## Part 2: Comparison operators\n",
    "\n",
    "Comparison operators are used to compare values and determine the relationship between them. \n",
    "\n",
    "### 2.1. Comparison operators\n",
    "\n",
    "Python provides several comparison operators for checking equality, inequality, greater than, less than, and more.\n",
    "\n",
    "#### Equal to Operator (==)\n",
    "\n",
    "The equal to operator (==) checks if two values are equal. It returns True if the values are equal, and False otherwise. \n",
    "\n",
    "For example:"
   ]
  },
  {
   "cell_type": "code",
   "execution_count": 1,
   "id": "4644cb0a",
   "metadata": {},
   "outputs": [
    {
     "name": "stdout",
     "output_type": "stream",
     "text": [
      "Result: False\n"
     ]
    }
   ],
   "source": [
    "x = 5\n",
    "y = 3\n",
    "\n",
    "result = x == y  # 5 == 3 -> False\n",
    "print(\"Result:\", result)  # Output: Result: False"
   ]
  },
  {
   "attachments": {},
   "cell_type": "markdown",
   "id": "5ca385f3",
   "metadata": {},
   "source": [
    "#### Not equal to operator (!=)\n",
    "\n",
    "The not equal to operator (!=) checks if two values are not equal. It returns True if the values are not equal, and False if they are equal. \n",
    "\n",
    "For example:"
   ]
  },
  {
   "cell_type": "code",
   "execution_count": 2,
   "id": "bc3c3f3c",
   "metadata": {},
   "outputs": [
    {
     "name": "stdout",
     "output_type": "stream",
     "text": [
      "Result: True\n"
     ]
    }
   ],
   "source": [
    "x = 5\n",
    "y = 3\n",
    "\n",
    "result = x != y  # 5 != 3 -> True\n",
    "print(\"Result:\", result)  # Output: Result: True"
   ]
  },
  {
   "attachments": {},
   "cell_type": "markdown",
   "id": "9c0e753d",
   "metadata": {},
   "source": [
    "#### Greater than operator (>)\n",
    "\n",
    "The greater than operator (>) checks if the left operand is greater than the right operand. It returns True if the condition is true, and False otherwise. \n",
    "\n",
    "For example:"
   ]
  },
  {
   "cell_type": "code",
   "execution_count": 3,
   "id": "0c9278d3",
   "metadata": {},
   "outputs": [
    {
     "name": "stdout",
     "output_type": "stream",
     "text": [
      "Result: True\n"
     ]
    }
   ],
   "source": [
    "x = 5\n",
    "y = 3\n",
    "\n",
    "result = x > y  # 5 > 3 -> True\n",
    "print(\"Result:\", result)  # Output: Result: True"
   ]
  },
  {
   "attachments": {},
   "cell_type": "markdown",
   "id": "d7f9c7a7",
   "metadata": {},
   "source": [
    "#### Less than operator (<)\n",
    "\n",
    "The less than operator (<) checks if the left operand is less than the right operand. It returns True if the condition is true, and False otherwise. \n",
    "\n",
    "For example:"
   ]
  },
  {
   "cell_type": "code",
   "execution_count": 4,
   "id": "53f5a68e",
   "metadata": {},
   "outputs": [
    {
     "name": "stdout",
     "output_type": "stream",
     "text": [
      "Result: False\n"
     ]
    }
   ],
   "source": [
    "x = 5\n",
    "y = 3\n",
    "\n",
    "result = x < y  # 5 < 3 -> False\n",
    "print(\"Result:\", result)  # Output: Result: False"
   ]
  },
  {
   "attachments": {},
   "cell_type": "markdown",
   "id": "69096c87",
   "metadata": {},
   "source": [
    "####  Greater than or equal to operator (>=)\n",
    "\n",
    "The greater than or equal to operator (>=) checks if the left operand is greater than or equal to the right operand. It returns True if the condition is true, and False otherwise. \n",
    "\n",
    "For example:"
   ]
  },
  {
   "cell_type": "code",
   "execution_count": 5,
   "id": "d00a66e3",
   "metadata": {},
   "outputs": [
    {
     "name": "stdout",
     "output_type": "stream",
     "text": [
      "Result: True\n"
     ]
    }
   ],
   "source": [
    "x = 5\n",
    "y = 3\n",
    "\n",
    "result = x >= y  # 5 >= 3 -> True\n",
    "print(\"Result:\", result)  # Output: Result: True"
   ]
  },
  {
   "attachments": {},
   "cell_type": "markdown",
   "id": "778ac14c",
   "metadata": {},
   "source": [
    "#### Less than or equal to operator (<=)\n",
    "\n",
    "The less than or equal to operator (<=) checks if the left operand is less than or equal to the right operand. It returns True if the condition is true, and False otherwise. \n",
    "\n",
    "For example:"
   ]
  },
  {
   "cell_type": "code",
   "execution_count": 6,
   "id": "30a37e11",
   "metadata": {},
   "outputs": [
    {
     "name": "stdout",
     "output_type": "stream",
     "text": [
      "Result: False\n"
     ]
    }
   ],
   "source": [
    "x = 5\n",
    "y = 3\n",
    "\n",
    "result = x <= y  # 5 <= 3 -> False\n",
    "print(\"Result:\", result)  # Output: Result: False"
   ]
  },
  {
   "attachments": {},
   "cell_type": "markdown",
   "id": "008dc45f",
   "metadata": {},
   "source": [
    "### 2.2. Summary\n",
    "\n",
    "In this part, you explored the comparison operators in Python, including the equal to, not equal to, greater than, less than, greater than or equal to, and less than or equal to operators. These operators are used to compare values and make logical decisions in your programs."
   ]
  }
 ],
 "metadata": {
  "jupytext": {
   "cell_metadata_filter": "-all",
   "main_language": "python",
   "notebook_metadata_filter": "-all"
  },
  "kernelspec": {
   "display_name": "Python 3",
   "language": "python",
   "name": "python3"
  },
  "language_info": {
   "codemirror_mode": {
    "name": "ipython",
    "version": 3
   },
   "file_extension": ".py",
   "mimetype": "text/x-python",
   "name": "python",
   "nbconvert_exporter": "python",
   "pygments_lexer": "ipython3",
   "version": "3.8.10"
  }
 },
 "nbformat": 4,
 "nbformat_minor": 5
}
