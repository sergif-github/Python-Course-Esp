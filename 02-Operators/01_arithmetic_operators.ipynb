{
 "cells": [
  {
   "attachments": {},
   "cell_type": "markdown",
   "id": "3a62cb14",
   "metadata": {},
   "source": [
    "# Module 2: Operators\n",
    "\n",
    "## Part 1: Arithmetic operators\n",
    "\n",
    "Arithmetic operators are used to perform mathematical operations on numeric operands. \n",
    "\n",
    "### 1.1. Arithmetic operators\n",
    "\n",
    "Python provides several arithmetic operators for addition, subtraction, multiplication, division, and more.\n",
    "\n",
    "#### Addition operator (+)\n",
    "\n",
    "The addition operator (+) is used to add two numbers together. \n",
    "\n",
    "For example:"
   ]
  },
  {
   "cell_type": "code",
   "execution_count": 2,
   "id": "de5a1ba1",
   "metadata": {},
   "outputs": [
    {
     "name": "stdout",
     "output_type": "stream",
     "text": [
      "Result: 8\n"
     ]
    }
   ],
   "source": [
    "x = 5\n",
    "y = 3\n",
    "\n",
    "result = x + y  # 5 + 3 = 8\n",
    "print(\"Result:\", result)  # Output: Result: 8"
   ]
  },
  {
   "attachments": {},
   "cell_type": "markdown",
   "id": "016c2451",
   "metadata": {},
   "source": [
    "#### Subtraction operator (-)\n",
    "\n",
    "The subtraction operator (-) is used to subtract one number from another. \n",
    "\n",
    "For example:"
   ]
  },
  {
   "cell_type": "code",
   "execution_count": 3,
   "id": "42f8afe9",
   "metadata": {},
   "outputs": [
    {
     "name": "stdout",
     "output_type": "stream",
     "text": [
      "Result: 7\n"
     ]
    }
   ],
   "source": [
    "x = 10\n",
    "y = 3\n",
    "\n",
    "result = x - y  # 10 - 3 = 7\n",
    "print(\"Result:\", result)  # Output: Result: 7"
   ]
  },
  {
   "attachments": {},
   "cell_type": "markdown",
   "id": "078b0f41",
   "metadata": {},
   "source": [
    "#### Multiplication operator (*)\n",
    "\n",
    "The multiplication operator (*) is used to multiply two numbers. \n",
    "\n",
    "For example:"
   ]
  },
  {
   "cell_type": "code",
   "execution_count": 4,
   "id": "cbb84d78",
   "metadata": {},
   "outputs": [
    {
     "name": "stdout",
     "output_type": "stream",
     "text": [
      "Result: 20\n"
     ]
    }
   ],
   "source": [
    "x = 4\n",
    "y = 5\n",
    "\n",
    "result = x * y  # 4 * 5 = 20\n",
    "print(\"Result:\", result)  # Output: Result: 20"
   ]
  },
  {
   "attachments": {},
   "cell_type": "markdown",
   "id": "910cc58a",
   "metadata": {},
   "source": [
    "#### Division operator (/)\n",
    "\n",
    "The division operator (/) is used to divide one number by another. In Python 3.x, the division operator always returns a float result, even if the operands are integers. \n",
    "\n",
    "For example:"
   ]
  },
  {
   "cell_type": "code",
   "execution_count": 5,
   "id": "a2325afe",
   "metadata": {},
   "outputs": [
    {
     "name": "stdout",
     "output_type": "stream",
     "text": [
      "Result: 3.3333333333333335\n"
     ]
    }
   ],
   "source": [
    "x = 10\n",
    "y = 3\n",
    "\n",
    "result = x / y  # 10 / 3 = 3.3333333333333335\n",
    "print(\"Result:\", result)  # Output: Result: 3.3333333333333335"
   ]
  },
  {
   "attachments": {},
   "cell_type": "markdown",
   "id": "5e7e0c25",
   "metadata": {},
   "source": [
    "#### Floor Division operator (//)\n",
    "\n",
    "The floor division operator (//) is used to perform integer division. It returns the largest possible integer quotient without considering the remainder. \n",
    "\n",
    "For example:"
   ]
  },
  {
   "cell_type": "code",
   "execution_count": 6,
   "id": "c836ef20",
   "metadata": {},
   "outputs": [
    {
     "name": "stdout",
     "output_type": "stream",
     "text": [
      "Result: 3\n"
     ]
    }
   ],
   "source": [
    "x = 10\n",
    "y = 3\n",
    "\n",
    "result = x // y  # 10 // 3 = 3\n",
    "print(\"Result:\", result)  # Output: Result: 3"
   ]
  },
  {
   "attachments": {},
   "cell_type": "markdown",
   "id": "98053ac6",
   "metadata": {},
   "source": [
    "#### Modulus operator (%)\n",
    "\n",
    "The modulus operator (%) is used to find the remainder of the division between two numbers. \n",
    "\n",
    "For example:"
   ]
  },
  {
   "cell_type": "code",
   "execution_count": 7,
   "id": "43115e74",
   "metadata": {},
   "outputs": [
    {
     "name": "stdout",
     "output_type": "stream",
     "text": [
      "Result: 1\n"
     ]
    }
   ],
   "source": [
    "x = 10\n",
    "y = 3\n",
    "\n",
    "result = x % y  # 10 % 3 = 1\n",
    "print(\"Result:\", result)  # Output: Result: 1"
   ]
  },
  {
   "attachments": {},
   "cell_type": "markdown",
   "id": "483b95cb",
   "metadata": {},
   "source": [
    "#### Exponentiation operator (**)\n",
    "\n",
    "The exponentiation operator (**) is used to raise a number to the power of another number. \n",
    "\n",
    "For example:"
   ]
  },
  {
   "cell_type": "code",
   "execution_count": 8,
   "id": "4cc77655",
   "metadata": {
    "lines_to_next_cell": 0
   },
   "outputs": [
    {
     "name": "stdout",
     "output_type": "stream",
     "text": [
      "Result: 8\n"
     ]
    }
   ],
   "source": [
    "x = 2\n",
    "y = 3\n",
    "\n",
    "result = x ** y  # 2 ** 3 = 8\n",
    "print(\"Result:\", result)  # Output: Result: 8"
   ]
  },
  {
   "attachments": {},
   "cell_type": "markdown",
   "id": "b859ba18",
   "metadata": {},
   "source": [
    "### 1.2. Summary\n",
    "\n",
    "In this part, you explored the arithmetic operators in Python, including addition, subtraction, multiplication, division, floor division, modulus, and exponentiation. These operators are essential for performing mathematical operations in your programs."
   ]
  }
 ],
 "metadata": {
  "jupytext": {
   "cell_metadata_filter": "-all",
   "main_language": "python",
   "notebook_metadata_filter": "-all"
  },
  "kernelspec": {
   "display_name": "Python 3",
   "language": "python",
   "name": "python3"
  },
  "language_info": {
   "name": "python",
   "version": "3.8.10"
  }
 },
 "nbformat": 4,
 "nbformat_minor": 5
}
