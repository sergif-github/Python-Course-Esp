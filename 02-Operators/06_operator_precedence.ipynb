{
 "cells": [
  {
   "attachments": {},
   "cell_type": "markdown",
   "id": "985470a9",
   "metadata": {},
   "source": [
    "# Module 2: Operators\n",
    "\n",
    "## Part 6: Operator precedence\n",
    "\n",
    "Operator precedence determines the order in which operators are evaluated in an expression. When multiple operators are used in the same expression, the operator with higher precedence is evaluated first.\n",
    "\n",
    "### 6.1. Operator precedence\n",
    "\n",
    "Python follows a specific set of rules to determine operator precedence. Here are some key points to understand:\n",
    "\n",
    "- Operators with higher precedence are evaluated before operators with lower precedence.\n",
    "- Parentheses can be used to override the default precedence and specify the order of evaluation.\n",
    "- Operators of the same precedence are evaluated from left to right.\n",
    "\n",
    "Here is a general overview of the operator precedence in Python:\n",
    "\n",
    "1. Parentheses: ()\n",
    "2. Exponentiation: **\n",
    "3. Positive/Negative sign: +x, -x\n",
    "4. Multiplication, Division, Floor Division, Modulo: *, /, //, %\n",
    "5. Addition and Subtraction: +, -\n",
    "6. Bitwise Shifts: <<, >>\n",
    "7. Bitwise AND: &\n",
    "8. Bitwise OR: |\n",
    "9. Bitwise XOR: ^\n",
    "10. Comparison Operators: <, <=, >, >=, ==, !=\n",
    "11. Logical NOT: not\n",
    "12. Logical AND: and\n",
    "13. Logical OR: or\n",
    "\n",
    "It's important to note that when in doubt about the order of evaluation, using parentheses is always a good practice to ensure the desired outcome.\n",
    "\n",
    "Example:"
   ]
  },
  {
   "cell_type": "code",
   "execution_count": 1,
   "id": "a5fa43a2",
   "metadata": {},
   "outputs": [
    {
     "name": "stdout",
     "output_type": "stream",
     "text": [
      "Result: 16\n",
      "Result: 36\n"
     ]
    }
   ],
   "source": [
    "result = 10 + 2 * 3  # Multiplication has higher precedence than addition\n",
    "print(\"Result:\", result)  # Output: Result: 16\n",
    "\n",
    "result = (10 + 2) * 3  # Using parentheses to change the order of evaluation\n",
    "print(\"Result:\", result)  # Output: Result: 36"
   ]
  },
  {
   "attachments": {},
   "cell_type": "markdown",
   "id": "008064e8",
   "metadata": {},
   "source": [
    "In the first example, without parentheses, the multiplication is evaluated first, resulting in 10 + 6 = 16. In the second example, the parentheses force the addition to be evaluated first, resulting in (10 + 2) * 3 = 36.\n",
    "\n",
    "Understanding operator precedence is crucial in writing expressions that produce the desired results.\n",
    "\n",
    "### 6.2. Summary\n",
    "\n",
    "In this part, you learned about operator precedence in Python. Operator precedence determines the order in which operators are evaluated in an expression. Parentheses can be used to override the default precedence and specify the order of evaluation. Remember to use parentheses when in doubt to ensure the desired outcome."
   ]
  }
 ],
 "metadata": {
  "jupytext": {
   "cell_metadata_filter": "-all",
   "main_language": "python",
   "notebook_metadata_filter": "-all"
  },
  "kernelspec": {
   "display_name": "Python 3",
   "language": "python",
   "name": "python3"
  },
  "language_info": {
   "codemirror_mode": {
    "name": "ipython",
    "version": 3
   },
   "file_extension": ".py",
   "mimetype": "text/x-python",
   "name": "python",
   "nbconvert_exporter": "python",
   "pygments_lexer": "ipython3",
   "version": "3.8.10"
  }
 },
 "nbformat": 4,
 "nbformat_minor": 5
}
