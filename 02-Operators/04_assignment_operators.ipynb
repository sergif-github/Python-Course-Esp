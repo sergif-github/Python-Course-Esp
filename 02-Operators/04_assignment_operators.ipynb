{
 "cells": [
  {
   "attachments": {},
   "cell_type": "markdown",
   "id": "19cdeb47",
   "metadata": {},
   "source": [
    "# Module 2: Operators\n",
    "\n",
    "## Part 4: Assignment operators\n",
    "\n",
    "Assignment operators are used to assign values to variables. \n",
    "\n",
    "### 4.1. Assignment operators\n",
    "\n",
    "They combine the assignment (=) operator with other operators to perform an operation and assign the result to a variable in a single step.\n",
    "\n",
    "#### Simple assignment operator (=)\n",
    "\n",
    "The simple assignment operator (=) is used to assign a value to a variable. \n",
    "\n",
    "For example:"
   ]
  },
  {
   "cell_type": "code",
   "execution_count": 1,
   "id": "53c33940",
   "metadata": {},
   "outputs": [],
   "source": [
    "x = 5\n",
    "y = 3"
   ]
  },
  {
   "attachments": {},
   "cell_type": "markdown",
   "id": "7904c7e6",
   "metadata": {},
   "source": [
    "### 4.2. Compound assignment operators\n",
    "\n",
    "Python provides compound assignment operators that combine an arithmetic or bitwise operation with the assignment operation. They allow you to perform an operation and update the value of the variable in one step.\n",
    "\n",
    "#### Addition assignment operator (+=)\n",
    "\n",
    "The addition assignment operator (+=) adds the right operand to the left operand and assigns the result to the left operand. \n",
    "\n",
    "For example:"
   ]
  },
  {
   "cell_type": "code",
   "execution_count": 2,
   "id": "a0d2dd6d",
   "metadata": {},
   "outputs": [
    {
     "name": "stdout",
     "output_type": "stream",
     "text": [
      "Result: 8\n"
     ]
    }
   ],
   "source": [
    "x = 5\n",
    "x += 3  # x = x + 3 -> 5 + 3 -> 8\n",
    "print(\"Result:\", x)  # Output: Result: 8"
   ]
  },
  {
   "attachments": {},
   "cell_type": "markdown",
   "id": "4aac0767",
   "metadata": {},
   "source": [
    "#### Subtraction assignment operator (-=)\n",
    "\n",
    "The subtraction assignment operator (-=) subtracts the right operand from the left operand and assigns the result to the left operand. \n",
    "\n",
    "For example:"
   ]
  },
  {
   "cell_type": "code",
   "execution_count": 3,
   "id": "7c5c5c16",
   "metadata": {},
   "outputs": [
    {
     "name": "stdout",
     "output_type": "stream",
     "text": [
      "Result: 2\n"
     ]
    }
   ],
   "source": [
    "x = 5\n",
    "x -= 3  # x = x - 3 -> 5 - 3 -> 2\n",
    "print(\"Result:\", x)  # Output: Result: 2"
   ]
  },
  {
   "attachments": {},
   "cell_type": "markdown",
   "id": "44c73ac9",
   "metadata": {},
   "source": [
    "#### Multiplication assignment operator (*=)\n",
    "\n",
    "The multiplication assignment operator (*=) multiplies the right operand with the left operand and assigns the result to the left operand. \n",
    "\n",
    "For example:"
   ]
  },
  {
   "cell_type": "code",
   "execution_count": 4,
   "id": "d59e1bc3",
   "metadata": {},
   "outputs": [
    {
     "name": "stdout",
     "output_type": "stream",
     "text": [
      "Result: 15\n"
     ]
    }
   ],
   "source": [
    "x = 5\n",
    "x *= 3  # x = x * 3 -> 5 * 3 -> 15\n",
    "print(\"Result:\", x)  # Output: Result: 15"
   ]
  },
  {
   "attachments": {},
   "cell_type": "markdown",
   "id": "6f179bc0",
   "metadata": {},
   "source": [
    "#### Division assignment operator (/=)\n",
    "\n",
    "The division assignment operator (/=) divides the left operand by the right operand and assigns the result to the left operand. \n",
    "\n",
    "For example:"
   ]
  },
  {
   "cell_type": "code",
   "execution_count": 5,
   "id": "2c7cc4b6",
   "metadata": {},
   "outputs": [
    {
     "name": "stdout",
     "output_type": "stream",
     "text": [
      "Result: 5.0\n"
     ]
    }
   ],
   "source": [
    "x = 10\n",
    "x /= 2  # x = x / 2 -> 10 / 2 -> 5.0\n",
    "print(\"Result:\", x)  # Output: Result: 5.0"
   ]
  },
  {
   "attachments": {},
   "cell_type": "markdown",
   "id": "201bd609",
   "metadata": {},
   "source": [
    "#### Modulo assignment operator (%=)\n",
    "\n",
    "The modulo assignment operator (%=) calculates the remainder when the left operand is divided by the right operand and assigns the result to the left operand. \n",
    "\n",
    "For example:"
   ]
  },
  {
   "cell_type": "code",
   "execution_count": 6,
   "id": "ea825d0e",
   "metadata": {},
   "outputs": [
    {
     "name": "stdout",
     "output_type": "stream",
     "text": [
      "Result: 1\n"
     ]
    }
   ],
   "source": [
    "x = 10\n",
    "x %= 3  # x = x % 3 -> 10 % 3 -> 1\n",
    "print(\"Result:\", x)  # Output: Result: 1"
   ]
  },
  {
   "attachments": {},
   "cell_type": "markdown",
   "id": "9446f65e",
   "metadata": {},
   "source": [
    "#### Exponentiation assignment operator (**=)\n",
    "\n",
    "The exponentiation assignment operator (**=) raises the left operand to the power of the right operand and assigns the result to the left operand. \n",
    "\n",
    "For example:"
   ]
  },
  {
   "cell_type": "code",
   "execution_count": 7,
   "id": "90bd0757",
   "metadata": {},
   "outputs": [
    {
     "name": "stdout",
     "output_type": "stream",
     "text": [
      "Result: 8\n"
     ]
    }
   ],
   "source": [
    "x = 2\n",
    "x **= 3  # x = x ** 3 -> 2 ** 3 -> 8\n",
    "print(\"Result:\", x)  # Output: Result: 8"
   ]
  },
  {
   "attachments": {},
   "cell_type": "markdown",
   "id": "5468c048",
   "metadata": {},
   "source": [
    "#### Floor division assignment operator (//=)\n",
    "\n",
    "The floor division assignment operator (//=) performs integer division between the left operand and the right operand, discarding the fractional part, and assigns the result to the left operand. \n",
    "\n",
    "For example:"
   ]
  },
  {
   "cell_type": "code",
   "execution_count": 8,
   "id": "7a6f52e7",
   "metadata": {},
   "outputs": [
    {
     "name": "stdout",
     "output_type": "stream",
     "text": [
      "Result: 3\n"
     ]
    }
   ],
   "source": [
    "x = 10\n",
    "x //= 3  # x = x // 3 -> 10 // 3 -> 3\n",
    "print(\"Result:\", x)  # Output: Result: 3"
   ]
  },
  {
   "attachments": {},
   "cell_type": "markdown",
   "id": "33a3f3f3",
   "metadata": {},
   "source": [
    "### 4.3. Summary\n",
    "\n",
    "In this part, you learned about assignment operators in Python, including the simple assignment operator (=) and compound assignment operators (+=, -=, *=, /=, %=, **=, //=). These operators are useful for performing an operation and assigning the result to a variable in a single step."
   ]
  }
 ],
 "metadata": {
  "jupytext": {
   "cell_metadata_filter": "-all",
   "main_language": "python",
   "notebook_metadata_filter": "-all"
  },
  "kernelspec": {
   "display_name": "Python 3",
   "language": "python",
   "name": "python3"
  },
  "language_info": {
   "codemirror_mode": {
    "name": "ipython",
    "version": 3
   },
   "file_extension": ".py",
   "mimetype": "text/x-python",
   "name": "python",
   "nbconvert_exporter": "python",
   "pygments_lexer": "ipython3",
   "version": "3.8.10"
  }
 },
 "nbformat": 4,
 "nbformat_minor": 5
}
