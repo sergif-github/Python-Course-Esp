{
 "cells": [
  {
   "attachments": {},
   "cell_type": "markdown",
   "id": "5f268d45",
   "metadata": {},
   "source": [
    "# Module 0: Introduction to Python\n",
    "\n",
    "## Part 6: Exercises"
   ]
  },
  {
   "attachments": {},
   "cell_type": "markdown",
   "id": "ce903a74",
   "metadata": {
    "lines_to_next_cell": 2
   },
   "source": [
    "### Exercise 1\n",
    "Write a Python program to display \"Hello, Python!\" as the output."
   ]
  },
  {
   "cell_type": "code",
   "execution_count": null,
   "id": "bbd5826f",
   "metadata": {},
   "outputs": [],
   "source": []
  },
  {
   "attachments": {},
   "cell_type": "markdown",
   "id": "a41692bc",
   "metadata": {
    "lines_to_next_cell": 2
   },
   "source": [
    "### Exercise 2\n",
    "Write a Python program that prompts the user to enter their name and prints a welcome message."
   ]
  },
  {
   "cell_type": "code",
   "execution_count": null,
   "id": "a780d01a",
   "metadata": {},
   "outputs": [],
   "source": []
  },
  {
   "attachments": {},
   "cell_type": "markdown",
   "id": "a5349ffa",
   "metadata": {
    "lines_to_next_cell": 2
   },
   "source": [
    "### Exercise 3\n",
    "Write a Python program that prompts the user to enter two numbers and prints their sum."
   ]
  },
  {
   "cell_type": "code",
   "execution_count": null,
   "id": "84939492",
   "metadata": {},
   "outputs": [],
   "source": []
  },
  {
   "attachments": {},
   "cell_type": "markdown",
   "id": "e92328eb",
   "metadata": {},
   "source": [
    "### Exercise 4\n",
    "Write a Python program that prompts the user to enter three words and prints them in reverse order, separated by a space."
   ]
  },
  {
   "cell_type": "code",
   "execution_count": null,
   "id": "20360cc2",
   "metadata": {
    "lines_to_next_cell": 2
   },
   "outputs": [],
   "source": []
  }
 ],
 "metadata": {
  "jupytext": {
   "cell_metadata_filter": "-all",
   "main_language": "python",
   "notebook_metadata_filter": "-all"
  },
  "language_info": {
   "name": "python"
  }
 },
 "nbformat": 4,
 "nbformat_minor": 5
}
