{
 "cells": [
  {
   "attachments": {},
   "cell_type": "markdown",
   "id": "e7249158",
   "metadata": {
    "lines_to_next_cell": 0
   },
   "source": [
    "# Module 0: Introduction to Python\n",
    "\n",
    "## Part 3: Basic syntax and indentation\n",
    "\n",
    "Python follows a simple and readable syntax that uses indentation to define the structure of code blocks. \n",
    "Understanding the basic syntax rules and proper indentation is crucial for writing correct and maintainable Python programs.\n",
    "\n",
    "### 3.1. Statements and lines\n",
    "\n",
    "In Python, statements are instructions or commands that perform specific actions. Each statement typically occupies a single line,\n",
    "but you can extend a statement across multiple lines using line continuation techniques.\n",
    "\n",
    "A line of code in Python is terminated by a newline character. However, you can use a backslash (\\\\) at the end of a line\n",
    "to indicate that the statement continues on the next line.\n",
    "\n",
    "For example:"
   ]
  },
  {
   "cell_type": "code",
   "execution_count": 1,
   "id": "bc2bdb8f",
   "metadata": {},
   "outputs": [
    {
     "name": "stdout",
     "output_type": "stream",
     "text": [
      "150\n"
     ]
    }
   ],
   "source": [
    "result = 10 + 20 + \\\n",
    "         30 + 40 + \\\n",
    "         50\n",
    "\n",
    "print(result)  # Output: 150"
   ]
  },
  {
   "attachments": {},
   "cell_type": "markdown",
   "id": "228289ca",
   "metadata": {
    "lines_to_next_cell": 0
   },
   "source": [
    "### 3.2. Indentation\n",
    "\n",
    "In Python, indentation plays a crucial role in defining the structure and scope of code blocks. Unlike other programming languages\n",
    "that use braces or keywords, Python uses consistent indentation to indicate the beginning and end of blocks.\n",
    "Indentation is typically done using spaces or tabs, but it's essential to be consistent throughout your code. \n",
    "The standard recommendation is to use four spaces for each indentation level.\n",
    "\n",
    "For example:\n",
    "\n",
    "```python\n",
    "if condition:\n",
    "    # Indented block of code\n",
    "    statement1\n",
    "    statement2\n",
    "else:\n",
    "    # Another indented block of code\n",
    "    statement3\n",
    "    statement4\n",
    "```\n",
    "\n",
    "Proper indentation is crucial for code readability and ensures that the program logic is correctly interpreted by the Python interpreter.\n",
    "\n",
    "### 3.3. Blank lines\n",
    "\n",
    "Blank lines, i.e., empty lines, are ignored by the Python interpreter and can be used to improve code readability by separating\n",
    "code sections or logical blocks. You can use blank lines to enhance the visual structure and organization of your code.\n",
    "\n",
    "### 3.4. Code blocks and control flow\n",
    "\n",
    "Control flow statements like if, for, while, and function definitions create code blocks. These code blocks are defined by their\n",
    "indentation level. All statements within a code block must be indented at the same level.\n",
    "\n",
    "For example:\n",
    "\n",
    "```python\n",
    "if condition:\n",
    "    # Code block 1\n",
    "    statement1\n",
    "    statement2\n",
    "else:\n",
    "    # Code block 2\n",
    "    statement3\n",
    "    statement4\n",
    "```\n",
    "\n",
    "### 3.5. Summary\n",
    "\n",
    "Indentation defines the hierarchy and nesting of code blocks. It's important to ensure proper indentation to avoid syntax\n",
    "errors and accurately represent the desired program logic.\n",
    "\n",
    "Understanding and adhering to the basic syntax rules and indentation principles in Python is fundamental for writing clear,\n",
    "readable, and error-free code. It promotes consistency and helps others understand and maintain your code."
   ]
  }
 ],
 "metadata": {
  "jupytext": {
   "cell_metadata_filter": "-all",
   "main_language": "python",
   "notebook_metadata_filter": "-all"
  },
  "kernelspec": {
   "display_name": "Python 3",
   "language": "python",
   "name": "python3"
  },
  "language_info": {
   "codemirror_mode": {
    "name": "ipython",
    "version": 3
   },
   "file_extension": ".py",
   "mimetype": "text/x-python",
   "name": "python",
   "nbconvert_exporter": "python",
   "pygments_lexer": "ipython3",
   "version": "3.8.10"
  }
 },
 "nbformat": 4,
 "nbformat_minor": 5
}
