{
 "cells": [
  {
   "attachments": {},
   "cell_type": "markdown",
   "id": "1fad0cb3",
   "metadata": {
    "lines_to_next_cell": 0
   },
   "source": [
    "# Module 0: Introduction to Python\n",
    "\n",
    "## Part 4: Printing and commenting code\n",
    "\n",
    "Printing and code commenting are essential aspects of Python programming. They help you communicate information, format output, and provide explanations within your code. This section covers the techniques and best practices for effective printing, print formatting, and commenting in Python.\n",
    "\n",
    "### 4.1. Printing output\n",
    "\n",
    "The print() function is used to display output on the console. It allows you to print strings, variables, and expressions. \n",
    "\n",
    "Here's an example:"
   ]
  },
  {
   "cell_type": "code",
   "execution_count": null,
   "id": "bfdf9c84",
   "metadata": {},
   "outputs": [],
   "source": [
    "print(\"Hello, World!\")"
   ]
  },
  {
   "attachments": {},
   "cell_type": "markdown",
   "id": "802286e5",
   "metadata": {},
   "source": [
    "### 4.2. Print formatting\n",
    "\n",
    "Print formatting allows you to customize the way data is displayed. Python provides different techniques to format output, including string concatenation, string interpolation, and the format() method. \n",
    "\n",
    "Here are some examples:"
   ]
  },
  {
   "cell_type": "code",
   "execution_count": null,
   "id": "ad4fd3d7",
   "metadata": {},
   "outputs": [],
   "source": [
    "# String Concatenation\n",
    "\n",
    "name = \"Alice\"\n",
    "age = 25\n",
    "print(\"My name is \" + name + \" and I am \" + str(age) + \" years old.\")"
   ]
  },
  {
   "cell_type": "code",
   "execution_count": null,
   "id": "95995bcd",
   "metadata": {},
   "outputs": [],
   "source": [
    "# String Interpolation (f-strings)\n",
    "\n",
    "name = \"Alice\"\n",
    "age = 25\n",
    "print(f\"My name is {name} and I am {age} years old.\")"
   ]
  },
  {
   "cell_type": "code",
   "execution_count": null,
   "id": "16c2a8df",
   "metadata": {},
   "outputs": [],
   "source": [
    "# Format Method\n",
    "\n",
    "name = \"Alice\"\n",
    "age = 25\n",
    "print(\"My name is {} and I am {} years old.\".format(name, age))"
   ]
  },
  {
   "attachments": {},
   "cell_type": "markdown",
   "id": "a0c8f58f",
   "metadata": {},
   "source": [
    "### 4.3. Numerical formating\n",
    "\n",
    "In addition to general print formatting, Python provides specific options for formatting numerical values. This allows you to control the precision, decimal places, and alignment of numeric output. \n",
    "\n",
    "Here are some techniques for numerical formatting:\n",
    "\n",
    "#### 4.3.1. Formatting floating point numbers\n",
    "\n",
    "Floating-point numbers can be formatted using the format() method or f-strings. You can specify the number of decimal places and choose whether to display trailing zeros. \n",
    "\n",
    "Here's an example:"
   ]
  },
  {
   "cell_type": "code",
   "execution_count": null,
   "id": "7a218367",
   "metadata": {},
   "outputs": [],
   "source": [
    "pi = 3.14159\n",
    "formatted_pi = \"{:.2f}\".format(pi)  # Formats pi with 2 decimal places\n",
    "print(formatted_pi)  # Output: 3.14\n",
    "\n",
    "formatted_pi = f\"{pi:.2f}\"  # Using f-strings\n",
    "print(formatted_pi)  # Output: 3.14"
   ]
  },
  {
   "attachments": {},
   "cell_type": "markdown",
   "id": "45117992",
   "metadata": {},
   "source": [
    "#### 4.3.2. Formatting integer numbers\n",
    "\n",
    "Integer numbers can be formatted using the format() method or f-strings. You can specify the minimum width and alignment. \n",
    "\n",
    "Here's an example:"
   ]
  },
  {
   "cell_type": "code",
   "execution_count": null,
   "id": "f736fe19",
   "metadata": {},
   "outputs": [],
   "source": [
    "num = 42\n",
    "formatted_num = \"{:4d}\".format(num)  # Formats num with a minimum width of 4\n",
    "print(formatted_num)  # Output:   42\n",
    "\n",
    "formatted_num = f\"{num:4d}\"  # Using f-strings\n",
    "print(formatted_num)  # Output:   42"
   ]
  },
  {
   "attachments": {},
   "cell_type": "markdown",
   "id": "e817cccd",
   "metadata": {},
   "source": [
    "#### 4.3.3. Formatting with thousands separators\n",
    "\n",
    "You can format large numbers with thousands separators to enhance readability. The format() method supports the use of commas as thousands separators. \n",
    "\n",
    "Here's an example:"
   ]
  },
  {
   "cell_type": "code",
   "execution_count": null,
   "id": "57fc9378",
   "metadata": {},
   "outputs": [],
   "source": [
    "population = 5000000\n",
    "formatted_pop = \"{:,}\".format(population)  # Formats population with thousands separators\n",
    "print(formatted_pop)  # Output: 5,000,000"
   ]
  },
  {
   "attachments": {},
   "cell_type": "markdown",
   "id": "842259e9",
   "metadata": {},
   "source": [
    "### 4.4. Commenting the code\n",
    "\n",
    "Comments in Python are used to provide explanations, document code, and make it more understandable. They are not executed by the interpreter. Python supports both single-line comments and multi-line comments. \n",
    "\n",
    "Here are some examples:"
   ]
  },
  {
   "cell_type": "code",
   "execution_count": null,
   "id": "88931de8",
   "metadata": {},
   "outputs": [],
   "source": [
    "# This is a single-line comment."
   ]
  },
  {
   "cell_type": "code",
   "execution_count": null,
   "id": "bd67bae9",
   "metadata": {},
   "outputs": [],
   "source": [
    "\"\"\"\n",
    "This is a multi-line comment.\n",
    "It can span multiple lines.\n",
    "\"\"\"\n",
    "'''\n",
    "This is also a multi-line comment.\n",
    "It can span multiple lines.\n",
    "'''"
   ]
  },
  {
   "attachments": {},
   "cell_type": "markdown",
   "id": "091ae440",
   "metadata": {},
   "source": [
    "### 4.5. Summary\n",
    "\n",
    "Printing and commenting are vital for effective communication and documentation within your Python code. The print() function allows you to display output, while print formatting techniques help customize the appearance of the output. Commenting your code helps provide explanations, document functionality, and improve code readability. By following best practices for printing, print formatting, and code commenting, you can make your code more understandable, maintainable, and collaborative."
   ]
  }
 ],
 "metadata": {
  "jupytext": {
   "cell_metadata_filter": "-all",
   "main_language": "python",
   "notebook_metadata_filter": "-all"
  },
  "kernelspec": {
   "display_name": "Python 3",
   "language": "python",
   "name": "python3"
  },
  "language_info": {
   "codemirror_mode": {
    "name": "ipython",
    "version": 3
   },
   "file_extension": ".py",
   "mimetype": "text/x-python",
   "name": "python",
   "nbconvert_exporter": "python",
   "pygments_lexer": "ipython3",
   "version": "3.8.10"
  }
 },
 "nbformat": 4,
 "nbformat_minor": 5
}
