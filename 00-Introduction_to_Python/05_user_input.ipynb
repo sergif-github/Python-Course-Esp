{
 "cells": [
  {
   "attachments": {},
   "cell_type": "markdown",
   "id": "93c0cbf2",
   "metadata": {},
   "source": [
    "# Module 0: Introduction to Python\n",
    "\n",
    "## Part 5:  User Input\n",
    "\n",
    "### 5.1. User input with input()\n",
    "\n",
    "In Python, you can interact with the user by prompting them to enter values using the input() function. The input() function\n",
    "allows you to capture user input and store it in a variable for further processing.\n",
    "\n",
    "To get input from the user, you can use the following syntax:\n",
    "\n",
    "variable_name = input(prompt)\n",
    "\n",
    "Here, variable_name is the name of the variable where you want to store the user's input, and prompt is an optional string that you can display to the user as a prompt.\n",
    "\n",
    "Let's look at an example:"
   ]
  },
  {
   "cell_type": "code",
   "execution_count": 2,
   "id": "b1990833",
   "metadata": {},
   "outputs": [
    {
     "name": "stdout",
     "output_type": "stream",
     "text": [
      "Hello, hi! Nice to meet you.\n"
     ]
    }
   ],
   "source": [
    "name = input(\"Enter your name: \")\n",
    "print(\"Hello, \" + name + \"! Nice to meet you.\")"
   ]
  },
  {
   "attachments": {},
   "cell_type": "markdown",
   "id": "1bab74d0",
   "metadata": {},
   "source": [
    "In this example, the input() function is used to capture the user's name, which is stored in the name variable. The prompt \"Enter your name: \" is displayed to the user. The print() function then displays a personalized greeting message using the entered name.\n",
    "\n",
    "It's important to note that the input() function always returns a string. If you want to perform numerical operations on the user's input, you need to convert the input to the desired data type using functions like int() or float().\n",
    "\n",
    "Here's an example of converting user input to an integer:"
   ]
  },
  {
   "cell_type": "code",
   "execution_count": null,
   "id": "32af15a2",
   "metadata": {},
   "outputs": [],
   "source": [
    "age = int(input(\"Enter your age: \"))\n",
    "years_remaining = 100 - age\n",
    "print(\"You have approximately \" + str(years_remaining) + \" years until you turn 100.\")"
   ]
  },
  {
   "attachments": {},
   "cell_type": "markdown",
   "id": "d3f5f306",
   "metadata": {},
   "source": [
    "In this example, the input() function captures the user's age as a string, which is then converted to an integer using the int() function. The result is stored in the age variable, and further calculations are performed on the integer value.\n",
    "\n",
    "### 5.2. Summary\n",
    "\n",
    "Remember to handle user input with caution. You may want to add validation and error handling to ensure the user enters the expected type of input and handle any potential exceptions that may occur.\n",
    "\n",
    "User input is a powerful tool that allows your Python programs to interact with users, making them more dynamic and interactive."
   ]
  }
 ],
 "metadata": {
  "jupytext": {
   "cell_metadata_filter": "-all",
   "main_language": "python",
   "notebook_metadata_filter": "-all"
  },
  "kernelspec": {
   "display_name": "Python 3",
   "language": "python",
   "name": "python3"
  },
  "language_info": {
   "codemirror_mode": {
    "name": "ipython",
    "version": 3
   },
   "file_extension": ".py",
   "mimetype": "text/x-python",
   "name": "python",
   "nbconvert_exporter": "python",
   "pygments_lexer": "ipython3",
   "version": "3.8.10"
  }
 },
 "nbformat": 4,
 "nbformat_minor": 5
}
