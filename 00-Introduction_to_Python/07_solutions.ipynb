{
 "cells": [
  {
   "attachments": {},
   "cell_type": "markdown",
   "id": "aac7448c",
   "metadata": {},
   "source": [
    "# Module 0: Introduction to Python\n",
    "\n",
    "## Part 7: Solutions"
   ]
  },
  {
   "attachments": {},
   "cell_type": "markdown",
   "id": "054649d9",
   "metadata": {},
   "source": [
    "### Exercise 1\n",
    "Write a Python program to display \"Hello, Python!\" as the output."
   ]
  },
  {
   "cell_type": "code",
   "execution_count": 2,
   "id": "6e7b36a3",
   "metadata": {
    "lines_to_next_cell": 2
   },
   "outputs": [
    {
     "name": "stdout",
     "output_type": "stream",
     "text": [
      "Hello, Python!\n"
     ]
    }
   ],
   "source": [
    "print(\"Hello, Python!\")"
   ]
  },
  {
   "attachments": {},
   "cell_type": "markdown",
   "id": "e9d36b69",
   "metadata": {},
   "source": [
    "### Exercise 2\n",
    "Write a Python program that prompts the user to enter their name and prints a welcome message."
   ]
  },
  {
   "cell_type": "code",
   "execution_count": 5,
   "id": "d81f0f1a",
   "metadata": {},
   "outputs": [
    {
     "name": "stdout",
     "output_type": "stream",
     "text": [
      "Hello, sergi! Welcome to the Python world!\n"
     ]
    }
   ],
   "source": [
    "name = input(\"Enter your name: \")\n",
    "message = \"Hello, \" + name + \"! Welcome to the Python world!\"\n",
    "print(message)"
   ]
  },
  {
   "attachments": {},
   "cell_type": "markdown",
   "id": "ef0cb4a3",
   "metadata": {},
   "source": [
    "### Exercise 3\n",
    "Write a Python program that prompts the user to enter two numbers and prints their sum."
   ]
  },
  {
   "cell_type": "code",
   "execution_count": 6,
   "id": "3d0678cf",
   "metadata": {
    "lines_to_next_cell": 2
   },
   "outputs": [
    {
     "name": "stdout",
     "output_type": "stream",
     "text": [
      "The first number is: sergi\n",
      "The second number is: f\n"
     ]
    }
   ],
   "source": [
    "num1 = input(\"Enter the first number: \")\n",
    "num2 = input(\"Enter the second number: \")\n",
    "print(\"The first number is:\", num1)\n",
    "print(\"The second number is:\", num2)"
   ]
  },
  {
   "attachments": {},
   "cell_type": "markdown",
   "id": "f5b15a57",
   "metadata": {},
   "source": [
    "### Exercise 4\n",
    "Write a Python program that prompts the user to enter three words and prints them in reverse order, separated by a space."
   ]
  },
  {
   "cell_type": "code",
   "execution_count": 7,
   "id": "f3ad4cc7",
   "metadata": {},
   "outputs": [
    {
     "name": "stdout",
     "output_type": "stream",
     "text": [
      "c b a\n"
     ]
    }
   ],
   "source": [
    "word1 = input(\"Enter the first word: \")\n",
    "word2 = input(\"Enter the second word: \")\n",
    "word3 = input(\"Enter the third word: \")\n",
    "print(word3, word2, word1)"
   ]
  }
 ],
 "metadata": {
  "jupytext": {
   "cell_metadata_filter": "-all",
   "main_language": "python",
   "notebook_metadata_filter": "-all"
  },
  "kernelspec": {
   "display_name": "Python 3",
   "language": "python",
   "name": "python3"
  },
  "language_info": {
   "codemirror_mode": {
    "name": "ipython",
    "version": 3
   },
   "file_extension": ".py",
   "mimetype": "text/x-python",
   "name": "python",
   "nbconvert_exporter": "python",
   "pygments_lexer": "ipython3",
   "version": "3.8.10"
  }
 },
 "nbformat": 4,
 "nbformat_minor": 5
}
