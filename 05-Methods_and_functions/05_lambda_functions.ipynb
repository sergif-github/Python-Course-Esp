{
 "cells": [
  {
   "attachments": {},
   "cell_type": "markdown",
   "metadata": {},
   "source": [
    "# Module 5: Methods and functions\n",
    "\n",
    "## Part 5:  Lambda functions\n",
    "\n",
    "Lambda functions, also known as anonymous functions, are small, inline functions that can be defined without a name. They are commonly used in combination with higher-order functions like map(), \n",
    "filter(), sort(), and reduce(). In this section, we will explore lambda functions and their usage with these higher-order functions.\n",
    "\n",
    "### 5.1. Lambda functions:\n",
    "\n",
    "Lambda functions are defined using the lambda keyword, followed by the function arguments and a single expression. They can take any number of arguments, but can only have one expression.\n",
    "\n",
    "Syntax:\n",
    "```python\n",
    "lambda arguments: expression\n",
    "```"
   ]
  },
  {
   "cell_type": "code",
   "execution_count": null,
   "metadata": {},
   "outputs": [],
   "source": [
    "add = lambda x, y: x + y\n",
    "result = add(2, 3)\n",
    "print(result)  # Output: 5"
   ]
  },
  {
   "attachments": {},
   "cell_type": "markdown",
   "metadata": {},
   "source": [
    "In this example, a lambda function is defined with two arguments x and y. The function returns the sum of the two arguments. The lambda function is assigned to the variable add, and it is called with arguments 2 and 3, resulting in the output 5.\n",
    "\n",
    "### 5.2. Higher order functions with lambda functions:\n",
    "\n",
    "#### 5.2.1. map(function, iterable)\n",
    "\n",
    "Applies a given function to each element of an iterable and returns an iterator with the transformed values."
   ]
  },
  {
   "cell_type": "code",
   "execution_count": null,
   "metadata": {},
   "outputs": [],
   "source": [
    "numbers = [1, 2, 3, 4, 5]\n",
    "squares = map(lambda x: x ** 2, numbers)\n",
    "print(list(squares))  # Output: [1, 4, 9, 16, 25]"
   ]
  },
  {
   "attachments": {},
   "cell_type": "markdown",
   "metadata": {},
   "source": [
    "The lambda function lambda x: x ** 2 is applied to each element of the numbers list using map(), resulting in a new list containing the squares of the original numbers.\n",
    "\n",
    "#### 5.2.2. filter(function, iterable)\n",
    "\n",
    "Filters an iterable based on a given function and returns an iterator with the elements that satisfy the filtering condition."
   ]
  },
  {
   "cell_type": "code",
   "execution_count": null,
   "metadata": {},
   "outputs": [],
   "source": [
    "numbers = [1, 2, 3, 4, 5]\n",
    "even_numbers = filter(lambda x: x % 2 == 0, numbers)\n",
    "print(list(even_numbers))  # Output: [2, 4]"
   ]
  },
  {
   "attachments": {},
   "cell_type": "markdown",
   "metadata": {},
   "source": [
    "The lambda function lambda x: x % 2 == 0 is used with filter() to filter out the even numbers from the numbers list, resulting in a new list containing only the even numbers.\n",
    "\n",
    "#### 5.2.3. sorted(iterable, key=None, reverse=False)\n",
    "\n",
    "Returns a new sorted list from the elements of an iterable, optionally specifying a custom sorting key and whether to sort in reverse order."
   ]
  },
  {
   "cell_type": "code",
   "execution_count": null,
   "metadata": {},
   "outputs": [],
   "source": [
    "numbers = [5, 2, 8, 1, 3]\n",
    "sorted_numbers = sorted(numbers, key=lambda x: x % 3)\n",
    "print(sorted_numbers)  # Output: [3, 2, 5, 8, 1]"
   ]
  },
  {
   "attachments": {},
   "cell_type": "markdown",
   "metadata": {},
   "source": [
    "The lambda function lambda x: x % 3 is used as the sorting key in sorted() to sort the numbers list based on the remainder of each number divided by 3.\n",
    "\n",
    "#### 5.2.4. reduce(function, iterable[, initializer])\n",
    "\n",
    "Applies a function of two arguments cumulatively to the items of an iterable, from left to right, to reduce the iterable to a single value."
   ]
  },
  {
   "cell_type": "code",
   "execution_count": null,
   "metadata": {},
   "outputs": [],
   "source": [
    "from functools import reduce\n",
    "\n",
    "numbers = [1, 2, 3, 4, 5]\n",
    "product = reduce(lambda x, y: x * y, numbers)\n",
    "print(product)  # Output: 120"
   ]
  },
  {
   "attachments": {},
   "cell_type": "markdown",
   "metadata": {},
   "source": [
    "The lambda function lambda x, y: x * y is used with reduce() to compute the product of all the numbers in the numbers list.\n",
    "\n",
    "### 5.3. Summary\n",
    "\n",
    "Lambda functions provide a concise way to define small, one-line functions. When combined with higher-order functions like map(), filter(), sort(), and reduce(), they offer a powerful mechanism for transforming, filtering, sorting, and aggregating data. Understanding lambda functions and their usage with higher-order functions enables you to write more expressive and compact code in Python."
   ]
  }
 ],
 "metadata": {
  "language_info": {
   "name": "python"
  },
  "orig_nbformat": 4
 },
 "nbformat": 4,
 "nbformat_minor": 2
}
