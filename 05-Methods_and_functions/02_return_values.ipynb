{
 "cells": [
  {
   "attachments": {},
   "cell_type": "markdown",
   "id": "ac14e776",
   "metadata": {},
   "source": [
    "# Module 5: Methods and functions\n",
    "\n",
    "## Part 2: Returning values from functions\n",
    "\n",
    "In Python, functions can return values to the caller using the return statement. Returning values from functions allows you to perform calculations or operations and pass the result back to the calling code. \n",
    "\n",
    "Let's explore how to return values from functions in Python.\n",
    "\n",
    "### 2.1. Return statement\n",
    "\n",
    "The return statement is used to return a value from a function. When the return statement is encountered, the function execution stops, and the control is returned to the caller along with the specified value. \n",
    "\n",
    "Here's an example:"
   ]
  },
  {
   "cell_type": "code",
   "execution_count": 2,
   "id": "d8175d03",
   "metadata": {},
   "outputs": [
    {
     "name": "stdout",
     "output_type": "stream",
     "text": [
      "7\n"
     ]
    }
   ],
   "source": [
    "def add_numbers(a, b):\n",
    "    return a + b\n",
    "\n",
    "result = add_numbers(3, 4)\n",
    "print(result)"
   ]
  },
  {
   "attachments": {},
   "cell_type": "markdown",
   "id": "2d1e2e00",
   "metadata": {},
   "source": [
    "In this example, the add_numbers() function takes two arguments a and b, performs the addition operation, and returns the result using the return statement. The returned value is stored in the variable result, and it is then printed.\n",
    "\n",
    "### 2.2. Multiple return values\n",
    "\n",
    "Functions in Python can also return multiple values using tuples.\n",
    "\n",
    "Here's an example:"
   ]
  },
  {
   "cell_type": "code",
   "execution_count": 1,
   "id": "9987d480",
   "metadata": {},
   "outputs": [
    {
     "name": "stdout",
     "output_type": "stream",
     "text": [
      "(5, 15, 3.0)\n"
     ]
    }
   ],
   "source": [
    "def calculate_stats(numbers):\n",
    "    count = len(numbers)\n",
    "    total = sum(numbers)\n",
    "    average = total / count\n",
    "    return count, total, average\n",
    "\n",
    "result = calculate_stats([1, 2, 3, 4, 5])\n",
    "print(result)"
   ]
  },
  {
   "attachments": {},
   "cell_type": "markdown",
   "id": "2da0a5df",
   "metadata": {},
   "source": [
    "In this example, the calculate_stats() function takes a list of numbers as an argument, calculates the count, total, and average of the numbers, and returns them as a tuple. The returned tuple is stored in the variable result and printed.\n",
    "\n",
    "### 2.3. None and empty return\n",
    "\n",
    "If a function does not specify a return statement or uses the return statement without any value, it returns None. None is a special value in Python that represents the absence of a value. \n",
    "\n",
    "Here's an example:"
   ]
  },
  {
   "cell_type": "code",
   "execution_count": 1,
   "id": "11c48464",
   "metadata": {},
   "outputs": [
    {
     "name": "stdout",
     "output_type": "stream",
     "text": [
      "Hello!\n",
      "None\n"
     ]
    }
   ],
   "source": [
    "def say_hello():\n",
    "    print(\"Hello!\")\n",
    "\n",
    "result = say_hello()\n",
    "print(result)"
   ]
  },
  {
   "attachments": {},
   "cell_type": "markdown",
   "id": "e8698778",
   "metadata": {},
   "source": [
    "In this example, the say_hello() function does not have a return statement. When the function is called, it prints \"Hello!\" but does not return any value. The variable result is assigned None, which is then printed.\n",
    "\n",
    "### 2.4. Summary\n",
    "\n",
    "In this part, you learned how to return values from functions in Python. The return statement is used to specify the value to be returned from a function. Functions can return a single value or multiple values using tuples. If a function does not specify a return statement or returns without a value, it returns None. Returning values from functions enables you nto pass data back to the calling code and use the results of calculations or operations."
   ]
  }
 ],
 "metadata": {
  "jupytext": {
   "cell_metadata_filter": "-all",
   "main_language": "python",
   "notebook_metadata_filter": "-all"
  },
  "kernelspec": {
   "display_name": "Python 3",
   "language": "python",
   "name": "python3"
  },
  "language_info": {
   "codemirror_mode": {
    "name": "ipython",
    "version": 3
   },
   "file_extension": ".py",
   "mimetype": "text/x-python",
   "name": "python",
   "nbconvert_exporter": "python",
   "pygments_lexer": "ipython3",
   "version": "3.8.10"
  }
 },
 "nbformat": 4,
 "nbformat_minor": 5
}
