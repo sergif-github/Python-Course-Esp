{
 "cells": [
  {
   "attachments": {},
   "cell_type": "markdown",
   "metadata": {},
   "source": [
    "# Módulo 5: Métodos y funciones\n",
    "\n",
    "## Parte 6: Soluciones\n",
    "\n",
    "### Ejercicio 1\n",
    "Escriba una función de Python llamada saludar() que imprima un mensaje de saludo."
   ]
  },
  {
   "cell_type": "code",
   "execution_count": null,
   "metadata": {},
   "outputs": [],
   "source": [
    "def saludar():\n",
    "     print(\"¡Hola, bienvenido!\")\n",
    "\n",
    "saludar()"
   ]
  },
  {
   "attachments": {},
   "cell_type": "markdown",
   "metadata": {},
   "source": [
    "### Ejercicio 2\n",
    "Escriba una función de Python llamada calcular_area() que calcule el área de un rectángulo. La función debe tener dos parámetros, largo y ancho, con valores predeterminados de 10."
   ]
  },
  {
   "cell_type": "code",
   "execution_count": null,
   "metadata": {},
   "outputs": [],
   "source": [
    "def calcular_area(largo=10, ancho=10):\n",
    "     area = largo * ancho\n",
    "     return area\n",
    "\n",
    "print(calcular_area())\n",
    "print(calcular_area(5, 8))"
   ]
  },
  {
   "attachments": {},
   "cell_type": "markdown",
   "metadata": {},
   "source": [
    "### Ejercicio 3\n",
    "Escriba una función de Python llamada suma_numeros() que tome tres parámetros (num1, num2 y num3) y devuelva la suma de los tres números."
   ]
  },
  {
   "cell_type": "code",
   "execution_count": null,
   "metadata": {},
   "outputs": [],
   "source": [
    "def suma_numeros(num1, num2, num3):\n",
    "     suma = num1 + num2 + num3\n",
    "     return suma\n",
    "\n",
    "resultado = suma_numeros(5, 10, 15)\n",
    "print(resultado)"
   ]
  },
  {
   "attachments": {},
   "cell_type": "markdown",
   "metadata": {},
   "source": [
    "### Ejercicio 4\n",
    "Escriba una función de Python llamada dividir_numeros() que tome dos parámetros (numerador y denominador) y devuelva tanto el cociente como el resto de la división."
   ]
  },
  {
   "cell_type": "code",
   "execution_count": null,
   "metadata": {},
   "outputs": [],
   "source": [
    "def dividir_numeros(numerador, denominador):\n",
    "     cociente = numerador // denominador\n",
    "     resto = numerador % denominador\n",
    "     return cociente, resto\n",
    "\n",
    "resultado = dividir_numeros(10, 3)\n",
    "print(resultado)"
   ]
  },
  {
   "attachments": {},
   "cell_type": "markdown",
   "metadata": {},
   "source": [
    "### Ejercicio 5\n",
    "Escriba una función de Python llamada calcular_promedio que tome una lista de números como argumento y devuelva el promedio de esos números."
   ]
  },
  {
   "cell_type": "code",
   "execution_count": null,
   "metadata": {},
   "outputs": [],
   "source": [
    "def calcular_promedio(numeros):\n",
    "    total = sum(numeros)\n",
    "    promedio = total / len(numeros)\n",
    "    return promedio\n",
    "\n",
    "# Probar la función\n",
    "lista_numeros = [1, 2, 3, 4, 5]\n",
    "resultado = calcular_promedio(lista_numeros)\n",
    "print(\"Promedio:\", resultado)"
   ]
  },
  {
   "attachments": {},
   "cell_type": "markdown",
   "metadata": {},
   "source": [
    "### Ejercicio 6\n",
    "Escriba una función de Python llamada cambiar_variable_global que demuestre el uso de la palabra clave global para modificar una variable global dentro de una función."
   ]
  },
  {
   "cell_type": "code",
   "execution_count": null,
   "metadata": {},
   "outputs": [],
   "source": [
    "contar = 0\n",
    "\n",
    "def cambiar_variable_global():\n",
    "    global contar\n",
    "    contar += 1\n",
    "    print(\"Cuenta dentro de la funcion:\", contar)\n",
    "\n",
    "# Probar la función\n",
    "print(\"Cuenta antes de llamar a la función:\", contar)\n",
    "cambiar_variable_global()\n",
    "print(\"Cuenta después de llamar a la función:\", contar)"
   ]
  },
  {
   "attachments": {},
   "cell_type": "markdown",
   "metadata": {},
   "source": [
    "### Ejercicio 7\n",
    "Escriba una función de Python llamada aplicar_operacion que tome dos números y una función como argumentos. La función debe aplicar la función dada a los dos números y devolver el resultado."
   ]
  },
  {
   "cell_type": "code",
   "execution_count": null,
   "metadata": {},
   "outputs": [],
   "source": [
    "def aplicar_operacion(a, b, operación):\n",
    "     resultado = operación(a, b)\n",
    "     return resultado\n",
    "\n",
    "def agregar(x, y):\n",
    "     return x + y\n",
    "\n",
    "def multiplicar(x, y):\n",
    "     return x * y\n",
    "\n",
    "# Probar la función\n",
    "num1 = 5\n",
    "num2 = 3\n",
    "agregar_resultado = aplicar_operacion(num1, num2, agregar)\n",
    "multiplicar_resultado = aplicar_operacion(num1, num2, multiplicar)\n",
    "\n",
    "print(\"Resultado de la adición:\", aplicar_operacion)\n",
    "print(\"Resultado de la multiplicación:\", multiplicar_resultado)"
   ]
  },
  {
   "attachments": {},
   "cell_type": "markdown",
   "metadata": {},
   "source": [
    "### Ejercicio 8\n",
    "Escriba un programa en Python que use una función lambda y la función map() para elevar al cuadrado cada número en una lista dada."
   ]
  },
  {
   "cell_type": "code",
   "execution_count": null,
   "metadata": {},
   "outputs": [],
   "source": [
    "numeros = [1, 2, 3, 4, 5]\n",
    "numeros_al_cuadrado = list(map(lambda x: x**2, numeros))\n",
    "print(\"Números al cuadrado:\", numeros_al_cuadrado)"
   ]
  }
 ],
 "metadata": {
  "kernelspec": {
   "display_name": "Python 3",
   "language": "python",
   "name": "python3"
  },
  "language_info": {
   "codemirror_mode": {
    "name": "ipython",
    "version": 3
   },
   "file_extension": ".py",
   "mimetype": "text/x-python",
   "name": "python",
   "nbconvert_exporter": "python",
   "pygments_lexer": "ipython3",
   "version": "3.8.10"
  },
  "orig_nbformat": 4
 },
 "nbformat": 4,
 "nbformat_minor": 2
}
