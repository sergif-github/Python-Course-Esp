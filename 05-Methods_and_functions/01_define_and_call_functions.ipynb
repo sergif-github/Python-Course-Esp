{
 "cells": [
  {
   "attachments": {},
   "cell_type": "markdown",
   "id": "bbfdf6d0",
   "metadata": {},
   "source": [
    "# Module 5: Methods and functions\n",
    "\n",
    "## Part 1: Defining and calling functions\n",
    "\n",
    "In Python, functions are reusable blocks of code that perform a specific task. They allow you to break down your program into smaller, more manageable pieces, making your code more organized and easier to understand. \n",
    "\n",
    "Let's explore how to define and call functions in Python.\n",
    "\n",
    "### 1.1. Defining a function\n",
    "\n",
    "To define a function in Python, you use the def keyword followed by the function name, parentheses, and a colon. Any code indented under the function definition is part of the function's body. \n",
    "\n",
    "Here's an example of a simple function that greets the user:"
   ]
  },
  {
   "cell_type": "code",
   "execution_count": 2,
   "id": "d72cefd7",
   "metadata": {},
   "outputs": [],
   "source": [
    "def greet():\n",
    "    print(\"Hello, welcome!\")"
   ]
  },
  {
   "attachments": {},
   "cell_type": "markdown",
   "id": "ec97ee7c",
   "metadata": {},
   "source": [
    "In this example, the greet() function is defined without any parameters. The function body contains a single statement\n",
    "that prints a greeting message.\n",
    "\n",
    "### 1.2. Calling a function\n",
    "\n",
    "Once a function is defined, you can call or invoke it to execute its code. To call a function, you simply write its name \n",
    "followed by parentheses.\n",
    "\n",
    "Here's how you can call the greet() function defined earlier:"
   ]
  },
  {
   "cell_type": "code",
   "execution_count": 3,
   "id": "a5fefb4d",
   "metadata": {},
   "outputs": [
    {
     "name": "stdout",
     "output_type": "stream",
     "text": [
      "Hello, welcome!\n"
     ]
    }
   ],
   "source": [
    "greet()"
   ]
  },
  {
   "attachments": {},
   "cell_type": "markdown",
   "id": "91b776d5",
   "metadata": {},
   "source": [
    "When you call the greet() function, the code inside the function's body is executed, and the output \"Hello, welcome!\" \n",
    "is displayed.\n",
    "\n",
    "### 1.3. Function parameters\n",
    "\n",
    "Functions can also accept parameters, which are placeholders for values that are passed into the function when it is called.\n",
    "Parameters allow functions to work with different inputs and make the code more flexible and reusable. \n",
    "\n",
    "Here's an example\n",
    "of a function that takes a parameter:"
   ]
  },
  {
   "cell_type": "code",
   "execution_count": null,
   "id": "9b0a4004",
   "metadata": {},
   "outputs": [],
   "source": [
    "def greet(name):\n",
    "    print(\"Hello,\", name, \"welcome!\")"
   ]
  },
  {
   "attachments": {},
   "cell_type": "markdown",
   "id": "8fad9fe8",
   "metadata": {},
   "source": [
    "In this example, the greet() function has a single parameter named name. When the function is called, you provide a value\n",
    "for the name parameter, which is then used inside the function to print the personalized greeting message.\n",
    "\n",
    "### 1.4. Default parameters\n",
    "\n",
    "You can also specify default parameter values in a function's definition. Default parameters are used when no argument is provided for that parameter during function call.\n",
    "\n",
    "Here's an example:"
   ]
  },
  {
   "cell_type": "code",
   "execution_count": null,
   "id": "fecc38a4",
   "metadata": {},
   "outputs": [],
   "source": [
    "def greet(name=\"guest\"):\n",
    "    print(\"Hello,\", name, \"welcome!\")"
   ]
  },
  {
   "attachments": {},
   "cell_type": "markdown",
   "id": "6bd54288",
   "metadata": {},
   "source": [
    "In this example, the greet() function has a default parameter name set to \"guest\". If no argument is provided when calling the function, it will use the default value. However, if an argument is provided, it will override the default value.\n",
    "\n",
    "### 1.5. Multiple parameters\n",
    "\n",
    "Functions can have multiple parameters, allowing you to work with multiple inputs. The parameters are separated by commas within the parentheses. \n",
    "\n",
    "Here's an example:"
   ]
  },
  {
   "cell_type": "code",
   "execution_count": null,
   "id": "482adc51",
   "metadata": {},
   "outputs": [],
   "source": [
    "def add_numbers(a, b):\n",
    "    return a + b"
   ]
  },
  {
   "attachments": {},
   "cell_type": "markdown",
   "id": "8e03bcab",
   "metadata": {},
   "source": [
    "### 1.6. Return statement\n",
    "\n",
    "Functions can also return values using the return statement. The return statement allows a function to compute a result\n",
    "and pass it back to the code that called the function. \n",
    "\n",
    "Here's an example:"
   ]
  },
  {
   "cell_type": "code",
   "execution_count": null,
   "id": "61810140",
   "metadata": {},
   "outputs": [],
   "source": [
    "def add_numbers(a, b):\n",
    "    return a + b"
   ]
  },
  {
   "attachments": {},
   "cell_type": "markdown",
   "id": "50baa19e",
   "metadata": {},
   "source": [
    "In this example, the add_numbers() function takes two parameters a and b, and it returns their sum using the return statement.\n",
    "You can store the returned value in a variable or use it in any other part of your program.\n",
    "\n",
    "### 1.7. Summary\n",
    "\n",
    "In this part, you learned how to define and call functions in Python. Functions are reusable blocks of code that allow you\n",
    "to break down your program into smaller, more manageable pieces. You can define functions without parameters or with one\n",
    "or more parameters, and you can use the return statement to pass back a value from a function. Functions help make your\n",
    "code more organized, modular, and easier to understand."
   ]
  }
 ],
 "metadata": {
  "jupytext": {
   "cell_metadata_filter": "-all",
   "main_language": "python",
   "notebook_metadata_filter": "-all"
  },
  "kernelspec": {
   "display_name": "Python 3",
   "language": "python",
   "name": "python3"
  },
  "language_info": {
   "codemirror_mode": {
    "name": "ipython",
    "version": 3
   },
   "file_extension": ".py",
   "mimetype": "text/x-python",
   "name": "python",
   "nbconvert_exporter": "python",
   "pygments_lexer": "ipython3",
   "version": "3.8.10"
  }
 },
 "nbformat": 4,
 "nbformat_minor": 5
}
