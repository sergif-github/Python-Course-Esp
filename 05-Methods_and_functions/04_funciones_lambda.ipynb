{
 "cells": [
  {
   "attachments": {},
   "cell_type": "markdown",
   "metadata": {},
   "source": [
    "# Módulo 5: Métodos y funciones\n",
    "\n",
    "## Parte 4: Funciones lambda\n",
    "\n",
    "Las funciones lambda, también conocidas como funciones anónimas, son funciones pequeñas en línea que se pueden definir sin nombre. Se usan comúnmente en combinación con funciones de orden superior como map(),\n",
    "filtrar(), ordenar() y reducir(). En esta sección, exploraremos las funciones lambda y su uso con estas funciones de orden superior.\n",
    "\n",
    "### 4.1. Funciones lambda\n",
    "\n",
    "Las funciones de Lambda se definen mediante la palabra clave lambda, seguida de los argumentos de la función y una sola expresión. Pueden tomar cualquier número de argumentos, pero solo pueden tener una expresión.\n",
    "\n",
    "Sintaxis:\n",
    "```python\n",
    " lambda argumentos: expresión\n",
    "```"
   ]
  },
  {
   "cell_type": "code",
   "execution_count": null,
   "metadata": {},
   "outputs": [],
   "source": [
    "sumar = lambda x, y: x + y\n",
    "resultado = sumar(2, 3)\n",
    "print(resultado) # Salida: 5"
   ]
  },
  {
   "attachments": {},
   "cell_type": "markdown",
   "metadata": {},
   "source": [
    "En este ejemplo, una función lambda se define con dos argumentos x e y. La función devuelve la suma de los dos argumentos. La función lambda se asigna a la variable sumar y se llama con los argumentos 2 y 3, lo que da como resultado la salida 5.\n",
    "\n",
    "### 4.2. Funciones de orden superior con funciones lambda\n",
    "\n",
    "#### 4.2.1. map (función, iterable)\n",
    "\n",
    "Aplica una función determinada a cada elemento de un iterable y devuelve un iterador con los valores transformados."
   ]
  },
  {
   "cell_type": "code",
   "execution_count": null,
   "metadata": {},
   "outputs": [],
   "source": [
    "numeros = [1, 2, 3, 4, 5]\n",
    "cuadrados = map(lambda x: x ** 2, numeros)\n",
    "print(list(cuadrados)) # Salida: [1, 4, 9, 16, 25]"
   ]
  },
  {
   "attachments": {},
   "cell_type": "markdown",
   "metadata": {},
   "source": [
    "La función lambda lambda x: x ** 2 se aplica a cada elemento de la lista de numeros mediante map(), lo que da como resultado una nueva lista que contiene los cuadrados de los numeros originales.\n",
    "\n",
    "#### 4.2.2. filter (función, iterable)\n",
    "\n",
    "Filtra un iterable en función de una función dada y devuelve un iterador con los elementos que satisfacen la condición de filtrado."
   ]
  },
  {
   "cell_type": "code",
   "execution_count": null,
   "metadata": {},
   "outputs": [],
   "source": [
    "numeros = [1, 2, 3, 4, 5]\n",
    "numeros_pares = filter(lambda x: x % 2 == 0, numeros)\n",
    "print(list(numeros_pares)) # Salida: [2, 4]"
   ]
  },
  {
   "attachments": {},
   "cell_type": "markdown",
   "metadata": {},
   "source": [
    "La función lambda lambda x: x % 2 == 0 se usa con filter() para filtrar los numeros pares de la lista de numeros, lo que da como resultado una nueva lista que contiene solo los numeros pares.\n",
    "\n",
    "#### 4.2.3. sorted (iterable, clave = ninguno, inverso = falso)\n",
    "\n",
    "Devuelve una nueva lista ordenada de los elementos de un iterable, especificando opcionalmente una clave de clasificación personalizada y si ordena en orden inverso."
   ]
  },
  {
   "cell_type": "code",
   "execution_count": null,
   "metadata": {},
   "outputs": [],
   "source": [
    "numeros = [5, 2, 8, 1, 3]\n",
    "numeros_ordenados = sorted(numeros, key=lambda x: x % 3)\n",
    "print(numeros_ordenados) # Salida: [3, 2, 5, 8, 1]"
   ]
  },
  {
   "attachments": {},
   "cell_type": "markdown",
   "metadata": {},
   "source": [
    "La función lambda lambda x: x % 3 se usa como clave de clasificación en sorted() para ordenar la lista de numeros según el resto de cada número dividido por 3.\n",
    "\n",
    "#### 4.2.4. reduce (función, iterable[, inicializador])\n",
    "\n",
    "Aplica una función de dos argumentos de forma acumulativa a los elementos de un iterable, de izquierda a derecha, para reducir el iterable a un solo valor."
   ]
  },
  {
   "cell_type": "code",
   "execution_count": null,
   "metadata": {},
   "outputs": [],
   "source": [
    "from functools import reduce\n",
    "\n",
    "numeros = [1, 2, 3, 4, 5]\n",
    "producto = reduce(lambda x, y: x * y, numeros)\n",
    "print(producto) # Salida: 120"
   ]
  },
  {
   "attachments": {},
   "cell_type": "markdown",
   "metadata": {},
   "source": [
    "La función lambda lambda x, y: x * y se usa con reduce() para calcular el producto de todos los numeros en la lista de numeros.\n",
    "\n",
    "### 4.3. Resumen\n",
    "\n",
    "Las funciones Lambda proporcionan una forma concisa de definir funciones pequeñas de una línea. Cuando se combinan con funciones de orden superior como map(), filter(), sort() y reduce(), ofrecen un mecanismo poderoso para transformar, filtrar, ordenar y agregar datos. Comprender las funciones lambda y su uso con funciones de orden superior le permite escribir código más expresivo y compacto en Python."
   ]
  }
 ],
 "metadata": {
  "kernelspec": {
   "display_name": "Python 3",
   "language": "python",
   "name": "python3"
  },
  "language_info": {
   "codemirror_mode": {
    "name": "ipython",
    "version": 3
   },
   "file_extension": ".py",
   "mimetype": "text/x-python",
   "name": "python",
   "nbconvert_exporter": "python",
   "pygments_lexer": "ipython3",
   "version": "3.8.10"
  },
  "orig_nbformat": 4
 },
 "nbformat": 4,
 "nbformat_minor": 2
}
