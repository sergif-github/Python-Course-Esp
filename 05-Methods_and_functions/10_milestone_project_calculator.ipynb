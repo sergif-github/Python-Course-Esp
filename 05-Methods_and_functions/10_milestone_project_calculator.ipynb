{
 "cells": [
  {
   "attachments": {},
   "cell_type": "markdown",
   "metadata": {},
   "source": [
    "# Module 5: Methods and functions\n",
    "\n",
    "## Part 10: Milestone project, calculator\n",
    "\n",
    "### Project: Simple calculator\n",
    "\n",
    "This project will provide hands-on experience with user input, basic arithmetic operations, conditionals, loops and functions in Python. It will also give you an opportunity to practice structuring a program and writing clean code.\n",
    "\n",
    "Description:\n",
    "Create a program that simulates a simple calculator capable of performing basic arithmetic operations. \n",
    "\n",
    "Requirements:\n",
    "- The program should display a menu with available operations (addition, subtraction, multiplication, division, exit).\n",
    "- The user should be able to choose an operation by entering the corresponding number or symbol.\n",
    "- If the user selects an invalid operation or provides incorrect input, appropriate error messages should be displayed.\n",
    "- After selecting the operation, the program should prompt the user to enter two numbers.\n",
    "- The program should perform the selected operation on the given numbers and display the result.\n",
    "\n",
    "Additional Features (optional):\n",
    "\n",
    "- Allow the user to continue performing calculations without exiting the program after each operation.\n",
    "- Include exponentiation as additional operation.\n",
    "\n",
    "Considerations:\n",
    "\n",
    "- Break down the project into smaller functions or methods to improve code organization and readability.\n",
    "- Use appropriate data types for calculations and handle edge cases gracefully.\n",
    "- Test the calculator with various input scenarios to ensure accurate results."
   ]
  },
  {
   "cell_type": "code",
   "execution_count": null,
   "metadata": {},
   "outputs": [],
   "source": []
  }
 ],
 "metadata": {
  "language_info": {
   "name": "python"
  },
  "orig_nbformat": 4
 },
 "nbformat": 4,
 "nbformat_minor": 2
}
