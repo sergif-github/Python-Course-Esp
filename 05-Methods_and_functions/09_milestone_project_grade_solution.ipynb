{
 "cells": [
  {
   "attachments": {},
   "cell_type": "markdown",
   "metadata": {},
   "source": [
    "# Module 5: Methods and functions\n",
    "\n",
    "## Part 9: Milestone project, grade calculator solution\n",
    "\n",
    "### Project: Grade calculator\n",
    "\n",
    "This project will provide practical experience with variables, data types, operators, and control flow statements in Python. It will also allow you to practice mathematical calculations, input handling, and output formatting.\n",
    "\n",
    "Description:\n",
    "\n",
    "Create a program that calculates the average grade of a student based on their scores in different subjects. The program should prompt the user to enter the scores for each subject and calculate the overall average grade.\n",
    "\n",
    "Requirements:\n",
    "\n",
    "- Prompt the user to enter the number of subjects they have.\n",
    "- For each subject, prompt the user to enter the score.\n",
    "- Display the average grade to the user.\n",
    "\n",
    "Additional Features (optional):\n",
    "\n",
    "- Display the letter grade (such as A, B, C) based on the average grade.\n",
    "\n",
    "Considerations:\n",
    "\n",
    "- Use appropriate data types to store the scores and calculate the average.\n",
    "- Handle different types of scores, such as integers or floating-point numbers.\n",
    "- Utilize arithmetic operators to perform calculations and comparisons.\n",
    "- Use control flow statements such as for or while loops to handle multiple subjects.\n",
    "- Format the output to display the average grade and any additional metrics clearly."
   ]
  },
  {
   "cell_type": "code",
   "execution_count": 1,
   "metadata": {},
   "outputs": [
    {
     "name": "stdout",
     "output_type": "stream",
     "text": [
      "\n",
      "Average Grade: 4.92\n",
      "Letter Grade: F\n"
     ]
    }
   ],
   "source": [
    "def calculate_average_grade():\n",
    "    num_subjects = int(input(\"Enter the number of subjects: \"))\n",
    "    total_score = 0\n",
    "\n",
    "    for i in range(1, num_subjects + 1):\n",
    "        score = float(input(f\"Enter the score for subject {i}: \"))\n",
    "        total_score += score\n",
    "\n",
    "    average_grade = total_score / num_subjects\n",
    "    return average_grade\n",
    "\n",
    "def assign_letter_grade(average_grade):\n",
    "    if average_grade >= 90:\n",
    "        return \"A\"\n",
    "    elif average_grade >= 80:\n",
    "        return \"B\"\n",
    "    elif average_grade >= 70:\n",
    "        return \"C\"\n",
    "    elif average_grade >= 60:\n",
    "        return \"D\"\n",
    "    else:\n",
    "        return \"F\"\n",
    "\n",
    "def grade_calculator():\n",
    "    average_grade = calculate_average_grade()\n",
    "    letter_grade = assign_letter_grade(average_grade)\n",
    "\n",
    "    print(f\"\\nAverage Grade: {average_grade:.2f}\")\n",
    "    print(f\"Letter Grade: {letter_grade}\")\n",
    "\n",
    "grade_calculator()"
   ]
  }
 ],
 "metadata": {
  "kernelspec": {
   "display_name": "Python 3",
   "language": "python",
   "name": "python3"
  },
  "language_info": {
   "codemirror_mode": {
    "name": "ipython",
    "version": 3
   },
   "file_extension": ".py",
   "mimetype": "text/x-python",
   "name": "python",
   "nbconvert_exporter": "python",
   "pygments_lexer": "ipython3",
   "version": "3.8.10"
  },
  "orig_nbformat": 4
 },
 "nbformat": 4,
 "nbformat_minor": 2
}
