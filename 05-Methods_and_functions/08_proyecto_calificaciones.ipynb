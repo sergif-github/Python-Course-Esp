{
 "cells": [
  {
   "attachments": {},
   "cell_type": "markdown",
   "metadata": {},
   "source": [
    "# Módulo 5: Métodos y funciones\n",
    "\n",
    "## Parte 8: Proyecto, calculadora de calificaciónes simple\n",
    "\n",
    "### Proyecto: Calculadora de calificaciones\n",
    "\n",
    "Este proyecto proporcionará experiencia práctica con variables, tipos de datos, operadores y declaraciones de flujo de control en Python. También le permitirá practicar cálculos matemáticos, manejo de entrada y formateo de salida.\n",
    "\n",
    "Descripción:\n",
    "\n",
    "Crear un programa que calcule la nota media de un alumno en función de sus puntuaciones en diferentes materias. El programa debe solicitar al usuario que ingrese los puntajes de cada materia y calcule la calificación promedio general.\n",
    "\n",
    "Requisitos:\n",
    "\n",
    "- Solicitar al usuario que introduzca el número de asignaturas que tiene.\n",
    "- Para cada tema, solicite al usuario que ingrese la puntuación.\n",
    "- Mostrar la nota media al usuario.\n",
    "\n",
    "Características adicionales (opcional):\n",
    "\n",
    "- Mostrar la calificación de letras (como A, B, C) en función de la calificación promedio.\n",
    "\n",
    "Consideraciones:\n",
    "\n",
    "- Utilice los tipos de datos apropiados para almacenar las puntuaciones y calcular el promedio.\n",
    "- Manejar diferentes tipos de puntajes, como números enteros o números de punto flotante.\n",
    "- Utilizar operadores aritméticos para realizar cálculos y comparaciones.\n",
    "- Utilice sentencias de flujo de control como bucles for o while para manejar varios temas.\n",
    "- Formatee la salida para mostrar claramente la calificación promedio y cualquier métrica adicional."
   ]
  },
  {
   "cell_type": "code",
   "execution_count": null,
   "metadata": {},
   "outputs": [],
   "source": []
  }
 ],
 "metadata": {
  "kernelspec": {
   "display_name": "Python 3",
   "language": "python",
   "name": "python3"
  },
  "language_info": {
   "codemirror_mode": {
    "name": "ipython",
    "version": 3
   },
   "file_extension": ".py",
   "mimetype": "text/x-python",
   "name": "python",
   "nbconvert_exporter": "python",
   "pygments_lexer": "ipython3",
   "version": "3.8.10"
  },
  "orig_nbformat": 4
 },
 "nbformat": 4,
 "nbformat_minor": 2
}
