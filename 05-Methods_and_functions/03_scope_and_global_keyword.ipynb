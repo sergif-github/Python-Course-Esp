{
 "cells": [
  {
   "attachments": {},
   "cell_type": "markdown",
   "id": "95bacad9",
   "metadata": {},
   "source": [
    "# Module 5: Methods and functions\n",
    "\n",
    "## Part 3: Variable scope and global keyword\n",
    "\n",
    "In Python, variable scope refers to the region or part of the code where a variable is recognized and can be accessed. Understanding variable scope is important to determine the lifetime and visibility of variables within functions. \n",
    "\n",
    "Let's explore variable scope and the use of the global keyword in Python.\n",
    "\n",
    "### 3.1. Local variables\n",
    "\n",
    "Variables that are defined inside a function have a local scope. Local variables are only accessible within the function where they are defined. Once the function execution is complete, the local variables cease to exist. \n",
    "\n",
    "Here's an example:"
   ]
  },
  {
   "cell_type": "code",
   "execution_count": null,
   "id": "572a389c",
   "metadata": {},
   "outputs": [],
   "source": [
    "def my_function():\n",
    "    x = 10\n",
    "    print(x)\n",
    "\n",
    "my_function()"
   ]
  },
  {
   "attachments": {},
   "cell_type": "markdown",
   "id": "dba9b4c6",
   "metadata": {},
   "source": [
    "In this example, the variable x is a local variable defined within the my_function() function. It can only be accessed within the function's scope. When the function is called, the value of x is printed.\n",
    "\n",
    "### 3.2. Global variables\n",
    "\n",
    "Variables that are defined outside of any function have a global scope. Global variables are accessible throughout the entire program, including within functions. You can use global variables to store values that need to be accessed from multiple parts of your code.\n",
    "\n",
    "Here's an example:"
   ]
  },
  {
   "cell_type": "code",
   "execution_count": null,
   "id": "ec115a87",
   "metadata": {},
   "outputs": [],
   "source": [
    "x = 10\n",
    "\n",
    "def my_function():\n",
    "    print(x)\n",
    "\n",
    "my_function()"
   ]
  },
  {
   "attachments": {},
   "cell_type": "markdown",
   "id": "b95d4940",
   "metadata": {},
   "source": [
    "In this example, the variable x is a global variable defined outside the my_function() function. It can be accessed within the function because it has a global scope. When the function is called, the value of x is printed.\n",
    "\n",
    "### 3.3. The global keyword\n",
    "\n",
    "If you want to modify a global variable inside a function, you need to use the global keyword to indicate that you want to work with the global variable instead of creating a new local variable. \n",
    "\n",
    "Here's an example:"
   ]
  },
  {
   "cell_type": "code",
   "execution_count": 1,
   "id": "8722c9da",
   "metadata": {},
   "outputs": [
    {
     "name": "stdout",
     "output_type": "stream",
     "text": [
      "20\n"
     ]
    }
   ],
   "source": [
    "x = 10\n",
    "\n",
    "def modify_global():\n",
    "    global x\n",
    "    x = 20\n",
    "\n",
    "modify_global()\n",
    "print(x)"
   ]
  },
  {
   "attachments": {},
   "cell_type": "markdown",
   "id": "4f581eb8",
   "metadata": {},
   "source": [
    "In this example, the modify_global() function uses the global keyword to indicate that the x variable being modified is the global variable, not a local one. The value of x is changed to 20, and when it is printed outside the function,\n",
    " the modified value is displayed.\n",
    "\n",
    "### 3.4. Summary\n",
    "\n",
    "In this part, you learned about variable scope and the global keyword in Python. Local variables are defined within functions and have a scope limited to the function. Global variables are defined outside functions and can be accessed throughout the program. To modify a global variable within a function, you need to use the global keyword. Understanding variable scope and the use of global variables is essential for writing modular and maintainable code."
   ]
  }
 ],
 "metadata": {
  "jupytext": {
   "cell_metadata_filter": "-all",
   "main_language": "python",
   "notebook_metadata_filter": "-all"
  },
  "kernelspec": {
   "display_name": "Python 3",
   "language": "python",
   "name": "python3"
  },
  "language_info": {
   "codemirror_mode": {
    "name": "ipython",
    "version": 3
   },
   "file_extension": ".py",
   "mimetype": "text/x-python",
   "name": "python",
   "nbconvert_exporter": "python",
   "pygments_lexer": "ipython3",
   "version": "3.8.10"
  }
 },
 "nbformat": 4,
 "nbformat_minor": 5
}
