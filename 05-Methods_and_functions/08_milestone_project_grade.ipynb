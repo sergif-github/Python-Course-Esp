{
 "cells": [
  {
   "attachments": {},
   "cell_type": "markdown",
   "metadata": {},
   "source": [
    "# Module 5: Methods and functions\n",
    "\n",
    "## Part 8: Milestone project, simple grade calculator\n",
    "\n",
    "### Project: Grade calculator\n",
    "\n",
    "This project will provide practical experience with variables, data types, operators, and control flow statements in Python. It will also allow you to practice mathematical calculations, input handling, and output formatting.\n",
    "\n",
    "Description:\n",
    "\n",
    "Create a program that calculates the average grade of a student based on their scores in different subjects. The program should prompt the user to enter the scores for each subject and calculate the overall average grade.\n",
    "\n",
    "Requirements:\n",
    "\n",
    "- Prompt the user to enter the number of subjects they have.\n",
    "- For each subject, prompt the user to enter the score.\n",
    "- Display the average grade to the user.\n",
    "\n",
    "Additional Features (optional):\n",
    "\n",
    "- Display the letter grade (such as A, B, C) based on the average grade.\n",
    "\n",
    "Considerations:\n",
    "\n",
    "- Use appropriate data types to store the scores and calculate the average.\n",
    "- Handle different types of scores, such as integers or floating-point numbers.\n",
    "- Utilize arithmetic operators to perform calculations and comparisons.\n",
    "- Use control flow statements such as for or while loops to handle multiple subjects.\n",
    "- Format the output to display the average grade and any additional metrics clearly."
   ]
  },
  {
   "cell_type": "code",
   "execution_count": null,
   "metadata": {},
   "outputs": [],
   "source": []
  }
 ],
 "metadata": {
  "kernelspec": {
   "display_name": "Python 3",
   "language": "python",
   "name": "python3"
  },
  "language_info": {
   "codemirror_mode": {
    "name": "ipython",
    "version": 3
   },
   "file_extension": ".py",
   "mimetype": "text/x-python",
   "name": "python",
   "nbconvert_exporter": "python",
   "pygments_lexer": "ipython3",
   "version": "3.8.10"
  },
  "orig_nbformat": 4
 },
 "nbformat": 4,
 "nbformat_minor": 2
}
