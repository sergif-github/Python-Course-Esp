{
 "cells": [
  {
   "attachments": {},
   "cell_type": "markdown",
   "metadata": {},
   "source": [
    "# Módulo 5: Métodos y funciones\n",
    "\n",
    "## Parte 10: Proyecto, calculadora simple\n",
    "\n",
    "### Proyecto: Calculadora\n",
    "\n",
    "Este proyecto proporcionará experiencia práctica con la entrada del usuario, operaciones aritméticas básicas, condicionales, bucles y funciones en Python. También le dará la oportunidad de practicar la estructuración de un programa y la escritura de código limpio.\n",
    "\n",
    "Descripción:\n",
    "Cree un programa que simule una calculadora simple capaz de realizar operaciones aritméticas básicas.\n",
    "\n",
    "Requisitos:\n",
    "- El programa debe mostrar un menú con las operaciones disponibles (suma, resta, multiplicación, división, salida).\n",
    "- El usuario debe poder elegir una operación ingresando el número o símbolo correspondiente.\n",
    "- Si el usuario selecciona una operación no válida o proporciona una entrada incorrecta, se deben mostrar los mensajes de error correspondientes.\n",
    "- Después de seleccionar la operación, el programa debe solicitar al usuario que ingrese dos números.\n",
    "- El programa debe realizar la operación seleccionada en los números dados y mostrar el resultado.\n",
    "\n",
    "Características adicionales (opcional):\n",
    "\n",
    "- Permitir al usuario continuar realizando cálculos sin salir del programa después de cada operación.\n",
    "- Incluir exponenciación como operación adicional.\n",
    "\n",
    "Consideraciones:\n",
    "\n",
    "- Dividir el proyecto en funciones o métodos más pequeños para mejorar la organización y legibilidad del código.\n",
    "- Use los tipos de datos apropiados para los cálculos y maneje los casos extremos con gracia.\n",
    "- Pruebe la calculadora con varios escenarios de entrada para garantizar resultados precisos."
   ]
  },
  {
   "cell_type": "code",
   "execution_count": null,
   "metadata": {},
   "outputs": [],
   "source": []
  }
 ],
 "metadata": {
  "language_info": {
   "name": "python"
  },
  "orig_nbformat": 4
 },
 "nbformat": 4,
 "nbformat_minor": 2
}
