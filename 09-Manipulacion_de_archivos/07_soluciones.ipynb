{
 "cells": [
  {
   "attachments": {},
   "cell_type": "markdown",
   "metadata": {},
   "source": [
    "# Módulo 9: Manipulación de archivos\n",
    "\n",
    "## Parte 7: Soluciones\n",
    "\n",
    "### Ejercicio 1\n",
    "Escriba un programa que lea un archivo de texto llamado \"ejemplo.txt\" y escriba su contenido en otro archivo llamado \"salida.txt\"."
   ]
  },
  {
   "cell_type": "code",
   "execution_count": null,
   "metadata": {},
   "outputs": [],
   "source": [
    "# Lectura del archivo\n",
    "with open(\"ejemplo.txt\", \"r\") as archivo:\n",
    "     contenido = archivo.read()\n",
    "\n",
    "# Escribir en archivo\n",
    "with open(\"output.txt\", \"w\") as archivo:\n",
    "     archivo.write(contenido)\n",
    "\n",
    "print(\"¡El contenido del archivo se copió correctamente!\")"
   ]
  },
  {
   "attachments": {},
   "cell_type": "markdown",
   "metadata": {},
   "source": [
    "### Ejercicio 2\n",
    "Escriba un programa que lea un archivo de texto y cuente el número de líneas, palabras y caracteres que contiene. Muestra los resultados."
   ]
  },
  {
   "cell_type": "code",
   "execution_count": null,
   "metadata": {},
   "outputs": [],
   "source": [
    "# Lectura del archivo\n",
    "with open(\"input.txt\", \"r\") as archivo:\n",
    "    contenido = archivo.leer()\n",
    "\n",
    "lineas = contenido.count(\"\\n\") + 1 # Contando líneas\n",
    "palabras = len(contenido.split()) # Contar palabras\n",
    "caracteres = len(contenido) # Contando caracteres\n",
    "\n",
    "print(\"Número de líneas:\", lineas)\n",
    "print(\"Número de palabras:\", palabras)\n",
    "print(\"Número de caracteres:\", caracteres)"
   ]
  },
  {
   "attachments": {},
   "cell_type": "markdown",
   "metadata": {},
   "source": [
    "### Ejercicio 3\n",
    "Escriba un programa que solicite al usuario que ingrese el nombre de un archivo. Lee el contenido. Si el archivo no existe, genera una excepción FileNotFoundError."
   ]
  },
  {
   "cell_type": "code",
   "execution_count": null,
   "metadata": {},
   "outputs": [],
   "source": [
    "archivo = None\n",
    "try:\n",
    "    filename = input(\"Ingrese el nombre del archivo: \")\n",
    "    archivo = open(filename, \"r\")\n",
    "    contenido = archivo.read()\n",
    "    print(contenido)\n",
    "except FileNotFoundError:\n",
    "    print(\"El archivo no existe\")\n",
    "finally:\n",
    "    if archivo is not None:\n",
    "        archivo.close()"
   ]
  },
  {
   "attachments": {},
   "cell_type": "markdown",
   "metadata": {},
   "source": [
    "### Ejercicio 4\n",
    "Escriba un programa que lea un archivo CSV llamado \"data.csv\" y muestre su contenido."
   ]
  },
  {
   "cell_type": "code",
   "execution_count": null,
   "metadata": {},
   "outputs": [],
   "source": [
    "import csv\n",
    "\n",
    "with open(\"data.csv\", \"r\") as archivo:\n",
    "    lector = csv.lector(archivo)\n",
    "    for fila in lector:\n",
    "        print(fila)"
   ]
  },
  {
   "attachments": {},
   "cell_type": "markdown",
   "metadata": {},
   "source": [
    "### Ejercicio 5\n",
    "Escriba un programa que lea datos de un archivo JSON y permita al usuario agregarle nuevos datos. El programa debe solicitar al usuario que ingrese un nombre y una edad, y luego agregar los datos ingresados como un nuevo objeto JSON al archivo JSON existente. Si el archivo no existe, el programa debe crear un nuevo archivo y almacenar los datos ingresados."
   ]
  },
  {
   "cell_type": "code",
   "execution_count": null,
   "metadata": {},
   "outputs": [],
   "source": [
    "import json\n",
    "\n",
    "try:\n",
    "    with open(\"data.json\", \"r\") as archivo:\n",
    "        datos = [json.load(archivo)]\n",
    "except FileNotFoundError:\n",
    "    datos = []\n",
    "\n",
    "nombre = input(\"Ingrese un nombre:\")\n",
    "edad = int(input(\"Ingrese una edad: \"))\n",
    "\n",
    "nueva_entrada = {\"nombre\": nombre, \"edad\": edad}\n",
    "datos.append(nueva_entrada)\n",
    "\n",
    "with open(\"data.json\", \"w\") as archivo:\n",
    "    json.dump(datos, archivo)\n",
    "\n",
    "print(\"Datos escritos correctamente en data.json\")"
   ]
  }
 ],
 "metadata": {
  "kernelspec": {
   "display_name": "Python 3",
   "language": "python",
   "name": "python3"
  },
  "language_info": {
   "codemirror_mode": {
    "name": "ipython",
    "version": 3
   },
   "file_extension": ".py",
   "mimetype": "text/x-python",
   "name": "python",
   "nbconvert_exporter": "python",
   "pygments_lexer": "ipython3",
   "version": "3.8.10"
  },
  "orig_nbformat": 4
 },
 "nbformat": 4,
 "nbformat_minor": 2
}
