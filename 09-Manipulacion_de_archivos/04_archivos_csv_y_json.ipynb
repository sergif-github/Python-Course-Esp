{
 "cells": [
  {
   "attachments": {},
   "cell_type": "markdown",
   "id": "f4949ba4",
   "metadata": {},
   "source": [
    "# Módulo 9: Manipulación de archivos\n",
    "\n",
    "## Parte 4: Procesamiento de archivos CSV y JSON\n",
    "\n",
    "Además de trabajar con archivos de texto sin formato, Python proporciona compatibilidad integrada para procesar CSV (valores separados por comas)\n",
    "y archivos JSON (notación de objetos de JavaScript). En esta sección, exploraremos cómo leer y escribir datos en formatos CSV y JSON.\n",
    "\n",
    "### 4.1. Procesamiento de archivos CSV\n",
    "\n",
    "Los archivos CSV se usan comúnmente para almacenar datos tabulares, donde cada fila representa un registro y los valores están separados por delimitadores como comas.\n",
    "Python proporciona el módulo csv para leer y escribir archivos CSV.\n",
    "\n",
    "Para leer datos de un archivo CSV, puede usar la función csv.reader().\n",
    "\n",
    "Aquí hay un ejemplo:"
   ]
  },
  {
   "cell_type": "code",
   "execution_count": null,
   "id": "67c78fe4",
   "metadata": {},
   "outputs": [],
   "source": [
    "import csv\n",
    "\n",
    "with open(\"data.csv\", \"r\") as archivo:\n",
    "    csv_reader = csv.reader(archivo)\n",
    "    for fila in csv_reader:\n",
    "        print(fila)"
   ]
  },
  {
   "attachments": {},
   "cell_type": "markdown",
   "id": "95a8874f",
   "metadata": {},
   "source": [
    "En este ejemplo, abrimos el archivo CSV \"data.csv\" en modo lectura y creamos un objeto csv_reader usando la función csv.reader().\n",
    "Luego podemos iterar sobre el objeto csv_reader para acceder a cada fila como una lista de valores.\n",
    "\n",
    "Para escribir datos en un archivo CSV, puede usar la función csv.writer().\n",
    "\n",
    "Aquí hay un ejemplo:"
   ]
  },
  {
   "cell_type": "code",
   "execution_count": 2,
   "id": "b40173cf",
   "metadata": {},
   "outputs": [],
   "source": [
    "import csv\n",
    "\n",
    "datos = [\n",
    "     [\"Nombre\", \"Edad\", \"País\"],\n",
    "     [\"Juan\", 25, \"Estados Unidos\"],\n",
    "     [\"Alicia\", 30, \"Canadá\"],\n",
    "     [\"Bob\", 28, \"Reino Unido\"]\n",
    "]\n",
    "\n",
    "with open(\"data.csv\", \"w\", newline=\"\") as archivo:\n",
    "    csv_writer = csv.writer(archivo)\n",
    "    csv_writer.writerows(datos)"
   ]
  },
  {
   "attachments": {},
   "cell_type": "markdown",
   "id": "fb85d631",
   "metadata": {},
   "source": [
    "En este ejemplo, tenemos una lista de listas que representan los datos que se escribirán en el archivo CSV. Abrimos el archivo \"data.csv\"\n",
    "en modo de escritura y cree un objeto csv_writer usando la función csv.writer(). Luego usamos el método writerows() para escribir\n",
    "todas las filas de datos al archivo CSV.\n",
    "\n",
    "### 4.2. Dividir archivos CSV con el delimitador deseado\n",
    "\n",
    "A veces, puede encontrar archivos CSV donde los valores no están separados por comas sino por un delimitador diferente. En esos casos,\n",
    "puede especificar el delimitador deseado al leer o escribir el archivo CSV.\n",
    "\n",
    "Por ejemplo, para dividir un archivo CSV con un delimitador de punto y coma (;), puede modificar el código de la siguiente manera:"
   ]
  },
  {
   "cell_type": "code",
   "execution_count": null,
   "id": "5ecdf32a",
   "metadata": {
    "lines_to_next_cell": 2
   },
   "outputs": [],
   "source": [
    "import csv\n",
    "\n",
    "with open(\"data.csv\", \"r\") as archivo:\n",
    "    csv_reader = csv.reader(archivo, delimiter=\";\")\n",
    "    for fila in csv_reader:\n",
    "        print(fila)"
   ]
  },
  {
   "attachments": {},
   "cell_type": "markdown",
   "id": "6ac25e3e",
   "metadata": {},
   "source": [
    "En este ejemplo, pasamos el delimitador=\";\" argumento a la función csv.reader(), especificando que los valores en el archivo CSV están separados por punto y coma.\n",
    "\n",
    "De manera similar, al escribir datos en un archivo CSV con un delimitador diferente, puede especificar el delimitador deseado en la función csv.writer():"
   ]
  },
  {
   "cell_type": "code",
   "execution_count": null,
   "id": "67742d3c",
   "metadata": {},
   "outputs": [],
   "source": [
    "import csv\n",
    "\n",
    "datos = [\n",
    "     [\"Nombre\", \"Edad\", \"País\"],\n",
    "     [\"Juan\", 25, \"Estados Unidos\"],\n",
    "     [\"Alicia\", 30, \"Canadá\"],\n",
    "     [\"Bob\", 28, \"Reino Unido\"]\n",
    "]\n",
    "\n",
    "with open(\"data.csv\", \"w\", newline=\"\") as archivo:\n",
    "     csv_writer = csv.writer(archivo, delimiter=\";\")\n",
    "     csv_writer.writerows(datos)"
   ]
  },
  {
   "attachments": {},
   "cell_type": "markdown",
   "id": "8bdd0d8b",
   "metadata": {},
   "source": [
    "En este ejemplo, pasamos el delimitador=\";\" argumento a la función csv.writer(), especificando que los valores en el archivo CSV deben estar separados por punto y coma.\n",
    "\n",
    "Al usar el delimitador apropiado, puede manejar archivos CSV con diferentes separadores y procesar los datos en consecuencia.\n",
    "\n",
    "### 4.3. Procesamiento de archivos JSON\n",
    "\n",
    "Los archivos JSON se utilizan para almacenar datos estructurados en un formato legible por humanos. Python proporciona el módulo json para trabajar con archivos JSON.\n",
    "\n",
    "Para leer datos de un archivo JSON, puede usar la función json.load().\n",
    "\n",
    "Aquí hay un ejemplo:"
   ]
  },
  {
   "cell_type": "code",
   "execution_count": null,
   "id": "734f6a16",
   "metadata": {},
   "outputs": [],
   "source": [
    "import json\n",
    "\n",
    "with open(\"data.json\", \"r\") as archivo:\n",
    "     datos = json.load(archivo)\n",
    "     print(datos)"
   ]
  },
  {
   "attachments": {},
   "cell_type": "markdown",
   "id": "620e0c23",
   "metadata": {},
   "source": [
    "En este ejemplo, abrimos el archivo JSON \"data.json\" en modo de lectura y usamos la función json.load() para cargar los datos del archivo a un objeto Python. Luego podemos trabajar con los datos como un diccionario, una lista u otra estructura de datos adecuada.\n",
    "\n",
    "Para escribir datos en un archivo JSON, puede usar la función json.dump().\n",
    "\n",
    "Aquí hay un ejemplo:"
   ]
  },
  {
   "cell_type": "code",
   "execution_count": 4,
   "id": "09f89058",
   "metadata": {},
   "outputs": [],
   "source": [
    "import json\n",
    "\n",
    "datos = {\n",
    "     \"nombre\": \"Juan\",\n",
    "     \"edad\": 25,\n",
    "     \"país\": \"Estados Unidos\"\n",
    "}\n",
    "\n",
    "with open(\"data.json\", \"w\") as archivo:\n",
    "     json.dump(datos, archivo)"
   ]
  },
  {
   "attachments": {},
   "cell_type": "markdown",
   "id": "c585ab59",
   "metadata": {},
   "source": [
    "En este ejemplo, tenemos un diccionario que representa los datos que se escribirán en el archivo JSON. Abrimos el archivo \"data.json\" en modo escritura y usamos la función json.dump() para escribir los datos en el archivo en formato JSON.\n",
    "\n",
    "### 4.4. Resumen\n",
    "\n",
    "En esta sección, exploramos cómo procesar archivos CSV y JSON en Python. El módulo csv proporciona funciones para leer y escribir. archivos CSV, lo que le permite trabajar con datos delimitados. El módulo json le permite leer y escribir archivos JSON, que comúnmente se utilizan para almacenar datos estructurados. \n",
    "\n",
    "Comprender cómo trabajar con archivos CSV y JSON es crucial para manejar datos en varios formatos dentro de sus programas de Python."
   ]
  }
 ],
 "metadata": {
  "jupytext": {
   "cell_metadata_filter": "-all",
   "main_language": "python",
   "notebook_metadata_filter": "-all"
  },
  "kernelspec": {
   "display_name": "Python 3",
   "language": "python",
   "name": "python3"
  },
  "language_info": {
   "codemirror_mode": {
    "name": "ipython",
    "version": 3
   },
   "file_extension": ".py",
   "mimetype": "text/x-python",
   "name": "python",
   "nbconvert_exporter": "python",
   "pygments_lexer": "ipython3",
   "version": "3.8.10"
  }
 },
 "nbformat": 4,
 "nbformat_minor": 5
}
