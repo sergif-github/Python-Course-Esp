{
 "cells": [
  {
   "attachments": {},
   "cell_type": "markdown",
   "id": "b6e0ca39",
   "metadata": {},
   "source": [
    "# Módulo 9: Manipulación de archivos\n",
    "\n",
    "## Parte 5: Manejo de errores con archivos\n",
    "\n",
    "Al trabajar con archivos, es importante controlar los posibles errores que pueden ocurrir durante las operaciones. Pueden surgir errores cuando\n",
    "no se encuentra un archivo, los permisos son insuficientes o el archivo ya está abierto por otro proceso. Python proporciona mecanismos\n",
    "para manejar estos errores y asegurarse de que su programa maneje correctamente cualquier problema.\n",
    "\n",
    "### 5.1. Manejo de errores relacionados con archivos\n",
    "\n",
    "Para manejar errores relacionados con archivos, puede usar un bloque try-except. El bloque try contiene el código que podría generar una excepción,\n",
    "mientras que el bloque excepto maneja la excepción si ocurre una.\n",
    "\n",
    "Aquí hay un ejemplo de cómo manejar un FileNotFoundError:"
   ]
  },
  {
   "cell_type": "code",
   "execution_count": null,
   "id": "59e673a2",
   "metadata": {},
   "outputs": [],
   "source": [
    "try:\n",
    "    with open(\"data.txt\", \"r\") as archivo:\n",
    "        contenido = archivo.read()\n",
    "        print(contenido)\n",
    "except FileNotFoundError:\n",
    "    print(\"El archivo no existe\")"
   ]
  },
  {
   "attachments": {},
   "cell_type": "markdown",
   "id": "5dd54c24",
   "metadata": {},
   "source": [
    "En este ejemplo, intentamos abrir el archivo \"data.txt\" para leerlo. Si no se encuentra el archivo, se genera un FileNotFoundError.\n",
    "Capturamos esta excepción específica en el bloque excepto y mostramos un mensaje de error personalizado.\n",
    "\n",
    "También puede manejar otras excepciones relacionadas con archivos, como PermissionError e IOError, de manera similar agregando\n",
    "  excepto bloques.\n",
    "\n",
    "### 5.2. Limpiando recursos con finally\n",
    "\n",
    "El bloque finally le permite definir el código que debe ejecutarse independientemente de si se produce una excepción o no. Comúnmente se utiliza para liberar recursos, como cerrar archivos, para garantizar una limpieza adecuada.\n",
    "\n",
    "Aquí hay un ejemplo del uso de finally para cerrar un archivo:"
   ]
  },
  {
   "cell_type": "code",
   "execution_count": null,
   "id": "bb1f415c",
   "metadata": {},
   "outputs": [],
   "source": [
    "archivo = None\n",
    "try:\n",
    "    archivo = open(\"datos.txt\", \"r\")\n",
    "    contenido = archivo.leer()\n",
    "    print(contenido)\n",
    "except FileNotFoundError:\n",
    "    print(\"El archivo no existe\")\n",
    "finally:\n",
    "    if archivo is not None:\n",
    "        archivo.close()"
   ]
  },
  {
   "attachments": {},
   "cell_type": "markdown",
   "id": "3641d757",
   "metadata": {},
   "source": [
    "En este ejemplo, incluso si ocurre una excepción, el bloque finally se ejecutará, lo que garantiza que el archivo se cierre correctamente.\n",
    "\n",
    "### 5.3. Resumen\n",
    "\n",
    "En esta sección, cubrimos el manejo de errores con archivos. Mediante el uso de bloques try-except, puede manejar correctamente los errores relacionados con los archivos\n",
    "y proporcionar los mensajes de error apropiados. Además, el bloque finally le permite limpiar recursos, como cerrar archivos,\n",
    "para garantizar una correcta gestión de los recursos."
   ]
  }
 ],
 "metadata": {
  "jupytext": {
   "cell_metadata_filter": "-all",
   "main_language": "python",
   "notebook_metadata_filter": "-all"
  },
  "kernelspec": {
   "display_name": "Python 3",
   "language": "python",
   "name": "python3"
  },
  "language_info": {
   "codemirror_mode": {
    "name": "ipython",
    "version": 3
   },
   "file_extension": ".py",
   "mimetype": "text/x-python",
   "name": "python",
   "nbconvert_exporter": "python",
   "pygments_lexer": "ipython3",
   "version": "3.8.10"
  }
 },
 "nbformat": 4,
 "nbformat_minor": 5
}
