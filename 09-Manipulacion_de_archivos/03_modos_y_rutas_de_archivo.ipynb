{
 "cells": [
  {
   "attachments": {},
   "cell_type": "markdown",
   "id": "0aa559ea",
   "metadata": {},
   "source": [
    "# Módulo 9: Manipulación de archivos\n",
    "\n",
    "## Parte 3: Modos de archivo y rutas de archivo\n",
    "\n",
    "Al trabajar con archivos en Python, es importante comprender los modos de archivo y cómo trabajar con rutas de archivo. En esta sección,\n",
    "exploraremos estos conceptos.\n",
    "\n",
    "### 3.1. Modos de archivo\n",
    "\n",
    "Los modos de archivo definen cómo se debe abrir y acceder a un archivo. Al abrir un archivo, debe especificar el modo como segundo argumento\n",
    "a la función open(). Estos son algunos modos de archivo de uso común:\n",
    "\n",
    "- 'r': Modo lectura.\n",
    "\n",
    "     Abre el archivo para lectura. Genera un error si el archivo no existe.\n",
    "\n",
    "- 'w': Modo de escritura.\n",
    "\n",
    "     Abre el archivo para escribir. Crea un nuevo archivo si no existe, o trunca el archivo si existe.\n",
    "\n",
    "- 'a': Modo agregar.\n",
    "\n",
    "     Abre el archivo para anexarlo. El puntero de archivo está al final del archivo y los datos nuevos se escriben al final.\n",
    "\n",
    "- 'x': Modo de creación exclusivo.\n",
    "\n",
    "     Crea un nuevo archivo, pero genera un error si el archivo ya existe.\n",
    "\n",
    "- 'b': Modo binario.\n",
    "\n",
    "     Abre el archivo en modo binario, lo que le permite leer o escribir datos binarios.\n",
    "\n",
    "- 't': Modo texto.\n",
    "\n",
    "     Abre el archivo en modo de texto, que es el predeterminado. En el modo de texto, los datos se codifican como cadenas Unicode.\n",
    "\n",
    "Puede combinar varios modos especificándolos como una cadena. Por ejemplo, 'rb' abre el archivo en modo binario para lectura.\n",
    "\n",
    "### 3.2. Rutas de archivos\n",
    "\n",
    "Una ruta de archivo es la ubicación de un archivo en el sistema de archivos. En Python, puede usar una ruta de archivo relativa o absoluta para hacer referencia\n",
    "a un archivo.\n",
    "\n",
    "Aquí están algunos ejemplos:\n",
    "\n",
    "- Ruta de archivo relativa: \"ejemplo.txt\" (se refiere a un archivo en el directorio actual)\n",
    "- Ruta de archivo absoluta: \"C:/Documentos/ejemplo.txt\" (se refiere a un archivo que usa la ruta completa)\n",
    "\n",
    "Al trabajar con rutas de archivos, es importante tener en cuenta la plataforma en la que está trabajando. En diferentes sistemas operativos, rutas de archivo\n",
    "puede usar diferentes separadores. Por ejemplo, Windows usa barras diagonales inversas (`\\`) como separador, mientras que los sistemas basados en Unix usan barras diagonales (`/`).\n",
    "\n",
    "Para manejar rutas de archivos de forma independiente de la plataforma, puede usar el módulo os en Python, que proporciona funciones para trabajar con\n",
    "rutas de archivos. Aquí hay un ejemplo:"
   ]
  },
  {
   "cell_type": "code",
   "execution_count": null,
   "id": "58a9d065",
   "metadata": {},
   "outputs": [],
   "source": [
    "import os\n",
    "\n",
    "# Unirse a los componentes de la ruta del archivo\n",
    "ruta_archivo = os.path.join(\"./\", \"ejemplo.txt\")\n",
    "\n",
    "# Comprobando si existe un archivo\n",
    "if os.path.exists (ruta_archivo):\n",
    "     print(\"El archivo existe\")\n",
    "else:\n",
    "     print(\"El archivo no existe\")"
   ]
  },
  {
   "attachments": {},
   "cell_type": "markdown",
   "id": "d568d43a",
   "metadata": {},
   "source": [
    "En este ejemplo, la función os.path.join() se usa para unir los componentes de directorio y nombre de archivo para crear una ruta de archivo.\n",
    "La función os.path.exists() se usa para verificar si el archivo existe.\n",
    "\n",
    "### 3.3. Resumen\n",
    "\n",
    "En esta sección, exploramos los modos de archivo y las rutas de archivo en Python. Los modos de archivo le permiten especificar cómo se debe abrir y acceder a un archivo,\n",
    "como para leer, escribir o agregar. Las rutas de archivo representan la ubicación de un archivo en el sistema de archivos y pueden ser relativas o absolutas.\n",
    "El módulo os proporciona funciones para trabajar con rutas de archivos de forma independiente de la plataforma. Comprender los modos de archivo y las rutas de archivo es esencial\n",
    "para trabajar eficazmente con archivos en Python."
   ]
  }
 ],
 "metadata": {
  "jupytext": {
   "cell_metadata_filter": "-all",
   "main_language": "python",
   "notebook_metadata_filter": "-all"
  },
  "kernelspec": {
   "display_name": "Python 3",
   "language": "python",
   "name": "python3"
  },
  "language_info": {
   "codemirror_mode": {
    "name": "ipython",
    "version": 3
   },
   "file_extension": ".py",
   "mimetype": "text/x-python",
   "name": "python",
   "nbconvert_exporter": "python",
   "pygments_lexer": "ipython3",
   "version": "3.8.10"
  }
 },
 "nbformat": 4,
 "nbformat_minor": 5
}
