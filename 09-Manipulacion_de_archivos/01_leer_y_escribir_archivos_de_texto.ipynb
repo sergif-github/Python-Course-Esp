{
 "cells": [
  {
   "attachments": {},
   "cell_type": "markdown",
   "id": "c8353dde",
   "metadata": {},
   "source": [
    "# Módulo 9: Manipulación de archivos\n",
    "\n",
    "## Parte 1: Leer y escribir archivos de texto\n",
    "\n",
    "En esta sección, exploraremos cómo abrir, leer y escribir archivos de texto usando Python.\n",
    "\n",
    "### 1.1. Abriendo un archivo de texto\n",
    "\n",
    "Para abrir un archivo de texto en Python, puede usar la función integrada open(). Toma la ruta del archivo como parámetro y devuelve\n",
    "un objeto de archivo que se puede utilizar para realizar varias operaciones en el archivo.\n",
    "\n",
    "Aquí hay un ejemplo de cómo abrir un archivo de texto llamado \"example.txt\" en modo de lectura:"
   ]
  },
  {
   "cell_type": "code",
   "execution_count": 1,
   "id": "c9726f5d",
   "metadata": {},
   "outputs": [],
   "source": [
    "archivo = open(\"ejemplo.txt\", \"r\")"
   ]
  },
  {
   "attachments": {},
   "cell_type": "markdown",
   "id": "7b5c06b7",
   "metadata": {},
   "source": [
    "En este ejemplo, el archivo se abre en modo lectura utilizando el parámetro \"r\". Otros modos incluyen \"w\" para el modo de escritura, \"a\" para\n",
    "agregar al texto ya existente o \"x\" para el modo de creación exclusiva.\n",
    "\n",
    "### 1.2. Lectura de un archivo de texto\n",
    "\n",
    "Una vez que haya abierto un archivo de texto, puede leer su contenido utilizando los métodos read() o readline() del objeto de archivo.\n",
    "\n",
    "El método read() lee todo el contenido del archivo como una sola cadena:"
   ]
  },
  {
   "cell_type": "code",
   "execution_count": null,
   "id": "80e3f690",
   "metadata": {},
   "outputs": [],
   "source": [
    "archivo = open(\"ejemplo.txt\", \"r\")\n",
    "contenido = archivo.leer()\n",
    "print(contenido)"
   ]
  },
  {
   "attachments": {},
   "cell_type": "markdown",
   "id": "c62eea05",
   "metadata": {},
   "source": [
    "El método readline() lee una línea a la vez del archivo:"
   ]
  },
  {
   "cell_type": "code",
   "execution_count": null,
   "id": "4ae3a9f6",
   "metadata": {},
   "outputs": [],
   "source": [
    "archivo = open(\"ejemplo.txt\", \"r\")\n",
    "linea = archivo.readline()\n",
    "print(linea)"
   ]
  },
  {
   "attachments": {},
   "cell_type": "markdown",
   "id": "88b1cb38",
   "metadata": {},
   "source": [
    "También puede iterar sobre el objeto de archivo directamente para leer cada línea en un bucle:"
   ]
  },
  {
   "cell_type": "code",
   "execution_count": null,
   "id": "746d0f16",
   "metadata": {},
   "outputs": [],
   "source": [
    "archivo = open(\"ejemplo.txt\", \"r\")\n",
    "for linea in archivo:\n",
    "     print(linea)"
   ]
  },
  {
   "attachments": {},
   "cell_type": "markdown",
   "id": "3ab4cd46",
   "metadata": {},
   "source": [
    "### 1.3. Escribir en un archivo de texto\n",
    "\n",
    "Para escribir en un archivo de texto, debe abrirlo en modo de escritura o en modo de adición utilizando el parámetro \"w\" o \"a\", respectivamente.\n",
    "\n",
    "Aquí hay un ejemplo de cómo abrir un archivo llamado \"salida.txt\" en modo de escritura y escribir algo de contenido en él:"
   ]
  },
  {
   "cell_type": "code",
   "execution_count": 4,
   "id": "e5dcba7c",
   "metadata": {},
   "outputs": [],
   "source": [
    "archivo = open(\"salida.txt\", \"w\")\n",
    "archivo.write(\"¡Hola, mundo!\")\n",
    "archivo.close()"
   ]
  },
  {
   "attachments": {},
   "cell_type": "markdown",
   "id": "521c4c13",
   "metadata": {},
   "source": [
    "En este ejemplo, el parámetro \"w\" abre el archivo en modo de escritura y el método write() se usa para escribir el contenido especificado en el archivo.\n",
    "\n",
    "Para agregar contenido a un archivo existente, puede abrirlo en modo agregar usando el parámetro \"a\":"
   ]
  },
  {
   "cell_type": "code",
   "execution_count": 6,
   "id": "4c6aa046",
   "metadata": {},
   "outputs": [],
   "source": [
    "archivo = open(\"salida.txt\", \"a\")\n",
    "archivo.write(\"Agregando contenido nuevo\")\n",
    "archivo.close()"
   ]
  },
  {
   "attachments": {},
   "cell_type": "markdown",
   "id": "42f60578",
   "metadata": {},
   "source": [
    "### 1.4. Cerrar el archivo\n",
    "\n",
    "Una vez que haya terminado de trabajar con un archivo, es importante cerrarlo usando el método close() del objeto de archivo.\n",
    "Esto garantiza que todos los recursos asociados con el archivo se liberen correctamente."
   ]
  },
  {
   "cell_type": "code",
   "execution_count": null,
   "id": "7d25be8a",
   "metadata": {},
   "outputs": [],
   "source": [
    "archivo = open(\"ejemplo.txt\", \"r\")\n",
    "archivo.close()"
   ]
  },
  {
   "attachments": {},
   "cell_type": "markdown",
   "id": "e0e7fa59",
   "metadata": {},
   "source": [
    "### 1.5. Realizar operaciones de archivo\n",
    "\n",
    "Alternativamente, puede usar la instrucción with, que cierra automáticamente el archivo cuando termina:\n",
    "\n",
    "```python\n",
    "with open(\"ejemplo.txt\", \"r\") as archivo:\n",
    "     # Realizar operaciones de archivos\n",
    "```\n",
    "\n",
    "Se recomienda usar la declaración with ya que garantiza que el archivo siempre esté cerrado, incluso si ocurre una excepción dentro del bloque.\n",
    "\n",
    "### 1.6. Resumen\n",
    "\n",
    "En esta sección, aprendimos a trabajar con archivos de texto en Python. Exploramos como abrir archivos, leer su contenido, escribir,\n",
    "y cerrándolos correctamente. El manejo de archivos es una habilidad fundamental para muchas aplicaciones de Python, y comprender estos conceptos\n",
    "le ayudará a manipular con eficacia los archivos de texto en sus programas."
   ]
  }
 ],
 "metadata": {
  "jupytext": {
   "cell_metadata_filter": "-all",
   "main_language": "python",
   "notebook_metadata_filter": "-all"
  },
  "kernelspec": {
   "display_name": "Python 3",
   "language": "python",
   "name": "python3"
  },
  "language_info": {
   "codemirror_mode": {
    "name": "ipython",
    "version": 3
   },
   "file_extension": ".py",
   "mimetype": "text/x-python",
   "name": "python",
   "nbconvert_exporter": "python",
   "pygments_lexer": "ipython3",
   "version": "3.8.10"
  }
 },
 "nbformat": 4,
 "nbformat_minor": 5
}
