{
 "cells": [
  {
   "attachments": {},
   "cell_type": "markdown",
   "id": "e018c3b0",
   "metadata": {},
   "source": [
    "# Módulo 9: Manipulación de archivos\n",
    "\n",
    "## Parte 2: Trabajar con objetos de archivo\n",
    "\n",
    "Además de leer y escribir archivos de texto, Python proporciona varios métodos y atributos que se pueden usar para trabajar con objetos de archivo.\n",
    "En esta sección, exploraremos algunas de estas características.\n",
    "\n",
    "### 2.1. Métodos de objeto de archivo\n",
    "\n",
    "Los objetos de archivo en Python vienen con varios métodos que le permiten realizar operaciones en el archivo. Estos son algunos métodos comúnmente utilizados:\n",
    "\n",
    "- read(tamaño)\n",
    "\n",
    "     Lee y devuelve bytes del tamaño del archivo. Si no se especifica el tamaño, lee todo el archivo.\n",
    "\n",
    "- readline()\n",
    "\n",
    "     Lee y devuelve la siguiente línea del archivo.\n",
    "\n",
    "- readlines()\n",
    "\n",
    "     Lee todas las líneas del archivo y las devuelve como una lista de cadenas.\n",
    "\n",
    "- write(cadena)\n",
    "\n",
    "     Escribe la cadena especificada en el archivo.\n",
    "\n",
    "- writelines(líneas)\n",
    "\n",
    "     Escribe una lista de líneas de cadenas en el archivo.\n",
    "\n",
    "- seek(offset)\n",
    "\n",
    "     Cambia la posición del archivo al desplazamiento dado (en bytes).\n",
    "\n",
    "- tell()\n",
    "\n",
    "     Devuelve la posición actual del archivo.\n",
    "\n",
    "- close()\n",
    "\n",
    "     Cierra el archivo.\n",
    "\n",
    "Aquí hay un ejemplo que demuestra el uso de algunos de estos métodos:"
   ]
  },
  {
   "cell_type": "code",
   "execution_count": 3,
   "id": "20ec4e6f",
   "metadata": {},
   "outputs": [],
   "source": [
    "archivo = open(\"ejemplo.txt\", \"r\")\n",
    "content = archivo.read() # Leer el archivo completo\n",
    "line = archivo.readline() # Lee la siguiente línea\n",
    "lines = archivo.readlines() # Leer todas las líneas en una lista\n",
    "archivo.close() # Cierra el archivo"
   ]
  },
  {
   "attachments": {},
   "cell_type": "markdown",
   "id": "2ab90415",
   "metadata": {},
   "source": [
    "### 2.2. Atributos de objeto de archivo\n",
    "\n",
    "Los objetos de archivo también proporcionan algunos atributos útiles que brindan información sobre el archivo.\n",
    "\n",
    "Aquí hay algunos atributos de uso común:\n",
    "\n",
    "- nombre\n",
    "\n",
    "     Devuelve el nombre del archivo.\n",
    "\n",
    "- modo\n",
    "\n",
    "     Devuelve el modo en que se abrió el archivo.\n",
    "\n",
    "- cerrado\n",
    "\n",
    "     Devuelve True si el archivo está cerrado, False en caso contrario.\n",
    "\n",
    "Puede acceder a estos atributos utilizando la notación de puntos.\n",
    "\n",
    "Por ejemplo:"
   ]
  },
  {
   "cell_type": "code",
   "execution_count": null,
   "id": "0dd3760a",
   "metadata": {},
   "outputs": [],
   "source": [
    "archivo = open(\"ejemplo.txt\", \"r\")\n",
    "print(archivo.name) # Imprime el nombre del archivo\n",
    "print(archivo.mode) # Imprime el modo de archivo\n",
    "print(archivo.closed) # Imprime si el archivo está cerrado\n",
    "archivo.close() # Cierra el archivo"
   ]
  },
  {
   "attachments": {},
   "cell_type": "markdown",
   "id": "13c3597e",
   "metadata": {},
   "source": [
    "### 2.3. Uso con declaración\n",
    "\n",
    "Para asegurarse de que un archivo se cierre correctamente, es una buena práctica usar la instrucción with. Esto automáticamente se encarga de cerrar\n",
    "el archivo, incluso si se produce una excepción.\n",
    "\n",
    "Aquí hay un ejemplo del uso de la declaración with:"
   ]
  },
  {
   "cell_type": "code",
   "execution_count": null,
   "id": "bb17feb0",
   "metadata": {},
   "outputs": [],
   "source": [
    "with open(\"ejemplo.txt\", \"r\") as archivo:\n",
    "     contenido = archivo.leer()\n",
    "     print(contenido)"
   ]
  },
  {
   "attachments": {},
   "cell_type": "markdown",
   "id": "fb5ec531",
   "metadata": {},
   "source": [
    "En este ejemplo, el archivo se cierra automáticamente cuando se sale del bloque de código dentro de la instrucción with, ya sea completando\n",
    "el bloque o encontrar una excepción.\n",
    "\n",
    "### 2.4. Resumen\n",
    "\n",
    "En esta sección, exploramos algunos de los métodos y atributos proporcionados por los objetos de archivo en Python. Estas características le permiten\n",
    "realizar varias operaciones en archivos, como leer, escribir, buscar y obtener información sobre el archivo. Recuerda cerrar\n",
    "el archivo una vez que haya terminado de trabajar con él para liberar recursos del sistema. La declaración with proporciona una manera conveniente de asegurar\n",
    "que el archivo esté correctamente cerrado."
   ]
  }
 ],
 "metadata": {
  "jupytext": {
   "cell_metadata_filter": "-all",
   "main_language": "python",
   "notebook_metadata_filter": "-all"
  },
  "kernelspec": {
   "display_name": "Python 3",
   "language": "python",
   "name": "python3"
  },
  "language_info": {
   "codemirror_mode": {
    "name": "ipython",
    "version": 3
   },
   "file_extension": ".py",
   "mimetype": "text/x-python",
   "name": "python",
   "nbconvert_exporter": "python",
   "pygments_lexer": "ipython3",
   "version": "3.8.10"
  }
 },
 "nbformat": 4,
 "nbformat_minor": 5
}
