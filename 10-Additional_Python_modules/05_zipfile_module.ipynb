{
 "cells": [
  {
   "attachments": {},
   "cell_type": "markdown",
   "id": "55daa1bd",
   "metadata": {},
   "source": [
    "# Module 10: Additional Python modules\n",
    "\n",
    "## Part 5: Zip files (zipfile module)\n",
    "\n",
    "The Zipfile module in Python provides functionalities for creating, extracting, and manipulating zip archives. It allows you to work with compressed files and folders, making it useful for tasks such as data compression, file packaging, and data backup. Let's explore the key features of the Zipfile module.\n",
    "\n",
    "### 5.1. Introduction to the zipfile module\n",
    "\n",
    "The Zipfile module is part of the Python standard library and provides an interface for working with zip archives. It allows you to create new zip archives, extract files from existing archives, add files to archives, and perform various operations on zip files and their contents."
   ]
  },
  {
   "cell_type": "code",
   "execution_count": 2,
   "id": "55dac38c",
   "metadata": {},
   "outputs": [],
   "source": [
    "import zipfile\n",
    "\n",
    "# Create a new zip archive\n",
    "with zipfile.ZipFile(\"archive.zip\", \"w\") as zipf:\n",
    "    zipf.write(\"file1.txt\")\n",
    "\n",
    "# Extract files from a zip archive\n",
    "with zipfile.ZipFile(\"archive.zip\", \"r\") as zipf:\n",
    "    zipf.extractall(\"extracted_files\")"
   ]
  },
  {
   "attachments": {},
   "cell_type": "markdown",
   "id": "5bc513c0",
   "metadata": {},
   "source": [
    "In this code snippet, we import the zipfile module. We create a new zip archive called \"archive.zip\" using the ZipFile class and the mode \"w\" (write). Within the with statement, we use the write() method to add \"file1.txt\" to the zip archive. The file is  compressed and added to the archive. Next, we extract the files from the zip archive using the extractall() method. The extracted files are saved in a directory called \"extracted_files\".\n",
    "\n",
    "### 5.2. Adding to a zip archive\n",
    "\n",
    "The Zipfile module allows you to add files to an existing zip archive."
   ]
  },
  {
   "cell_type": "code",
   "execution_count": 13,
   "id": "0611e580",
   "metadata": {},
   "outputs": [],
   "source": [
    "import zipfile\n",
    "\n",
    "# Open an existing zip archive\n",
    "with zipfile.ZipFile(\"archive.zip\", \"a\") as zipf:\n",
    "    # Add a new file to the archive\n",
    "    zipf.write(\"file1.txt\")"
   ]
  },
  {
   "attachments": {},
   "cell_type": "markdown",
   "id": "41d09a29",
   "metadata": {},
   "source": [
    "In this example, we import the zipfile module. We open an existing zip archive called \"archive.zip\" using the ZipFile class and the mode \"a\" (append). Within the with statement, we use the write() method to add a new file, \"new_file.txt\", to the zip archive. The file is compressed and added to the archive.\n",
    "\n",
    "### 5.3. Extracting specific files from a zip archive\n",
    "\n",
    "The Zipfile module allows you to extract specific files or selected files from a zip archive. This feature is useful when you only need to extract specific files rather than the entire contents of the archive."
   ]
  },
  {
   "cell_type": "code",
   "execution_count": 12,
   "id": "956db2bc",
   "metadata": {},
   "outputs": [
    {
     "ename": "FileNotFoundError",
     "evalue": "[Errno 2] No such file or directory: 'archive.zip'",
     "output_type": "error",
     "traceback": [
      "\u001b[1;31m---------------------------------------------------------------------------\u001b[0m",
      "\u001b[1;31mFileNotFoundError\u001b[0m                         Traceback (most recent call last)",
      "Cell \u001b[1;32mIn[12], line 6\u001b[0m\n\u001b[0;32m      3\u001b[0m destination_folder \u001b[39m=\u001b[39m \u001b[39m\"\u001b[39m\u001b[39m./\u001b[39m\u001b[39m\"\u001b[39m\n\u001b[0;32m      5\u001b[0m \u001b[39m# Extract specific files from a zip archive\u001b[39;00m\n\u001b[1;32m----> 6\u001b[0m \u001b[39mwith\u001b[39;00m zipfile\u001b[39m.\u001b[39;49mZipFile(\u001b[39m\"\u001b[39;49m\u001b[39marchive.zip\u001b[39;49m\u001b[39m\"\u001b[39;49m, \u001b[39m\"\u001b[39;49m\u001b[39mr\u001b[39;49m\u001b[39m\"\u001b[39;49m) \u001b[39mas\u001b[39;00m zipf:\n\u001b[0;32m      7\u001b[0m     zipf\u001b[39m.\u001b[39mextract(\u001b[39m\"\u001b[39m\u001b[39mfile1.txt\u001b[39m\u001b[39m\"\u001b[39m, destination_folder)\n",
      "File \u001b[1;32mc:\\Users\\coronis\\AppData\\Local\\Programs\\Python\\Python38\\lib\\zipfile.py:1251\u001b[0m, in \u001b[0;36mZipFile.__init__\u001b[1;34m(self, file, mode, compression, allowZip64, compresslevel, strict_timestamps)\u001b[0m\n\u001b[0;32m   1249\u001b[0m \u001b[39mwhile\u001b[39;00m \u001b[39mTrue\u001b[39;00m:\n\u001b[0;32m   1250\u001b[0m     \u001b[39mtry\u001b[39;00m:\n\u001b[1;32m-> 1251\u001b[0m         \u001b[39mself\u001b[39m\u001b[39m.\u001b[39mfp \u001b[39m=\u001b[39m io\u001b[39m.\u001b[39;49mopen(file, filemode)\n\u001b[0;32m   1252\u001b[0m     \u001b[39mexcept\u001b[39;00m \u001b[39mOSError\u001b[39;00m:\n\u001b[0;32m   1253\u001b[0m         \u001b[39mif\u001b[39;00m filemode \u001b[39min\u001b[39;00m modeDict:\n",
      "\u001b[1;31mFileNotFoundError\u001b[0m: [Errno 2] No such file or directory: 'archive.zip'"
     ]
    }
   ],
   "source": [
    "import zipfile\n",
    "\n",
    "destination_folder = \"./\"\n",
    "\n",
    "# Extract specific files from a zip archive\n",
    "with zipfile.ZipFile(\"archive.zip\", \"r\") as zipf:\n",
    "    zipf.extract(\"file1.txt\", destination_folder)"
   ]
  },
  {
   "attachments": {},
   "cell_type": "markdown",
   "id": "f63ef35b",
   "metadata": {},
   "source": [
    "In this code snippet, we import the zipfile module. We open a zip archive called \"archive.zip\" using the ZipFile class and the mode \"r\" (read). Within the with statement, we use the extract() method to extract specific files from the archive. We extract \"file1.txt\" and specify the destination folder as \"destination_folder\". The extracted files are saved in the specified folder.\n",
    "\n",
    "### 5.4. Listing the contents of a zip archive\n",
    "\n",
    "The Zipfile module allows you to list the contents of a zip archive without extracting the files. This feature is useful when you want to view the files contained in an archive without actually extracting them."
   ]
  },
  {
   "cell_type": "code",
   "execution_count": 14,
   "id": "685a5351",
   "metadata": {},
   "outputs": [
    {
     "name": "stdout",
     "output_type": "stream",
     "text": [
      "Files in the archive:\n",
      "file1.txt\n"
     ]
    }
   ],
   "source": [
    "import zipfile\n",
    "\n",
    "# List the contents of a zip archive\n",
    "with zipfile.ZipFile(\"archive.zip\", \"r\") as zipf:\n",
    "    file_list = zipf.namelist()\n",
    "\n",
    "# Print the list of files\n",
    "print(\"Files in the archive:\")\n",
    "for file in file_list:\n",
    "    print(file)"
   ]
  },
  {
   "attachments": {},
   "cell_type": "markdown",
   "id": "ae56ffc2",
   "metadata": {},
   "source": [
    "In this example, we import the zipfile module. We open a zip archive called \"archive.zip\" using the ZipFile class and the mode \"r\" (read). Within the with statement, we use the namelist() method to retrieve a list of filenames present in the zip archive. We store the list of filenames in the file_list variable. Finally, we print the list of files contained in the archive.\n",
    "\n",
    "### 5.5. Summary\n",
    "\n",
    "The Zipfile module in Python provides a convenient way to work with zip archives. It allows you to create new archives, extract files from existing archives, add files to archives, and perform various operations on zip files and their contents. Whether you need to compress files, package files for distribution, or work with compressed archives, the Zipfile module offers essential functionalities to handle zip files efficiently."
   ]
  }
 ],
 "metadata": {
  "jupytext": {
   "cell_metadata_filter": "-all",
   "main_language": "python",
   "notebook_metadata_filter": "-all"
  },
  "kernelspec": {
   "display_name": "Python 3",
   "language": "python",
   "name": "python3"
  },
  "language_info": {
   "codemirror_mode": {
    "name": "ipython",
    "version": 3
   },
   "file_extension": ".py",
   "mimetype": "text/x-python",
   "name": "python",
   "nbconvert_exporter": "python",
   "pygments_lexer": "ipython3",
   "version": "3.8.10"
  }
 },
 "nbformat": 4,
 "nbformat_minor": 5
}
