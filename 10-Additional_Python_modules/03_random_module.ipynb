{
 "cells": [
  {
   "attachments": {},
   "cell_type": "markdown",
   "id": "73350fc4",
   "metadata": {},
   "source": [
    "# Module 10: Additional Python modules\n",
    "\n",
    "## Part 3: Generating random numbers (random module)\n",
    "\n",
    "The Random module in Python provides functionalities for generating random numbers, selecting random elements, and shuffling sequences. It is widely used in various applications, including simulations, games, and statistical analysis. Let's explore the Random module and its key features.\n",
    "\n",
    "### 3.1. Introduction to random module\n",
    "\n",
    "The Random module is part of the Python standard library and offers a range of functions for generating random numbers and performing random operations. It provides a way to introduce randomness and unpredictability into your programs.\n",
    "\n",
    "Here's an example:"
   ]
  },
  {
   "cell_type": "code",
   "execution_count": 1,
   "id": "db82b195",
   "metadata": {},
   "outputs": [
    {
     "name": "stdout",
     "output_type": "stream",
     "text": [
      "Random Integer: 9\n",
      "Random Float: 0.0035069758395787076\n",
      "Random Range: 2.4141182970162998\n",
      "Random Fruit: banana\n",
      "Shuffled Fruits: ['mango', 'banana', 'orange', 'apple']\n"
     ]
    }
   ],
   "source": [
    "import random\n",
    "\n",
    "# Generate a random integer within a range\n",
    "random_number = random.randint(1, 10)\n",
    "print(random_number)\n",
    "\n",
    "# Generate a random floating-point number\n",
    "random_float = random.random()\n",
    "print(random_float)\n",
    "\n",
    "# Select a random element from a sequence\n",
    "fruits = [\"apple\", \"banana\", \"orange\", \"mango\"]\n",
    "random_fruit = random.choice(fruits)\n",
    "print(random_fruit)"
   ]
  },
  {
   "attachments": {},
   "cell_type": "markdown",
   "id": "7b477954",
   "metadata": {},
   "source": [
    "In this code snippet, we import the random module. We use the randint() function to generate a random integer between 1 and 10 (inclusive) and store it in the variable random_number. The random number is then printed. Next, we use the random() function to generate a random floating-point number between 0 and 1 and store it in the variable random_float. The random float value is printed. Finally, we have a list of fruits, and we use the choice() function to select a random fruit from the list. The selected fruit is stored in the variable random_fruit and printed.\n",
    "\n",
    "### 3.2. Randomly shuffling a sequence\n",
    "\n",
    "The Random module provides a function to shuffle the elements of a sequence randomly. This is useful when you want to introduce randomness into the order of elements in a list, tuple, or any iterable."
   ]
  },
  {
   "cell_type": "code",
   "execution_count": 1,
   "id": "a23dfb99",
   "metadata": {},
   "outputs": [
    {
     "name": "stdout",
     "output_type": "stream",
     "text": [
      "['Queen', 'King', '9', '7', '8', 'Jack', '10', 'Ace']\n"
     ]
    }
   ],
   "source": [
    "import random\n",
    "\n",
    "cards = [\"Ace\", \"King\", \"Queen\", \"Jack\", \"10\", \"9\", \"8\", \"7\"]\n",
    "\n",
    "# Shuffle the cards randomly\n",
    "random.shuffle(cards)\n",
    "print(cards)"
   ]
  },
  {
   "attachments": {},
   "cell_type": "markdown",
   "id": "6876c119",
   "metadata": {},
   "source": [
    "Here, we import the random module. We have a list of playing cards. We use the shuffle() function from the Random module to shuffle the elements of the cards list randomly. The order of the cards is changed, and the shuffled list is printed.\n",
    "\n",
    "### 3.3. Generating random choices from a sequence\n",
    "\n",
    "The Random module provides a function to generate multiple random choices from a sequence. This is useful when you want to select multiple random elements from a list or any iterable."
   ]
  },
  {
   "cell_type": "code",
   "execution_count": 2,
   "id": "e313d173",
   "metadata": {},
   "outputs": [
    {
     "name": "stdout",
     "output_type": "stream",
     "text": [
      "['blue', 'green', 'orange']\n"
     ]
    }
   ],
   "source": [
    "import random\n",
    "\n",
    "colors = [\"red\", \"blue\", \"green\", \"yellow\", \"orange\"]\n",
    "\n",
    "# Generate three random color choices\n",
    "random_choices = random.choices(colors, k=3)\n",
    "print(random_choices)"
   ]
  },
  {
   "attachments": {},
   "cell_type": "markdown",
   "id": "63b0bfef",
   "metadata": {},
   "source": [
    "In this example, we import the random module. We have a list of colors. We use the choices() function from the Random module to generate three random choices from the colors list. The random choices are stored in the random_choices list and printed.\n",
    "\n",
    "### 3.4. Generating random numbers within a range\n",
    "\n",
    "The Random module provides functions to generate random numbers within a specified range. This is useful when you want to generate random values within a specific interval."
   ]
  },
  {
   "cell_type": "code",
   "execution_count": 3,
   "id": "f57e0265",
   "metadata": {},
   "outputs": [
    {
     "name": "stdout",
     "output_type": "stream",
     "text": [
      "29\n",
      "0.12454139806301612\n"
     ]
    }
   ],
   "source": [
    "import random\n",
    "\n",
    "# Generate a random integer within a range\n",
    "random_number = random.randint(1, 100)\n",
    "print(random_number)\n",
    "\n",
    "# Generate a random floating-point number within a range\n",
    "random_float = random.uniform(0.0, 1.0)\n",
    "print(random_float)"
   ]
  },
  {
   "attachments": {},
   "cell_type": "markdown",
   "id": "1ee2c089",
   "metadata": {},
   "source": [
    "Here, we import the random module. We use the randint() function to generate a random integer between 1 and 100 (inclusive) and store it in the variable random_number. The random number is then printed. Next, we use the uniform() function to generate a random floating-point number between 0.0 and 1.0 and store it in the variable random_float. The random float value is printed.\n",
    "\n",
    "### 3.5. Setting the random seed\n",
    "\n",
    "The Random module allows you to set the random seed to generate the same sequence of random numbers. This is useful when you want to reproduce a specific set of random values."
   ]
  },
  {
   "cell_type": "code",
   "execution_count": 5,
   "id": "ecc6a95f",
   "metadata": {},
   "outputs": [
    {
     "name": "stdout",
     "output_type": "stream",
     "text": [
      "0.6394267984578837\n",
      "0.025010755222666936\n"
     ]
    }
   ],
   "source": [
    "import random\n",
    "\n",
    "# Set the random seed\n",
    "random.seed(42)\n",
    "\n",
    "# Generate random numbers\n",
    "random1 = random.random()\n",
    "random2 = random.random()\n",
    "\n",
    "print(random1)\n",
    "print(random2)"
   ]
  },
  {
   "attachments": {},
   "cell_type": "markdown",
   "id": "e28b4cae",
   "metadata": {},
   "source": [
    "In this example, we import the random module. We use the seed() function to set the random seed to 42. This ensures that the sequence of random numbers generated will be the same every time the code is executed. We then generate two random floating-point numbers using the random() function and store them in random1 and random2 variables. The values are printed, and they will remain the same each time the code is run.\n",
    "\n",
    "### 3.6. Summary\n",
    "\n",
    "The Random module in Python provides essential functionalities for introducing randomness into your programs. It allows you to generate random numbers, select random elements, shuffle sequences, and more. By utilizing the Random module, you can incorporate randomness into simulations, games, statistical analysis, and various other applications where unpredictability is desired."
   ]
  }
 ],
 "metadata": {
  "jupytext": {
   "cell_metadata_filter": "-all",
   "main_language": "python",
   "notebook_metadata_filter": "-all"
  },
  "kernelspec": {
   "display_name": "Python 3",
   "language": "python",
   "name": "python3"
  },
  "language_info": {
   "codemirror_mode": {
    "name": "ipython",
    "version": 3
   },
   "file_extension": ".py",
   "mimetype": "text/x-python",
   "name": "python",
   "nbconvert_exporter": "python",
   "pygments_lexer": "ipython3",
   "version": "3.8.10"
  }
 },
 "nbformat": 4,
 "nbformat_minor": 5
}
