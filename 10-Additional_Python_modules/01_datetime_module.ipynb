{
 "cells": [
  {
   "attachments": {},
   "cell_type": "markdown",
   "id": "10b4c796",
   "metadata": {},
   "source": [
    "# Module 10: Additional Python modules\n",
    "\n",
    "## Part 1: Dates and times manipulation (datetime module)\n",
    "\n",
    "Working with dates and times is a common task in many Python applications. The datetime module provides classes and functions\n",
    "for manipulating dates, times, and timestamps in Python.\n",
    "\n",
    "### 1.1. Datetime module\n",
    "\n",
    "The Datetime module in Python offers various functionalities for working with dates and times, including creating, manipulating, formatting, and calculating differences between dates and times."
   ]
  },
  {
   "cell_type": "code",
   "execution_count": 5,
   "id": "51f22df2",
   "metadata": {},
   "outputs": [
    {
     "name": "stdout",
     "output_type": "stream",
     "text": [
      "2023-06-14 09:46:36.181470\n"
     ]
    }
   ],
   "source": [
    "import datetime\n",
    "\n",
    "now = datetime.datetime.now()\n",
    "print(now)"
   ]
  },
  {
   "attachments": {},
   "cell_type": "markdown",
   "id": "3ab599b2",
   "metadata": {},
   "source": [
    "This code demonstrates how to use the datetime.now() function to obtain the current date and time. We need to import the datetime module and use the now() function to get the current date and time. We store this value in the now variable and print it. "
   ]
  },
  {
   "attachments": {},
   "cell_type": "markdown",
   "id": "8ddebeb3",
   "metadata": {},
   "source": [
    "### 1.2. Working with dates\n",
    "\n",
    "Dates represent specific calendar days and consist of the year, month, and day components. The date() constructor is used to create date objects. Date arithmetic allows you to perform operations like adding or subtracting days from a date. Dates can also be formatted as strings using the strftime() method."
   ]
  },
  {
   "cell_type": "code",
   "execution_count": 6,
   "id": "ab086cf1",
   "metadata": {},
   "outputs": [
    {
     "name": "stdout",
     "output_type": "stream",
     "text": [
      "2023-06-14\n",
      "2023-06-15\n",
      "2023-06-14\n"
     ]
    }
   ],
   "source": [
    "import datetime\n",
    "\n",
    "today = datetime.date.today()\n",
    "print(today)\n",
    "\n",
    "# Date arithmetic\n",
    "tomorrow = today + datetime.timedelta(days=1)\n",
    "print(tomorrow)\n",
    "\n",
    "# Formatting dates\n",
    "formatted_date = today.strftime(\"%Y-%m-%d\")\n",
    "print(formatted_date)"
   ]
  },
  {
   "attachments": {},
   "cell_type": "markdown",
   "id": "29dca67f",
   "metadata": {},
   "source": [
    "Here, we use the date.today() function to get the current date and store it in the today variable. We then print the value, which will be displayed as \"YYYY-MM-DD\" (default). Next, we use the timedelta() function to create a time difference of one day and add it to the current date, resulting in the date for tomorrow. Finally, we use the strftime() method to format the date as a string with the format \"%Y-%m-%d\" (e.g., \"2023-06-14\")."
   ]
  },
  {
   "attachments": {},
   "cell_type": "markdown",
   "id": "88ac0a6e",
   "metadata": {},
   "source": [
    "### 1.3. Working with times\n",
    "\n",
    "Times represent specific points in time during a day and consist of the hour, minute, second, and microsecond components. The time() constructor is used to create time objects. Time arithmetic allows you to perform operations like adding or subtracting time intervals. Times can also be formatted as strings using the strftime() method."
   ]
  },
  {
   "cell_type": "code",
   "execution_count": 7,
   "id": "8f092d6e",
   "metadata": {},
   "outputs": [
    {
     "name": "stdout",
     "output_type": "stream",
     "text": [
      "09:48:26.905781\n",
      "11:48:26.905781\n",
      "09:48:26\n"
     ]
    }
   ],
   "source": [
    "import datetime\n",
    "\n",
    "current_time = datetime.datetime.now().time()\n",
    "print(current_time)\n",
    "\n",
    "# Time arithmetic\n",
    "future_time = datetime.datetime.combine(datetime.date.today(), current_time) + datetime.timedelta(hours=2)\n",
    "print(future_time.time())\n",
    "\n",
    "# Formatting times\n",
    "formatted_time = current_time.strftime(\"%H:%M:%S\")\n",
    "print(formatted_time)"
   ]
  },
  {
   "attachments": {},
   "cell_type": "markdown",
   "id": "ff00fc86",
   "metadata": {},
   "source": [
    "In this example, we use the datetime.now().time() function to obtain the current time and store it in the current_time variable. We then print the value, which will be displayed as \"HH:MM:SS\" (24-hour format). Next, we use the combine() function to create a datetime object by combining the current date with the current time. We add a timedelta of two hours to the combined datetime object to get the time two hours into the future. We print the resulting time value. Finally, we use the strftime() method to format the current time as a string with the format \"%H:%M:%S\"."
   ]
  },
  {
   "attachments": {},
   "cell_type": "markdown",
   "id": "4afb0825",
   "metadata": {},
   "source": [
    "### 1.4. Combining dates and times\n",
    "\n",
    "Datetimes combine both date and time components into a single object. The datetime() constructor is used to create datetime objects. Similar to dates and times, datetime objects can be formatted as strings using the strftime() method. Datetime arithmetic allows you to perform operations like finding the difference between two datetime objects."
   ]
  },
  {
   "cell_type": "code",
   "execution_count": 8,
   "id": "ec124ba1",
   "metadata": {},
   "outputs": [
    {
     "name": "stdout",
     "output_type": "stream",
     "text": [
      "2023-06-14 10:12:07.158693\n",
      "2023-06-15 13:12:07.158693\n",
      "2023-06-14 10:12:07\n"
     ]
    }
   ],
   "source": [
    "import datetime\n",
    "\n",
    "current_datetime = datetime.datetime.now()\n",
    "print(current_datetime)\n",
    "\n",
    "# Datetime arithmetic\n",
    "future_datetime = current_datetime + datetime.timedelta(days=1, hours=3)\n",
    "print(future_datetime)\n",
    "\n",
    "# Formatting datetimes\n",
    "formatted_datetime = current_datetime.strftime(\"%Y-%m-%d %H:%M:%S\")\n",
    "print(formatted_datetime)"
   ]
  },
  {
   "attachments": {},
   "cell_type": "markdown",
   "id": "a248fb99",
   "metadata": {},
   "source": [
    "Here, we use the datetime.now() function to get the current datetime and store it in the current_datetime variable. We print the value, which includes both the date and time components. Next, we use the timedelta() function to create a time difference of one day and three hours, and then add it to the current datetime, resulting in a datetime value in the future. We print the future datetime. Finally, we use the strftime() method to format the current datetime as a string with the format \"%Y-%m-%d %H:%M:%S\" (e.g., \"2023-06-14 10:30:00\")."
   ]
  },
  {
   "attachments": {},
   "cell_type": "markdown",
   "id": "ec0cb0b9",
   "metadata": {},
   "source": [
    "### 1.5. Working with time zones\n",
    "\n",
    "Time zones are regions with the same standard time. The timezone class in the datetime module allows you to work with different time zones. You can adjust datetime objects to different time zones using the astimezone() method. It's crucial to handle daylight saving time and convert between different time zones accurately."
   ]
  },
  {
   "cell_type": "code",
   "execution_count": 9,
   "id": "4cee6196",
   "metadata": {},
   "outputs": [
    {
     "name": "stdout",
     "output_type": "stream",
     "text": [
      "2023-06-14 08:13:37.891890+00:00\n",
      "2023-06-14 04:13:37.891890-04:00\n",
      "2023-06-14 10:13:37.891890+02:00\n"
     ]
    }
   ],
   "source": [
    "import datetime\n",
    "import pytz\n",
    "\n",
    "utc_now = datetime.datetime.now(pytz.UTC)\n",
    "print(utc_now)\n",
    "\n",
    "# Adjusting time zone\n",
    "local_timezone = pytz.timezone(\"America/New_York\")\n",
    "local_time = utc_now.astimezone(local_timezone)\n",
    "print(local_time)\n",
    "\n",
    "# Handling daylight saving time\n",
    "dst_timezone = pytz.timezone(\"Europe/Paris\")\n",
    "dst_time = utc_now.astimezone(dst_timezone)\n",
    "print(dst_time)"
   ]
  },
  {
   "attachments": {},
   "cell_type": "markdown",
   "id": "374d7df6",
   "metadata": {},
   "source": [
    "In this example, we import the datetime module and the pytz module, which provides timezone information. We use datetime.now(pytz.UTC) to obtain the current datetime in Coordinated Universal Time (UTC) and store it in the utc_now variable. We then print this value. Next, we create a timezone object for \"America/New_York\" using pytz.timezone() and convert the utc_now datetime object to the local time of New York. We store the converted datetime in the local_time variable and print it. Finally, we create a timezone object for \"Europe/Paris\" and convert the utc_now datetime object to the local time of Paris. We store the converted datetime in the dst_time variable and print it."
   ]
  },
  {
   "attachments": {},
   "cell_type": "markdown",
   "id": "f49b64a8",
   "metadata": {},
   "source": [
    "### 1.6. Working with timedeltas\n",
    "\n",
    "Timedeltas represent the difference between two points in time. The timedelta() constructor is used to create timedeltas. Timedeltas can be used for arithmetic operations like adding or subtracting time intervals from dates, times, or datetimes."
   ]
  },
  {
   "cell_type": "code",
   "execution_count": 10,
   "id": "f6675377",
   "metadata": {},
   "outputs": [
    {
     "name": "stdout",
     "output_type": "stream",
     "text": [
      "7 days, 3:00:00\n",
      "2023-06-21 13:14:22.818528\n",
      "2023-06-07 07:14:22.818528\n"
     ]
    }
   ],
   "source": [
    "import datetime\n",
    "\n",
    "delta = datetime.timedelta(days=7, hours=3)\n",
    "print(delta)\n",
    "\n",
    "# Adding and subtracting timedeltas\n",
    "future_datetime = datetime.datetime.now() + delta\n",
    "print(future_datetime)\n",
    "\n",
    "past_datetime = datetime.datetime.now() - delta\n",
    "print(past_datetime)"
   ]
  },
  {
   "attachments": {},
   "cell_type": "markdown",
   "id": "7c15d8b5",
   "metadata": {},
   "source": [
    "Here, we create a timedelta object delta using the timedelta() function, which represents a time difference of seven days and three hours. We print the delta value. Next, we use the timedelta object to perform arithmetic operations. We add the delta to the current datetime using datetime.now() + delta to get a future datetime value, and we print it. Similarly, we subtract the delta from the current datetime using datetime.now() - delta to get a past datetime value, and we print it."
   ]
  },
  {
   "attachments": {},
   "cell_type": "markdown",
   "id": "ce361866",
   "metadata": {},
   "source": [
    "### 1.7. Summary\n",
    "\n",
    "The Datetime module is a powerful tool for working with dates, times, and timestamps in Python. It provides various classes and methods for creating, manipulating, and formatting dates and times. Understanding how to work with dates, times, timedeltas, time zones, and calendars is essential for many applications. By mastering the Datetime module, you'll have the skills to handle a wide range of date and time-related tasks in your Python projects."
   ]
  }
 ],
 "metadata": {
  "jupytext": {
   "cell_metadata_filter": "-all",
   "main_language": "python",
   "notebook_metadata_filter": "-all"
  },
  "kernelspec": {
   "display_name": "Python 3",
   "language": "python",
   "name": "python3"
  },
  "language_info": {
   "codemirror_mode": {
    "name": "ipython",
    "version": 3
   },
   "file_extension": ".py",
   "mimetype": "text/x-python",
   "name": "python",
   "nbconvert_exporter": "python",
   "pygments_lexer": "ipython3",
   "version": "3.8.10"
  }
 },
 "nbformat": 4,
 "nbformat_minor": 5
}
