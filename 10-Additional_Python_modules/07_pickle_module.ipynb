{
 "cells": [
  {
   "attachments": {},
   "cell_type": "markdown",
   "metadata": {},
   "source": [
    "# Module 10: Additional Python modules\n",
    "\n",
    "## Part 7: Serializing and deserializing objects\n",
    "\n",
    "Serialization is the process of converting an object into a format that can be stored or transmitted, while deserialization is the reverse process of reconstructing the object from its serialized form. In Python, you can serialize and deserialize objects using various modules, such as pickle, json, and yaml. This section explores how to serialize and deserialize objects using the pickle module as an example.\n",
    "\n",
    "### 7.1. Serializing objects with pickle\n",
    "\n",
    "The pickle module in Python allows you to serialize objects into a binary format. It can handle a wide range of Python objects, including custom classes, lists, dictionaries, and more. The serialized data can be stored in a file or transmitted over a network."
   ]
  },
  {
   "cell_type": "code",
   "execution_count": null,
   "metadata": {},
   "outputs": [],
   "source": [
    "import pickle\n",
    "\n",
    "class Person:\n",
    "    def __init__(self, name, age):\n",
    "        self.name = name\n",
    "        self.age = age\n",
    "\n",
    "person = Person(\"Alice\", 25)\n",
    "\n",
    "with open(\"person.pkl\", \"wb\") as file:\n",
    "    pickle.dump(person, file)"
   ]
  },
  {
   "attachments": {},
   "cell_type": "markdown",
   "metadata": {},
   "source": [
    "In this example, we define a Person class with name and age attributes. The pickle.dump() function is used to serialize the person object and write it to a file named \"person.pkl\" in binary mode.\n",
    "\n",
    "### 7.2. Deserializing objects with pickle\n",
    "\n",
    "Deserialization is the process of reconstructing an object from its serialized form. In Python, you can use the pickle module to deserialize objects by reading the serialized data from a file or network stream."
   ]
  },
  {
   "cell_type": "code",
   "execution_count": null,
   "metadata": {},
   "outputs": [],
   "source": [
    "import pickle\n",
    "\n",
    "with open(\"person.pkl\", \"rb\") as file:\n",
    "    person = pickle.load(file)\n",
    "    print(person.name)\n",
    "    print(person.age)"
   ]
  },
  {
   "attachments": {},
   "cell_type": "markdown",
   "metadata": {},
   "source": [
    "In this example, we open the \"person.pkl\" file in binary mode and use the pickle.load() function to deserialize the object stored in the file. The deserialized person object can then be accessed and used as before.\n",
    "\n",
    "### 7.3. Other serialization formats\n",
    "\n",
    "While pickle is convenient for Python-specific objects, you may need to serialize objects in other formats for interoperability with different programming languages or systems. The json and yaml modules in Python provide support for serializing and deserializing objects in JSON and YAML formats, respectively.\n",
    "\n",
    "Serializing and Deserializing with json example:"
   ]
  },
  {
   "cell_type": "code",
   "execution_count": null,
   "metadata": {},
   "outputs": [],
   "source": [
    "import json\n",
    "\n",
    "person = {\"name\": \"Alice\", \"age\": 25}\n",
    "\n",
    "# Serializing to JSON\n",
    "json_data = json.dumps(person)\n",
    "print(json_data)\n",
    "\n",
    "# Deserializing from JSON\n",
    "deserialized_person = json.loads(json_data)\n",
    "print(deserialized_person[\"name\"])\n",
    "print(deserialized_person[\"age\"])"
   ]
  },
  {
   "attachments": {},
   "cell_type": "markdown",
   "metadata": {},
   "source": [
    "In this example, we use the json.dumps() function to serialize the person dictionary object into a JSON-formatted string. The json.loads() function is used to deserialize the JSON string back into a Python object.\n",
    "\n",
    "### 7.4. Summary\n",
    "\n",
    "Serialization is the process of converting objects into a format suitable for storage or transmission, while deserialization is the reverse process of reconstructing objects from their serialized form. Python provides various modules, such as pickle, json, and yaml, for serializing and deserializing objects. The pickle module is particularly useful for serializing and deserializing Python-specific objects, while json and yaml modules are suitable for working with JSON and YAML formats, respectively. Understanding serialization and deserialization enables you to save and restore object states or exchange data between different systems efficiently."
   ]
  }
 ],
 "metadata": {
  "language_info": {
   "name": "python"
  },
  "orig_nbformat": 4
 },
 "nbformat": 4,
 "nbformat_minor": 2
}
