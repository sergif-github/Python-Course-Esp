{
 "cells": [
  {
   "attachments": {},
   "cell_type": "markdown",
   "metadata": {},
   "source": [
    "# Module 10: Additional Python modules\n",
    "\n",
    "## Part 9: Solutions\n",
    "\n",
    "### Exercise 1\n",
    "Write a Python program that displays the current date and time in the following format: \"YYYY-MM-DD HH:MM:SS\"."
   ]
  },
  {
   "cell_type": "code",
   "execution_count": 1,
   "metadata": {},
   "outputs": [
    {
     "name": "stdout",
     "output_type": "stream",
     "text": [
      "Current Date and Time: 2023-06-14 12:02:48\n"
     ]
    }
   ],
   "source": [
    "import datetime\n",
    "\n",
    "current_datetime = datetime.datetime.now()\n",
    "formatted_datetime = current_datetime.strftime(\"%Y-%m-%d %H:%M:%S\")\n",
    "\n",
    "print(\"Current Date and Time:\", formatted_datetime)"
   ]
  },
  {
   "attachments": {},
   "cell_type": "markdown",
   "metadata": {},
   "source": [
    "### Exercise 2\n",
    "Write a Python program that calculates the square root of a given number."
   ]
  },
  {
   "cell_type": "code",
   "execution_count": 2,
   "metadata": {},
   "outputs": [
    {
     "name": "stdout",
     "output_type": "stream",
     "text": [
      "Square root of 25 is 5.0\n"
     ]
    }
   ],
   "source": [
    "import math\n",
    "\n",
    "number = 25\n",
    "square_root = math.sqrt(number)\n",
    "\n",
    "print(\"Square root of\", number, \"is\", square_root)"
   ]
  },
  {
   "attachments": {},
   "cell_type": "markdown",
   "metadata": {},
   "source": [
    "### Exercise 3\n",
    "Write a Python program that generates a random number between 1 and 10."
   ]
  },
  {
   "cell_type": "code",
   "execution_count": 3,
   "metadata": {},
   "outputs": [
    {
     "name": "stdout",
     "output_type": "stream",
     "text": [
      "Random Number: 5\n"
     ]
    }
   ],
   "source": [
    "import random\n",
    "\n",
    "random_number = random.randint(1, 10)\n",
    "\n",
    "print(\"Random Number:\", random_number)"
   ]
  },
  {
   "attachments": {},
   "cell_type": "markdown",
   "metadata": {},
   "source": [
    "### Exercise 4\n",
    "Write a Python program that opens an image file and resizes it to a specific width and height."
   ]
  },
  {
   "cell_type": "code",
   "execution_count": 4,
   "metadata": {},
   "outputs": [],
   "source": [
    "from PIL import Image\n",
    "\n",
    "image = Image.open(\"image.jpg\")\n",
    "resized_image = image.resize((800, 600))\n",
    "\n",
    "resized_image.save(\"resized_image.jpg\")"
   ]
  },
  {
   "attachments": {},
   "cell_type": "markdown",
   "metadata": {},
   "source": [
    "### Exercise 5\n",
    "Write a Python program that creates a new zip archive and adds multiple files to it."
   ]
  },
  {
   "cell_type": "code",
   "execution_count": 5,
   "metadata": {},
   "outputs": [],
   "source": [
    "import zipfile\n",
    "\n",
    "with zipfile.ZipFile(\"archive.zip\", \"w\") as zipf:\n",
    "    zipf.write(\"file1.txt\")\n",
    "    zipf.write(\"image.jpg\")"
   ]
  },
  {
   "attachments": {},
   "cell_type": "markdown",
   "metadata": {},
   "source": [
    "### Exercise 6\n",
    "Write a Python program that searches for all occurrences of a specific word in a given text and prints their positions."
   ]
  },
  {
   "cell_type": "code",
   "execution_count": 6,
   "metadata": {},
   "outputs": [
    {
     "name": "stdout",
     "output_type": "stream",
     "text": [
      "Occurrences of the word Python:\n",
      "Position: 0\n",
      "Position: 42\n"
     ]
    }
   ],
   "source": [
    "import re\n",
    "\n",
    "text = \"Python is a popular programming language. Python is versatile and easy to learn.\"\n",
    "\n",
    "word = \"Python\"\n",
    "pattern = re.compile(r\"\\b\" + word + r\"\\b\")\n",
    "matches = pattern.finditer(text)\n",
    "\n",
    "print(\"Occurrences of the word\", word + \":\")\n",
    "for match in matches:\n",
    "    print(\"Position:\", match.start())"
   ]
  },
  {
   "attachments": {},
   "cell_type": "markdown",
   "metadata": {},
   "source": [
    "### Exercise 7\n",
    "Create a list of Book objects (name, author and year) and serialize it to a file using the pickle module. Then, deserialize the file and print the details of each book."
   ]
  },
  {
   "cell_type": "code",
   "execution_count": 1,
   "metadata": {},
   "outputs": [
    {
     "name": "stdout",
     "output_type": "stream",
     "text": [
      "Title: Book 1\n",
      "Author: Author 1\n",
      "Year: 2000\n",
      "\n",
      "Title: Book 2\n",
      "Author: Author 2\n",
      "Year: 2005\n",
      "\n",
      "Title: Book 3\n",
      "Author: Author 3\n",
      "Year: 2010\n",
      "\n"
     ]
    }
   ],
   "source": [
    "import pickle\n",
    "\n",
    "class Book:\n",
    "    def __init__(self, title, author, year):\n",
    "        self.title = title\n",
    "        self.author = author\n",
    "        self.year = year\n",
    "\n",
    "books = [\n",
    "    Book(\"Book 1\", \"Author 1\", 2000),\n",
    "    Book(\"Book 2\", \"Author 2\", 2005),\n",
    "    Book(\"Book 3\", \"Author 3\", 2010)\n",
    "]\n",
    "\n",
    "# Serialize the list of books\n",
    "with open(\"books.pkl\", \"wb\") as file:\n",
    "    pickle.dump(books, file)\n",
    "\n",
    "# Deserialize the list of books\n",
    "with open(\"books.pkl\", \"rb\") as file:\n",
    "    deserialized_books = pickle.load(file)\n",
    "\n",
    "# Print the details of each book\n",
    "for book in deserialized_books:\n",
    "    print(f\"Title: {book.title}\")\n",
    "    print(f\"Author: {book.author}\")\n",
    "    print(f\"Year: {book.year}\")\n",
    "    print()"
   ]
  }
 ],
 "metadata": {
  "kernelspec": {
   "display_name": "Python 3",
   "language": "python",
   "name": "python3"
  },
  "language_info": {
   "codemirror_mode": {
    "name": "ipython",
    "version": 3
   },
   "file_extension": ".py",
   "mimetype": "text/x-python",
   "name": "python",
   "nbconvert_exporter": "python",
   "pygments_lexer": "ipython3",
   "version": "3.8.10"
  },
  "orig_nbformat": 4
 },
 "nbformat": 4,
 "nbformat_minor": 2
}
