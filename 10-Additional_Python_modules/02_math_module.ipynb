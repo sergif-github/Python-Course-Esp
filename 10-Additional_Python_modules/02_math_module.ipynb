{
 "cells": [
  {
   "attachments": {},
   "cell_type": "markdown",
   "id": "14c54ceb",
   "metadata": {},
   "source": [
    "# Module 10: Additional Python modules\n",
    "\n",
    "## Part 2: Mathematical operations (math module)\n",
    "\n",
    "The Math module in Python provides a set of mathematical functions and constants for performing various mathematical operations. It offers functionalities beyond the basic arithmetic operations provided by Python's built-in operators. Let's explore the Math module and its key features.\n",
    "\n",
    "### 2.1. Introduction to the math module\n",
    "\n",
    "The Math module is part of the Python standard library and provides access to a range of mathematical functions and constants. It is particularly useful for advanced mathematical computations that go beyond the basic arithmetic operations. The Math module allows you to perform operations such as trigonometry, exponentiation, logarithms, and more.\n",
    "\n",
    "Here's an example:"
   ]
  },
  {
   "cell_type": "code",
   "execution_count": 2,
   "id": "89452a4c",
   "metadata": {},
   "outputs": [
    {
     "name": "stdout",
     "output_type": "stream",
     "text": [
      "4.0\n",
      "3.141592653589793\n"
     ]
    }
   ],
   "source": [
    "import math\n",
    "\n",
    "# Calculate the square root of a number\n",
    "x = 16\n",
    "sqrt_x = math.sqrt(x)\n",
    "print(sqrt_x)\n",
    "\n",
    "# Calculate the value of pi\n",
    "pi = math.pi\n",
    "print(pi)"
   ]
  },
  {
   "attachments": {},
   "cell_type": "markdown",
   "id": "d022d040",
   "metadata": {},
   "source": [
    "In this code snippet, we import the math module. We then use the sqrt() function from the Math module to calculate the square root of a number (x = 16). The result is stored in the variable sqrt_x and printed. Additionally, we access the constant pi from the Math module and print its value.\n",
    "\n",
    "### 2.2. Trigonometric functions\n",
    "\n",
    "The Math module provides various trigonometric functions, such as sine, cosine, and tangent, to perform calculations involving angles. These functions are essential in fields such as geometry, physics, and engineering."
   ]
  },
  {
   "cell_type": "code",
   "execution_count": 3,
   "id": "ceeb21f4",
   "metadata": {},
   "outputs": [
    {
     "name": "stdout",
     "output_type": "stream",
     "text": [
      "0.7071067811865476\n",
      "0.7071067811865476\n",
      "0.9999999999999999\n"
     ]
    }
   ],
   "source": [
    "import math\n",
    "\n",
    "# Calculate the sine of an angle\n",
    "angle = math.pi / 4\n",
    "sin_angle = math.sin(angle)\n",
    "print(sin_angle)\n",
    "\n",
    "# Calculate the cosine of an angle\n",
    "cos_angle = math.cos(angle)\n",
    "print(cos_angle)\n",
    "\n",
    "# Calculate the tangent of an angle\n",
    "tan_angle = math.tan(angle)\n",
    "print(tan_angle)"
   ]
  },
  {
   "attachments": {},
   "cell_type": "markdown",
   "id": "9ead7e81",
   "metadata": {},
   "source": [
    "Here, we import the math module. We define an angle (π/4) and use the sin(), cos(), and tan() functions from the Math module to calculate the sine, cosine, and tangent of the angle, respectively. The results are stored in the variables sin_angle, cos_angle, and tan_angle and printed.\n",
    "\n",
    "### 2.3. Exponentiation and logarithmic functions\n",
    "\n",
    "The Math module provides functions for exponentiation and logarithmic operations. These functions are useful for calculations involving powers and logarithms."
   ]
  },
  {
   "cell_type": "code",
   "execution_count": 4,
   "id": "33b0d47b",
   "metadata": {},
   "outputs": [
    {
     "name": "stdout",
     "output_type": "stream",
     "text": [
      "8.0\n",
      "2.302585092994046\n",
      "1.4306765580733933\n"
     ]
    }
   ],
   "source": [
    "import math\n",
    "\n",
    "# Calculate the power of a number\n",
    "base = 2\n",
    "exponent = 3\n",
    "power = math.pow(base, exponent)\n",
    "print(power)\n",
    "\n",
    "# Calculate the natural logarithm of a number\n",
    "x = 10\n",
    "logarithm = math.log(x)\n",
    "print(logarithm)\n",
    "\n",
    "# Calculate the logarithm of a number with a specified base\n",
    "base = 5\n",
    "logarithm_base = math.log(x, base)\n",
    "print(logarithm_base)"
   ]
  },
  {
   "attachments": {},
   "cell_type": "markdown",
   "id": "609ab41b",
   "metadata": {},
   "source": [
    "In this example, we import the math module. We calculate the power of a number (base = 2, exponent = 3) using the pow() function from the Math module. The result is stored in the variable power and printed. Next, we calculate the natural logarithm of a number (x = 10) using the log() function. The natural logarithm is stored in the variable logarithm and printed. Finally, we calculate the logarithm of x with a specified base (base = 5) using the log() function. The logarithm with the specified base is stored in the variable logarithm_base and printed.\n",
    "\n",
    "### 2.4. Rounding and absolute value functions\n",
    "\n",
    "The Math module provides functions for rounding numbers and obtaining the absolute value. These functions are useful for manipulating and formatting numerical data."
   ]
  },
  {
   "cell_type": "code",
   "execution_count": 7,
   "id": "4880dc4d",
   "metadata": {},
   "outputs": [
    {
     "name": "stdout",
     "output_type": "stream",
     "text": [
      "4\n",
      "5\n"
     ]
    }
   ],
   "source": [
    "import math\n",
    "\n",
    "# Round a number\n",
    "x = 3.7\n",
    "#rounded = math.round(x)\n",
    "rounded = round(x)\n",
    "print(rounded)\n",
    "\n",
    "# Get the absolute value of a number\n",
    "y = -5\n",
    "#absolute_value = math.abs(y)\n",
    "absolute_value = abs(y)\n",
    "\n",
    "print(absolute_value)"
   ]
  },
  {
   "attachments": {},
   "cell_type": "markdown",
   "id": "53de5c24",
   "metadata": {},
   "source": [
    "Here, we import the math module. We round a number (x = 3.7) using the round() function from the Math module. The rounded value is stored in the variable rounded and printed. Next, we get the absolute value of a number (y = -5) using the abs() function. The absolute value is stored in the variable absolute_value and printed.\n",
    "\n",
    "Round() and abs() can be found now in the python standard library as a built-in function.\n",
    "\n",
    "### 2.5. Additional mathematical functions\n",
    "\n",
    "The Math module offers various additional mathematical functions, including floor and ceiling functions, factorial, and more. These functions can be used to perform specialized mathematical computations."
   ]
  },
  {
   "cell_type": "code",
   "execution_count": 8,
   "id": "02290fd6",
   "metadata": {},
   "outputs": [
    {
     "name": "stdout",
     "output_type": "stream",
     "text": [
      "120\n",
      "3 4\n"
     ]
    }
   ],
   "source": [
    "import math\n",
    "\n",
    "# Calculate the factorial of a number\n",
    "n = 5\n",
    "factorial = math.factorial(n)\n",
    "print(factorial)\n",
    "\n",
    "# Calculate the floor and ceiling of a number\n",
    "x = 3.7\n",
    "floor = math.floor(x)\n",
    "ceiling = math.ceil(x)\n",
    "print(floor, ceiling)"
   ]
  },
  {
   "attachments": {},
   "cell_type": "markdown",
   "id": "5f1623b4",
   "metadata": {},
   "source": [
    "In this example, we import the math module. We calculate the factorial of a number (n = 5) using the factorial() function from the Math module. The factorial is stored in the variable factorial and printed. Next, we calculate the floor and ceiling of a number (x = 3.7) using the floor() and ceil() functions, respectively. The floor value is stored in the variable floor, and the ceiling value is stored in the variable ceiling. We print both values.\n",
    "\n",
    "### 2.6. Summary\n",
    "\n",
    "The Math module in Python provides a wide range of mathematical functions and constants that extend the basic arithmetic capabilities of the language. It allows you to perform complex mathematical operations, including trigonometry, exponentiation, logarithms, rounding, and more. By leveraging the Math module, you can handle advanced mathematical computations efficiently in your Python programs."
   ]
  }
 ],
 "metadata": {
  "jupytext": {
   "cell_metadata_filter": "-all",
   "main_language": "python",
   "notebook_metadata_filter": "-all"
  },
  "kernelspec": {
   "display_name": "Python 3",
   "language": "python",
   "name": "python3"
  },
  "language_info": {
   "codemirror_mode": {
    "name": "ipython",
    "version": 3
   },
   "file_extension": ".py",
   "mimetype": "text/x-python",
   "name": "python",
   "nbconvert_exporter": "python",
   "pygments_lexer": "ipython3",
   "version": "3.8.10"
  }
 },
 "nbformat": 4,
 "nbformat_minor": 5
}
