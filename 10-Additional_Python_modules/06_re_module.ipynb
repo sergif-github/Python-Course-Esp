{
 "cells": [
  {
   "attachments": {},
   "cell_type": "markdown",
   "id": "4aa85836",
   "metadata": {},
   "source": [
    "# Module 10: Additional Python modules\n",
    "\n",
    "## Part 6: Regular expressions (re module)\n",
    "\n",
    "The re module in Python provides support for regular expressions, which are powerful tools for pattern matching and text manipulation. Regular expressions allow you to search, extract, and manipulate text based on specific patterns, making them invaluable for tasks such as data validation, text parsing, and string manipulation. Let's explore the key features of the re module.\n",
    "\n",
    "### 6.1. Introduction to regular expressions\n",
    "\n",
    "Regular expressions are sequences of characters that define a search pattern. They provide a flexible and concise way to match and manipulate strings based on specific patterns. Regular expressions use a combination of ordinary characters and special characters called metacharacters to define patterns."
   ]
  },
  {
   "cell_type": "code",
   "execution_count": 1,
   "id": "4924b411",
   "metadata": {},
   "outputs": [
    {
     "name": "stdout",
     "output_type": "stream",
     "text": [
      "Pattern found!\n"
     ]
    }
   ],
   "source": [
    "import re\n",
    "\n",
    "# Search for a pattern in a string\n",
    "pattern = r\"apple\"\n",
    "text = \"I have an apple\"\n",
    "match = re.search(pattern, text)\n",
    "if match:\n",
    "    print(\"Pattern found!\")\n",
    "else:\n",
    "    print(\"Pattern not found.\")"
   ]
  },
  {
   "attachments": {},
   "cell_type": "markdown",
   "id": "db015aaa",
   "metadata": {},
   "source": [
    "In this code snippet, we import the re module. We define a pattern using the r prefix to create a raw string. The pattern is set as \"apple\". We define a text string as \"I have an apple\". We use the search() function from the re module to search for the pattern within the text. If a match is found, the message \"Pattern found!\" is printed. Otherwise, \"Pattern not found.\" is printed.\n",
    "\n",
    "### 6.2. Basic pattern matching\n",
    "\n",
    "Regular expressions provide various metacharacters and special sequences to create patterns for matching specific text patterns. Metacharacters such as . (dot), * (asterisk), + (plus), and [ ] (brackets) are used to define the pattern rules."
   ]
  },
  {
   "cell_type": "code",
   "execution_count": 2,
   "id": "ff83abba",
   "metadata": {},
   "outputs": [
    {
     "name": "stdout",
     "output_type": "stream",
     "text": [
      "['info@example.com', 'support@example.com']\n"
     ]
    }
   ],
   "source": [
    "import re\n",
    "\n",
    "# Match an email address pattern\n",
    "pattern = r\"\\w+@\\w+\\.\\w+\"\n",
    "text = \"Contact us at info@example.com or support@example.com\"\n",
    "matches = re.findall(pattern, text)\n",
    "print(matches)"
   ]
  },
  {
   "attachments": {},
   "cell_type": "markdown",
   "id": "f591dee5",
   "metadata": {},
   "source": [
    "In this example, we import the re module. We define a pattern using a raw string. The pattern is set as \\w+@\\w+\\.\\w+, which matches an email address pattern. Let's break down the pattern:\n",
    "- \\w+: Matches one or more word characters (alphanumeric characters and underscores).\n",
    "- @: Matches the \"@\" symbol.\n",
    "- \\.: Matches a period (escaped with a backslash because the period is a special character in regular expressions).\n",
    "\n",
    "We define a text string that contains two email addresses. We use the findall() function from the re module to find all occurrences of the pattern within the text. The matching email addresses are stored in the matches variable, which is then printed.\n",
    "\n",
    "### 6.3. Pattern substitution\n",
    "\n",
    "The re module allows you to perform pattern substitution, replacing matched patterns with desired text. This feature is useful when you need to replace specific patterns or manipulate text based on certain matching conditions."
   ]
  },
  {
   "cell_type": "code",
   "execution_count": 3,
   "id": "0fb31125",
   "metadata": {},
   "outputs": [
    {
     "name": "stdout",
     "output_type": "stream",
     "text": [
      "I have an orange\n"
     ]
    }
   ],
   "source": [
    "import re\n",
    "\n",
    "# Replace a pattern in a string\n",
    "pattern = r\"apple\"\n",
    "text = \"I have an apple\"\n",
    "new_text = re.sub(pattern, \"orange\", text)\n",
    "print(new_text)"
   ]
  },
  {
   "attachments": {},
   "cell_type": "markdown",
   "id": "9b233711",
   "metadata": {},
   "source": [
    "In this code snippet, we import the re module. We define a pattern using a raw string as \"apple\". We define a text string as \"I have an apple\". We use the sub() function from the re module to substitute the pattern with the word \"orange\". The resulting string after substitution is stored in the new_text variable, which is then printed.\n",
    "\n",
    "### 6.4. Splitting strings using patterns\n",
    "\n",
    "The re module allows you to split strings based on specific patterns, rather than fixed delimiters. This feature is useful when you want to split a string into substrings based on variable patterns."
   ]
  },
  {
   "cell_type": "code",
   "execution_count": 4,
   "id": "924beb6a",
   "metadata": {},
   "outputs": [
    {
     "name": "stdout",
     "output_type": "stream",
     "text": [
      "['Hello', 'World']\n"
     ]
    }
   ],
   "source": [
    "import re\n",
    "\n",
    "# Split a string using a pattern\n",
    "pattern = r\"\\s+\"\n",
    "text = \"Hello    World\"\n",
    "substrings = re.split(pattern, text)\n",
    "print(substrings)"
   ]
  },
  {
   "attachments": {},
   "cell_type": "markdown",
   "id": "aff2be90",
   "metadata": {},
   "source": [
    "In this example, we import the re module. We define a pattern using a raw string as \\s+, which matches one or more whitespace characters. We define a text string as \"Hello World\", which contains multiple spaces. We use the split() function from the re module to split the string into substrings based on the pattern. The resulting substrings are stored in the substrings variable, which is then printed.\n",
    "\n",
    "### 6.5. Summary\n",
    "\n",
    "The re module in Python provides powerful capabilities for pattern matching and text manipulation through regular expressions. Regular expressions allow you to define search patterns, match text based on specific rules, perform substitutions, and split strings using patterns. By leveraging the features of the re module, you can efficiently handle tasks such as data validation, text parsing, and string manipulation in your Python programs. Regular expressions are widely used in various domains, making the re module a valuable tool for working with textual data."
   ]
  }
 ],
 "metadata": {
  "jupytext": {
   "cell_metadata_filter": "-all",
   "main_language": "python",
   "notebook_metadata_filter": "-all"
  },
  "kernelspec": {
   "display_name": "Python 3",
   "language": "python",
   "name": "python3"
  },
  "language_info": {
   "codemirror_mode": {
    "name": "ipython",
    "version": 3
   },
   "file_extension": ".py",
   "mimetype": "text/x-python",
   "name": "python",
   "nbconvert_exporter": "python",
   "pygments_lexer": "ipython3",
   "version": "3.8.10"
  }
 },
 "nbformat": 4,
 "nbformat_minor": 5
}
