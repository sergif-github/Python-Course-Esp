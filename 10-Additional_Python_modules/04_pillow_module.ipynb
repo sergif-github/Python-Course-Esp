{
 "cells": [
  {
   "attachments": {},
   "cell_type": "markdown",
   "id": "730b351b",
   "metadata": {},
   "source": [
    "# Module 10: Additional Python modules\n",
    "\n",
    "## Part 4: Working with images (pillow module)\n",
    "\n",
    "The Pillow module (PIL) is a popular image processing library in Python. It provides a wide range of functions and methods for opening, manipulating, and saving different image file formats. The Pillow module is widely used in applications that involve image processing, computer vision, and graphics. Let's explore the key features of the Pillow module.\n",
    "\n",
    "### 4.1. Introduction to the pillow module\n",
    "\n",
    "The Pillow module is a powerful image processing library that builds upon the original PIL (Python Imaging Library). It provides a user-friendly interface for performing various image-related tasks, such as opening, resizing, cropping, applying filters, and saving images in different formats. The Pillow module supports a wide range of image file formats, making it versatile for working with different types of images."
   ]
  },
  {
   "cell_type": "code",
   "execution_count": 1,
   "id": "9ced004b",
   "metadata": {},
   "outputs": [
    {
     "name": "stdout",
     "output_type": "stream",
     "text": [
      "Image format: JPEG\n",
      "Image size: (1601, 664)\n",
      "Image mode: RGB\n"
     ]
    }
   ],
   "source": [
    "from PIL import Image\n",
    "\n",
    "# Open an image file\n",
    "image = Image.open(\"image.jpg\")\n",
    "\n",
    "# Display image properties\n",
    "print(\"Image format:\", image.format)\n",
    "print(\"Image size:\", image.size)\n",
    "print(\"Image mode:\", image.mode)\n",
    "\n",
    "# Show the image\n",
    "image.show()"
   ]
  },
  {
   "attachments": {},
   "cell_type": "markdown",
   "id": "4a3cee5c",
   "metadata": {},
   "source": [
    "In this code snippet, we import the Image class from the PIL module. We open an image file called \"image.jpg\" using the open() method of the Image class and store it in the image variable. We then display some properties of the image, including its format, size, and mode. Finally, we use the show() method to display the image.\n",
    "\n",
    "### 4.2. Image manipulation\n",
    "\n",
    "The Pillow module provides a range of methods for manipulating images, such as resizing, cropping, rotating, and applying various image filters. These operations allow you to modify the appearance and characteristics of images to suit your requirements."
   ]
  },
  {
   "cell_type": "code",
   "execution_count": 2,
   "id": "356737c9",
   "metadata": {},
   "outputs": [],
   "source": [
    "from PIL import Image\n",
    "\n",
    "# Open an image file\n",
    "image = Image.open(\"image.jpg\")\n",
    "\n",
    "# Resize the image\n",
    "resized_image = image.resize((400, 300))\n",
    "\n",
    "# Crop a region of the image\n",
    "cropped_image = image.crop((100, 100, 300, 200))\n",
    "\n",
    "# Rotate the image\n",
    "rotated_image = image.rotate(90)\n",
    "\n",
    "# Save modified images\n",
    "resized_image.save(\"resized_image.jpg\")\n",
    "cropped_image.save(\"cropped_image.jpg\")\n",
    "rotated_image.save(\"rotated_image.jpg\")"
   ]
  },
  {
   "attachments": {},
   "cell_type": "markdown",
   "id": "c4edff3d",
   "metadata": {},
   "source": [
    "In this example, we import the Image class from the PIL module. We open an image file called \"image.jpg\" using the open() method of the Image class and store it in the image variable. We then perform various image manipulation operations. We resize the image to a width of 400 pixels and a height of 300 pixels using the resize() method, which returns a new resized image stored in the resized_image variable. We crop a region of the image defined by the coordinates (100, 100, 300, 200) using the crop() method, resulting in a new cropped image stored in the cropped_image variable. We also rotate the image by 90 degrees clockwise using the rotate() method, producing a new rotated image stored in the rotated_image variable. Finally, we save the modified images to separate files using the save() method.\n",
    "\n",
    "### 4.3. Image filtering\n",
    "\n",
    "The Pillow module provides various image filters that can be applied to images to enhance their appearance or extract specific features. These filters allow you to perform operations such as blurring, sharpening, edge detection, and more."
   ]
  },
  {
   "cell_type": "code",
   "execution_count": 3,
   "id": "0bed0506",
   "metadata": {},
   "outputs": [],
   "source": [
    "from PIL import Image, ImageFilter\n",
    "\n",
    "# Open an image file\n",
    "image = Image.open(\"image.jpg\")\n",
    "\n",
    "# Apply image filters\n",
    "blurred_image = image.filter(ImageFilter.BLUR)\n",
    "sharpened_image = image.filter(ImageFilter.SHARPEN)\n",
    "edge_detected_image = image.filter(ImageFilter.FIND_EDGES)\n",
    "\n",
    "# Save modified images\n",
    "blurred_image.save(\"blurred_image.jpg\")\n",
    "sharpened_image.save(\"sharpened_image.jpg\")\n",
    "edge_detected_image.save(\"edge_detected_image.jpg\")"
   ]
  },
  {
   "attachments": {},
   "cell_type": "markdown",
   "id": "523d3d04",
   "metadata": {},
   "source": [
    "In this example, we import the Image class and the ImageFilter module from the PIL module. We open an image file called \"image.jpg\" using the open() method of the Image class and store it in the image variable. We then apply different image filters to the image using the filter() method. We apply the blur filter with ImageFilter.BLUR, the sharpen filter with ImageFilter.SHARPEN, and the edge detection filter with ImageFilter.FIND_EDGES. Each filtered image is saved to a separate file using the save() method.\n",
    "\n",
    "### 4.4. Image format conversion\n",
    "\n",
    "The Pillow module allows you to convert images from one format to another. This feature is useful when you need to convert images between different file formats or when you want to save an image in a specific format."
   ]
  },
  {
   "cell_type": "code",
   "execution_count": 4,
   "id": "7d03828e",
   "metadata": {},
   "outputs": [],
   "source": [
    "from PIL import Image\n",
    "\n",
    "# Open an image file\n",
    "image = Image.open(\"image.jpg\")\n",
    "\n",
    "# Convert image format\n",
    "image.save(\"image.png\")\n",
    "image.save(\"image.bmp\")"
   ]
  },
  {
   "attachments": {},
   "cell_type": "markdown",
   "id": "d6bf7954",
   "metadata": {},
   "source": [
    "In this code snippet, we import the Image class from the PIL module. We open an image file called \"image.jpg\" using the open() method of the Image class and store it in the image variable. We then save the image in different formats using the save() method. In this example, we save the image as a PNG file and a BMP file.\n",
    "\n",
    "### 4.5. Summary\n",
    "\n",
    "The Pillow module (PIL) is a powerful image processing library in Python that offers a wide range of functionalities for working with images. It allows you to open, manipulate, and save images in various formats. With the Pillow module, you can perform image manipulation operations, apply filters, convert image formats, and much more. Whether you're building image-related applications, working with computer vision, or performing image analysis, the Pillow module provides essential tools and capabilities to accomplish your tasks efficiently."
   ]
  }
 ],
 "metadata": {
  "jupytext": {
   "cell_metadata_filter": "-all",
   "main_language": "python",
   "notebook_metadata_filter": "-all"
  },
  "kernelspec": {
   "display_name": "Python 3",
   "language": "python",
   "name": "python3"
  },
  "language_info": {
   "codemirror_mode": {
    "name": "ipython",
    "version": 3
   },
   "file_extension": ".py",
   "mimetype": "text/x-python",
   "name": "python",
   "nbconvert_exporter": "python",
   "pygments_lexer": "ipython3",
   "version": "3.8.10"
  }
 },
 "nbformat": 4,
 "nbformat_minor": 5
}
