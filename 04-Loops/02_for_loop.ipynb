{
 "cells": [
  {
   "attachments": {},
   "cell_type": "markdown",
   "id": "56a2d278",
   "metadata": {},
   "source": [
    "# Module 4: Loops\n",
    "\n",
    "## Part 2: For loop\n",
    "\n",
    "The for loop in Python is used to iterate over a sequence or iterable object, such as a list, tuple, string, or range. It allows you to execute a block of code for each item in the sequence.\n",
    "\n",
    "Here's an example that demonstrates the usage of a for loop:\n"
   ]
  },
  {
   "cell_type": "code",
   "execution_count": 1,
   "id": "cf38e1ff",
   "metadata": {},
   "outputs": [
    {
     "name": "stdout",
     "output_type": "stream",
     "text": [
      "apple\n",
      "banana\n",
      "cherry\n",
      "Loop finished\n"
     ]
    }
   ],
   "source": [
    "fruits = [\"apple\", \"banana\", \"cherry\"]\n",
    "\n",
    "for fruit in fruits: \n",
    "    print(fruit)\n",
    "\n",
    "print(\"Loop finished\")"
   ]
  },
  {
   "attachments": {},
   "cell_type": "markdown",
   "id": "e5ee3774",
   "metadata": {},
   "source": [
    "In this example, the for loop iterates over each item in the fruits list. For each iteration, the value of the current fruit is assigned to the fruit variable, and then the print statement prints the name of the fruit. After iterating over all the items in the list, the message \"Loop finished\" is printed.\n",
    "\n",
    "The range() function is commonly used in conjunction with for loops to generate a sequence of numbers. Here's an example:"
   ]
  },
  {
   "cell_type": "code",
   "execution_count": 2,
   "id": "a8cb0818",
   "metadata": {},
   "outputs": [
    {
     "name": "stdout",
     "output_type": "stream",
     "text": [
      "0\n",
      "1\n",
      "2\n",
      "3\n",
      "4\n",
      "Loop finished\n"
     ]
    }
   ],
   "source": [
    "for i in range(5):\n",
    "    print(i)\n",
    "\n",
    "print(\"Loop finished\")"
   ]
  },
  {
   "attachments": {},
   "cell_type": "markdown",
   "id": "687b6a7b",
   "metadata": {},
   "source": [
    "In this example, the range(5) function generates a sequence of numbers from 0 to 4. The for loop iterates over each number in the sequence, and the print statement prints the value of i. After printing all the numbers, the message \"Loop finished\" is printed.\n",
    "\n",
    "### Summary\n",
    "\n",
    "In this part, you learned about the for loop in Python. The for loop allows you to iterate over a sequence or iterable object and execute a block of code for each item in the sequence. Use the item variable to access the value of each item in the loop. The range() function is often used to generate a sequence of numbers for iteration."
   ]
  }
 ],
 "metadata": {
  "jupytext": {
   "cell_metadata_filter": "-all",
   "main_language": "python",
   "notebook_metadata_filter": "-all"
  },
  "kernelspec": {
   "display_name": "Python 3",
   "language": "python",
   "name": "python3"
  },
  "language_info": {
   "codemirror_mode": {
    "name": "ipython",
    "version": 3
   },
   "file_extension": ".py",
   "mimetype": "text/x-python",
   "name": "python",
   "nbconvert_exporter": "python",
   "pygments_lexer": "ipython3",
   "version": "3.8.10"
  }
 },
 "nbformat": 4,
 "nbformat_minor": 5
}
