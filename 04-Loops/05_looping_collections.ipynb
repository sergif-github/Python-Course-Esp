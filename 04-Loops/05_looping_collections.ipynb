{
 "cells": [
  {
   "attachments": {},
   "cell_type": "markdown",
   "id": "85c7e007",
   "metadata": {},
   "source": [
    "# Module 4: Loops\n",
    "\n",
    "## Part 5: Looping through collections\n",
    "\n",
    "In Python, you can use loops to iterate through collections such as lists, tuples, strings, and dictionaries. This allows you to access and process each element or key-value pair within the collection. \n",
    "\n",
    "Let's explore how to loop through different types of collections:\n",
    "\n",
    "### 5.1. Looping through lists and tuples\n",
    "\n",
    "To loop through a list or tuple, you can use the for loop in conjunction with the collection name. \n",
    "\n",
    "Here's an example:"
   ]
  },
  {
   "cell_type": "code",
   "execution_count": 1,
   "id": "d19abf53",
   "metadata": {},
   "outputs": [
    {
     "name": "stdout",
     "output_type": "stream",
     "text": [
      "apple\n",
      "banana\n",
      "cherry\n",
      "Loop finished\n"
     ]
    }
   ],
   "source": [
    "fruits = [\"apple\", \"banana\", \"cherry\"] \n",
    "\n",
    "for fruit in fruits:\n",
    "    print(fruit)\n",
    "\n",
    "print(\"Loop finished\")"
   ]
  },
  {
   "attachments": {},
   "cell_type": "markdown",
   "id": "d9f5b52c",
   "metadata": {},
   "source": [
    "In this example, the for loop iterates over each element in the fruits list. The variable fruit takes on the value of each element in turn,\n",
    "and the print statement displays the value. After iterating over all the elements, the message \"Loop finished\" is printed.\n",
    "\n",
    "### 5.2. Looping through strings\n",
    "\n",
    "Strings in Python are iterable, so you can also loop through each character in a string using a for loop. \n",
    "\n",
    "Here's an example:"
   ]
  },
  {
   "cell_type": "code",
   "execution_count": 2,
   "id": "fbecd130",
   "metadata": {},
   "outputs": [
    {
     "name": "stdout",
     "output_type": "stream",
     "text": [
      "H\n",
      "e\n",
      "l\n",
      "l\n",
      "o\n",
      ",\n",
      " \n",
      "W\n",
      "o\n",
      "r\n",
      "l\n",
      "d\n",
      "!\n",
      "Loop finished\n"
     ]
    }
   ],
   "source": [
    "message = \"Hello, World!\"\n",
    "\n",
    "for char in message:\n",
    "    print(char)\n",
    "\n",
    "print(\"Loop finished\")"
   ]
  },
  {
   "attachments": {},
   "cell_type": "markdown",
   "id": "d689c05f",
   "metadata": {},
   "source": [
    "In this example, the for loop iterates over each character in the message string. The variable char takes on the value of each character in turn,\n",
    "and the print statement displays the character. After iterating over all the characters, the message \"Loop finished\" is printed.\n",
    "\n",
    "### 5.3. Looping through dictionaries\n",
    "\n",
    "When looping through dictionaries, you can access both the keys and the corresponding values using various methods.\n",
    "\n",
    "#### Looping with .items()\n",
    "\n",
    "The .items() function returns a view object that contains the key-value pairs of the dictionary. It allows you to iterate over both the keys and values simultaneously. \n",
    "\n",
    "Here's an example:"
   ]
  },
  {
   "cell_type": "code",
   "execution_count": 2,
   "id": "bbef53e5",
   "metadata": {},
   "outputs": [
    {
     "name": "stdout",
     "output_type": "stream",
     "text": [
      "name : John\n",
      "age : 25\n",
      "country : USA\n"
     ]
    }
   ],
   "source": [
    "person = {\"name\": \"John\", \"age\": 25, \"country\": \"USA\"}\n",
    "\n",
    "for key, value in person.items():\n",
    "    print(key, \":\", value)"
   ]
  },
  {
   "attachments": {},
   "cell_type": "markdown",
   "id": "3c7b41d8",
   "metadata": {},
   "source": [
    "In this example, the person dictionary contains information about a person. By using the .items() function, we can iterate over the key-value pairs and print them.\n",
    "\n",
    "#### Looping with .keys()\n",
    "The .keys() function returns a view object that contains the keys of the dictionary. It allows you to iterate over the keys only. \n",
    "\n",
    "Here's an example:"
   ]
  },
  {
   "cell_type": "code",
   "execution_count": 3,
   "id": "1cea92b5",
   "metadata": {},
   "outputs": [
    {
     "name": "stdout",
     "output_type": "stream",
     "text": [
      "name\n",
      "age\n",
      "country\n"
     ]
    }
   ],
   "source": [
    "person = {\"name\": \"John\", \"age\": 25, \"country\": \"USA\"}\n",
    "\n",
    "for key in person.keys():\n",
    "    print(key)"
   ]
  },
  {
   "attachments": {},
   "cell_type": "markdown",
   "id": "39ab0359",
   "metadata": {},
   "source": [
    "\n",
    "In this example, we use the .keys() function to iterate over the keys of the person dictionary and print them.\n",
    "\n",
    "#### Looping with .values()\n",
    "The .values() function returns a view object that contains the values of the dictionary. It allows you to iterate over the values only.\n",
    "\n",
    "Here's an example:"
   ]
  },
  {
   "cell_type": "code",
   "execution_count": 4,
   "id": "ad3c833d",
   "metadata": {},
   "outputs": [
    {
     "name": "stdout",
     "output_type": "stream",
     "text": [
      "John\n",
      "25\n",
      "USA\n"
     ]
    }
   ],
   "source": [
    "person = {\"name\": \"John\", \"age\": 25, \"country\": \"USA\"}\n",
    "\n",
    "for value in person.values():\n",
    "    print(value)"
   ]
  },
  {
   "attachments": {},
   "cell_type": "markdown",
   "id": "7ec43efd",
   "metadata": {},
   "source": [
    "In this example, we use the .values() function to iterate over the values of the person dictionary and print them.\n",
    "\n",
    "These methods provide flexibility when working with dictionaries. You can choose the appropriate method based on your specific needs. Whether you want to iterate over the key-value pairs, keys only, or values only, these functions make it easy to loop through dictionaries and access their contents."
   ]
  },
  {
   "attachments": {},
   "cell_type": "markdown",
   "id": "46d57356",
   "metadata": {},
   "source": [
    "### 5.4. Summary\n",
    "\n",
    "In this part, you learned how to loop through different types of collections in Python. Use the for loop to iterate over lists, tuples, strings,\n",
    "and dictionaries. Customize the loop based on the specific requirements of your program, and access the elements or key-value pairs within the collection as needed."
   ]
  }
 ],
 "metadata": {
  "jupytext": {
   "cell_metadata_filter": "-all",
   "main_language": "python",
   "notebook_metadata_filter": "-all"
  },
  "kernelspec": {
   "display_name": "Python 3",
   "language": "python",
   "name": "python3"
  },
  "language_info": {
   "codemirror_mode": {
    "name": "ipython",
    "version": 3
   },
   "file_extension": ".py",
   "mimetype": "text/x-python",
   "name": "python",
   "nbconvert_exporter": "python",
   "pygments_lexer": "ipython3",
   "version": "3.8.10"
  }
 },
 "nbformat": 4,
 "nbformat_minor": 5
}
