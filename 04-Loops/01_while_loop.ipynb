{
 "cells": [
  {
   "attachments": {},
   "cell_type": "markdown",
   "id": "b67f37ab",
   "metadata": {},
   "source": [
    "# Module 4: Loops\n",
    "\n",
    "## Part 1: While loop\n",
    "\n",
    "The while loop in Python allows you to repeatedly execute a block of code as long as a certain condition is true. It's used when you want to iterate over a block of code an unknown number of times until a specific condition is met.\n",
    "\n",
    "The condition is an expression that is evaluated at the beginning of each iteration. If the condition is true, the code block inside the while loop is executed. After each iteration, the condition is checked again, and if it's still true, the loop continues. If the condition becomes false, the loop is exited, and the program continues to the next statement after the while loop.\n",
    "\n",
    "Here's an example that demonstrates the usage of a while loop:"
   ]
  },
  {
   "cell_type": "code",
   "execution_count": 1,
   "id": "412bff9a",
   "metadata": {},
   "outputs": [
    {
     "name": "stdout",
     "output_type": "stream",
     "text": [
      "Count: 0\n",
      "Count: 1\n",
      "Count: 2\n",
      "Count: 3\n",
      "Count: 4\n",
      "Loop finished\n"
     ]
    }
   ],
   "source": [
    "count = 0\n",
    "\n",
    "while count < 5:  # Condition\n",
    "    print(\"Count:\", count)\n",
    "    count += 1\n",
    "\n",
    "print(\"Loop finished\")"
   ]
  },
  {
   "attachments": {},
   "cell_type": "markdown",
   "id": "6a76704c",
   "metadata": {},
   "source": [
    "In this example, the while loop continues as long as the value of count is less than 5. Inside the loop, the current value of count is printed, and then count is incremented by 1 using the += operator. Once the value of count reaches 5, the condition becomes false, and the loop is exited. The message \"Loop finished\" is then printed.\n",
    "\n",
    "It's important to ensure that the condition inside the while loop eventually becomes false; otherwise, you may end up with an infinite loop, which can cause your program to hang or consume excessive resources. To avoid this, make sure that the condition is properly updated within the loop so that the termination condition is eventually met.\n",
    "\n",
    "### Summary\n",
    "\n",
    "In this part, you learned about the while loop in Python. The while loop allows you to repeatedly execute a block of code as long as a certain condition is true. It's used when you want to iterate over a block of code an unknown number of times until a specific condition is met. Ensure that the condition eventually becomes false to avoid infinite loops."
   ]
  }
 ],
 "metadata": {
  "jupytext": {
   "cell_metadata_filter": "-all",
   "main_language": "python",
   "notebook_metadata_filter": "-all"
  },
  "kernelspec": {
   "display_name": "Python 3",
   "language": "python",
   "name": "python3"
  },
  "language_info": {
   "codemirror_mode": {
    "name": "ipython",
    "version": 3
   },
   "file_extension": ".py",
   "mimetype": "text/x-python",
   "name": "python",
   "nbconvert_exporter": "python",
   "pygments_lexer": "ipython3",
   "version": "3.8.10"
  }
 },
 "nbformat": 4,
 "nbformat_minor": 5
}
