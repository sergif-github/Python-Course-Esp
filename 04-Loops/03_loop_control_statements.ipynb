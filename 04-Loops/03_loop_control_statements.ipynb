{
 "cells": [
  {
   "attachments": {},
   "cell_type": "markdown",
   "id": "b49d31ce",
   "metadata": {},
   "source": [
    "# Module 4: Loops\n",
    "\n",
    "## Part 3: Loop control statements (break, continue)\n",
    "\n",
    "In Python, you can use loop control statements to alter the normal flow of execution within loops. Two commonly used loop control statements are break and continue.\n",
    "\n",
    "### 3.1. Break statement\n",
    "\n",
    "The break statement is used to exit the loop prematurely when a certain condition is met. When the break statement is encountered inside a loop, the loop is immediately terminated, and the program execution continues with the next statement after the loop. \n",
    "\n",
    "Here's an example:"
   ]
  },
  {
   "cell_type": "code",
   "execution_count": 2,
   "id": "14c89708",
   "metadata": {},
   "outputs": [
    {
     "name": "stdout",
     "output_type": "stream",
     "text": [
      "1\n",
      "2\n",
      "Loop finished\n"
     ]
    }
   ],
   "source": [
    "numbers = [1, 2, 3, 4, 5]\n",
    " \n",
    "for num in numbers:\n",
    "    if num == 3:\n",
    "        break\n",
    "    print(num)\n",
    "\n",
    "print(\"Loop finished\")"
   ]
  },
  {
   "attachments": {},
   "cell_type": "markdown",
   "id": "8065afae",
   "metadata": {},
   "source": [
    "In this example, the break statement is used to exit the loop when the value of num is equal to 3. As soon as the condition is met, the loop is terminated, and the program execution continues with the statement after the loop. In this case, only the numbers 1 and 2 will be printed before the loop is exited.\n",
    "\n",
    "### 3.2. Continue statement\n",
    "The continue statement is used to skip the current iteration of a loop and continue with the next iteration. When the continue statement is encountered inside a loop, the remaining code in the loop for the current iteration is skipped, and the loop proceeds with the next iteration. \n",
    "\n",
    "Here's an example:"
   ]
  },
  {
   "cell_type": "code",
   "execution_count": 3,
   "id": "5c54df1c",
   "metadata": {},
   "outputs": [
    {
     "name": "stdout",
     "output_type": "stream",
     "text": [
      "1\n",
      "2\n",
      "4\n",
      "5\n",
      "Loop finished\n"
     ]
    }
   ],
   "source": [
    "numbers = [1, 2, 3, 4, 5]\n",
    "\n",
    "for num in numbers:\n",
    "    if num == 3:\n",
    "        continue\n",
    "    print(num)\n",
    "\n",
    "print(\"Loop finished\")"
   ]
  },
  {
   "attachments": {},
   "cell_type": "markdown",
   "id": "fed0e6b7",
   "metadata": {},
   "source": [
    "In this example, the continue statement is used to skip the iteration when the value of num is equal to 3. When the condition is met, the print statement is skipped, and the loop continues with the next iteration. As a result, all the numbers except 3 will be printed.\n",
    "\n",
    "### 3.3. Summary\n",
    "\n",
    "In this part, you learned about the loop control statements break and continue. The break statement allows you to exit the loop prematurely when a certain condition is met, while the continue statement allows you to skip the current iteration and proceed with the next iteration. Use these statements judiciously to control the flow of your loops based on specific conditions."
   ]
  }
 ],
 "metadata": {
  "jupytext": {
   "cell_metadata_filter": "-all",
   "main_language": "python",
   "notebook_metadata_filter": "-all"
  },
  "kernelspec": {
   "display_name": "Python 3",
   "language": "python",
   "name": "python3"
  },
  "language_info": {
   "codemirror_mode": {
    "name": "ipython",
    "version": 3
   },
   "file_extension": ".py",
   "mimetype": "text/x-python",
   "name": "python",
   "nbconvert_exporter": "python",
   "pygments_lexer": "ipython3",
   "version": "3.8.10"
  }
 },
 "nbformat": 4,
 "nbformat_minor": 5
}
