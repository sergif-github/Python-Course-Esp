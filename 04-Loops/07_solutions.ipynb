{
 "cells": [
  {
   "attachments": {},
   "cell_type": "markdown",
   "metadata": {},
   "source": [
    "# Module 4: Loops\n",
    "\n",
    "## Part 7: Solutions"
   ]
  },
  {
   "attachments": {},
   "cell_type": "markdown",
   "metadata": {},
   "source": [
    "### Exercise 1\n",
    "Write a program that prompts the user to enter a number and then prints all the numbers from 1 to that number using a while loop."
   ]
  },
  {
   "cell_type": "code",
   "execution_count": 1,
   "metadata": {},
   "outputs": [
    {
     "name": "stdout",
     "output_type": "stream",
     "text": [
      "1\n",
      "2\n",
      "3\n",
      "4\n",
      "5\n"
     ]
    }
   ],
   "source": [
    "num = int(input(\"Enter a number: \"))\n",
    "count = 1\n",
    "\n",
    "while count <= num:\n",
    "    print(count)\n",
    "    count += 1"
   ]
  },
  {
   "attachments": {},
   "cell_type": "markdown",
   "metadata": {},
   "source": [
    "### Exercise 2\n",
    "Write a program that prompts the user to enter a string and then prints each character of the string on a new line using a for loop."
   ]
  },
  {
   "cell_type": "code",
   "execution_count": 2,
   "metadata": {},
   "outputs": [
    {
     "name": "stdout",
     "output_type": "stream",
     "text": [
      "h\n",
      "o\n",
      "l\n",
      "a\n"
     ]
    }
   ],
   "source": [
    "string = input(\"Enter a string: \")\n",
    "\n",
    "for char in string:\n",
    "    print(char)"
   ]
  },
  {
   "attachments": {},
   "cell_type": "markdown",
   "metadata": {},
   "source": [
    "### Exercise 3\n",
    "Write a program that prompts the user to enter a series of numbers. The program should iterate over the numbers and print \"Found\" if it encounters the number 5. If the number 0 is entered, the program should break out of the loop."
   ]
  },
  {
   "cell_type": "code",
   "execution_count": 3,
   "metadata": {},
   "outputs": [
    {
     "name": "stdout",
     "output_type": "stream",
     "text": [
      "Found\n"
     ]
    }
   ],
   "source": [
    "while True:\n",
    "    num = int(input(\"Enter a number (0 to exit): \"))\n",
    "    \n",
    "    if num == 0:\n",
    "        break\n",
    "    \n",
    "    if num == 5:\n",
    "        print(\"Found\")"
   ]
  },
  {
   "attachments": {},
   "cell_type": "markdown",
   "metadata": {},
   "source": [
    "### Exercise 4\n",
    "Write a program that prints a pattern of asterisks (*) in the shape of a triangle. The number of rows in the triangle should be determined by the user input. Use print(\"string\", end=\"\") to print without a newline."
   ]
  },
  {
   "cell_type": "code",
   "execution_count": 6,
   "metadata": {},
   "outputs": [
    {
     "name": "stdout",
     "output_type": "stream",
     "text": [
      "*\n",
      "**\n",
      "***\n",
      "****\n",
      "*****\n"
     ]
    }
   ],
   "source": [
    "rows = int(input(\"Enter the number of rows: \"))\n",
    "\n",
    "for i in range(rows):\n",
    "    for j in range(i+1):\n",
    "        print(\"*\", end=\"\")\n",
    "    print()"
   ]
  },
  {
   "attachments": {},
   "cell_type": "markdown",
   "metadata": {},
   "source": [
    "### Exercise 5\n",
    "Write a program that stores a list of dictionaries, where each dictionary represents a person with attributes like name, age, and country. Loop through the list and print the details of each person."
   ]
  },
  {
   "cell_type": "code",
   "execution_count": 9,
   "metadata": {},
   "outputs": [
    {
     "name": "stdout",
     "output_type": "stream",
     "text": [
      "Name: John\n",
      "Age: 25\n",
      "Country: USA\n",
      "\n",
      "Name: Alice\n",
      "Age: 30\n",
      "Country: Canada\n",
      "\n",
      "Name: Bob\n",
      "Age: 28\n",
      "Country: UK\n",
      "\n"
     ]
    }
   ],
   "source": [
    "people = [\n",
    "    {\"name\": \"John\", \"age\": 25, \"country\": \"USA\"},\n",
    "    {\"name\": \"Alice\", \"age\": 30, \"country\": \"Canada\"},\n",
    "    {\"name\": \"Bob\", \"age\": 28, \"country\": \"UK\"}\n",
    "]\n",
    "\n",
    "for person in people:\n",
    "    print(\"Name:\", person[\"name\"])\n",
    "    print(\"Age:\", person[\"age\"])\n",
    "    print(\"Country:\", person[\"country\"])\n",
    "    print()"
   ]
  },
  {
   "attachments": {},
   "cell_type": "markdown",
   "metadata": {},
   "source": [
    "### Exercise 6\n",
    "Write a program that stores a nested list of numbers. Loop through the list and calculate the sum of all the numbers."
   ]
  },
  {
   "cell_type": "code",
   "execution_count": 10,
   "metadata": {},
   "outputs": [
    {
     "name": "stdout",
     "output_type": "stream",
     "text": [
      "Sum: 45\n"
     ]
    }
   ],
   "source": [
    "numbers = [[1, 2, 3], [4, 5, 6], [7, 8, 9]]\n",
    "total = 0\n",
    "\n",
    "for sublist in numbers:\n",
    "    for num in sublist:\n",
    "        total += num\n",
    "\n",
    "print(\"Sum:\", total)"
   ]
  },
  {
   "attachments": {},
   "cell_type": "markdown",
   "metadata": {},
   "source": [
    "### Exercise 7\n",
    "Write a program that prompts the user to enter a string and counts the number of occurrences of a specific character in the string using a loop."
   ]
  },
  {
   "cell_type": "code",
   "execution_count": 11,
   "metadata": {},
   "outputs": [
    {
     "name": "stdout",
     "output_type": "stream",
     "text": [
      "Count: 0\n"
     ]
    }
   ],
   "source": [
    "string = input(\"Enter a string: \")\n",
    "char = input(\"Enter a character: \")\n",
    "count = 0\n",
    "\n",
    "for c in string:\n",
    "    if c == char:\n",
    "        count += 1\n",
    "\n",
    "print(\"Count:\", count)"
   ]
  },
  {
   "attachments": {},
   "cell_type": "markdown",
   "metadata": {},
   "source": [
    "### Exercise 8\n",
    "Write a program that prompts the user to enter a string. Loop through the string and print each character, but skip the letter 'e' using the continue statement."
   ]
  },
  {
   "cell_type": "code",
   "execution_count": 12,
   "metadata": {},
   "outputs": [
    {
     "name": "stdout",
     "output_type": "stream",
     "text": [
      "h\n",
      "y\n",
      "u\n",
      "t\n"
     ]
    }
   ],
   "source": [
    "string = input(\"Enter a string: \")\n",
    "\n",
    "for char in string:\n",
    "    if char == 'e':\n",
    "        continue\n",
    "    print(char)"
   ]
  },
  {
   "attachments": {},
   "cell_type": "markdown",
   "metadata": {},
   "source": [
    "### Exercise 9\n",
    "Write a program that stores a dictionary of items with their corresponding prices. Loop through the dictionary and print the items that have a price higher than a certain threshold."
   ]
  },
  {
   "cell_type": "code",
   "execution_count": 13,
   "metadata": {},
   "outputs": [
    {
     "name": "stdout",
     "output_type": "stream",
     "text": [
      "apple : 0.99\n",
      "orange : 0.75\n"
     ]
    }
   ],
   "source": [
    "items = {\"apple\": 0.99, \"banana\": 0.5, \"orange\": 0.75}\n",
    "threshold = 0.7\n",
    "\n",
    "for item, price in items.items():\n",
    "    if price > threshold:\n",
    "        print(item, \":\", price)"
   ]
  },
  {
   "attachments": {},
   "cell_type": "markdown",
   "metadata": {},
   "source": [
    "### Exercise 10\n",
    "Write a program that demonstrates looping through different data types:\n",
    "\n",
    "Loop through a list and print each element.\n",
    "Loop through a string and print each character.\n",
    "Loop through a dictionary and print each key and value pair using .keys(), .values(), and .items() methods."
   ]
  },
  {
   "cell_type": "code",
   "execution_count": 14,
   "metadata": {},
   "outputs": [
    {
     "name": "stdout",
     "output_type": "stream",
     "text": [
      "1\n",
      "2\n",
      "3\n",
      "4\n",
      "5\n",
      "H\n",
      "e\n",
      "l\n",
      "l\n",
      "o\n",
      "name\n",
      "age\n",
      "country\n",
      "John\n",
      "25\n",
      "USA\n",
      "name John\n",
      "age 25\n",
      "country USA\n"
     ]
    }
   ],
   "source": [
    "# Loop through a list\n",
    "numbers = [1, 2, 3, 4, 5]\n",
    "for num in numbers:\n",
    "    print(num)\n",
    "\n",
    "# Loop through a string\n",
    "string = \"Hello\"\n",
    "for char in string:\n",
    "    print(char)\n",
    "\n",
    "# Loop through a dictionary\n",
    "person = {\"name\": \"John\", \"age\": 25, \"country\": \"USA\"}\n",
    "for key in person.keys():\n",
    "    print(key)\n",
    "\n",
    "for value in person.values():\n",
    "    print(value)\n",
    "\n",
    "for key, value in person.items():\n",
    "    print(key, value)"
   ]
  }
 ],
 "metadata": {
  "kernelspec": {
   "display_name": "Python 3",
   "language": "python",
   "name": "python3"
  },
  "language_info": {
   "codemirror_mode": {
    "name": "ipython",
    "version": 3
   },
   "file_extension": ".py",
   "mimetype": "text/x-python",
   "name": "python",
   "nbconvert_exporter": "python",
   "pygments_lexer": "ipython3",
   "version": "3.8.10"
  },
  "orig_nbformat": 4
 },
 "nbformat": 4,
 "nbformat_minor": 2
}
