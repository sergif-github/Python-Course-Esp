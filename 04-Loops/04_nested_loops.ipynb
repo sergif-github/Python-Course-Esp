{
 "cells": [
  {
   "attachments": {},
   "cell_type": "markdown",
   "id": "9b89447f",
   "metadata": {},
   "source": [
    "# Module 4: Loops\n",
    "\n",
    "## Part 4: Nested loops\n",
    "\n",
    "In Python, you can nest loops within each other to create nested loops. A nested loop is a loop that is placed inside another loop. \n",
    "This allows you to iterate over multiple levels of data structures or perform complex repetitive tasks.\n",
    "\n",
    "Here's an example of a nested loop:"
   ]
  },
  {
   "cell_type": "code",
   "execution_count": 1,
   "id": "47cc5176",
   "metadata": {},
   "outputs": [
    {
     "name": "stdout",
     "output_type": "stream",
     "text": [
      "apple red\n",
      "apple yellow\n",
      "apple blue\n",
      "banana red\n",
      "banana yellow\n",
      "banana blue\n",
      "cherry red\n",
      "cherry yellow\n",
      "cherry blue\n",
      "Nested loops finished\n"
     ]
    }
   ],
   "source": [
    "fruits = [\"apple\", \"banana\", \"cherry\"] \n",
    "colors = [\"red\", \"yellow\", \"blue\"]\n",
    "\n",
    "for fruit in fruits:\n",
    "    for color in colors:\n",
    "        print(fruit, color)\n",
    "\n",
    "print(\"Nested loops finished\")"
   ]
  },
  {
   "attachments": {},
   "cell_type": "markdown",
   "id": "ef3e427b",
   "metadata": {},
   "source": [
    "In this example, we have two lists: fruits and colors. The outer for loop iterates over each fruit, and for each fruit, the inner \n",
    "for loop iterates over each color. The print statement inside the nested loops will display the combination of each fruit and color.\n",
    "\n",
    "Nested loops can be nested to any level as per your requirement. However, it's important to consider the performance implications \n",
    "of deeply nested loops, as they can result in a large number of iterations.\n",
    "\n",
    "### Summary\n",
    "\n",
    "In this part, you learned about nested loops in Python. Nested loops allow you to iterate over multiple levels of data structures \n",
    "or perform complex repetitive tasks. Be cautious with deeply nested loops to avoid potential performance issues."
   ]
  }
 ],
 "metadata": {
  "jupytext": {
   "cell_metadata_filter": "-all",
   "main_language": "python",
   "notebook_metadata_filter": "-all"
  },
  "kernelspec": {
   "display_name": "Python 3",
   "language": "python",
   "name": "python3"
  },
  "language_info": {
   "codemirror_mode": {
    "name": "ipython",
    "version": 3
   },
   "file_extension": ".py",
   "mimetype": "text/x-python",
   "name": "python",
   "nbconvert_exporter": "python",
   "pygments_lexer": "ipython3",
   "version": "3.8.10"
  }
 },
 "nbformat": 4,
 "nbformat_minor": 5
}
