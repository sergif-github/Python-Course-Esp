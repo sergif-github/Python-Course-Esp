{
 "cells": [
  {
   "attachments": {},
   "cell_type": "markdown",
   "metadata": {},
   "source": [
    "# Módulo 5: Métodos y funciones\n",
    "\n",
    "## Parte 3: Funciones de orden superior\n",
    "\n",
    "Las funciones de orden superior son funciones que pueden aceptar otras funciones como argumentos y/o devolver funciones como resultados. Este poderoso concepto es compatible con Python debido a que las funciones se tratan como objetos de primera clase. En esta sección, exploraremos las características y los beneficios de las funciones de orden superior y cómo pueden mejorar la flexibilidad y modularidad del código.\n",
    "\n",
    "### 3.1. Aceptar funciones como argumentos\n",
    "\n",
    "Las funciones de orden superior pueden aceptar otras funciones como argumentos. Esto permite encapsular el comportamiento que la persona que llama puede personalizar o parametrizar. Al pasar funciones como argumentos, la función de orden superior puede invocar o usar estas funciones internamente para realizar operaciones o transformaciones específicas."
   ]
  },
  {
   "cell_type": "code",
   "execution_count": null,
   "metadata": {},
   "outputs": [],
   "source": [
    "def aplicar_operacion(funcion, x, y):\n",
    "     return funcion(x, y)\n",
    "\n",
    "def suma(a, b):\n",
    "     return a + b\n",
    "\n",
    "def restar(a, b):\n",
    "     return a - b\n",
    "\n",
    "resultado = aplicar_operacion(suma, 5, 3)\n",
    "print(resultado) # Salida: 8\n",
    "\n",
    "resultado = aplicar_operacion(restar, 10, 4)\n",
    "print(resultado) # Salida: 6"
   ]
  },
  {
   "attachments": {},
   "cell_type": "markdown",
   "metadata": {},
   "source": [
    "En este ejemplo, la función aplicar_operacion es una función de orden superior que acepta una función (funcion) como argumento junto con dos valores (x e y). Aplica la función dada a los valores proporcionados y devuelve el resultado. Las funciones de suma y resta se pasan como argumentos a aplicar_operacion, lo que resulta en la suma y resta de los valores dados, respectivamente.\n",
    "\n",
    "### 3.2. Devolver funciones como resultados\n",
    "\n",
    "Las funciones de orden superior también pueden generar y devolver nuevas funciones como sus resultados. Esta capacidad permite la creación de funciones especializadas adaptadas a configuraciones o casos de uso específicos. Las funciones devueltas pueden asignarse a variables o usarse inmediatamente para cálculos posteriores."
   ]
  },
  {
   "cell_type": "code",
   "execution_count": null,
   "metadata": {},
   "outputs": [],
   "source": [
    "def crear_multiplicador(n):\n",
    "    def multiplicador(x):\n",
    "        return x * n\n",
    "    return multiplicador\n",
    "\n",
    "doble = crear_multiplicador(2)\n",
    "triple = crear_multiplicador(3)\n",
    "\n",
    "print(doble(5)) # Salida: 10\n",
    "print(triple(5)) # Salida: 15"
   ]
  },
  {
   "attachments": {},
   "cell_type": "markdown",
   "metadata": {},
   "source": [
    "En este ejemplo, la función crear_multiplicador es una función de orden superior que toma un argumento n y devuelve una nueva función multiplicadora. El multiplicador de la función devuelta multiplica su argumento por n. Al invocar create_multiplier con diferentes valores, creamos funciones multiplicadoras especializadas (doble y triple) que se pueden usar para multiplicar números por 2 y 3, respectivamente.\n",
    "\n",
    "### 3.3. Composición de funciones\n",
    "\n",
    "Las funciones de orden superior permiten la composición de funciones, que es el proceso de combinar múltiples funciones para crear una nueva función. Esta composición permite encadenar y secuenciar operaciones, haciendo que las operaciones complejas sean más manejables y legibles. La composición de funciones se logra pasando funciones como argumentos o devolviendo funciones de otras funciones."
   ]
  },
  {
   "cell_type": "code",
   "execution_count": null,
   "metadata": {},
   "outputs": [],
   "source": [
    "def componer(func1, func2):\n",
    "     def funcion_compuesta(x):\n",
    "          return func1(func2(x))\n",
    "     return funcion_compuesta\n",
    "\n",
    "def agregar_uno(x):\n",
    "     return x + 1\n",
    "\n",
    "def multiplicar_por_dos(x):\n",
    "     return x * 2\n",
    "\n",
    "compuesto = componer(agregar_uno, multiplicar_por_dos)\n",
    "\n",
    "resultado = compuesto(5)\n",
    "print(resultado) # Salida: 11"
   ]
  },
  {
   "attachments": {},
   "cell_type": "markdown",
   "metadata": {},
   "source": [
    "En este ejemplo, la función componer es una función de orden superior que toma dos funciones (func1 y func2) y devuelve una función nueva (funcion_compuesta). La función devuelta aplica func2 al argumento x, luego aplica func1 al resultado. Las funciones sumar_uno y multiplicar_por_dos se componen mediante componer, lo que da como resultado una nueva función (compuesta) que primero multiplica un número por dos y luego suma uno.\n",
    "\n",
    "### 3.4. Resumen\n",
    "\n",
    "Las funciones de orden superior proporcionan una forma poderosa de manipular y trabajar con funciones en Python. Mejoran la flexibilidad y la modularidad del código al permitir encapsular, personalizar y componer el comportamiento. La comprensión de las funciones de orden superior le permite escribir código más expresivo y reutilizable, lo que permite técnicas de programación avanzadas y paradigmas de programación funcional."
   ]
  }
 ],
 "metadata": {
  "kernelspec": {
   "display_name": "Python 3",
   "language": "python",
   "name": "python3"
  },
  "language_info": {
   "codemirror_mode": {
    "name": "ipython",
    "version": 3
   },
   "file_extension": ".py",
   "mimetype": "text/x-python",
   "name": "python",
   "nbconvert_exporter": "python",
   "pygments_lexer": "ipython3",
   "version": "3.8.10"
  },
  "orig_nbformat": 4
 },
 "nbformat": 4,
 "nbformat_minor": 2
}
