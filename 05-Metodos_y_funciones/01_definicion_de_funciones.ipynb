{
 "cells": [
  {
   "attachments": {},
   "cell_type": "markdown",
   "id": "bbfdf6d0",
   "metadata": {},
   "source": [
    "# Módulo 5: Métodos y funciones\n",
    "\n",
    "## Parte 1: Definición de funciones\n",
    "\n",
    "En Python, las funciones son bloques de código reutilizables que realizan una tarea específica. Le permiten dividir su programa en partes más pequeñas y manejables, lo que hace que su código esté más organizado y sea más fácil de entender.\n",
    "\n",
    "Exploremos cómo definir y llamar funciones en Python.\n",
    "\n",
    "### 1.1. Definición de una función\n",
    "\n",
    "Para definir una función en Python, usa la palabra clave def seguida del nombre de la función, paréntesis y dos puntos. Cualquier código sangrado debajo de la definición de la función es parte del cuerpo de la función.\n",
    "\n",
    "Aquí hay un ejemplo de una función simple que saluda al usuario:"
   ]
  },
  {
   "cell_type": "code",
   "execution_count": 2,
   "id": "d72cefd7",
   "metadata": {},
   "outputs": [],
   "source": [
    "def saludar():\n",
    "    print(\"¡Hola, bienvenido!\")"
   ]
  },
  {
   "attachments": {},
   "cell_type": "markdown",
   "id": "ec97ee7c",
   "metadata": {},
   "source": [
    "En este ejemplo, la función saludar() se define sin ningún parámetro. El cuerpo de la función contiene una sola instrucción que imprime un mensaje de saludo.\n",
    "\n",
    "### 1.2. Llamar a una función\n",
    "\n",
    "Una vez que se define una función, puede llamarla o invocarla para ejecutar su código. Para llamar a una función, simplemente escribe su nombre\n",
    "seguido de paréntesis.\n",
    "\n",
    "Así es como puede llamar a la función saludar() definida anteriormente:"
   ]
  },
  {
   "cell_type": "code",
   "execution_count": null,
   "id": "a5fefb4d",
   "metadata": {},
   "outputs": [],
   "source": [
    "saludar()"
   ]
  },
  {
   "attachments": {},
   "cell_type": "markdown",
   "id": "91b776d5",
   "metadata": {},
   "source": [
    "Cuando llama a la función saludar(), se ejecuta el código dentro del cuerpo de la función y el resultado \"¡Hola, bienvenido!\"\n",
    "se visualiza.\n",
    "\n",
    "### 1.3. Parámetros de función\n",
    "\n",
    "Las funciones también pueden aceptar parámetros, que son valores que se pasan a la función cuando se llama.\n",
    "Los parámetros permiten que las funciones funcionen con diferentes entradas y hacen que el código sea más flexible y reutilizable.\n",
    "\n",
    "aquí hay un ejemplo\n",
    "de una función que toma un parámetro:"
   ]
  },
  {
   "cell_type": "code",
   "execution_count": null,
   "id": "9b0a4004",
   "metadata": {},
   "outputs": [],
   "source": [
    "def saludar(nombre):\n",
    "    print(\"Hola\", nombre, \"¡bienvenido!\")"
   ]
  },
  {
   "attachments": {},
   "cell_type": "markdown",
   "id": "8fad9fe8",
   "metadata": {},
   "source": [
    "En este ejemplo, la función saludar() tiene un solo parámetro llamado nombre. Cuando se llama a la función, proporciona un valor\n",
    "para el parámetro de nombre, que luego se usa dentro de la función para imprimir el mensaje de saludo personalizado.\n",
    "\n",
    "### 1.4. Parámetros predeterminados\n",
    "\n",
    "También puede especificar valores de parámetros predeterminados en la definición de una función. Los parámetros predeterminados se utilizan cuando no se proporciona ningún argumento para ese parámetro durante la llamada a la función.\n",
    "\n",
    "Aquí hay un ejemplo:"
   ]
  },
  {
   "cell_type": "code",
   "execution_count": null,
   "id": "fecc38a4",
   "metadata": {},
   "outputs": [],
   "source": [
    "def saludar(nombre=\"invitado\"):\n",
    "    print(\"Hola\", nombre, \"¡bienvenido!\")"
   ]
  },
  {
   "attachments": {},
   "cell_type": "markdown",
   "id": "6bd54288",
   "metadata": {},
   "source": [
    "En este ejemplo, la función saludar() tiene un nombre de parámetro predeterminado establecido en \"invitado\". Si no se proporciona ningún argumento al llamar a la función, utilizará el valor predeterminado. Sin embargo, si se proporciona un argumento, anulará el valor predeterminado.\n",
    "\n",
    "### 1.5. Múltiples parámetros\n",
    "\n",
    "Las funciones pueden tener múltiples parámetros, lo que le permite trabajar con múltiples entradas. Los parámetros están separados por comas dentro de los paréntesis.\n",
    "\n",
    "Aquí hay un ejemplo:"
   ]
  },
  {
   "cell_type": "code",
   "execution_count": null,
   "id": "482adc51",
   "metadata": {},
   "outputs": [],
   "source": [
    "def sumar_numeros(a, b):\n",
    "    return a + b"
   ]
  },
  {
   "attachments": {},
   "cell_type": "markdown",
   "id": "8e03bcab",
   "metadata": {},
   "source": [
    "### 1.6. Declaración de retorno\n",
    "\n",
    "Las funciones también pueden devolver valores utilizando la declaración de retorno. La declaración de retorno permite que una función calcule un resultado y lo de de vuelta al código que llamó a la función.\n",
    "\n",
    "Aquí hay un ejemplo:"
   ]
  },
  {
   "cell_type": "code",
   "execution_count": null,
   "id": "61810140",
   "metadata": {},
   "outputs": [],
   "source": [
    "def sumar_numeros(a, b):\n",
    "    return a + b"
   ]
  },
  {
   "attachments": {},
   "cell_type": "markdown",
   "id": "50baa19e",
   "metadata": {},
   "source": [
    "En este ejemplo, la función sumar_numeros() toma dos parámetros a y b y devuelve su suma mediante la declaración de devolución.\n",
    "Puede almacenar el valor devuelto en una variable o usarlo en cualquier otra parte de su programa.\n",
    "\n",
    "Si una función no especifica una declaración de devolución o usa la declaración de devolución sin ningún valor, devuelve None. None es un valor especial en Python que representa la ausencia de un valor.\n",
    "\n",
    "Aquí hay un ejemplo:"
   ]
  },
  {
   "cell_type": "code",
   "execution_count": null,
   "id": "30f239b1",
   "metadata": {},
   "outputs": [],
   "source": [
    "def decir_hola():\n",
    "    print(\"¡Hola!\")\n",
    "\n",
    "resultado = decir_hola()\n",
    "print(resultado)"
   ]
  },
  {
   "attachments": {},
   "cell_type": "markdown",
   "id": "9ddf9935",
   "metadata": {},
   "source": [
    "En este ejemplo, la función decir_hola() no tiene declaración de retorno. Cuando se llama a la función, imprime \"¡Hola!\" pero no devuelve ningún valor. Al resultado de la variable se le asigna None, que luego se imprime.\n",
    "\n",
    "### 1.7. Resumen\n",
    "\n",
    "En esta parte, aprendió a definir y llamar funciones en Python. Las funciones son bloques de código reutilizables que le permiten\n",
    "para dividir su programa en partes más pequeñas y manejables. Puede definir funciones sin parámetros o con uno\n",
    "o más parámetros, y puede usar la declaración de retorno para devolver un valor de una función. Las funciones ayudan a que su\n",
    "código más organizado, modular y más fácil de entender."
   ]
  }
 ],
 "metadata": {
  "jupytext": {
   "cell_metadata_filter": "-all",
   "main_language": "python",
   "notebook_metadata_filter": "-all"
  },
  "kernelspec": {
   "display_name": "Python 3",
   "language": "python",
   "name": "python3"
  },
  "language_info": {
   "codemirror_mode": {
    "name": "ipython",
    "version": 3
   },
   "file_extension": ".py",
   "mimetype": "text/x-python",
   "name": "python",
   "nbconvert_exporter": "python",
   "pygments_lexer": "ipython3",
   "version": "3.8.10"
  }
 },
 "nbformat": 4,
 "nbformat_minor": 5
}
