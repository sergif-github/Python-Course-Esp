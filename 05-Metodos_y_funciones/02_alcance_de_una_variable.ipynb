{
 "cells": [
  {
   "attachments": {},
   "cell_type": "markdown",
   "id": "95bacad9",
   "metadata": {},
   "source": [
    "# Módulo 5: Métodos y funciones\n",
    "\n",
    "## Parte 2: Alcance de una variable\n",
    "\n",
    "En Python, el alcance de la variable se refiere a la región o parte del código donde se reconoce una variable y se puede acceder a ella. Comprender el alcance de las variables es importante para determinar la vida útil y la visibilidad de las variables dentro de las funciones.\n",
    "\n",
    "Exploremos el ámbito de las variables y el uso de la palabra clave global en Python.\n",
    "\n",
    "### 2.1. Variables locales\n",
    "\n",
    "Las variables que se definen dentro de una función tienen un alcance local. Las variables locales solo son accesibles dentro de la función donde están definidas. Una vez que se completa la ejecución de la función, las variables locales dejan de existir.\n",
    "\n",
    "Aquí hay un ejemplo:"
   ]
  },
  {
   "cell_type": "code",
   "execution_count": null,
   "id": "572a389c",
   "metadata": {},
   "outputs": [],
   "source": [
    "def mi_funcion():\n",
    "     x = 10\n",
    "     print(x)\n",
    "\n",
    "mi_funcion()"
   ]
  },
  {
   "attachments": {},
   "cell_type": "markdown",
   "id": "dba9b4c6",
   "metadata": {},
   "source": [
    "En este ejemplo, la variable x es una variable local definida dentro de la función mi_function(). Solo se puede acceder dentro del alcance de la función. Cuando se llama a la función, se imprime el valor de x.\n",
    "\n",
    "### 2.2. Variables globales\n",
    "\n",
    "Las variables que se definen fuera de cualquier función tienen un alcance global. Las variables globales son accesibles en todo el programa, incluso dentro de las funciones. Puede usar variables globales para almacenar valores a los que se debe acceder desde varias partes de su código.\n",
    "\n",
    "Aquí hay un ejemplo:"
   ]
  },
  {
   "cell_type": "code",
   "execution_count": null,
   "id": "ec115a87",
   "metadata": {},
   "outputs": [],
   "source": [
    "x = 10\n",
    "\n",
    "def mi_funcion():\n",
    "    print(x)\n",
    "\n",
    "mi_funcion()"
   ]
  },
  {
   "attachments": {},
   "cell_type": "markdown",
   "id": "b95d4940",
   "metadata": {},
   "source": [
    "En este ejemplo, la variable x es una variable global definida fuera de la función mi_function(). Se puede acceder a ella dentro de la función porque tiene un alcance global. Cuando se llama a la función, se imprime el valor de x.\n",
    "\n",
    "### 2.3. La palabra clave global\n",
    "\n",
    "Si desea modificar una variable global dentro de una función, debe usar la palabra clave global para indicar que desea trabajar con la variable global en lugar de crear una nueva variable local.\n",
    "\n",
    "Aquí hay un ejemplo:"
   ]
  },
  {
   "cell_type": "code",
   "execution_count": null,
   "id": "8722c9da",
   "metadata": {},
   "outputs": [],
   "source": [
    "x = 10\n",
    "\n",
    "def modificar_global():\n",
    "    global x\n",
    "    x = 20\n",
    "\n",
    "modificar_global()\n",
    "print(x)"
   ]
  },
  {
   "attachments": {},
   "cell_type": "markdown",
   "id": "4f581eb8",
   "metadata": {},
   "source": [
    "En este ejemplo, la función modificar_global() usa la palabra clave global para indicar que la variable x que se modifica es la variable global, no local. El valor de x se cambia a 20, y cuando se imprime fuera de la función, se muestra el valor modificado.\n",
    "\n",
    "### 2.4. Resumen\n",
    "\n",
    "En esta parte, aprendiste sobre el alcance de las variables y la palabra clave global en Python. Las variables locales se definen dentro de las funciones y tienen un alcance limitado a la función. Las variables globales se definen fuera de las funciones y se puede acceder a ellas a través del programa. Para modificar una variable global dentro de una función, debe usar la palabra clave global. Comprender el alcance de las variables y el uso de variables globales es esencial para escribir código modular y mantenible."
   ]
  }
 ],
 "metadata": {
  "jupytext": {
   "cell_metadata_filter": "-all",
   "main_language": "python",
   "notebook_metadata_filter": "-all"
  },
  "kernelspec": {
   "display_name": "Python 3",
   "language": "python",
   "name": "python3"
  },
  "language_info": {
   "codemirror_mode": {
    "name": "ipython",
    "version": 3
   },
   "file_extension": ".py",
   "mimetype": "text/x-python",
   "name": "python",
   "nbconvert_exporter": "python",
   "pygments_lexer": "ipython3",
   "version": "3.8.10"
  }
 },
 "nbformat": 4,
 "nbformat_minor": 5
}
