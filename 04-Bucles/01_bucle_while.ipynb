{
 "cells": [
  {
   "attachments": {},
   "cell_type": "markdown",
   "id": "b67f37ab",
   "metadata": {},
   "source": [
    "# Módulo 4: Bucles\n",
    "\n",
    "## Parte 1: Bucle while\n",
    "\n",
    "El bucle while en Python le permite ejecutar repetidamente un bloque de código siempre que se cumpla una determinada condición. Se usa cuando desea iterar sobre un bloque de código un número desconocido de veces hasta que se cumpla una condición específica.\n",
    "\n",
    "La condición es una expresión que se evalúa al principio de cada iteración. Si la condición es verdadera, se ejecuta el bloque de código dentro del ciclo while. Después de cada iteración, la condición se verifica nuevamente y, si aún es cierta, el ciclo continúa. Si la condición se vuelve falsa, se sale del ciclo y el programa continúa con la siguiente declaración después del ciclo while.\n",
    "\n",
    "Aquí hay un ejemplo que demuestra el uso de un ciclo while:"
   ]
  },
  {
   "cell_type": "code",
   "execution_count": null,
   "id": "412bff9a",
   "metadata": {},
   "outputs": [],
   "source": [
    "cuenta = 0\n",
    "\n",
    "while cuenta < 5: # Condición\n",
    "     print(\"Cuenta:\", cuenta)\n",
    "     cuenta += 1\n",
    "\n",
    "print(\"Bucle terminado\")"
   ]
  },
  {
   "attachments": {},
   "cell_type": "markdown",
   "id": "6a76704c",
   "metadata": {},
   "source": [
    "En este ejemplo, el ciclo while continúa mientras el valor de cuenta sea menor que 5. Dentro del ciclo, se imprime el valor actual de count y luego se incrementa el recuento en 1 usando el operador +=. Una vez que el valor de cuenta llega a 5, la condición se vuelve falsa y se sale del ciclo. A continuación, se imprime el mensaje \"Bucle terminado\".\n",
    "\n",
    "Es importante asegurarse de que la condición dentro del ciclo while eventualmente se vuelva falsa; de lo contrario, puede terminar con un bucle infinito, lo que puede hacer que su programa se cuelgue o consuma recursos excesivos. Para evitar esto, asegúrese de que la condición se actualice correctamente dentro del ciclo para que finalmente se cumpla la condición de terminación.\n",
    "\n",
    "### Resumen\n",
    "\n",
    "En esta parte, aprendiste sobre el ciclo while en Python. El bucle while le permite ejecutar repetidamente un bloque de código siempre que se cumpla una determinada condición. Se usa cuando desea iterar sobre un bloque de código un número desconocido de veces hasta que se cumpla una condición específica. Asegúrese de que la condición eventualmente se vuelva falsa para evitar bucles infinitos."
   ]
  }
 ],
 "metadata": {
  "jupytext": {
   "cell_metadata_filter": "-all",
   "main_language": "python",
   "notebook_metadata_filter": "-all"
  },
  "kernelspec": {
   "display_name": "Python 3",
   "language": "python",
   "name": "python3"
  },
  "language_info": {
   "codemirror_mode": {
    "name": "ipython",
    "version": 3
   },
   "file_extension": ".py",
   "mimetype": "text/x-python",
   "name": "python",
   "nbconvert_exporter": "python",
   "pygments_lexer": "ipython3",
   "version": "3.8.10"
  }
 },
 "nbformat": 4,
 "nbformat_minor": 5
}
