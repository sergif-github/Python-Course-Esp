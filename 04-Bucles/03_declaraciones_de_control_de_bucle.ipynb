{
 "cells": [
  {
   "attachments": {},
   "cell_type": "markdown",
   "id": "b49d31ce",
   "metadata": {},
   "source": [
    "# Módulo 4: Bucles\n",
    "\n",
    "## Parte 3: Declaraciones de control de bucle (break, continue)\n",
    "\n",
    "En Python, puede usar sentencias de control de bucles para alterar el flujo normal de ejecución dentro de los bucles. Dos declaraciones de control de bucle de uso común son break y continue.\n",
    "\n",
    "### 3.1. Declaración break\n",
    "\n",
    "La instrucción break se utiliza para salir del bucle antes de tiempo cuando se cumple una determinada condición. Cuando se encuentra la sentencia break dentro de un bucle, el bucle se termina inmediatamente y la ejecución del programa continúa con la siguiente sentencia después del bucle.\n",
    "\n",
    "Aquí hay un ejemplo:"
   ]
  },
  {
   "cell_type": "code",
   "execution_count": null,
   "id": "14c89708",
   "metadata": {},
   "outputs": [],
   "source": [
    "numeros = [1, 2, 3, 4, 5]\n",
    " \n",
    "for numero in numeros:\n",
    "    if numero == 3:\n",
    "        break\n",
    "    print(numero)\n",
    "\n",
    "print(\"Bucle terminado\")"
   ]
  },
  {
   "attachments": {},
   "cell_type": "markdown",
   "id": "8065afae",
   "metadata": {},
   "source": [
    "En este ejemplo, la sentencia break se usa para salir del bucle cuando el valor de num es igual a 3. Tan pronto como se cumple la condición, el bucle finaliza y la ejecución del programa continúa con la sentencia después del bucle. En este caso, solo se imprimirán los números 1 y 2 antes de salir del bucle.\n",
    "\n",
    "### 3.2. Continuar declaración\n",
    "La declaración de continuación se usa para omitir la iteración actual de un bucle y continuar con la siguiente iteración. Cuando se encuentra la instrucción continuar dentro de un ciclo, el código restante en el ciclo para la iteración actual se omite y el ciclo continúa con la siguiente iteración.\n",
    "\n",
    "Aquí hay un ejemplo:"
   ]
  },
  {
   "cell_type": "code",
   "execution_count": null,
   "id": "5c54df1c",
   "metadata": {},
   "outputs": [],
   "source": [
    "numeros = [1, 2, 3, 4, 5]\n",
    "\n",
    "for num in numeros:\n",
    "    if numero == 3:\n",
    "        continue\n",
    "    print(num)\n",
    "\n",
    "print(\"Bucle terminado\")"
   ]
  },
  {
   "attachments": {},
   "cell_type": "markdown",
   "id": "fed0e6b7",
   "metadata": {},
   "source": [
    "En este ejemplo, la declaración de continuar se usa para omitir la iteración cuando el valor de num es igual a 3. Cuando se cumple la condición, se omite la declaración de impresión y el ciclo continúa con la siguiente iteración. Como resultado, se imprimirán todos los números excepto el 3.\n",
    "\n",
    "### 3.3. Resumen\n",
    "\n",
    "En esta parte, aprendió acerca de las declaraciones de control de bucle break y continue. La declaración de interrupción le permite salir del ciclo prematuramente cuando se cumple una determinada condición, mientras que la declaración de continuar le permite omitir la iteración actual y continuar con la siguiente iteración. Utilice estas declaraciones con prudencia para controlar el flujo de sus bucles en función de condiciones específicas."
   ]
  }
 ],
 "metadata": {
  "jupytext": {
   "cell_metadata_filter": "-all",
   "main_language": "python",
   "notebook_metadata_filter": "-all"
  },
  "kernelspec": {
   "display_name": "Python 3",
   "language": "python",
   "name": "python3"
  },
  "language_info": {
   "codemirror_mode": {
    "name": "ipython",
    "version": 3
   },
   "file_extension": ".py",
   "mimetype": "text/x-python",
   "name": "python",
   "nbconvert_exporter": "python",
   "pygments_lexer": "ipython3",
   "version": "3.8.10"
  }
 },
 "nbformat": 4,
 "nbformat_minor": 5
}
