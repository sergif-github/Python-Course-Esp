{
 "cells": [
  {
   "attachments": {},
   "cell_type": "markdown",
   "id": "56a2d278",
   "metadata": {},
   "source": [
    "# Módulo 4: Bucles\n",
    "\n",
    "## Parte 2: Bucle For\n",
    "\n",
    "El bucle for en Python se usa para iterar sobre una secuencia o un objeto iterable, como una lista, una tupla, una cadena o un rango. Le permite ejecutar un bloque de código para cada elemento de la secuencia.\n",
    "\n",
    "Aquí hay un ejemplo que demuestra el uso de un bucle for:"
   ]
  },
  {
   "cell_type": "code",
   "execution_count": null,
   "id": "cf38e1ff",
   "metadata": {},
   "outputs": [],
   "source": [
    "frutas = [\"manzana\", \"plátano\", \"cereza\"]\n",
    "\n",
    "for fruta in frutas:\n",
    "    print(fruta)\n",
    "\n",
    "print(\"Bucle terminado\")"
   ]
  },
  {
   "attachments": {},
   "cell_type": "markdown",
   "id": "e5ee3774",
   "metadata": {},
   "source": [
    "En este ejemplo, el bucle for itera sobre cada elemento de la lista de frutas. Para cada iteración, el valor de la fruta actual se asigna a la variable de la fruta y luego la declaración de impresión imprime el nombre de la fruta. Después de iterar sobre todos los elementos de la lista, se imprime el mensaje \"Bucle terminado\".\n",
    "\n",
    "La función range() se usa comúnmente junto con bucles for para generar una secuencia de números. Aquí hay un ejemplo:"
   ]
  },
  {
   "cell_type": "code",
   "execution_count": null,
   "id": "a8cb0818",
   "metadata": {},
   "outputs": [],
   "source": [
    "for i in range(5):\n",
    "    print(i)\n",
    "\n",
    "print(\"Bucle terminado\")"
   ]
  },
  {
   "attachments": {},
   "cell_type": "markdown",
   "id": "687b6a7b",
   "metadata": {},
   "source": [
    "En este ejemplo, la función range(5) genera una secuencia de números del 0 al 4. El bucle for itera sobre cada número de la secuencia y la instrucción print imprime el valor de i. Después de imprimir todos los números, se imprime el mensaje \"Bucle terminado\".\n",
    "\n",
    "### Resumen\n",
    "\n",
    "En esta parte, aprendiste sobre el ciclo for en Python. El ciclo for le permite iterar sobre una secuencia u objeto iterable y ejecutar un bloque de código para cada elemento de la secuencia. Use la variable de elemento para acceder al valor de cada elemento en el ciclo. La función range() se usa a menudo para generar una secuencia de números para la iteración."
   ]
  }
 ],
 "metadata": {
  "jupytext": {
   "cell_metadata_filter": "-all",
   "main_language": "python",
   "notebook_metadata_filter": "-all"
  },
  "kernelspec": {
   "display_name": "Python 3",
   "language": "python",
   "name": "python3"
  },
  "language_info": {
   "codemirror_mode": {
    "name": "ipython",
    "version": 3
   },
   "file_extension": ".py",
   "mimetype": "text/x-python",
   "name": "python",
   "nbconvert_exporter": "python",
   "pygments_lexer": "ipython3",
   "version": "3.8.10"
  }
 },
 "nbformat": 4,
 "nbformat_minor": 5
}
