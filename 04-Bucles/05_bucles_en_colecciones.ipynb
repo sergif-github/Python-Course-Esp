{
 "cells": [
  {
   "attachments": {},
   "cell_type": "markdown",
   "id": "85c7e007",
   "metadata": {},
   "source": [
    "# Módulo 4: Bucles\n",
    "\n",
    "## Parte 5: Bucles en colecciones\n",
    "\n",
    "En Python, puede usar bucles para iterar a través de colecciones como listas, tuplas, cadenas y diccionarios. Esto le permite acceder y procesar cada elemento o par clave-valor dentro de la colección.\n",
    "\n",
    "Exploremos cómo recorrer diferentes tipos de colecciones:\n",
    "\n",
    "### 5.1. Recorriendo listas y tuplas\n",
    "\n",
    "Para recorrer una lista o una tupla, puede usar el bucle for junto con el nombre de la colección.\n",
    "\n",
    "Aquí hay un ejemplo:"
   ]
  },
  {
   "cell_type": "code",
   "execution_count": null,
   "id": "d19abf53",
   "metadata": {},
   "outputs": [],
   "source": [
    "frutas = [\"manzana\", \"plátano\", \"cereza\"]\n",
    "\n",
    "for fruta in frutas:\n",
    "     print(fruta)\n",
    "\n",
    "print(\"Bucle terminado\")"
   ]
  },
  {
   "attachments": {},
   "cell_type": "markdown",
   "id": "d9f5b52c",
   "metadata": {},
   "source": [
    "En este ejemplo, el bucle for itera sobre cada elemento de la lista de frutas. La variable fruto toma el valor de cada elemento a su vez,\n",
    "y print() muestra el valor. Después de iterar sobre todos los elementos, se imprime el mensaje \"Bucle terminado\".\n",
    "\n",
    "### 5.2. Bucle a través de cadenas\n",
    "\n",
    "Las cadenas en Python son iterables, por lo que también puede recorrer cada carácter en una cadena usando un bucle for.\n",
    "\n",
    "Aquí hay un ejemplo:"
   ]
  },
  {
   "cell_type": "code",
   "execution_count": null,
   "id": "fbecd130",
   "metadata": {},
   "outputs": [],
   "source": [
    "mensaje = \"¡Hola, mundo!\"\n",
    "\n",
    "for char in mensaje:\n",
    "     print(char)\n",
    "\n",
    "print(\"Bucle terminado\")"
   ]
  },
  {
   "attachments": {},
   "cell_type": "markdown",
   "id": "d689c05f",
   "metadata": {},
   "source": [
    "En este ejemplo, el ciclo for itera sobre cada carácter en la cadena del mensaje. La variable char toma el valor de cada carácter a su vez,\n",
    "y print() muestra el carácter. Después de iterar sobre todos los caracteres, se imprime el mensaje \"Bucle terminado\".\n",
    "\n",
    "### 5.3. Recorriendo diccionarios\n",
    "\n",
    "Al recorrer los diccionarios, puede acceder tanto a las claves como a los valores correspondientes utilizando varios métodos.\n",
    "\n",
    "#### Bucles con .items()\n",
    "\n",
    "La función .items() devuelve un objeto de vista que contiene los pares clave-valor del diccionario. Le permite iterar sobre las claves y los valores simultáneamente.\n",
    "\n",
    "Aquí hay un ejemplo:"
   ]
  },
  {
   "cell_type": "code",
   "execution_count": null,
   "id": "bbef53e5",
   "metadata": {},
   "outputs": [],
   "source": [
    "persona = {\"nombre\": \"Juan\", \"edad\": 25, \"país\": \"EE.UU.\"}\n",
    "\n",
    "for clave, valor in persona.items():\n",
    "     print (clave, \":\", valor)"
   ]
  },
  {
   "attachments": {},
   "cell_type": "markdown",
   "id": "3c7b41d8",
   "metadata": {},
   "source": [
    "En este ejemplo, el diccionario de personas contiene información sobre una persona. Al usar la función .items(), podemos iterar sobre los pares clave-valor e printlos.\n",
    "\n",
    "#### Bucles con .keys()\n",
    "\n",
    "La función .keys() devuelve un objeto de vista que contiene las claves del diccionario. Le permite iterar solo sobre las claves.\n",
    "\n",
    "Aquí hay un ejemplo:"
   ]
  },
  {
   "cell_type": "code",
   "execution_count": null,
   "id": "1cea92b5",
   "metadata": {},
   "outputs": [],
   "source": [
    "persona = {\"nombre\": \"Juan\", \"edad\": 25, \"país\": \"EE.UU.\"}\n",
    "\n",
    "for valor in persona.keys():\n",
    "     print (valor)"
   ]
  },
  {
   "attachments": {},
   "cell_type": "markdown",
   "id": "39ab0359",
   "metadata": {},
   "source": [
    "En este ejemplo, usamos la función .keys() para iterar sobre las claves del diccionario de persona.\n",
    "\n",
    "#### Bucles con .values()\n",
    "\n",
    "La función .values() devuelve un objeto de vista que contiene los valores del diccionario. Le permite iterar solo sobre los valores.\n",
    "\n",
    "Aquí hay un ejemplo:"
   ]
  },
  {
   "cell_type": "code",
   "execution_count": null,
   "id": "ad3c833d",
   "metadata": {},
   "outputs": [],
   "source": [
    "persona = {\"nombre\": \"Juan\", \"edad\": 25, \"país\": \"EE.UU.\"}\n",
    "\n",
    "for valor in persona.values():\n",
    "     print (valor)"
   ]
  },
  {
   "attachments": {},
   "cell_type": "markdown",
   "id": "46d57356",
   "metadata": {},
   "source": [
    "En este ejemplo, usamos la función .values() para iterar sobre los valores del diccionario de personas.\n",
    "\n",
    "Estos métodos proporcionan flexibilidad al trabajar con diccionarios. Puede elegir el método adecuado en función de sus necesidades específicas. Ya sea que desee iterar sobre los pares clave-valor, solo claves o solo valores, estas funciones facilitan recorrer los diccionarios y acceder a su contenido.\n",
    "\n",
    "### 5.4. Resumen\n",
    "\n",
    "En esta parte, aprendió a recorrer diferentes tipos de colecciones en Python. Use el ciclo for para iterar sobre listas, tuplas, cadenas, y diccionarios. Personalice el bucle en función de los requisitos específicos de su programa y acceda a los elementos o pares clave-valor dentro de la colección según sea necesario."
   ]
  }
 ],
 "metadata": {
  "jupytext": {
   "cell_metadata_filter": "-all",
   "main_language": "python",
   "notebook_metadata_filter": "-all"
  },
  "kernelspec": {
   "display_name": "Python 3",
   "language": "python",
   "name": "python3"
  },
  "language_info": {
   "codemirror_mode": {
    "name": "ipython",
    "version": 3
   },
   "file_extension": ".py",
   "mimetype": "text/x-python",
   "name": "python",
   "nbconvert_exporter": "python",
   "pygments_lexer": "ipython3",
   "version": "3.8.10"
  }
 },
 "nbformat": 4,
 "nbformat_minor": 5
}
