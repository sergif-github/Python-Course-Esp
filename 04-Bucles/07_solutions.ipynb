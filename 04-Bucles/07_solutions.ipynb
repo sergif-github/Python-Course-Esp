{
 "cells": [
  {
   "attachments": {},
   "cell_type": "markdown",
   "metadata": {},
   "source": [
    "# Módulo 4: Bucles\n",
    "\n",
    "## Parte 7: Soluciones\n",
    "\n",
    "### Ejercicio 1\n",
    "Escriba un programa que solicite al usuario que ingrese un número y luego imprima todos los números desde el 1 hasta ese número usando un ciclo while."
   ]
  },
  {
   "cell_type": "code",
   "execution_count": null,
   "metadata": {},
   "outputs": [],
   "source": [
    "numero = int(input(\"Ingrese un numero: \"))\n",
    "cuenta = 1\n",
    "\n",
    "while cuenta <= numero:\n",
    "      print(cuenta)\n",
    "      cuenta += 1"
   ]
  },
  {
   "attachments": {},
   "cell_type": "markdown",
   "metadata": {},
   "source": [
    "### Ejercicio 2\n",
    "Escriba un programa que solicite al usuario que ingrese una cadena y luego imprima cada carácter de la cadena en una nueva línea usando un bucle for."
   ]
  },
  {
   "cell_type": "code",
   "execution_count": null,
   "metadata": {},
   "outputs": [],
   "source": [
    "cadena = input(\"Ingrese una cadena:\")\n",
    "\n",
    "for char in cadena:\n",
    "      print(char)"
   ]
  },
  {
   "attachments": {},
   "cell_type": "markdown",
   "metadata": {},
   "source": [
    "### Ejercicio 3\n",
    "Escriba un programa que solicite al usuario que ingrese una serie de números. El programa debe iterar sobre los números e imprimir \"Encontrado\" si encuentra el número 5. Si se ingresa el número 0, el programa debe salir del bucle."
   ]
  },
  {
   "cell_type": "code",
   "execution_count": null,
   "metadata": {},
   "outputs": [],
   "source": [
    "while(True):\n",
    "    num = int(input(\"Ingrese un numero (0 para salir): \"))\n",
    "    if numero == 0:\n",
    "        break\n",
    "    if numero == 5:\n",
    "        print(\"Encontrado\")"
   ]
  },
  {
   "attachments": {},
   "cell_type": "markdown",
   "metadata": {},
   "source": [
    "### Ejercicio 4\n",
    "Escriba un programa que imprima un patrón de asteriscos (*) en forma de triángulo. El número de filas en el triángulo debe ser determinado por la entrada del usuario. Use print(\"string\", end=\"\") para imprimir sin una nueva línea."
   ]
  },
  {
   "cell_type": "code",
   "execution_count": null,
   "metadata": {},
   "outputs": [],
   "source": [
    "filas = int(input(\"Ingrese el numero de filas: \"))\n",
    "\n",
    "for i in range(filas):\n",
    "    for j in range(i+1):\n",
    "        print(\"*\", end=\"\")\n",
    "    print()"
   ]
  },
  {
   "attachments": {},
   "cell_type": "markdown",
   "metadata": {},
   "source": [
    "### Ejercicio 5\n",
    "Escriba un programa que almacene una lista de diccionarios, donde cada diccionario represente a una persona con atributos como nombre, edad y país. Recorra la lista e imprima los detalles de cada persona."
   ]
  },
  {
   "cell_type": "code",
   "execution_count": null,
   "metadata": {},
   "outputs": [],
   "source": [
    "personas = [\n",
    "      {\"nombre\": \"Juan\", \"edad\": 25, \"pais\": \"EE.UU.\"},\n",
    "      {\"nombre\": \"Alice\", \"edad\": 30, \"pais\": \"Canadá\"},\n",
    "      {\"nombre\": \"Bob\", \"edad\": 28, \"pais\": \"Reino Unido\"}\n",
    "]\n",
    "\n",
    "for persona in personas:\n",
    "      print(\"Nombre:\", persona[\"nombre\"])\n",
    "      print(\"Edad:\", persona[\"edad\"])\n",
    "      print(\"País:\", persona[\"pais\"])\n",
    "      print()"
   ]
  },
  {
   "attachments": {},
   "cell_type": "markdown",
   "metadata": {},
   "source": [
    "### Ejercicio 6\n",
    "Escriba un programa que almacene una lista anidada de números. Recorra la lista y calcule la suma de todos los números."
   ]
  },
  {
   "cell_type": "code",
   "execution_count": null,
   "metadata": {},
   "outputs": [],
   "source": [
    "numeros = [[1, 2, 3], [4, 5, 6], [7, 8, 9]]\n",
    "total = 0\n",
    "\n",
    "for numero_sublista in numeros:\n",
    "    for num in numero_sublista:\n",
    "        total += num\n",
    "\n",
    "print(\"Suma:\", total)"
   ]
  },
  {
   "attachments": {},
   "cell_type": "markdown",
   "metadata": {},
   "source": [
    "### Ejercicio 7\n",
    "Escriba un programa que solicite al usuario que ingrese una cadena y cuente el número de ocurrencias de un carácter específico en la cadena mediante un ciclo."
   ]
  },
  {
   "cell_type": "code",
   "execution_count": null,
   "metadata": {},
   "outputs": [],
   "source": [
    "cadena = input(\"Ingrese una cadena:\")\n",
    "caracter = input(\"Ingresa un caracter: \")\n",
    "occurencias = 0\n",
    "\n",
    "for c in cadena:\n",
    "        if c == caracter:\n",
    "            occurencias += 1\n",
    "\n",
    "print(\"Occurencias:\", occurencias)"
   ]
  },
  {
   "attachments": {},
   "cell_type": "markdown",
   "metadata": {},
   "source": [
    "### Ejercicio 8\n",
    "Escriba un programa que solicite al usuario que ingrese una cadena. Recorra la cadena e imprima cada carácter, pero omita la letra 'e' usando la instrucción continue."
   ]
  },
  {
   "cell_type": "code",
   "execution_count": null,
   "metadata": {},
   "outputs": [],
   "source": [
    "cadena = input(\"Ingrese una cadena:\")\n",
    "\n",
    "for char in cadena:\n",
    "        if char == 'e':\n",
    "            continue\n",
    "        print(char)"
   ]
  },
  {
   "attachments": {},
   "cell_type": "markdown",
   "metadata": {},
   "source": [
    "### Ejercicio 9\n",
    "Escriba un programa que almacene un diccionario de artículos con sus precios correspondientes. Recorra el diccionario e imprima los artículos que tienen un precio superior a cierto umbral."
   ]
  },
  {
   "cell_type": "code",
   "execution_count": null,
   "metadata": {},
   "outputs": [],
   "source": [
    "elementos = {\"manzana\": 0.99, \"plátano\": 0.5, \"naranja\": 0.75}\n",
    "umbral = 0.7\n",
    "\n",
    "for articulo, precio in elementos.items():\n",
    "        if precio > umbral:\n",
    "            print(articulo, \":\", precio)"
   ]
  },
  {
   "attachments": {},
   "cell_type": "markdown",
   "metadata": {},
   "source": [
    "### Ejercicio 10\n",
    "Escriba un programa que demuestre el bucle a través de diferentes tipos de datos:\n",
    "\n",
    "Recorra una lista e imprima cada elemento.\n",
    "Recorra una cadena e imprima cada carácter.\n",
    "Recorra un diccionario e imprima cada par de clave y valor usando los métodos .keys(), .values() y .items()."
   ]
  },
  {
   "cell_type": "code",
   "execution_count": null,
   "metadata": {},
   "outputs": [],
   "source": [
    "# Registrar una lista\n",
    "numeros = [1, 2, 3, 4, 5]\n",
    "for num in numeros:\n",
    "      print(num)\n",
    "\n",
    "#Bucle a través de una cadena\n",
    "cadena = \"Hola\"\n",
    "for char in cadena:\n",
    "      print(char)\n",
    "\n",
    "# Bucle a través de un diccionario\n",
    "persona = {\"nombre\": \"Juan\", \"edad\": 25, \"país\": \"EE.UU.\"}\n",
    "for clave in persona.keys():\n",
    "      print(clave)\n",
    "\n",
    "for valor in persona.values():\n",
    "      print(valor)\n",
    "\n",
    "for clave, valor in persona.items():\n",
    "      print(clave, valor)"
   ]
  }
 ],
 "metadata": {
  "kernelspec": {
   "display_name": "Python 3",
   "language": "python",
   "name": "python3"
  },
  "language_info": {
   "codemirror_mode": {
    "name": "ipython",
    "version": 3
   },
   "file_extension": ".py",
   "mimetype": "text/x-python",
   "name": "python",
   "nbconvert_exporter": "python",
   "pygments_lexer": "ipython3",
   "version": "3.8.10"
  },
  "orig_nbformat": 4
 },
 "nbformat": 4,
 "nbformat_minor": 2
}
