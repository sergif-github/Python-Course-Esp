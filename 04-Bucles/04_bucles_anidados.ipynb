{
 "cells": [
  {
   "attachments": {},
   "cell_type": "markdown",
   "id": "9b89447f",
   "metadata": {},
   "source": [
    "# Módulo 4: Bucles\n",
    "\n",
    "## Parte 4: Bucles anidados\n",
    "\n",
    "En Python, puede anidar bucles entre sí para crear bucles anidados. Un bucle anidado es un bucle que se coloca dentro de otro bucle.\n",
    "Esto le permite iterar sobre múltiples niveles de estructuras de datos o realizar tareas repetitivas complejas.\n",
    "\n",
    "Aquí hay un ejemplo de un bucle anidado:"
   ]
  },
  {
   "cell_type": "code",
   "execution_count": null,
   "id": "47cc5176",
   "metadata": {},
   "outputs": [],
   "source": [
    "frutas = [\"manzana\", \"plátano\", \"cereza\"]\n",
    "colores = [\"rojo\", \"amarillo\", \"azul\"]\n",
    "\n",
    "for fruta in frutas:\n",
    "    for color in colores:\n",
    "        print(fruta, color)\n",
    "\n",
    "print(\"Bucles anidados terminados\")"
   ]
  },
  {
   "attachments": {},
   "cell_type": "markdown",
   "id": "ef3e427b",
   "metadata": {},
   "source": [
    "En este ejemplo, tenemos dos listas: frutas y colores. El bucle for externo itera sobre cada fruta, y para cada fruta, el bucle interno\n",
    "for loop itera sobre cada color. La declaración de impresión dentro de los bucles anidados mostrará la combinación de cada fruta y color.\n",
    "\n",
    "Los bucles anidados se pueden anidar en cualquier nivel según sus requisitos. Sin embargo, es importante tener en cuenta las implicaciones de rendimiento\n",
    "de bucles profundamente anidados, ya que pueden dar lugar a un gran número de iteraciones.\n",
    "\n",
    "### Resumen\n",
    "\n",
    "En esta parte, aprendió sobre los bucles anidados en Python. Los bucles anidados le permiten iterar sobre múltiples niveles de estructuras de datos\n",
    "o realizar tareas repetitivas complejas. Tenga cuidado con los bucles profundamente anidados para evitar posibles problemas de rendimiento."
   ]
  }
 ],
 "metadata": {
  "jupytext": {
   "cell_metadata_filter": "-all",
   "main_language": "python",
   "notebook_metadata_filter": "-all"
  },
  "kernelspec": {
   "display_name": "Python 3",
   "language": "python",
   "name": "python3"
  },
  "language_info": {
   "codemirror_mode": {
    "name": "ipython",
    "version": 3
   },
   "file_extension": ".py",
   "mimetype": "text/x-python",
   "name": "python",
   "nbconvert_exporter": "python",
   "pygments_lexer": "ipython3",
   "version": "3.8.10"
  }
 },
 "nbformat": 4,
 "nbformat_minor": 5
}
