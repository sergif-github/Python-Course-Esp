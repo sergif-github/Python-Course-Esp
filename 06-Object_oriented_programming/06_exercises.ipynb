{
 "cells": [
  {
   "attachments": {},
   "cell_type": "markdown",
   "metadata": {},
   "source": [
    "# Module 6: Object oriented programming\n",
    "\n",
    "## Part 6: Exercises\n",
    "\n",
    "### Exercise 1\n",
    "\n",
    "Create a shape hierarchy consisting of a base class called Shape and two child classes called Rectangle and Circle. The Shape class should have an abstract method calculate_area() which should be overridden by the child classes. The Rectangle class should have attributes for length and width, while the Circle class should have an attribute for radius. Implement the necessary methods and demonstrate polymorphism by calculating the areas of a rectangle and a circle."
   ]
  },
  {
   "cell_type": "code",
   "execution_count": 1,
   "metadata": {},
   "outputs": [
    {
     "name": "stdout",
     "output_type": "stream",
     "text": [
      "20\n",
      "28.26\n"
     ]
    }
   ],
   "source": []
  },
  {
   "attachments": {},
   "cell_type": "markdown",
   "metadata": {},
   "source": [
    "### Exercise 2\n",
    "\n",
    "Create an animal hierarchy consisting of a base class called Animal and two child classes called Dog and Cat. The Animal class should have an abstract method make_sound() which should be overridden by the child classes. Implement the necessary methods and demonstrate polymorphism by making different animals (a dog and a cat) make their respective sounds."
   ]
  },
  {
   "cell_type": "code",
   "execution_count": 2,
   "metadata": {},
   "outputs": [
    {
     "name": "stdout",
     "output_type": "stream",
     "text": [
      "Dog barks!\n",
      "Cat meows!\n"
     ]
    }
   ],
   "source": []
  },
  {
   "attachments": {},
   "cell_type": "markdown",
   "metadata": {},
   "source": [
    "### Exercise 3\n",
    "\n",
    "Create an employee hierarchy consisting of a base class called Employee and two child classes called Manager and Developer. The Employee class should have attributes for name and salary, as well as methods for getting and setting the salary. The Manager class should have an additional attribute for department, while the Developer class should have an additional attribute for programming language. Implement the necessary methods and demonstrate polymorphism, inheritance and encapsulation by creating instances of a manager and a developer and accessing their attributes and methods."
   ]
  },
  {
   "cell_type": "code",
   "execution_count": 3,
   "metadata": {},
   "outputs": [
    {
     "name": "stdout",
     "output_type": "stream",
     "text": [
      "Name: John\n",
      "Salary: 5000\n",
      "Department: IT\n",
      "Name: Alice\n",
      "Salary: 4000\n",
      "Programming Language: Python\n"
     ]
    }
   ],
   "source": []
  }
 ],
 "metadata": {
  "kernelspec": {
   "display_name": "Python 3",
   "language": "python",
   "name": "python3"
  },
  "language_info": {
   "codemirror_mode": {
    "name": "ipython",
    "version": 3
   },
   "file_extension": ".py",
   "mimetype": "text/x-python",
   "name": "python",
   "nbconvert_exporter": "python",
   "pygments_lexer": "ipython3",
   "version": "3.8.10"
  },
  "orig_nbformat": 4
 },
 "nbformat": 4,
 "nbformat_minor": 2
}
