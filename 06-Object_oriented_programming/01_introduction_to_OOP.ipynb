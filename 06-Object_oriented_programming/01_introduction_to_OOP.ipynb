{
 "cells": [
  {
   "attachments": {},
   "cell_type": "markdown",
   "id": "4d612bb8",
   "metadata": {},
   "source": [
    "# Module 6: Object oriented programming\n",
    "\n",
    "## Part 1: Introduction to OOP\n",
    "\n",
    "### 1.1. What is object oriented programming (OOP)?\n",
    "\n",
    "Object-Oriented Programming (OOP) is a programming paradigm that revolves around the concept of objects. An object is an instance of a class, which encapsulates data (attributes) and behaviors (methods) into a single entity. OOP provides a way to structure and organize code by modeling real-world entities or abstract concepts as objects.\n",
    "\n",
    "### 1.2. Understanding objects, classes, and instances\n",
    "\n",
    "In OOP, an object is an instance of a class. A class defines the blueprint or template for creating objects. It specifies the attributes (data) and behaviors (methods) that objects of that class will possess.\n",
    "\n",
    "Here's an example of a simple class in Python:"
   ]
  },
  {
   "cell_type": "code",
   "execution_count": 1,
   "id": "35df952e",
   "metadata": {},
   "outputs": [
    {
     "name": "stdout",
     "output_type": "stream",
     "text": [
      "Honda\n",
      "Civic\n",
      "2022\n",
      "The car engine is starting.\n"
     ]
    }
   ],
   "source": [
    "class Car:\n",
    "    def __init__(self, make, model, year):\n",
    "        self.make = make\n",
    "        self.model = model\n",
    "        self.year = year\n",
    "        \n",
    "    def start_engine(self):\n",
    "        print(\"The car engine is starting.\")\n",
    "\n",
    "# Creating an instance of the Car class\n",
    "my_car = Car(\"Honda\", \"Civic\", 2022)\n",
    "\n",
    "# Accessing attributes and calling methods\n",
    "print(my_car.make)  # Output: Honda\n",
    "print(my_car.model)  # Output: Civic\n",
    "print(my_car.year)  # Output: 2022\n",
    "my_car.start_engine()  # Output: The car engine is starting."
   ]
  },
  {
   "attachments": {},
   "cell_type": "markdown",
   "id": "967c2782",
   "metadata": {},
   "source": [
    "\n",
    "In this example, Car is the class, and my_car is an instance of the Car class. The __init__ method is a special method called a constructor, used to initialize the object's attributes. The start_engine method is a behavior associated with the Car class.\n",
    "\n",
    "### 1.3. Key concepts: encapsulation, inheritance, and polymorphism\n",
    "\n",
    "OOP revolves around three key concepts:\n",
    "\n",
    "- Encapsulation\n",
    "\n",
    "    Encapsulation is the practice of bundling data and related behaviors together within a class. It allows for information hiding, ensuring that the internal state of an object is not directly accessible from outside, promoting data integrity and security.\n",
    "- Inheritance\n",
    "\n",
    "    Inheritance is a mechanism that allows creating new classes (derived classes) based on existing classes (base or parent classes). Derived classes inherit the attributes and methods of their parent classes, enabling code reuse and establishing a hierarchical relationship between classes.\n",
    "- Polymorphism\n",
    "\n",
    "    Polymorphism allows objects of different classes to be treated as instances of a common base class. It enables the same method to behave differently based on the specific object it is called on. Polymorphism promotes code flexibility, extensibility, and modularity.\n",
    "\n",
    "### 1.4. Summary\n",
    "\n",
    "OOP is widely used in software development due to its benefits in code organization, modularity, and maintainability. It allows developers to tackle complex problems by breaking them down into smaller, manageable units (objects). OOP promotes code reuse, reduces code duplication, and provides a clear structure for collaboration among team members.\n",
    "\n",
    "Understanding OOP is essential for software development, as it provides a way to tackle complex problems, promotes code reuse and modularity, and enhances collaboration among developers. OOP serves as the foundation for many programming languages and frameworks, making it a vital skill for developers."
   ]
  }
 ],
 "metadata": {
  "jupytext": {
   "cell_metadata_filter": "-all",
   "main_language": "python",
   "notebook_metadata_filter": "-all"
  },
  "kernelspec": {
   "display_name": "Python 3",
   "language": "python",
   "name": "python3"
  },
  "language_info": {
   "codemirror_mode": {
    "name": "ipython",
    "version": 3
   },
   "file_extension": ".py",
   "mimetype": "text/x-python",
   "name": "python",
   "nbconvert_exporter": "python",
   "pygments_lexer": "ipython3",
   "version": "3.8.10"
  }
 },
 "nbformat": 4,
 "nbformat_minor": 5
}
