{
 "cells": [
  {
   "attachments": {},
   "cell_type": "markdown",
   "metadata": {},
   "source": [
    "# Módulo 6: Programación orientada a objetos\n",
    "\n",
    "## Parte 6: Ejercicios\n",
    "\n",
    "### Ejercicio 1\n",
    "Cree una jerarquía de formas que consista en una class base denominada Forma y dos classs secundarias denominadas Rectángulo y Círculo. La class Forma debe tener un método abstracto de calcular_área () que debe ser anulado por las classs secundarias. La class Rectángulo debe tener atributos para largo y ancho, mientras que la class Círculo debe tener un atributo para radio. Implemente los métodos necesarios y demuestre el polimorfismo calculando las áreas de un rectángulo y un círculo."
   ]
  },
  {
   "cell_type": "code",
   "execution_count": null,
   "metadata": {},
   "outputs": [],
   "source": []
  },
  {
   "attachments": {},
   "cell_type": "markdown",
   "metadata": {},
   "source": [
    "### Ejercicio 2\n",
    "Cree una jerarquía de animales que consista en una class base llamada Animal y dos classs secundarias llamadas Perro y Gato. La class Animal debe tener un método abstracto hacer_sonido() que debe ser anulado por las classs secundarias. Implementa los métodos necesarios y demuestra el polimorfismo haciendo que diferentes animales (un perro y un gato) emitan sus respectivos sonidos."
   ]
  },
  {
   "cell_type": "code",
   "execution_count": null,
   "metadata": {},
   "outputs": [],
   "source": []
  },
  {
   "attachments": {},
   "cell_type": "markdown",
   "metadata": {},
   "source": [
    "### Ejercicio 3\n",
    "Cree una jerarquía de empleados que consista en una class base denominada Empleado y dos classs secundarias denominadas Administrador y Desarrollador. La class Empleado debe tener atributos para nombre y salario, así como métodos para obtener y establecer el salario. La class Gerente debe tener un atributo adicional para el departamento, mientras que la class Desarrollador debe tener un atributo adicional para el lenguaje de programación. Implemente los métodos necesarios y demuestre polimorfismo, herencia y encapsulación creando instancias de un administrador y un desarrollador y accediendo a sus atributos y métodos."
   ]
  },
  {
   "cell_type": "code",
   "execution_count": null,
   "metadata": {},
   "outputs": [],
   "source": []
  }
 ],
 "metadata": {
  "kernelspec": {
   "display_name": "Python 3",
   "language": "python",
   "name": "python3"
  },
  "language_info": {
   "codemirror_mode": {
    "name": "ipython",
    "version": 3
   },
   "file_extension": ".py",
   "mimetype": "text/x-python",
   "name": "python",
   "nbconvert_exporter": "python",
   "pygments_lexer": "ipython3",
   "version": "3.8.10"
  },
  "orig_nbformat": 4
 },
 "nbformat": 4,
 "nbformat_minor": 2
}
