{
 "cells": [
  {
   "attachments": {},
   "cell_type": "markdown",
   "metadata": {},
   "source": [
    "# Módulo 6: Programación orientada a objetos\n",
    "\n",
    "## Parte 5: Polimorfismo\n",
    "\n",
    "El polimorfismo es un concepto poderoso en la programación orientada a objetos (POO) que permite que los objetos de diferentes clases se traten como objetos de una clase base común. Permite utilizar el mismo código con diferentes tipos de objetos, proporcionando flexibilidad y reutilización del código.\n",
    "\n",
    "### 5.1. Introducción al polimorfismo"
   ]
  },
  {
   "cell_type": "code",
   "execution_count": null,
   "metadata": {},
   "outputs": [],
   "source": [
    "# Clase base\n",
    "class Animal:\n",
    "    def sonido(self):\n",
    "        pass\n",
    "\n",
    "class Perro(Animal):\n",
    "    def sonido(self):\n",
    "        print(\"¡El perro ladra!\")\n",
    "\n",
    "class Gato(Animal):\n",
    "    def sonido(self):\n",
    "        print(\"¡Gato maulla!\")\n",
    "\n",
    "# Función común que acepta objetos animales\n",
    "def hacer_sonido(animal):\n",
    "    animal.sonido()\n",
    "\n",
    "# Creando instancias de diferentes clases\n",
    "perro = Perro()\n",
    "gato = Gato()\n",
    "\n",
    "# Llamar a la función común con diferentes objetos\n",
    "hacer_sonido(perro) # Salida: ¡El perro ladra!\n",
    "hacer_sonido(gato) # Salida: ¡Gato maúlla!"
   ]
  },
  {
   "attachments": {},
   "cell_type": "markdown",
   "metadata": {},
   "source": [
    "En este ejemplo, la clase Animal es la clase base y las clases Perro y Gato son las clases secundarias. Cada clase secundaria anula el método de sonido de la clase base con su propia implementación. La función hacer_sonido acepta un objeto Animal como parámetro y llama al método de sonido, que exhibe un comportamiento polimórfico. Al pasar diferentes objetos a la misma función, podemos lograr diferentes acciones según el tipo específico de objeto.\n",
    "\n",
    "### 5.2. Anulación de método\n",
    "\n",
    "La anulación de métodos ocurre cuando una subclase proporciona su propia implementación de un método que ya está definido en su clase principal. El método de reemplazo en la subclase tiene el mismo nombre que el método en la clase principal, pero puede tener una implementación diferente."
   ]
  },
  {
   "cell_type": "code",
   "execution_count": null,
   "metadata": {},
   "outputs": [],
   "source": [
    "class Animal:\n",
    "    def sonido(self):\n",
    "        print(\"El animal hace un sonido\")\n",
    "\n",
    "class Perro(Animal):\n",
    "    def sonido(self):\n",
    "        print(\"El perro ladra\")\n",
    "\n",
    "animal = Animal()\n",
    "animal.sonido()\n",
    "\n",
    "perro = Perro()\n",
    "perro.sonido()"
   ]
  },
  {
   "attachments": {},
   "cell_type": "markdown",
   "metadata": {},
   "source": [
    "En este ejemplo, tenemos una clase Animal con un método sonido(). La clase Dog hereda de Animal y anula el método sonido() con su propia implementación. Al llamar al método sonido() en instancias de Animal y Perro, se invoca el método anulado apropiado, lo que genera diferentes resultados.\n",
    "\n",
    "### 5.3. Sobrecarga de métodos\n",
    "\n",
    "La sobrecarga de métodos implica definir múltiples métodos en una clase con el mismo nombre pero diferentes parámetros. Python no admite la sobrecarga de métodos tradicionales como lo hacen otros lenguajes. Sin embargo, puede lograr una funcionalidad similar usando valores de parámetros predeterminados o usando argumentos variables."
   ]
  },
  {
   "cell_type": "code",
   "execution_count": null,
   "metadata": {},
   "outputs": [],
   "source": [
    "class Calculadora:\n",
    "    def suma(self, a, b, c=0):\n",
    "        return a + b + c\n",
    "\n",
    "calculadora = Calculadora()\n",
    "print(calculadora.suma(2, 3))\n",
    "print(calculadora.suma(2, 3, 4))"
   ]
  },
  {
   "attachments": {},
   "cell_type": "markdown",
   "metadata": {},
   "source": [
    "En este ejemplo, la clase Calculadora tiene un método suma() que puede tomar dos o tres argumentos. Al proporcionar un valor predeterminado para el tercer parámetro c, el método se puede llamar con solo dos argumentos. Esto logra una forma de sobrecarga de métodos donde el mismo método puede manejar diferentes configuraciones de argumentos.\n",
    "\n",
    "### 5.4. Resumen\n",
    "\n",
    "Exploramos el concepto de polimorfismo en la programación orientada a objetos (POO). El polimorfismo permite que los objetos de diferentes clases se traten como objetos de una clase base común, lo que permite la reutilización y la flexibilidad del código. Aprendimos sobre la anulación de métodos, donde las clases secundarias proporcionan su propia implementación de un método definido en la clase principal. La anulación de métodos permite que diferentes objetos muestren comportamientos específicos mientras se tratan de manera uniforme a través de una interfaz común. Comprender el polimorfismo es crucial para construir estructuras de código adaptables y modulares."
   ]
  }
 ],
 "metadata": {
  "kernelspec": {
   "display_name": "Python 3",
   "language": "python",
   "name": "python3"
  },
  "language_info": {
   "codemirror_mode": {
    "name": "ipython",
    "version": 3
   },
   "file_extension": ".py",
   "mimetype": "text/x-python",
   "name": "python",
   "nbconvert_exporter": "python",
   "pygments_lexer": "ipython3",
   "version": "3.8.10"
  },
  "orig_nbformat": 4
 },
 "nbformat": 4,
 "nbformat_minor": 2
}
