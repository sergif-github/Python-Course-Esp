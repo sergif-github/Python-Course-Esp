{
 "cells": [
  {
   "attachments": {},
   "cell_type": "markdown",
   "id": "7b33c392",
   "metadata": {},
   "source": [
    "# Module 6: Object oriented programming\n",
    "\n",
    "## Part 4: Inheritance\n",
    "\n",
    "Inheritance is a powerful concept in Object-Oriented Programming (OOP) that allows us to create new classes (child classes) based on existing classes (parent classes). It enables the child classes to inherit attributes and behaviors from their parent classes, promoting code reusability and extending functionality.\n",
    "\n",
    "### 4.1. Introduction to inheritance"
   ]
  },
  {
   "cell_type": "code",
   "execution_count": 1,
   "id": "d082edec",
   "metadata": {},
   "outputs": [
    {
     "name": "stdout",
     "output_type": "stream",
     "text": [
      "Toyota\n",
      "Red\n",
      "Vehicle is accelerating.\n",
      "Car is honking.\n"
     ]
    }
   ],
   "source": [
    "# Parent class\n",
    "class Vehicle:\n",
    "    def __init__(self, brand, color):\n",
    "        self.brand = brand\n",
    "        self.color = color\n",
    "        \n",
    "    def accelerate(self):\n",
    "        print(\"Vehicle is accelerating.\")\n",
    "\n",
    "# Child class inheriting from the Vehicle class\n",
    "class Car(Vehicle):\n",
    "    def __init__(self, brand, color, model):\n",
    "        # Call the parent class constructor\n",
    "        super().__init__(brand, color)\n",
    "        self.model = model\n",
    "        \n",
    "    def honk(self):\n",
    "        print(\"Car is honking.\")\n",
    "\n",
    "# Creating an instance of the Car class\n",
    "my_car = Car(\"Toyota\", \"Red\", \"Camry\")\n",
    "\n",
    "# Accessing attributes and calling methods\n",
    "print(my_car.brand)  # Output: Toyota\n",
    "print(my_car.color)  # Output: Red\n",
    "my_car.accelerate()  # Output: Vehicle is accelerating.\n",
    "my_car.honk()  # Output: Car is honking."
   ]
  },
  {
   "attachments": {},
   "cell_type": "markdown",
   "id": "3aae0659",
   "metadata": {},
   "source": [
    "In this example, the Vehicle class is the parent class, and the Car class is the child class that inherits from it.\n",
    "\n",
    "The child class extends the functionality of the parent class by adding a new attribute (model) and a new method (honk). \n",
    "\n",
    "By using the super() function, the child class can access and utilize the attributes and methods of the parent class.\n",
    "\n",
    "### 4.2. Types of inheritance\n",
    "\n",
    "Python supports multiple types of inheritance, including single inheritance, multiple inheritance, and multi-level inheritance.\n",
    "\n",
    "- Single Inheritance\n",
    "\n",
    "    Single inheritance involves a child class inheriting from a single parent class. It allows the child class to inherit attributes and behaviors from the parent class.\n",
    "\n",
    "- Multiple Inheritance\n",
    "\n",
    "    Multiple inheritance involves a child class inheriting from multiple parent classes. It enables the child class to inherit attributes and behaviors from multiple sources, combining the features of multiple classes.\n",
    "\n",
    "- Multi-level Inheritance\n",
    "\n",
    "    Multi-level inheritance involves a child class inheriting from another child class, creating a hierarchical inheritance structure. It allows the child class to inherit attributes and behaviors from multiple levels of parent classes."
   ]
  },
  {
   "cell_type": "code",
   "execution_count": 1,
   "id": "7e76a969",
   "metadata": {},
   "outputs": [
    {
     "name": "stdout",
     "output_type": "stream",
     "text": [
      "Sparrow\n",
      "Animal is eating.\n",
      "Animal is flying.\n",
      "Bird is chirping.\n"
     ]
    }
   ],
   "source": [
    "# Example of multiple inheritance\n",
    "class Animal:\n",
    "    def __init__(self, name):\n",
    "        self.name = name\n",
    "        \n",
    "    def eat(self):\n",
    "        print(\"Animal is eating.\")\n",
    "\n",
    "class Flyable:\n",
    "    def fly(self):\n",
    "        print(\"Animal is flying.\")\n",
    "\n",
    "# Child class inheriting from multiple parent classes\n",
    "class Bird(Animal, Flyable):\n",
    "    def __init__(self, name, species):\n",
    "        super().__init__(name)\n",
    "        self.species = species\n",
    "\n",
    "    def chirp(self):\n",
    "        print(\"Bird is chirping.\")\n",
    "\n",
    "# Creating an instance of the Bird class\n",
    "my_bird = Bird(\"Sparrow\", \"Passerine\")\n",
    "\n",
    "# Accessing attributes and calling methods\n",
    "print(my_bird.name)  # Output: Sparrow\n",
    "my_bird.eat()  # Output: Animal is eating.\n",
    "my_bird.fly()  # Output: Animal is flying.\n",
    "my_bird.chirp()  # Output: Bird is chirping."
   ]
  },
  {
   "attachments": {},
   "cell_type": "markdown",
   "id": "aa22f8c2",
   "metadata": {},
   "source": [
    "In this example, the Bird class inherits from both the Animal class and the Flyable class, exhibiting multiple inheritance. The child class inherits attributes and behaviors from both parent classes and adds its own specific attributes and methods.\n",
    "\n",
    "Understanding inheritance enables us to create a hierarchy of classes, promote code reuse, and build complex systems by leveraging the features and behaviors inherited from parent classes. In the next sections, we will explore more advanced OOP concepts, such as method overriding, method overloading, and polymorphism.\n",
    "\n",
    "### 4.3. Summary\n",
    "\n",
    "We explored the concept of inheritance in Object-Oriented Programming (OOP). Inheritance allows us to create child classes that inherit attributes and behaviors from parent classes, promoting code reuse and extending functionality. We learned about single inheritance, where a child class inherits from a single parent class, multiple inheritance, where a child class inherits from multiple parent classes, and multi-level inheritance, where a child class inherits from another child class. Understanding inheritance is essential for building modular, extensible, and efficient code structures."
   ]
  }
 ],
 "metadata": {
  "jupytext": {
   "cell_metadata_filter": "-all",
   "main_language": "python",
   "notebook_metadata_filter": "-all"
  },
  "kernelspec": {
   "display_name": "Python 3",
   "language": "python",
   "name": "python3"
  },
  "language_info": {
   "codemirror_mode": {
    "name": "ipython",
    "version": 3
   },
   "file_extension": ".py",
   "mimetype": "text/x-python",
   "name": "python",
   "nbconvert_exporter": "python",
   "pygments_lexer": "ipython3",
   "version": "3.8.10"
  }
 },
 "nbformat": 4,
 "nbformat_minor": 5
}
