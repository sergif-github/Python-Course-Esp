{
 "cells": [
  {
   "attachments": {},
   "cell_type": "markdown",
   "metadata": {},
   "source": [
    "# Module 6: Object oriented programming\n",
    "\n",
    "## Part 5: Polymorphism\n",
    "\n",
    "Polymorphism is a powerful concept in Object-Oriented Programming (OOP) that allows objects of different classes to be treated as objects of a common base class. It enables the same code to be used with different types of objects, providing flexibility and code reusability.\n",
    "\n",
    "### 5.1. Introduction to polymorphism"
   ]
  },
  {
   "cell_type": "code",
   "execution_count": 1,
   "metadata": {},
   "outputs": [
    {
     "name": "stdout",
     "output_type": "stream",
     "text": [
      "Dog barks!\n",
      "Cat meows!\n"
     ]
    }
   ],
   "source": [
    "# Parent class\n",
    "class Animal:\n",
    "    def sound(self):\n",
    "        pass\n",
    "\n",
    "# Child classes\n",
    "class Dog(Animal):\n",
    "    def sound(self):\n",
    "        print(\"Dog barks!\")\n",
    "\n",
    "class Cat(Animal):\n",
    "    def sound(self):\n",
    "        print(\"Cat meows!\")\n",
    "\n",
    "# Common function accepting Animal objects\n",
    "def make_sound(animal):\n",
    "    animal.sound()\n",
    "\n",
    "# Creating instances of different classes\n",
    "dog = Dog()\n",
    "cat = Cat()\n",
    "\n",
    "# Calling the common function with different objects\n",
    "make_sound(dog)  # Output: Dog barks!\n",
    "make_sound(cat)  # Output: Cat meows!"
   ]
  },
  {
   "attachments": {},
   "cell_type": "markdown",
   "metadata": {},
   "source": [
    "In this example, the Animal class is the base class, and the Dog and Cat classes are the child classes. Each child class overrides the sound method of the base class with its own implementation. The make_sound function accepts an Animal object as a parameter and calls the sound method, which exhibits polymorphic behavior. By passing different objects to the same function, we can achieve different actions based on the specific type of object.\n",
    "\n",
    "### 5.2. Method overriding\n",
    "\n",
    "Method overriding occurs when a subclass provides its own implementation of a method that is already defined in its parent class. The overriding method in the subclass has the same name as the method in the parent class but may have a different implementation."
   ]
  },
  {
   "cell_type": "code",
   "execution_count": 1,
   "metadata": {},
   "outputs": [
    {
     "name": "stdout",
     "output_type": "stream",
     "text": [
      "Animal makes a sound.\n",
      "Dog barks.\n"
     ]
    }
   ],
   "source": [
    "class Animal:\n",
    "    def sound(self):\n",
    "        print(\"Animal makes a sound.\")\n",
    "\n",
    "class Dog(Animal):\n",
    "    def sound(self):\n",
    "        print(\"Dog barks.\")\n",
    "\n",
    "animal = Animal()\n",
    "animal.sound()\n",
    "\n",
    "dog = Dog()\n",
    "dog.sound()"
   ]
  },
  {
   "attachments": {},
   "cell_type": "markdown",
   "metadata": {},
   "source": [
    "In this example, we have an Animal class with a sound() method. The Dog class inherits from Animal and overrides the sound() method with its own implementation. When calling the sound() method on instances of Animal and Dog, the appropriate overridden method is invoked, producing different outputs.\n",
    "\n",
    "### 5.3. Method overloading\n",
    "\n",
    "Method overloading involves defining multiple methods in a class with the same name but different parameters. Python does not support traditional method overloading as some other languages do. However, you can achieve similar functionality by using default parameter values or using variable arguments."
   ]
  },
  {
   "cell_type": "code",
   "execution_count": 2,
   "metadata": {},
   "outputs": [
    {
     "name": "stdout",
     "output_type": "stream",
     "text": [
      "5\n",
      "9\n"
     ]
    }
   ],
   "source": [
    "class Calculator:\n",
    "    def add(self, a, b, c=0):\n",
    "        return a + b + c\n",
    "\n",
    "calculator = Calculator()\n",
    "print(calculator.add(2, 3))\n",
    "print(calculator.add(2, 3, 4))"
   ]
  },
  {
   "attachments": {},
   "cell_type": "markdown",
   "metadata": {},
   "source": [
    "In this example, the Calculator class has an add() method that can take either two or three arguments. By providing a default value for the third parameter c, the method can be called with only two arguments. This achieves a form of method overloading where the same method can handle different argument configurations.\n",
    "\n",
    "### 5.4. Summary\n",
    "\n",
    "We explored the concept of polymorphism in Object-Oriented Programming (OOP). Polymorphism allows objects of different classes to be treated as objects of a common base class, enabling code reusability and flexibility. We learned about method overriding, where child classes provide their own implementation of a method defined in the parent class. Method overriding enables different objects to exhibit specific behaviors while being treated uniformly through a common interface. Understanding polymorphism is crucial for building adaptable and modular code structures."
   ]
  }
 ],
 "metadata": {
  "kernelspec": {
   "display_name": "Python 3",
   "language": "python",
   "name": "python3"
  },
  "language_info": {
   "codemirror_mode": {
    "name": "ipython",
    "version": 3
   },
   "file_extension": ".py",
   "mimetype": "text/x-python",
   "name": "python",
   "nbconvert_exporter": "python",
   "pygments_lexer": "ipython3",
   "version": "3.8.10"
  },
  "orig_nbformat": 4
 },
 "nbformat": 4,
 "nbformat_minor": 2
}
