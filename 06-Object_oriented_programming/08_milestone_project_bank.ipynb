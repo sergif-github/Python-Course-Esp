{
 "cells": [
  {
   "attachments": {},
   "cell_type": "markdown",
   "metadata": {},
   "source": [
    "# Module 6: Object oriented programming\n",
    "\n",
    "## Part 9: Milestone project, bank account\n",
    "\n",
    "Description:\n",
    "Create a program that simulates a basic bank account management system using object-oriented programming principles. The program should allow the user to create multiple bank accounts, perform transactions such as deposits and withdrawals, and display the account details.\n",
    "\n",
    "Requirements:\n",
    "\n",
    "- Create a BankAccount class that represents a bank account. The class should have attributes such as account number, account holder name, and balance.\n",
    "- Implement methods in the BankAccount class to perform transactions, such as depositing and withdrawing funds.\n",
    "- Implement display account detail method, including the account number, account holder name, and current balance.\n",
    "\n",
    "Additional Features (optional):\n",
    "\n",
    "- Allow the user to create multiple bank accounts and perform transactions on each account.\n",
    "\n",
    "Considerations:\n",
    "\n",
    "- Design the class structure and attributes carefully to ensure logical representation of bank accounts.\n",
    "- Utilize object-oriented principles.\n",
    "- Break down the project into smaller methods or functions to improve code organization and readability.\n",
    "- Test the program with various scenarios to ensure correct behavior and handle edge cases."
   ]
  },
  {
   "cell_type": "code",
   "execution_count": null,
   "metadata": {},
   "outputs": [],
   "source": []
  }
 ],
 "metadata": {
  "kernelspec": {
   "display_name": "Python 3",
   "language": "python",
   "name": "python3"
  },
  "language_info": {
   "codemirror_mode": {
    "name": "ipython",
    "version": 3
   },
   "file_extension": ".py",
   "mimetype": "text/x-python",
   "name": "python",
   "nbconvert_exporter": "python",
   "pygments_lexer": "ipython3",
   "version": "3.8.10"
  },
  "orig_nbformat": 4
 },
 "nbformat": 4,
 "nbformat_minor": 2
}
