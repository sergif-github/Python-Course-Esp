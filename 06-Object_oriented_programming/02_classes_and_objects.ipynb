{
 "cells": [
  {
   "attachments": {},
   "cell_type": "markdown",
   "id": "0ea9ce3a",
   "metadata": {},
   "source": [
    "# Module 6: Object oriented programming\n",
    "\n",
    "## Part 2: Classes and objects\n",
    "\n",
    "In Object-Oriented Programming (OOP), classes are used to define the blueprint or template for creating objects. A class encapsulates data (attributes) and behaviors (methods) into a single entity. Objects are instances of classes, and they possess the attributes and behaviors defined by their class.\n",
    "\n",
    "### 2.1. Defining classes and objects\n",
    "\n",
    "Here's an example of a class definition in Python:"
   ]
  },
  {
   "cell_type": "code",
   "execution_count": 1,
   "id": "c8d87feb",
   "metadata": {},
   "outputs": [
    {
     "name": "stdout",
     "output_type": "stream",
     "text": [
      "5\n",
      "7\n",
      "78.5\n",
      "153.86\n"
     ]
    }
   ],
   "source": [
    "class Circle:\n",
    "    def __init__(self, radius):\n",
    "        self.radius = radius\n",
    "        \n",
    "    def calculate_area(self):\n",
    "        return 3.14 * self.radius ** 2\n",
    "\n",
    "# Creating instances of the Circle class\n",
    "circle1 = Circle(5)\n",
    "circle2 = Circle(7)\n",
    "\n",
    "# Accessing attributes and calling methods\n",
    "print(circle1.radius)  # Output: 5\n",
    "print(circle2.radius)  # Output: 7\n",
    "print(circle1.calculate_area())  # Output: 78.5\n",
    "print(circle2.calculate_area())  # Output: 153.86"
   ]
  },
  {
   "attachments": {},
   "cell_type": "markdown",
   "id": "0c63801c",
   "metadata": {},
   "source": [
    "In this example, Circle is the class, and circle1 and circle2 are instances of the Circle class. The __init__ method is a special method called a constructor, used to initialize the object's attributes. The calculate_area method calculates the area of the circle based on its radius.\n",
    "\n",
    "### 2.2. Class attributes and instance attributes\n",
    "\n",
    "In a class, attributes can be either class attributes or instance attributes. Class attributes are shared among all instances of a class, while instance attributes are specific to each instance."
   ]
  },
  {
   "cell_type": "code",
   "execution_count": 1,
   "id": "e7484af3",
   "metadata": {},
   "outputs": [
    {
     "name": "stdout",
     "output_type": "stream",
     "text": [
      "Canine\n",
      "Canine\n",
      "Buddy\n",
      "Max\n"
     ]
    }
   ],
   "source": [
    "class Dog:\n",
    "    species = 'Canine'  # Class attribute\n",
    "    \n",
    "    def __init__(self, name):\n",
    "        self.name = name  # Instance attribute\n",
    "\n",
    "# Creating instances of the Dog class\n",
    "dog1 = Dog('Buddy')\n",
    "dog2 = Dog('Max')\n",
    "\n",
    "# Accessing class and instance attributes\n",
    "print(dog1.species)  # Output: Canine\n",
    "print(dog2.species)  # Output: Canine\n",
    "print(dog1.name)  # Output: Buddy\n",
    "print(dog2.name)  # Output: Max"
   ]
  },
  {
   "attachments": {},
   "cell_type": "markdown",
   "id": "e5cc201e",
   "metadata": {},
   "source": [
    "In this example, species is a class attribute that is common to all instances of the Dog class. name is an instance attribute that is unique to each dog object.\n",
    "\n",
    "### 2.3. Creating and initializing objects\n",
    "\n",
    "To create an object in Python, we use the class name followed by parentheses. The __init__ method, also known as the constructor, is called automatically when an object is created. It is used to initialize the object's attributes."
   ]
  },
  {
   "cell_type": "code",
   "execution_count": 2,
   "id": "7ed44414",
   "metadata": {},
   "outputs": [
    {
     "name": "stdout",
     "output_type": "stream",
     "text": [
      "John\n",
      "30\n"
     ]
    }
   ],
   "source": [
    "class Person:\n",
    "    def __init__(self, name, age):\n",
    "        self.name = name\n",
    "        self.age = age\n",
    "\n",
    "# Creating instances of the Person class\n",
    "person1 = Person('John', 25)\n",
    "person2 = Person('Alice', 30)\n",
    "\n",
    "# Accessing attributes\n",
    "print(person1.name)  # Output: John\n",
    "print(person2.age)  # Output: 30"
   ]
  },
  {
   "attachments": {},
   "cell_type": "markdown",
   "id": "ec1f5044",
   "metadata": {},
   "source": [
    "\n",
    "In this example, the Person class has a constructor that takes two parameters: name and age. When creating instances of the Person class, we pass values for these parameters to initialize the name and age attributes.\n",
    "\n",
    "### 2.4. Accessing object attributes and methods\n",
    "\n",
    "To access the attributes and methods of an object, we use the dot notation. The dot notation consists of the object name followed by a dot and the attribute or method name."
   ]
  },
  {
   "cell_type": "code",
   "execution_count": 3,
   "id": "02a2dbf6",
   "metadata": {},
   "outputs": [
    {
     "name": "stdout",
     "output_type": "stream",
     "text": [
      "4\n",
      "5\n",
      "20\n"
     ]
    }
   ],
   "source": [
    "class Rectangle:\n",
    "    def __init__(self, width, height):\n",
    "        self.width = width\n",
    "        self.height = height\n",
    "        \n",
    "    def calculate_area(self):\n",
    "        return self.width * self.height\n",
    "\n",
    "# Creating an instance of the Rectangle class\n",
    "rectangle = Rectangle(4, 5)\n",
    "\n",
    "# Accessing attributes and calling methods\n",
    "print(rectangle.width)  # Output: 4\n",
    "print(rectangle.height)  # Output: 5\n",
    "print(rectangle.calculate_area())  # Output: 20"
   ]
  },
  {
   "attachments": {},
   "cell_type": "markdown",
   "id": "580ddb99",
   "metadata": {},
   "source": [
    "\n",
    "In this example, we create an instance of the Rectangle class and access its attributes (width and height) and method (calculate_area) using the dot notation.\n",
    "\n",
    "### 2.5. Summary\n",
    "\n",
    "We delved into the fundamental concepts of defining classes and creating objects in Object-Oriented Programming (OOP). We learned that classes serve as blueprints for creating objects, encapsulating attributes (data) and behaviors (methods) into a single entity.\n",
    "\n",
    "We explored how to define classes in Python and create instances (objects) of those classes. We also examined the distinction between class attributes, which are shared among all instances, and instance attributes, which are specific to each object.\n",
    "\n",
    "Additionally, we explored accessing object attributes and methods using the dot notation. Through examples like circles, dogs, and rectangles, we saw how objects can possess both attributes and methods, allowing us to represent real-world entities and define their behaviors.\n",
    "\n",
    "Understanding classes and objects is foundational to OOP. It enables us to organize and structure code effectively, encapsulate related data and behaviors, and create reusable and modular components. This section serves as a stepping stone for further exploration into more advanced OOP concepts, such as inheritance and polymorphism, which we will cover in subsequent sections."
   ]
  }
 ],
 "metadata": {
  "jupytext": {
   "cell_metadata_filter": "-all",
   "main_language": "python",
   "notebook_metadata_filter": "-all"
  },
  "kernelspec": {
   "display_name": "Python 3",
   "language": "python",
   "name": "python3"
  },
  "language_info": {
   "codemirror_mode": {
    "name": "ipython",
    "version": 3
   },
   "file_extension": ".py",
   "mimetype": "text/x-python",
   "name": "python",
   "nbconvert_exporter": "python",
   "pygments_lexer": "ipython3",
   "version": "3.8.10"
  }
 },
 "nbformat": 4,
 "nbformat_minor": 5
}
