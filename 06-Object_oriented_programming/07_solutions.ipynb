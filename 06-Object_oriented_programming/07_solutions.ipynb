{
 "cells": [
  {
   "attachments": {},
   "cell_type": "markdown",
   "metadata": {},
   "source": [
    "# Module 6: Object oriented programming\n",
    "\n",
    "## Part 7: Solutions\n",
    "\n",
    "### Exercise 1\n",
    "\n",
    "Create a shape hierarchy consisting of a base class called Shape and two child classes called Rectangle and Circle. The Shape class should have an abstract method calculate_area() which should be overridden by the child classes. The Rectangle class should have attributes for length and width, while the Circle class should have an attribute for radius. Implement the necessary methods and demonstrate polymorphism by calculating the areas of a rectangle and a circle."
   ]
  },
  {
   "cell_type": "code",
   "execution_count": 1,
   "metadata": {},
   "outputs": [
    {
     "name": "stdout",
     "output_type": "stream",
     "text": [
      "20\n",
      "28.26\n"
     ]
    }
   ],
   "source": [
    "from abc import ABC, abstractmethod\n",
    "\n",
    "class Shape(ABC):\n",
    "    @abstractmethod\n",
    "    def calculate_area(self):\n",
    "        pass\n",
    "\n",
    "class Rectangle(Shape):\n",
    "    def __init__(self, length, width):\n",
    "        self.length = length\n",
    "        self.width = width\n",
    "\n",
    "    def calculate_area(self):\n",
    "        return self.length * self.width\n",
    "\n",
    "class Circle(Shape):\n",
    "    def __init__(self, radius):\n",
    "        self.radius = radius\n",
    "\n",
    "    def calculate_area(self):\n",
    "        return 3.14 * self.radius**2\n",
    "\n",
    "rectangle = Rectangle(4, 5)\n",
    "circle = Circle(3)\n",
    "\n",
    "print(rectangle.calculate_area())  # Output: 20\n",
    "print(circle.calculate_area())  # Output: 28.26"
   ]
  },
  {
   "attachments": {},
   "cell_type": "markdown",
   "metadata": {},
   "source": [
    "### Exercise 2\n",
    "\n",
    "Create an animal hierarchy consisting of a base class called Animal and two child classes called Dog and Cat. The Animal class should have an abstract method make_sound() which should be overridden by the child classes. Implement the necessary methods and demonstrate polymorphism by making different animals (a dog and a cat) make their respective sounds."
   ]
  },
  {
   "cell_type": "code",
   "execution_count": 2,
   "metadata": {},
   "outputs": [
    {
     "name": "stdout",
     "output_type": "stream",
     "text": [
      "Dog barks!\n",
      "Cat meows!\n"
     ]
    }
   ],
   "source": [
    "from abc import ABC, abstractmethod\n",
    "\n",
    "class Animal(ABC):\n",
    "    @abstractmethod\n",
    "    def make_sound(self):\n",
    "        pass\n",
    "\n",
    "class Dog(Animal):\n",
    "    def make_sound(self):\n",
    "        print(\"Dog barks!\")\n",
    "\n",
    "class Cat(Animal):\n",
    "    def make_sound(self):\n",
    "        print(\"Cat meows!\")\n",
    "\n",
    "dog = Dog()\n",
    "cat = Cat()\n",
    "\n",
    "dog.make_sound()  # Output: Dog barks!\n",
    "cat.make_sound()  # Output: Cat meows!"
   ]
  },
  {
   "attachments": {},
   "cell_type": "markdown",
   "metadata": {},
   "source": [
    "### Exercise 3\n",
    "\n",
    "Create an employee hierarchy consisting of a base class called Employee and two child classes called Manager and Developer. The Employee class should have attributes for name and salary, as well as methods for getting and setting the salary. The Manager class should have an additional attribute for department, while the Developer class should have an additional attribute for programming language. Implement the necessary methods and demonstrate polymorphism, inheritance and encapsulation by creating instances of a manager and a developer and accessing their attributes and methods."
   ]
  },
  {
   "cell_type": "code",
   "execution_count": 3,
   "metadata": {},
   "outputs": [
    {
     "name": "stdout",
     "output_type": "stream",
     "text": [
      "Name: John\n",
      "Salary: 5000\n",
      "Department: IT\n",
      "Name: Alice\n",
      "Salary: 4000\n",
      "Programming Language: Python\n"
     ]
    }
   ],
   "source": [
    "class Employee:\n",
    "    def __init__(self, name, salary):\n",
    "        self.name = name\n",
    "        self._salary = salary\n",
    "\n",
    "    def get_salary(self):\n",
    "        return self._salary\n",
    "\n",
    "    def set_salary(self, new_salary):\n",
    "        self._salary = new_salary\n",
    "\n",
    "    def display_information(self):\n",
    "        print(f\"Name: {self.name}\")\n",
    "        print(f\"Salary: {self._salary}\")\n",
    "\n",
    "class Manager(Employee):\n",
    "    def __init__(self, name, salary, department):\n",
    "        super().__init__(name, salary)\n",
    "        self.department = department\n",
    "\n",
    "    def display_information(self):\n",
    "        super().display_information()\n",
    "        print(f\"Department: {self.department}\")\n",
    "\n",
    "class Developer(Employee):\n",
    "    def __init__(self, name, salary, programming_language):\n",
    "        super().__init__(name, salary)\n",
    "        self.programming_language = programming_language\n",
    "\n",
    "    def display_information(self):\n",
    "        super().display_information()\n",
    "        print(f\"Programming Language: {self.programming_language}\")\n",
    "\n",
    "# Polymorphism example\n",
    "def print_employee_information(employee):\n",
    "    employee.display_information()\n",
    "\n",
    "manager = Manager(\"John\", 5000, \"IT\")\n",
    "developer = Developer(\"Alice\", 4000, \"Python\")\n",
    "\n",
    "print_employee_information(manager)  # Output: Name: John, Salary: 5000, Department: IT\n",
    "print_employee_information(developer)  # Output: Name: Alice, Salary: 4000, Programming Language: Python"
   ]
  }
 ],
 "metadata": {
  "kernelspec": {
   "display_name": "Python 3",
   "language": "python",
   "name": "python3"
  },
  "language_info": {
   "codemirror_mode": {
    "name": "ipython",
    "version": 3
   },
   "file_extension": ".py",
   "mimetype": "text/x-python",
   "name": "python",
   "nbconvert_exporter": "python",
   "pygments_lexer": "ipython3",
   "version": "3.8.10"
  },
  "orig_nbformat": 4
 },
 "nbformat": 4,
 "nbformat_minor": 2
}
