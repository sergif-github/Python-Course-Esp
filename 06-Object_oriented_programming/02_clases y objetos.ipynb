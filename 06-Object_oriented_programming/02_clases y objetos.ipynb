{
 "cells": [
  {
   "attachments": {},
   "cell_type": "markdown",
   "id": "0ea9ce3a",
   "metadata": {},
   "source": [
    "# Módulo 6: Programación orientada a objetos\n",
    "\n",
    "## Parte 2: Clases y objetos\n",
    "\n",
    "En la Programación Orientada a Objetos (POO), las clases se utilizan para definir el modelo o plantilla para crear objetos. Una clase encapsula datos (atributos) y comportamientos (métodos) en una sola entidad. Los objetos son instancias de clases y poseen los atributos y comportamientos definidos por su clase.\n",
    "\n",
    "### 2.1. Definición de clases y objetos\n",
    "\n",
    "Aquí hay un ejemplo de una definición de clase en Python:"
   ]
  },
  {
   "cell_type": "code",
   "execution_count": null,
   "id": "c8d87feb",
   "metadata": {},
   "outputs": [],
   "source": [
    "class Circulo:\n",
    "    def __init__(self, radio):\n",
    "        self.radius = radio\n",
    "    \n",
    "    def calcular_area(self):\n",
    "        return 3.14 * self.radius ** 2\n",
    "\n",
    "# Creando instancias de la clase Circle\n",
    "circulo1 = Circulo(5)\n",
    "circulo2 = Circulo(7)\n",
    "\n",
    "# Acceso a atributos y métodos de llamada\n",
    "print(circulo1.radius) # Salida: 5\n",
    "print (circulo2.radius) # Salida: 7\n",
    "print(circulo1.calcular_area()) # Salida: 78.5\n",
    "print(circulo2.calcular_area()) # Salida: 153.86"
   ]
  },
  {
   "attachments": {},
   "cell_type": "markdown",
   "id": "0c63801c",
   "metadata": {},
   "source": [
    "En este ejemplo, Circulo es la clase y circulo1 y circulo2 son instancias de la clase Circulo. El método __init__ es un método especial llamado constructor, que se usa para inicializar los atributos del objeto. El método de calcular_area calcula el área del círculo en función de su radio.\n",
    "\n",
    "### 2.2. Atributos de clase y atributos de instancia\n",
    "\n",
    "En una clase, los atributos pueden ser atributos de clase o atributos de instancia. Los atributos de clase se comparten entre todas las instancias de una clase, mientras que los atributos de instancia son específicos de cada instancia."
   ]
  },
  {
   "cell_type": "code",
   "execution_count": null,
   "id": "e7484af3",
   "metadata": {},
   "outputs": [],
   "source": [
    "class Perro:\n",
    "     especie = 'Canino' # Atributo de clase\n",
    "    \n",
    "     def __init__(self, nombre):\n",
    "         self.nombre = nombre # Atributo de instancia\n",
    "\n",
    "# Creando instancias de la clase Dog\n",
    "perro1 = Perro('Amigo')\n",
    "perro2 = Perro('Max')\n",
    "\n",
    "# Accediendo a atributos de clase e instancia\n",
    "print(perro1.especie) # Salida: Canino\n",
    "print(perro2.especie) # Salida: Canino\n",
    "print(perro1.nombre) # Salida: Amigo\n",
    "print(perro2.nombre) # Salida: Máx."
   ]
  },
  {
   "attachments": {},
   "cell_type": "markdown",
   "id": "e5cc201e",
   "metadata": {},
   "source": [
    "En este ejemplo, especie es un atributo de clase que es común a todas las instancias de la clase Perro. Nombre es un atributo de instancia que es único para cada objeto perro.\n",
    "\n",
    "### 2.3. Creación e inicialización de objetos\n",
    "\n",
    "Para crear un objeto en Python, usamos el nombre de la clase seguido de paréntesis. El método __init__, también conocido como constructor, se llama automáticamente cuando se crea un objeto. Se utiliza para inicializar los atributos del objeto."
   ]
  },
  {
   "cell_type": "code",
   "execution_count": null,
   "id": "7ed44414",
   "metadata": {},
   "outputs": [],
   "source": [
    "class Persona:\n",
    "    def __init__(self, nombre, edad):\n",
    "        self.nombre = nombre\n",
    "        self.edad = edad\n",
    "\n",
    "# Creando instancias de la clase Person\n",
    "persona1 = Persona('Juan', 25)\n",
    "persona2 = Persona('Alicia', 30)\n",
    "\n",
    "# Accediendo a los atributos\n",
    "print(persona1.nombre) # Salida: John\n",
    "print(persona2.edad) # Salida: 30"
   ]
  },
  {
   "attachments": {},
   "cell_type": "markdown",
   "id": "ec1f5044",
   "metadata": {},
   "source": [
    "En este ejemplo, la clase Persona tiene un constructor que toma dos parámetros: nombre y edad. Al crear instancias de la clase Persona, pasamos valores para estos parámetros para inicializar los atributos de nombre y edad.\n",
    "\n",
    "### 2.4. Acceso a métodos y atributos de objetos\n",
    "\n",
    "Para acceder a los atributos y métodos de un objeto, usamos la notación de puntos. La notación de puntos consta del nombre del objeto seguido de un punto y el nombre del atributo o método."
   ]
  },
  {
   "cell_type": "code",
   "execution_count": null,
   "id": "02a2dbf6",
   "metadata": {},
   "outputs": [],
   "source": [
    "class Rectangulo:\n",
    "    def __init__(self, ancho, alto):\n",
    "        self.ancho = ancho\n",
    "        self.alto = alto\n",
    "    \n",
    "    def calcular_area(self):\n",
    "        return self.ancho * self.alto\n",
    "\n",
    "# Creando una instancia de la clase Rectangle\n",
    "rectangulo = Rectangulo (4, 5)\n",
    "\n",
    "# Acceso a atributos y métodos de llamada\n",
    "print(rectangulo.ancho) # Salida: 4\n",
    "print(rectangulo.alto) # Salida: 5\n",
    "print(rectangulo.calcular_area()) # Salida: 20"
   ]
  },
  {
   "attachments": {},
   "cell_type": "markdown",
   "id": "580ddb99",
   "metadata": {},
   "source": [
    "En este ejemplo, creamos una instancia de la clase Rectangle y accedemos a sus atributos (ancho y alto) y al método (calcular_área) usando la notación de puntos.\n",
    "\n",
    "### 2.5. Resumen\n",
    "\n",
    "Profundizamos en los conceptos fundamentales de definición de clases y creación de objetos en programación orientada a objetos (POO). Aprendimos que las clases sirven como planos para crear objetos, encapsulando atributos (datos) y comportamientos (métodos) en una sola entidad.\n",
    "\n",
    "Exploramos cómo definir clases en Python y crear instancias (objetos) de esas clases. También examinamos la distinción entre atributos de clase, que se comparten entre todas las instancias, y atributos de instancia, que son específicos de cada objeto.\n",
    "\n",
    "Además, exploramos el acceso a atributos y métodos de objetos usando la notación de puntos. A través de ejemplos como círculos, perros y rectángulos, vimos cómo los objetos pueden poseer tanto atributos como métodos, lo que nos permite representar entidades del mundo real y definir sus comportamientos.\n",
    "\n",
    "Comprender las clases y los objetos es fundamental para la programación orientada a objetos. Nos permite organizar y estructurar el código de manera efectiva, encapsular datos y comportamientos relacionados y crear componentes modulares y reutilizables. Esta sección sirve como trampolín para una mayor exploración de conceptos de programación orientada a objetos más avanzados, como la herencia y el polimorfismo, que trataremos en secciones posteriores."
   ]
  }
 ],
 "metadata": {
  "jupytext": {
   "cell_metadata_filter": "-all",
   "main_language": "python",
   "notebook_metadata_filter": "-all"
  },
  "kernelspec": {
   "display_name": "Python 3",
   "language": "python",
   "name": "python3"
  },
  "language_info": {
   "codemirror_mode": {
    "name": "ipython",
    "version": 3
   },
   "file_extension": ".py",
   "mimetype": "text/x-python",
   "name": "python",
   "nbconvert_exporter": "python",
   "pygments_lexer": "ipython3",
   "version": "3.8.10"
  }
 },
 "nbformat": 4,
 "nbformat_minor": 5
}
