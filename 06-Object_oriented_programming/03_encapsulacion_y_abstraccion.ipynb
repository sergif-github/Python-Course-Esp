{
 "cells": [
  {
   "attachments": {},
   "cell_type": "markdown",
   "id": "7d1c1893",
   "metadata": {},
   "source": [
    "# Módulo 6: Programación orientada a objetos\n",
    "\n",
    "## Parte 3: Encapsulación y abstracción\n",
    "\n",
    "### 3.1. Encapsular y ocultar información\n",
    "\n",
    "La encapsulación es un concepto fundamental en la programación orientada a objetos (POO) que implica agrupar datos (atributos) y comportamientos (métodos) dentro de una clase. Permite ocultar información, asegurando que el estado interno de un objeto no sea directamente accesible desde fuera de la clase. La encapsulación promueve la integridad de los datos, la seguridad y la capacidad de mantenimiento del código."
   ]
  },
  {
   "cell_type": "code",
   "execution_count": null,
   "id": "efbba5ae",
   "metadata": {},
   "outputs": [],
   "source": [
    "class CuentaBancaria:\n",
    "    def __init__(self, num_cuenta, saldo):\n",
    "        self.num_cuenta = num_cuenta # Atributo encapsulado\n",
    "        self.saldo = saldo # Atributo encapsulado\n",
    "    \n",
    "    def deposito(self, importe):\n",
    "        self.saldo += importe\n",
    "    \n",
    "    def retirar(self, cantidad):\n",
    "        if self.saldo >= cantidad:\n",
    "            self.saldo -= cantidad\n",
    "        else:\n",
    "            print(\"Fondos insuficientes\")\n",
    "\n",
    "# Creando una instancia de la clase CuentaBancaria\n",
    "cuenta = CuentaBancaria(\"1234567890\", 1000)\n",
    "\n",
    "# Acceso a atributos y métodos de llamada\n",
    "cuenta.deposito(500)\n",
    "cuenta.retirar(200)\n",
    "print(cuenta.saldo) # Salida: 1300"
   ]
  },
  {
   "attachments": {},
   "cell_type": "markdown",
   "id": "c9918d0b",
   "metadata": {},
   "source": [
    "En este ejemplo, los atributos num_cuenta y saldo se encapsulan dentro de la clase CuentaBancaria utilizando la convención de subrayado único. Estos atributos están destinados a ser accedidos y modificados dentro de los métodos de la clase, pero no están destinados al acceso directo desde fuera de la clase.\n",
    "\n",
    "### 3.2. Abstracción y ocultación de datos\n",
    "\n",
    "La abstracción es un concepto estrechamente relacionado con la encapsulación. Implica presentar solo información esencial al mundo exterior mientras se ocultan detalles innecesarios. La abstracción nos permite centrarnos en las características y comportamientos esenciales de un objeto, sin exponer la implementación subyacente.\n",
    "\n",
    "En Python, la abstracción se puede lograr definiendo clases e interfaces abstractas usando el módulo abc. Las clases abstractas proporcionan un modelo para otras clases y no se pueden crear instancias de ellas mismas. Pueden contener métodos abstractos, que son métodos sin implementación, destinados a ser anulados por subclases."
   ]
  },
  {
   "cell_type": "code",
   "execution_count": null,
   "id": "0dc6757e",
   "metadata": {},
   "outputs": [],
   "source": [
    "from abc import ABC, abstractmethod\n",
    "\n",
    "class Forma (ABC):\n",
    "    @abstractmethod\n",
    "    def calcular_area(auto):\n",
    "        pass\n",
    "\n",
    "class Rectangulo(Forma):\n",
    "    def __init__(self, ancho, alto):\n",
    "        self.ancho = ancho\n",
    "        self.alto = alto\n",
    "\n",
    "    def calcular_area(self):\n",
    "        return self.ancho * self.alto\n",
    "\n",
    "rectangulo = Rectangulo(4, 5)\n",
    "print(rectangulo.calcular_area()) # Salida: 20"
   ]
  },
  {
   "attachments": {},
   "cell_type": "markdown",
   "id": "d5d64740",
   "metadata": {},
   "source": [
    "En este ejemplo, Forma es una clase abstracta con el método calcular_area definido como método abstracto. La clase Rectangulo es una subclase de Forma y proporciona la implementación para el método calcular_area. Al definir clases abstractas y métodos abstractos, podemos aplicar una interfaz común y garantizar que las subclases implementen los comportamientos necesarios.\n",
    "\n",
    "### 3.3. Modificadores de acceso: público, privado y protegido\n",
    "\n",
    "En Python, los modificadores de acceso son convenciones utilizadas para indicar el nivel de visibilidad y accesibilidad de los miembros de la clase (atributos y métodos). Aunque Python no aplica un control de acceso estricto, las siguientes convenciones se usan comúnmente:\n",
    "\n",
    "- Acceso público (+)\n",
    "\n",
    "     Los miembros públicos son accesibles desde cualquier lugar. Por convención, los métodos y atributos públicos no tienen guiones bajos iniciales.\n",
    "\n",
    "- Acceso Privado (-)\n",
    "\n",
    "     Los miembros privados están destinados a ser accedidos solo dentro de la clase. Por convención, los métodos y atributos privados tienen un doble guión bajo al principio.\n",
    "\n",
    "- Acceso Protegido (#)\n",
    "\n",
    "     Solo se puede acceder a los miembros protegidos dentro de la clase y sus subclases. Por convención, los atributos y métodos protegidos tienen un guión bajo al principio."
   ]
  },
  {
   "cell_type": "code",
   "execution_count": null,
   "id": "6ef3d8e9",
   "metadata": {},
   "outputs": [],
   "source": [
    "class Persona:\n",
    "    def __init__(self, nombre, edad):\n",
    "        self.nombre = nombre # Atributo público\n",
    "        self._edad = edad # Atributo protegido\n",
    "        self.__direccion = 'Calle 123' # Atributo privado\n",
    "\n",
    "    def __mostrar_direccion(self):\n",
    "        print(self.__address) # Método privado\n",
    "\n",
    "persona = Persona('Juan', 25)\n",
    "print(persona.nombre) # Salida: Juan\n",
    "print(persona._edad) # Salida: 25\n",
    "# print(persona.__dirección) # Error: AttributeError\n",
    "# persona.__mostrar_direccion() # Error: Error de atributo"
   ]
  },
  {
   "attachments": {},
   "cell_type": "markdown",
   "id": "080d535b",
   "metadata": {},
   "source": [
    "En este ejemplo, nombre es un atributo público, _edad es un atributo protegido y __dirección es un atributo privado. Los atributos y métodos privados no están destinados al acceso directo desde fuera de la clase.\n",
    "\n",
    "### 3.4. Uso de propiedades para controlar el acceso a los atributos\n",
    "\n",
    "Las propiedades proporcionan una forma de controlar el acceso a los atributos y permiten la validación, el cálculo y la protección de los atributos. Permiten la encapsulación al proporcionar métodos getter y setter para acceder y modificar atributos."
   ]
  },
  {
   "cell_type": "code",
   "execution_count": null,
   "id": "c29ea4a9",
   "metadata": {},
   "outputs": [],
   "source": [
    "class Circulo:\n",
    "    def __init__(self, radio):\n",
    "        self._radio = radio\n",
    "    \n",
    "    @property\n",
    "    def radio(self):\n",
    "        return self._radio\n",
    "\n",
    "    @radio.setter\n",
    "    def radio(self, valor):\n",
    "        if valor > 0:\n",
    "            self._radio = valor\n",
    "        else:\n",
    "            raise ValueError(\"El radio debe ser positivo\")\n",
    "            \n",
    "circulo = Circulo(5)\n",
    "print(circulo.radio) # Salida: 5\n",
    "\n",
    "circulo.radio = 7\n",
    "print(circulo.radio) # Salida: 7\n",
    "\n",
    "# circulo.radio = -2 Error: ValueError"
   ]
  },
  {
   "attachments": {},
   "cell_type": "markdown",
   "id": "e80cc59b",
   "metadata": {},
   "source": [
    "En este ejemplo, el atributo de radio está encapsulado y su acceso se controla mediante el decorador @property y el método de establecimiento correspondiente. El método setter realiza la validación para garantizar que el valor asignado sea positivo.\n",
    "\n",
    "### 3.5. Resumen\n",
    "\n",
    "En esta tercera sección sobre \"Encapsulación y abstracción\", exploramos los conceptos de encapsulación y ocultación de información, así como el concepto relacionado de abstracción.\n",
    "\n",
    "La encapsulación implica agrupar datos y comportamientos dentro de una clase para promover la integridad de los datos y la capacidad de mantenimiento del código. Permite ocultar información, asegurando que el estado interno de un objeto no sea directamente accesible desde fuera de la clase.\n",
    "\n",
    "La abstracción, por otro lado, se enfoca en presentar información esencial mientras oculta detalles innecesarios. Discutimos el uso de clases abstractas y métodos abstractos para lograr la abstracción en Python. Las clases abstractas proporcionan un modelo para otras clases y no se pueden crear instancias de ellas mismas, mientras que los métodos abstractos están destinados a ser anulados por subclases para proporcionar implementaciones específicas.\n",
    "\n",
    "Además, discutimos cómo se pueden usar las propiedades para controlar el acceso a los atributos y proporcionar validación, cálculo y protección. Las propiedades nos permiten encapsular atributos y proporcionar acceso controlado a través de métodos getter y setter.\n",
    "\n",
    "Comprender la encapsulación y la abstracción es crucial para crear un código sólido y fácil de mantener. La encapsulación ayuda a organizar el código y proteger los datos confidenciales, mientras que la abstracción nos permite centrarnos en las funciones esenciales y ocultar detalles de implementación innecesarios."
   ]
  }
 ],
 "metadata": {
  "jupytext": {
   "cell_metadata_filter": "-all",
   "main_language": "python",
   "notebook_metadata_filter": "-all"
  },
  "kernelspec": {
   "display_name": "Python 3",
   "language": "python",
   "name": "python3"
  },
  "language_info": {
   "codemirror_mode": {
    "name": "ipython",
    "version": 3
   },
   "file_extension": ".py",
   "mimetype": "text/x-python",
   "name": "python",
   "nbconvert_exporter": "python",
   "pygments_lexer": "ipython3",
   "version": "3.8.10"
  }
 },
 "nbformat": 4,
 "nbformat_minor": 5
}
