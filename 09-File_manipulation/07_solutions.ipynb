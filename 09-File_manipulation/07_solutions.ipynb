{
 "cells": [
  {
   "attachments": {},
   "cell_type": "markdown",
   "metadata": {},
   "source": [
    "# Module 9: File handling and manipulation\n",
    "\n",
    "## Part 7: Solutions\n",
    "\n",
    "### Exercise 1\n",
    "Write a program that reads a text file called \"example.txt\" and writes its contents to another file called \"output.txt\"."
   ]
  },
  {
   "cell_type": "code",
   "execution_count": 1,
   "metadata": {},
   "outputs": [
    {
     "name": "stdout",
     "output_type": "stream",
     "text": [
      "File contents copied successfully!\n"
     ]
    }
   ],
   "source": [
    "# Reading from file\n",
    "with open(\"example.txt\", \"r\") as file:\n",
    "    content = file.read()\n",
    "\n",
    "# Writing to file\n",
    "with open(\"output.txt\", \"w\") as file:\n",
    "    file.write(content)\n",
    "\n",
    "print(\"File contents copied successfully!\")"
   ]
  },
  {
   "attachments": {},
   "cell_type": "markdown",
   "metadata": {},
   "source": [
    "### Exercise 2\n",
    "Write a program that reads a text file and counts the number of lines, words, and characters in it. Display the results."
   ]
  },
  {
   "cell_type": "code",
   "execution_count": null,
   "metadata": {},
   "outputs": [],
   "source": [
    "# Reading from file\n",
    "with open(\"input.txt\", \"r\") as file:\n",
    "    content = file.read()\n",
    "\n",
    "lines = content.count(\"\\n\") + 1  # Counting lines\n",
    "words = len(content.split())  # Counting words\n",
    "characters = len(content)  # Counting characters\n",
    "\n",
    "print(\"Number of lines:\", lines)\n",
    "print(\"Number of words:\", words)\n",
    "print(\"Number of characters:\", characters)"
   ]
  },
  {
   "attachments": {},
   "cell_type": "markdown",
   "metadata": {},
   "source": [
    "### Exercise 3\n",
    "Write a program that prompts the user to enter the name of a file. Read the content. If the file does not exist raise an FileNotFoundError exception."
   ]
  },
  {
   "cell_type": "code",
   "execution_count": 4,
   "metadata": {},
   "outputs": [
    {
     "name": "stdout",
     "output_type": "stream",
     "text": [
      "first line\n",
      "second line\n"
     ]
    }
   ],
   "source": [
    "file = None\n",
    "try:\n",
    "    filename = input(\"Enter the name of the file: \")\n",
    "    file = open(filename, \"r\")    \n",
    "    content = file.read()\n",
    "    print(content)\n",
    "except FileNotFoundError:\n",
    "    print(\"The file does not exist.\")\n",
    "finally:\n",
    "    if file is not None:\n",
    "        file.close()"
   ]
  },
  {
   "attachments": {},
   "cell_type": "markdown",
   "metadata": {},
   "source": [
    "### Exercise 4\n",
    "Write a program that reads a CSV file called \"data.csv\" and displays its contents."
   ]
  },
  {
   "cell_type": "code",
   "execution_count": 5,
   "metadata": {},
   "outputs": [
    {
     "name": "stdout",
     "output_type": "stream",
     "text": [
      "['Name', 'Age', 'Country']\n",
      "['John', '25', 'USA']\n",
      "['Alice', '30', 'Canada']\n",
      "['Bob', '28', 'UK']\n"
     ]
    }
   ],
   "source": [
    "import csv\n",
    "\n",
    "with open(\"data.csv\", \"r\") as file:\n",
    "    reader = csv.reader(file)\n",
    "    for row in reader:\n",
    "        print(row)"
   ]
  },
  {
   "attachments": {},
   "cell_type": "markdown",
   "metadata": {},
   "source": [
    "### Exercise 5\n",
    "Write a program that reads data from a JSON file and allows the user to add new data to it. The program should prompt the user to enter a name and age, and then append the entered data as a new JSON object to the existing JSON file. If the file doesn't exist, the program should create a new file and store the entered data."
   ]
  },
  {
   "cell_type": "code",
   "execution_count": 9,
   "metadata": {},
   "outputs": [
    {
     "name": "stdout",
     "output_type": "stream",
     "text": [
      "Data successfully written to data.json\n"
     ]
    }
   ],
   "source": [
    "import json\n",
    "\n",
    "try:\n",
    "    with open(\"data.json\", \"r\") as file:\n",
    "        data = [json.load(file)]\n",
    "except FileNotFoundError:\n",
    "    data = []\n",
    "\n",
    "name = input(\"Enter a name: \")\n",
    "age = int(input(\"Enter an age: \"))\n",
    "\n",
    "new_entry = {\"name\": name, \"age\": age}\n",
    "data.append(new_entry)\n",
    "\n",
    "with open(\"data.json\", \"w\") as file:\n",
    "    json.dump(data, file)\n",
    "\n",
    "print(\"Data successfully written to data.json\")"
   ]
  }
 ],
 "metadata": {
  "kernelspec": {
   "display_name": "Python 3",
   "language": "python",
   "name": "python3"
  },
  "language_info": {
   "codemirror_mode": {
    "name": "ipython",
    "version": 3
   },
   "file_extension": ".py",
   "mimetype": "text/x-python",
   "name": "python",
   "nbconvert_exporter": "python",
   "pygments_lexer": "ipython3",
   "version": "3.8.10"
  },
  "orig_nbformat": 4
 },
 "nbformat": 4,
 "nbformat_minor": 2
}
