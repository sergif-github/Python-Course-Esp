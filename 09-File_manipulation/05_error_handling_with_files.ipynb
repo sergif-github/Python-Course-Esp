{
 "cells": [
  {
   "attachments": {},
   "cell_type": "markdown",
   "id": "b6e0ca39",
   "metadata": {},
   "source": [
    "# Module 9: File handling and manipulation\n",
    "\n",
    "## Part 5: Error handling with files\n",
    "\n",
    "When working with files, it's important to handle potential errors that may occur during file operations. Errors can arise when \n",
    "a file is not found, permissions are insufficient, or the file is already open by another process. Python provides mechanisms \n",
    "to handle these errors and ensure your program gracefully handles any issues.\n",
    "\n",
    "### 5.1. Handling file-related errors\n",
    "\n",
    "To handle file-related errors, you can use a try-except block. The try block contains the code that might raise an exception,\n",
    "while the except block handles the exception if one occurs.\n",
    "\n",
    "Here's an example of handling a FileNotFoundError:"
   ]
  },
  {
   "cell_type": "code",
   "execution_count": 1,
   "id": "59e673a2",
   "metadata": {},
   "outputs": [
    {
     "name": "stdout",
     "output_type": "stream",
     "text": [
      "The file does not exist.\n"
     ]
    }
   ],
   "source": [
    "try:\n",
    "    with open(\"data.txt\", \"r\") as file:\n",
    "        content = file.read()\n",
    "        print(content)\n",
    "except FileNotFoundError:\n",
    "    print(\"The file does not exist.\")"
   ]
  },
  {
   "attachments": {},
   "cell_type": "markdown",
   "id": "5dd54c24",
   "metadata": {},
   "source": [
    "In this example, we attempt to open the file \"data.txt\" for reading. If the file is not found, a FileNotFoundError is raised. \n",
    "We catch this specific exception in the except block and display a custom error message.\n",
    "\n",
    "You can also handle other file-related exceptions, such as PermissionError and IOError, in a similar manner by adding additional\n",
    " except blocks.\n",
    "\n",
    "### 5.2. Cleaning up resources with finally\n",
    "\n",
    "The finally block allows you to define code that should be executed regardless of whether an exception occurs or not. It's commonly\n",
    " used for releasing resources, such as closing files, to ensure proper cleanup.\n",
    "\n",
    "Here's an example of using finally to close a file:"
   ]
  },
  {
   "cell_type": "code",
   "execution_count": 5,
   "id": "bb1f415c",
   "metadata": {},
   "outputs": [
    {
     "name": "stdout",
     "output_type": "stream",
     "text": [
      "The file does not exist.\n"
     ]
    }
   ],
   "source": [
    "file = None\n",
    "try:\n",
    "    file = open(\"data.txt\", \"r\")\n",
    "    content = file.read()\n",
    "    print(content)\n",
    "except FileNotFoundError:\n",
    "    print(\"The file does not exist.\")\n",
    "finally:\n",
    "    if file is not None:\n",
    "        file.close()"
   ]
  },
  {
   "attachments": {},
   "cell_type": "markdown",
   "id": "3641d757",
   "metadata": {},
   "source": [
    "In this example, even if an exception occurs, the finally block will execute, ensuring that the file is properly closed.\n",
    "\n",
    "### 5.3. Summary\n",
    "\n",
    "In this section, we covered error handling with files. By using try-except blocks, you can gracefully handle file-related errors \n",
    "and provide appropriate error messages. Additionally, the finally block allows you to clean up resources, such as closing files, \n",
    "to ensure proper resource management."
   ]
  }
 ],
 "metadata": {
  "jupytext": {
   "cell_metadata_filter": "-all",
   "main_language": "python",
   "notebook_metadata_filter": "-all"
  },
  "kernelspec": {
   "display_name": "Python 3",
   "language": "python",
   "name": "python3"
  },
  "language_info": {
   "codemirror_mode": {
    "name": "ipython",
    "version": 3
   },
   "file_extension": ".py",
   "mimetype": "text/x-python",
   "name": "python",
   "nbconvert_exporter": "python",
   "pygments_lexer": "ipython3",
   "version": "3.8.10"
  }
 },
 "nbformat": 4,
 "nbformat_minor": 5
}
