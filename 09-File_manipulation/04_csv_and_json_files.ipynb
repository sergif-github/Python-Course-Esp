{
 "cells": [
  {
   "attachments": {},
   "cell_type": "markdown",
   "id": "f4949ba4",
   "metadata": {},
   "source": [
    "# Module 9: File handling and manipulation\n",
    "\n",
    "## Part 4: CSV and JSON file processing\n",
    "\n",
    "In addition to working with plain text files, Python provides built-in support for processing CSV (Comma-Separated Values) \n",
    "and JSON (JavaScript Object Notation) files. In this section, we will explore how to read and write data in CSV and JSON formats.\n",
    "\n",
    "### 4.1. CSV file processing\n",
    "\n",
    "CSV files are commonly used for storing tabular data, where each row represents a record and the values are separated by delimiters like commas. \n",
    "Python provides the csv module for reading and writing CSV files.\n",
    "\n",
    "To read data from a CSV file, you can use the csv.reader() function.\n",
    "\n",
    "Here's an example:"
   ]
  },
  {
   "cell_type": "code",
   "execution_count": 3,
   "id": "67c78fe4",
   "metadata": {},
   "outputs": [
    {
     "name": "stdout",
     "output_type": "stream",
     "text": [
      "['Name', 'Age', 'Country']\n",
      "['John', '25', 'USA']\n",
      "['Alice', '30', 'Canada']\n",
      "['Bob', '28', 'UK']\n"
     ]
    }
   ],
   "source": [
    "import csv\n",
    "\n",
    "with open(\"data.csv\", \"r\") as file:\n",
    "    csv_reader = csv.reader(file)\n",
    "    for row in csv_reader:\n",
    "        print(row)"
   ]
  },
  {
   "attachments": {},
   "cell_type": "markdown",
   "id": "95a8874f",
   "metadata": {},
   "source": [
    "In this example, we open the CSV file \"data.csv\" in read mode and create a csv_reader object using the csv.reader() function. \n",
    "We can then iterate over the csv_reader object to access each row as a list of values.\n",
    "\n",
    "To write data to a CSV file, you can use the csv.writer() function. \n",
    "\n",
    "Here's an example:"
   ]
  },
  {
   "cell_type": "code",
   "execution_count": 2,
   "id": "b40173cf",
   "metadata": {},
   "outputs": [],
   "source": [
    "import csv\n",
    "\n",
    "data = [\n",
    "    [\"Name\", \"Age\", \"Country\"],\n",
    "    [\"John\", 25, \"USA\"],\n",
    "    [\"Alice\", 30, \"Canada\"],\n",
    "    [\"Bob\", 28, \"UK\"]\n",
    "]\n",
    "\n",
    "with open(\"data.csv\", \"w\", newline=\"\") as file:\n",
    "    csv_writer = csv.writer(file)\n",
    "    csv_writer.writerows(data)"
   ]
  },
  {
   "attachments": {},
   "cell_type": "markdown",
   "id": "fb85d631",
   "metadata": {},
   "source": [
    "In this example, we have a list of lists representing the data to be written to the CSV file. We open the file \"data.csv\"\n",
    "in write mode and create a csv_writer object using the csv.writer() function. We then use the writerows() method to write \n",
    "all the rows of data to the CSV file.\n",
    "\n",
    "### 4.2. Splitting CSV files with desired delimiter\n",
    "\n",
    "Sometimes, you may encounter CSV files where the values are not separated by commas but by a different delimiter. In such cases,\n",
    "you can specify the desired delimiter when reading or writing the CSV file.\n",
    "\n",
    "For example, to split a CSV file with a semicolon (;) delimiter, you can modify the code as follows:"
   ]
  },
  {
   "cell_type": "code",
   "execution_count": null,
   "id": "5ecdf32a",
   "metadata": {
    "lines_to_next_cell": 2
   },
   "outputs": [],
   "source": [
    "import csv\n",
    "\n",
    "with open(\"data.csv\", \"r\") as file:\n",
    "    csv_reader = csv.reader(file, delimiter=\";\")\n",
    "    for row in csv_reader:\n",
    "        print(row)"
   ]
  },
  {
   "attachments": {},
   "cell_type": "markdown",
   "id": "6ac25e3e",
   "metadata": {},
   "source": [
    "In this example, we pass the delimiter=\";\" argument to the csv.reader() function, specifying that the values in the CSV file are separated by semicolons.\n",
    "\n",
    "Similarly, when writing data to a CSV file with a different delimiter, you can specify the desired delimiter in the csv.writer() function:"
   ]
  },
  {
   "cell_type": "code",
   "execution_count": null,
   "id": "67742d3c",
   "metadata": {},
   "outputs": [],
   "source": [
    "import csv\n",
    "\n",
    "data = [\n",
    "    [\"Name\", \"Age\", \"Country\"],\n",
    "    [\"John\", 25, \"USA\"],\n",
    "    [\"Alice\", 30, \"Canada\"],\n",
    "    [\"Bob\", 28, \"UK\"]\n",
    "]\n",
    "\n",
    "with open(\"data.csv\", \"w\", newline=\"\") as file:\n",
    "    csv_writer = csv.writer(file, delimiter=\";\")\n",
    "    csv_writer.writerows(data)"
   ]
  },
  {
   "attachments": {},
   "cell_type": "markdown",
   "id": "8bdd0d8b",
   "metadata": {},
   "source": [
    "In this example, we pass the delimiter=\";\" argument to the csv.writer() function, specifying that the values in the CSV file should be separated by semicolons.\n",
    "\n",
    "By using the appropriate delimiter, you can handle CSV files with different separators and process the data accordingly.\n",
    "\n",
    "### 4.3. JSON file processing\n",
    "\n",
    "JSON files are used for storing structured data in a human-readable format. Python provides the json module for working with JSON files.\n",
    "\n",
    "To read data from a JSON file, you can use the json.load() function. \n",
    "\n",
    "Here's an example:"
   ]
  },
  {
   "cell_type": "code",
   "execution_count": 5,
   "id": "734f6a16",
   "metadata": {},
   "outputs": [
    {
     "name": "stdout",
     "output_type": "stream",
     "text": [
      "{'name': 'John', 'age': 25, 'country': 'USA'}\n"
     ]
    }
   ],
   "source": [
    "import json\n",
    "\n",
    "with open(\"data.json\", \"r\") as file:\n",
    "    data = json.load(file)\n",
    "    print(data)"
   ]
  },
  {
   "attachments": {},
   "cell_type": "markdown",
   "id": "620e0c23",
   "metadata": {},
   "source": [
    "In this example, we open the JSON file \"data.json\" in read mode and use the json.load() function to load the data from the file\n",
    "into a Python object. We can then work with the data as a dictionary, list, or other suitable data structure.\n",
    "\n",
    "To write data to a JSON file, you can use the json.dump() function. \n",
    "\n",
    "Here's an example:"
   ]
  },
  {
   "cell_type": "code",
   "execution_count": 4,
   "id": "09f89058",
   "metadata": {},
   "outputs": [],
   "source": [
    "import json\n",
    "\n",
    "data = {\n",
    "    \"name\": \"John\",\n",
    "    \"age\": 25,\n",
    "    \"country\": \"USA\"\n",
    "}\n",
    "\n",
    "with open(\"data.json\", \"w\") as file:\n",
    "    json.dump(data, file)"
   ]
  },
  {
   "attachments": {},
   "cell_type": "markdown",
   "id": "c585ab59",
   "metadata": {},
   "source": [
    "In this example, we have a dictionary representing the data to be written to the JSON file. We open the file \"data.json\" in write \n",
    "mode and use the json.dump() function to write the data to the file in JSON format.\n",
    "\n",
    "### 4.4. Summary\n",
    "\n",
    "In this section, we explored how to process CSV and JSON files in Python. The csv module provides functions for reading and writing\n",
    "CSV files, allowing you to work with tabular data. The json module allows you to read and write JSON files, which are commonly\n",
    "used for storing structured data. Understanding how to work with CSV and JSON files is crucial for handling data in \n",
    "various formats within your Python programs."
   ]
  }
 ],
 "metadata": {
  "jupytext": {
   "cell_metadata_filter": "-all",
   "main_language": "python",
   "notebook_metadata_filter": "-all"
  },
  "kernelspec": {
   "display_name": "Python 3",
   "language": "python",
   "name": "python3"
  },
  "language_info": {
   "codemirror_mode": {
    "name": "ipython",
    "version": 3
   },
   "file_extension": ".py",
   "mimetype": "text/x-python",
   "name": "python",
   "nbconvert_exporter": "python",
   "pygments_lexer": "ipython3",
   "version": "3.8.10"
  }
 },
 "nbformat": 4,
 "nbformat_minor": 5
}
