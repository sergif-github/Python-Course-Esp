{
 "cells": [
  {
   "attachments": {},
   "cell_type": "markdown",
   "id": "c8353dde",
   "metadata": {},
   "source": [
    "# Module 9: File handling and manipulation\n",
    "\n",
    "## Part 1: Reading and writing text files\n",
    "\n",
    "Reading and writing text files is a common task in many Python applications. In this section, we will explore how to open,\n",
    "read, and write text files using Python.\n",
    "\n",
    "### 1.1. Opening a text file\n",
    "\n",
    "To open a text file in Python, you can use the built-in open() function. It takes the file path as a parameter and returns\n",
    "a file object that can be used to perform various operations on the file.\n",
    "\n",
    "Here's an example of opening a text file named \"example.txt\" in read mode:"
   ]
  },
  {
   "cell_type": "code",
   "execution_count": 1,
   "id": "c9726f5d",
   "metadata": {},
   "outputs": [],
   "source": [
    "file = open(\"example.txt\", \"r\")"
   ]
  },
  {
   "attachments": {},
   "cell_type": "markdown",
   "id": "7b5c06b7",
   "metadata": {},
   "source": [
    "In this example, the file is opened in read mode using the \"r\" parameter. Other modes include \"w\" for write mode, \"a\" for \n",
    "append mode, and \"x\" for exclusive creation mode.\n",
    "\n",
    "### 1.2. Reading from a text file\n",
    "\n",
    "Once you have opened a text file, you can read its contents using the read() or readline() methods of the file object.\n",
    "\n",
    "The read() method reads the entire contents of the file as a single string:"
   ]
  },
  {
   "cell_type": "code",
   "execution_count": 2,
   "id": "80e3f690",
   "metadata": {},
   "outputs": [
    {
     "name": "stdout",
     "output_type": "stream",
     "text": [
      "first line\n",
      "second line\n"
     ]
    }
   ],
   "source": [
    "file = open(\"example.txt\", \"r\")\n",
    "content = file.read()\n",
    "print(content)"
   ]
  },
  {
   "attachments": {},
   "cell_type": "markdown",
   "id": "c62eea05",
   "metadata": {},
   "source": [
    "The readline() method reads one line at a time from the file:"
   ]
  },
  {
   "cell_type": "code",
   "execution_count": 3,
   "id": "4ae3a9f6",
   "metadata": {},
   "outputs": [
    {
     "name": "stdout",
     "output_type": "stream",
     "text": [
      "first line\n",
      "\n"
     ]
    }
   ],
   "source": [
    "file = open(\"example.txt\", \"r\")\n",
    "line = file.readline()\n",
    "print(line)"
   ]
  },
  {
   "attachments": {},
   "cell_type": "markdown",
   "id": "88b1cb38",
   "metadata": {},
   "source": [
    "You can also iterate over the file object directly to read each line in a loop:"
   ]
  },
  {
   "cell_type": "code",
   "execution_count": 4,
   "id": "746d0f16",
   "metadata": {},
   "outputs": [
    {
     "name": "stdout",
     "output_type": "stream",
     "text": [
      "first line\n",
      "\n",
      "second line\n"
     ]
    }
   ],
   "source": [
    "file = open(\"example.txt\", \"r\")\n",
    "for line in file:\n",
    "    print(line)"
   ]
  },
  {
   "attachments": {},
   "cell_type": "markdown",
   "id": "3ab4cd46",
   "metadata": {},
   "source": [
    "### 1.3. Writing to a text file\n",
    "\n",
    "To write to a text file, you need to open it in write mode or append mode using the \"w\" or \"a\" parameter, respectively.\n",
    "\n",
    "Here's an example of opening a file named \"output.txt\" in write mode and writing some content to it:"
   ]
  },
  {
   "cell_type": "code",
   "execution_count": 5,
   "id": "e5dcba7c",
   "metadata": {},
   "outputs": [],
   "source": [
    "file = open(\"output.txt\", \"w\")\n",
    "file.write(\"Hello, World!\")\n",
    "file.close()"
   ]
  },
  {
   "attachments": {},
   "cell_type": "markdown",
   "id": "521c4c13",
   "metadata": {},
   "source": [
    "In this example, the \"w\" parameter opens the file in write mode, and the write() method is used to write the specified content to the file.\n",
    "\n",
    "To append content to an existing file, you can open it in append mode using the \"a\" parameter:"
   ]
  },
  {
   "cell_type": "code",
   "execution_count": 6,
   "id": "4c6aa046",
   "metadata": {},
   "outputs": [],
   "source": [
    "file = open(\"output.txt\", \"a\")\n",
    "file.write(\"Appending new content.\")\n",
    "file.close()"
   ]
  },
  {
   "attachments": {},
   "cell_type": "markdown",
   "id": "42f60578",
   "metadata": {},
   "source": [
    "### 1.4. Closing the file\n",
    "\n",
    "After you have finished working with a file, it's important to close it using the close() method of the file object. \n",
    "This ensures that any resources associated with the file are properly released."
   ]
  },
  {
   "cell_type": "code",
   "execution_count": null,
   "id": "7d25be8a",
   "metadata": {},
   "outputs": [],
   "source": [
    "file = open(\"example.txt\", \"r\")\n",
    "file.close()"
   ]
  },
  {
   "attachments": {},
   "cell_type": "markdown",
   "id": "e0e7fa59",
   "metadata": {},
   "source": [
    "### 1.5. Perform file operations\n",
    "\n",
    "Alternatively, you can use the with statement, which automatically closes the file when you're done with it:\n",
    "\n",
    "```python\n",
    "with open(\"example.txt\", \"r\") as file:\n",
    "    # Perform file operations\n",
    "```\n",
    "\n",
    "Using the with statement is recommended as it ensures that the file is always closed, even if an exception occurs within the block.\n",
    "\n",
    "### 1.6. Summary\n",
    "\n",
    "In this section, we learned how to work with text files in Python. We explored opening files, reading their contents, writing to them,\n",
    "and properly closing them. File handling is a fundamental skill for many Python applications, and understanding these concepts \n",
    "will help you effectively manipulate text files in your programs."
   ]
  }
 ],
 "metadata": {
  "jupytext": {
   "cell_metadata_filter": "-all",
   "main_language": "python",
   "notebook_metadata_filter": "-all"
  },
  "kernelspec": {
   "display_name": "Python 3",
   "language": "python",
   "name": "python3"
  },
  "language_info": {
   "codemirror_mode": {
    "name": "ipython",
    "version": 3
   },
   "file_extension": ".py",
   "mimetype": "text/x-python",
   "name": "python",
   "nbconvert_exporter": "python",
   "pygments_lexer": "ipython3",
   "version": "3.8.10"
  }
 },
 "nbformat": 4,
 "nbformat_minor": 5
}
