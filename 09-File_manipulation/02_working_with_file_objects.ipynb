{
 "cells": [
  {
   "attachments": {},
   "cell_type": "markdown",
   "id": "e018c3b0",
   "metadata": {},
   "source": [
    "# Module 9: File handling and manipulation\n",
    "\n",
    "## Part 2: Working with file objects\n",
    "\n",
    "In addition to reading and writing text files, Python provides several methods and attributes that can be used to work with file objects.\n",
    "In this section, we will explore some of these features.\n",
    "\n",
    "### 2.1. File object methods\n",
    "\n",
    "File objects in Python come with various methods that allow you to perform operations on the file. Here are some commonly used methods:\n",
    "\n",
    "- read(size)\n",
    "\n",
    "    Reads and returns size bytes from the file. If size is not specified, it reads the entire file.\n",
    "\n",
    "- readline()\n",
    "\n",
    "    Reads and returns the next line from the file.\n",
    "\n",
    "- readlines()\n",
    "\n",
    "    Reads all lines from the file and returns them as a list of strings.\n",
    "\n",
    "- write(string)\n",
    "\n",
    "    Writes the specified string to the file.\n",
    "\n",
    "- writelines(lines)\n",
    "\n",
    "    Writes a list of strings lines to the file.\n",
    "\n",
    "- seek(offset)\n",
    "\n",
    "    Changes the file position to the given offset (in bytes).\n",
    "\n",
    "- tell()\n",
    "\n",
    "    Returns the current file position.\n",
    "\n",
    "- close()\n",
    "\n",
    "    Closes the file.\n",
    "\n",
    "Here's an example that demonstrates the usage of some of these methods:"
   ]
  },
  {
   "cell_type": "code",
   "execution_count": 3,
   "id": "20ec4e6f",
   "metadata": {},
   "outputs": [],
   "source": [
    "file = open(\"example.txt\", \"r\")\n",
    "content = file.read()  # Read the entire file\n",
    "line = file.readline()  # Read the next line\n",
    "lines = file.readlines()  # Read all lines into a list\n",
    "file.close()  # Close the file"
   ]
  },
  {
   "attachments": {},
   "cell_type": "markdown",
   "id": "2ab90415",
   "metadata": {},
   "source": [
    "### 2.2. File object attributes\n",
    "\n",
    "File objects also provide some useful attributes that provide information about the file. \n",
    "\n",
    "Here are a few commonly used attributes:\n",
    "\n",
    "- name\n",
    "\n",
    "    Returns the name of the file.\n",
    "\n",
    "- mode\n",
    "\n",
    "    Returns the mode in which the file was opened.\n",
    "\n",
    "- closed\n",
    "\n",
    "    Returns True if the file is closed, False otherwise.\n",
    "\n",
    "You can access these attributes using the dot notation. \n",
    "\n",
    "For example:"
   ]
  },
  {
   "cell_type": "code",
   "execution_count": 2,
   "id": "0dd3760a",
   "metadata": {},
   "outputs": [
    {
     "name": "stdout",
     "output_type": "stream",
     "text": [
      "example.txt\n",
      "r\n",
      "False\n"
     ]
    }
   ],
   "source": [
    "file = open(\"example.txt\", \"r\")\n",
    "print(file.name)  # Print the file name\n",
    "print(file.mode)  # Print the file mode\n",
    "print(file.closed)  # Print whether the file is closed\n",
    "file.close()  # Close the file"
   ]
  },
  {
   "attachments": {},
   "cell_type": "markdown",
   "id": "13c3597e",
   "metadata": {},
   "source": [
    "### 2.3. Using with statement\n",
    "\n",
    "To ensure that a file is properly closed, it's a good practice to use the with statement. This automatically takes care of closing\n",
    "the file, even if an exception occurs.\n",
    "\n",
    "Here's an example of using the with statement:"
   ]
  },
  {
   "cell_type": "code",
   "execution_count": 4,
   "id": "bb17feb0",
   "metadata": {},
   "outputs": [
    {
     "name": "stdout",
     "output_type": "stream",
     "text": [
      "first line\n",
      "second line\n"
     ]
    }
   ],
   "source": [
    "with open(\"example.txt\", \"r\") as file:\n",
    "    content = file.read()\n",
    "    print(content)"
   ]
  },
  {
   "attachments": {},
   "cell_type": "markdown",
   "id": "fb5ec531",
   "metadata": {},
   "source": [
    "In this example, the file is automatically closed when the code block inside the with statement is exited, whether by completing\n",
    "the block or encountering an exception.\n",
    "\n",
    "### 2.4. Summary\n",
    "\n",
    "In this section, we explored some of the methods and attributes provided by file objects in Python. These features allow you to \n",
    "perform various operations on files, such as reading, writing, seeking, and obtaining information about the file. Remember to close\n",
    "the file after you have finished working with it to free up system resources. The with statement provides a convenient way to ensure\n",
    "that the file is properly closed."
   ]
  }
 ],
 "metadata": {
  "jupytext": {
   "cell_metadata_filter": "-all",
   "main_language": "python",
   "notebook_metadata_filter": "-all"
  },
  "kernelspec": {
   "display_name": "Python 3",
   "language": "python",
   "name": "python3"
  },
  "language_info": {
   "codemirror_mode": {
    "name": "ipython",
    "version": 3
   },
   "file_extension": ".py",
   "mimetype": "text/x-python",
   "name": "python",
   "nbconvert_exporter": "python",
   "pygments_lexer": "ipython3",
   "version": "3.8.10"
  }
 },
 "nbformat": 4,
 "nbformat_minor": 5
}
