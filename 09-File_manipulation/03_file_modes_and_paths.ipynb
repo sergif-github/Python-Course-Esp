{
 "cells": [
  {
   "attachments": {},
   "cell_type": "markdown",
   "id": "0aa559ea",
   "metadata": {},
   "source": [
    "# Module 9: File handling and manipulation\n",
    "\n",
    "## Part 3: File modes and file paths\n",
    "\n",
    "When working with files in Python, it's important to understand file modes and how to work with file paths. In this section,\n",
    "we will explore these concepts.\n",
    "\n",
    "### 3.1. File modes\n",
    "\n",
    "File modes define how a file should be opened and accessed. When opening a file, you need to specify the mode as a second argument\n",
    "to the open() function. Here are some commonly used file modes:\n",
    "\n",
    "- 'r': Read mode. \n",
    "\n",
    "    Opens the file for reading. Raises an error if the file does not exist.\n",
    "\n",
    "- 'w': Write mode. \n",
    "\n",
    "    Opens the file for writing. Creates a new file if it doesn't exist, or truncates the file if it does.\n",
    "\n",
    "- 'a': Append mode. \n",
    "\n",
    "    Opens the file for appending. The file pointer is at the end of the file, and new data is written to the end.\n",
    "\n",
    "- 'x': Exclusive creation mode. \n",
    "\n",
    "    Creates a new file, but raises an error if the file already exists.\n",
    "\n",
    "- 'b': Binary mode. \n",
    "\n",
    "    Opens the file in binary mode, allowing you to read or write binary data.\n",
    "\n",
    "- 't': Text mode. \n",
    "\n",
    "    Opens the file in text mode, which is the default. In text mode, data is encoded as Unicode strings.\n",
    "\n",
    "You can combine multiple modes by specifying them as a string. For example, 'rb' opens the file in binary mode for reading.\n",
    "\n",
    "### 3.2. File paths\n",
    "\n",
    "A file path is the location of a file on the file system. In Python, you can use either a relative or an absolute file path to refer\n",
    "to a file. \n",
    "\n",
    "Here are a few examples:\n",
    "\n",
    "- Relative file path: \"example.txt\" (refers to a file in the current directory)\n",
    "- Absolute file path: \"C:/Documents/example.txt\" (refers to a file using the full path)\n",
    "\n",
    "When working with file paths, it's important to consider the platform you are working on. On different operating systems, file paths\n",
    "may use different separators. For example, Windows uses backslashes (`\\`) as the separator, while Unix-based systems use forward slashes (`/`).\n",
    "\n",
    "To handle file paths in a platform-independent way, you can use the os module in Python, which provides functions for working with\n",
    "file paths. Here's an example:"
   ]
  },
  {
   "cell_type": "code",
   "execution_count": 3,
   "id": "58a9d065",
   "metadata": {},
   "outputs": [
    {
     "name": "stdout",
     "output_type": "stream",
     "text": [
      "File exists\n"
     ]
    }
   ],
   "source": [
    "import os\n",
    "\n",
    "# Joining file path components\n",
    "file_path = os.path.join(\"./\", \"example.txt\")\n",
    "\n",
    "# Checking if a file exists\n",
    "if os.path.exists(file_path):\n",
    "    print(\"File exists\")\n",
    "else:\n",
    "    print(\"File does not exist\")"
   ]
  },
  {
   "attachments": {},
   "cell_type": "markdown",
   "id": "d568d43a",
   "metadata": {},
   "source": [
    "In this example, the os.path.join() function is used to join the directory and file name components to create a file path.\n",
    "The os.path.exists() function is used to check if the file exists.\n",
    "\n",
    "### 3.3. Summary\n",
    "\n",
    "In this section, we explored file modes and file paths in Python. File modes allow you to specify how a file should be opened and accessed, \n",
    "such as for reading, writing, or appending. File paths represent the location of a file on the file system and can be either relative or absolute.\n",
    "The os module provides functions for working with file paths in a platform-independent way. Understanding file modes and file paths is essential \n",
    "for effectively working with files in Python."
   ]
  }
 ],
 "metadata": {
  "jupytext": {
   "cell_metadata_filter": "-all",
   "main_language": "python",
   "notebook_metadata_filter": "-all"
  },
  "kernelspec": {
   "display_name": "Python 3",
   "language": "python",
   "name": "python3"
  },
  "language_info": {
   "codemirror_mode": {
    "name": "ipython",
    "version": 3
   },
   "file_extension": ".py",
   "mimetype": "text/x-python",
   "name": "python",
   "nbconvert_exporter": "python",
   "pygments_lexer": "ipython3",
   "version": "3.8.10"
  }
 },
 "nbformat": 4,
 "nbformat_minor": 5
}
