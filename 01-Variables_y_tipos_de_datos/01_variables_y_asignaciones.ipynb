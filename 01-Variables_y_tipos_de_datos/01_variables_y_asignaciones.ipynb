{
 "cells": [
  {
   "attachments": {},
   "cell_type": "markdown",
   "id": "977964ae",
   "metadata": {},
   "source": [
    "# Módulo 1: Variables y tipos de datos\n",
    "\n",
    "## Parte 1: Variables y asignaciones\n",
    "\n",
    "En Python, las variables se utilizan para almacenar valores de datos. Una variable es como un contenedor que contiene un valor, que puede ser de diferentes tipos, como números,\n",
    "hilos u otros objetos.\n",
    "\n",
    "### 1.1. Nombres de variables\n",
    "\n",
    "Al elegir nombres de variables, hay algunas reglas a seguir:\n",
    "\n",
    "- Los nombres de variables solo pueden contener letras (a-z, A-Z), dígitos (0-9) y guiones bajos (_).\n",
    "- Los nombres de variables no pueden comenzar con un dígito.\n",
    "- Los nombres de las variables distinguen entre mayúsculas y minúsculas. Por ejemplo, myVariable y myvariable son variables diferentes.\n",
    "- Los nombres de las variables deben ser descriptivos y significativos, lo que ayuda a comprender el propósito de la variable.\n",
    "\n",
    "Estos son algunos nombres de variables válidos:"
   ]
  },
  {
   "cell_type": "code",
   "execution_count": 1,
   "id": "4df8b932",
   "metadata": {},
   "outputs": [],
   "source": [
    "edad = 25\n",
    "nombre = \"Alicia\"\n",
    "es_estudiante = True"
   ]
  },
  {
   "attachments": {},
   "cell_type": "markdown",
   "id": "6f5f19bc",
   "metadata": {},
   "source": [
    "### 1.2. Asignación de variables\n",
    "\n",
    "En Python, puede asignar un valor a una variable usando el operador \"=\". A la variable del lado izquierdo del signo \"=\" se le asigna el valor del lado derecho.\n",
    "\n",
    "Por ejemplo:"
   ]
  },
  {
   "cell_type": "code",
   "execution_count": null,
   "id": "42bcd7c9",
   "metadata": {},
   "outputs": [],
   "source": [
    "X = 10\n",
    "y = 5.5\n",
    "mensaje = \"¡Hola, mundo!\""
   ]
  },
  {
   "attachments": {},
   "cell_type": "markdown",
   "id": "56e90c13",
   "metadata": {
    "lines_to_next_cell": 0
   },
   "source": [
    "También puede asignar múltiples variables en una sola línea:"
   ]
  },
  {
   "cell_type": "code",
   "execution_count": null,
   "id": "140f7a9d",
   "metadata": {},
   "outputs": [],
   "source": [
    "a, b, c = 1, 2, 3"
   ]
  },
  {
   "attachments": {},
   "cell_type": "markdown",
   "id": "5cc69b57",
   "metadata": {},
   "source": [
    "### 1.3. Reasignación de variables\n",
    "\n",
    "En Python, puede cambiar el valor de una variable asignándole un nuevo valor. Esto se conoce como reasignación de variables.\n",
    "Cuando reasigna una variable, el nuevo valor sobrescribe el valor anterior almacenado en esa variable.\n",
    "\n",
    "Por ejemplo:"
   ]
  },
  {
   "cell_type": "code",
   "execution_count": null,
   "id": "c9379f7a",
   "metadata": {},
   "outputs": [],
   "source": [
    "x = 10\n",
    "print(x) # Salida: 10\n",
    "\n",
    "x = 20\n",
    "print(x) # Salida: 20"
   ]
  },
  {
   "attachments": {},
   "cell_type": "markdown",
   "id": "a2213f19",
   "metadata": {},
   "source": [
    "### 1.4. Imprimiendo variables\n",
    "\n",
    "Para mostrar el valor de una variable, puede usar la función print(). Esto le permite ver el valor actual almacenado en una variable durante la ejecución del programa.\n",
    "\n",
    "Por ejemplo:"
   ]
  },
  {
   "cell_type": "code",
   "execution_count": null,
   "id": "79dca10b",
   "metadata": {},
   "outputs": [],
   "source": [
    "nombre = \"Alicia\"\n",
    "print(nombre) # Salida: Alicia\n",
    "\n",
    "edad = 25\n",
    "print(\"Edad:\", edad) # Salida: Edad: 25"
   ]
  },
  {
   "attachments": {},
   "cell_type": "markdown",
   "id": "cd93c5e1",
   "metadata": {},
   "source": [
    "La función print() puede tomar uno o más argumentos, separados por comas. Print convierte cada argumento en una cadena y lo muestra en la consola.\n",
    "\n",
    "Por ejemplo:"
   ]
  },
  {
   "cell_type": "code",
   "execution_count": 4,
   "id": "35455aa9",
   "metadata": {},
   "outputs": [
    {
     "name": "stdout",
     "output_type": "stream",
     "text": [
      "Alice 25 USA\n"
     ]
    }
   ],
   "source": [
    "nombre = \"Alicia\"\n",
    "edad = 25\n",
    "país = \"Estados Unidos\"\n",
    "\n",
    "print(nombre, edad, país)"
   ]
  },
  {
   "attachments": {},
   "cell_type": "markdown",
   "id": "b2c51e3f",
   "metadata": {},
   "source": [
    "### 1.5. Resumen\n",
    "\n",
    "En esta parte, aprendió sobre variables, nombres de variables, asignación de variables, reasignación de variables e impresión de variables.\n",
    "Las variables son fundamentales en la programación de Python, ya que le permiten almacenar y manipular datos de forma dinámica."
   ]
  }
 ],
 "metadata": {
  "jupytext": {
   "cell_metadata_filter": "-all",
   "main_language": "python",
   "notebook_metadata_filter": "-all"
  },
  "kernelspec": {
   "display_name": "Python 3",
   "language": "python",
   "name": "python3"
  },
  "language_info": {
   "codemirror_mode": {
    "name": "ipython",
    "version": 3
   },
   "file_extension": ".py",
   "mimetype": "text/x-python",
   "name": "python",
   "nbconvert_exporter": "python",
   "pygments_lexer": "ipython3",
   "version": "3.8.10"
  }
 },
 "nbformat": 4,
 "nbformat_minor": 5
}
