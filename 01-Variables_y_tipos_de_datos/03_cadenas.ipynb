{
 "cells": [
  {
   "attachments": {},
   "cell_type": "markdown",
   "id": "ceb7d26e",
   "metadata": {},
   "source": [
    "# Módulo 1: Variables y tipos de datos\n",
    "\n",
    "## Parte 3: Cadenas\n",
    "\n",
    "En Python, una cadena es una secuencia de caracteres entre comillas simples ( ' ) o comillas dobles ( \" ). Se utiliza para representar\n",
    "texto o una colección de caracteres. Las cadenas son inmutables, lo que significa que una vez que se crean, sus valores no se pueden cambiar.\n",
    "\n",
    "### 3.1. Creación de cadenas\n",
    "\n",
    "Puede crear cadenas encerrando el texto entre comillas simples o dobles. Por ejemplo:"
   ]
  },
  {
   "cell_type": "code",
   "execution_count": 2,
   "id": "3f101002",
   "metadata": {
    "lines_to_next_cell": 0
   },
   "outputs": [],
   "source": [
    "nombre = 'Alicia'\n",
    "mensaje = \"¡Hola, mundo!\""
   ]
  },
  {
   "attachments": {},
   "cell_type": "markdown",
   "id": "dffc9e19",
   "metadata": {
    "lines_to_next_cell": 0
   },
   "source": [
    "Tanto las comillas simples como las comillas dobles se pueden usar indistintamente para definir cadenas. Sin embargo, asegúrese de usar el mismo tipo\n",
    "de comillas al principio y al final de la cadena.\n",
    "\n",
    "### 3.2. manipulación de cadenas\n",
    "\n",
    "Python proporciona varias operaciones y métodos para manipular cadenas. Aquí hay algunas técnicas de manipulación de cadenas de uso común:\n",
    "\n",
    "#### 3.2.1. concatenación\n",
    "\n",
    "Puede concatenar dos o más cadenas usando el operador +. Esto combina las cadenas en una sola cadena:"
   ]
  },
  {
   "cell_type": "code",
   "execution_count": null,
   "id": "743e740f",
   "metadata": {},
   "outputs": [],
   "source": [
    "nombre = \"Juan\"\n",
    "apellido = \"Cierva\"\n",
    "\n",
    "nombre_completo = nombre + \" \" + apellido\n",
    "print(nombre_completo)"
   ]
  },
  {
   "attachments": {},
   "cell_type": "markdown",
   "id": "bf3389ba",
   "metadata": {},
   "source": [
    "#### 3.2.2. Longitud de cadena y conteo\n",
    "\n",
    "Puede determinar la longitud de una cadena usando la función len(). Devuelve el número de caracteres de la cadena:"
   ]
  },
  {
   "cell_type": "code",
   "execution_count": null,
   "id": "576e5944",
   "metadata": {},
   "outputs": [],
   "source": [
    "mensaje = \"¡Hola, mundo!\"\n",
    "longitud = len(mensaje)\n",
    "print(\"Longitud:\", longitud)"
   ]
  },
  {
   "attachments": {},
   "cell_type": "markdown",
   "id": "86c322cd",
   "metadata": {},
   "source": [
    "Puede determinar las apariciones de una palabra en una cadena usando la función count()."
   ]
  },
  {
   "cell_type": "code",
   "execution_count": null,
   "id": "6e67a0f5",
   "metadata": {},
   "outputs": [],
   "source": [
    "mensaje = \"¡Hola, mundo!\"\n",
    "palabra = \"Hola\"\n",
    "ocurrencias = mensaje.count(palabra)\n",
    "print(\"Ocurrencias:\", ocurrencias)"
   ]
  },
  {
   "attachments": {},
   "cell_type": "markdown",
   "id": "788634dd",
   "metadata": {},
   "source": [
    "#### 3.2.3. Accediendo a personajes\n",
    "\n",
    "Puede acceder a caracteres individuales dentro de una cadena mediante la indexación. La indexación comienza desde 0 para el primer carácter:"
   ]
  },
  {
   "cell_type": "code",
   "execution_count": null,
   "id": "98d1c940",
   "metadata": {},
   "outputs": [],
   "source": [
    "mensaje = \"Hola, mundo\"\n",
    "primer_char = mensaje[0]\n",
    "print(\"Primer caracter:\", primer_char)"
   ]
  },
  {
   "attachments": {},
   "cell_type": "markdown",
   "id": "a7cdf5f8",
   "metadata": {},
   "source": [
    "También puede usar la indexación negativa para acceder a los caracteres desde el final de la cadena. -1 se refiere al último carácter:"
   ]
  },
  {
   "cell_type": "code",
   "execution_count": null,
   "id": "a2aa1274",
   "metadata": {},
   "outputs": [],
   "source": [
    "mensaje = \"¡Hola, mundo!\"\n",
    "subcadena = mensaje[7:12]\n",
    "print(\"Subcadena:\", subcadena)"
   ]
  },
  {
   "attachments": {},
   "cell_type": "markdown",
   "id": "a47d66da",
   "metadata": {},
   "source": [
    "#### 3.2.4. Extraer\n",
    "\n",
    "Puede extraer una subcadena de una cadena mediante extracción. La extracción le permite especificar un rango de índices para extraer una parte de la cadena:"
   ]
  },
  {
   "cell_type": "code",
   "execution_count": null,
   "id": "41827751",
   "metadata": {},
   "outputs": [],
   "source": [
    "mensaje = \"¡Hola, mundo!\"\n",
    "subcadena = mensaje[7:12]\n",
    "print(\"Subcadena:\", subcadena)"
   ]
  },
  {
   "attachments": {},
   "cell_type": "markdown",
   "id": "e4d9edbf",
   "metadata": {},
   "source": [
    "### 3.3. Métodos de cadena\n",
    "\n",
    "Python proporciona un amplio conjunto de métodos de cadena incorporados que le permiten manipular cadenas. Estos son algunos métodos de cadena de uso común:"
   ]
  },
  {
   "cell_type": "code",
   "execution_count": null,
   "id": "f803bb3f",
   "metadata": {},
   "outputs": [],
   "source": [
    "mensaje = \"¡Hola, mundo!\"\n",
    "\n",
    "# Convertir a mayúsculas\n",
    "mayusculas = mensaje.upper()\n",
    "print(\"Mayúsculas:\", mayusculas) # Salida: Mayúsculas: ¡HOLA, MUNDO!\n",
    "\n",
    "# Convertir a minúsculas\n",
    "minusculas = mensaje.lower()\n",
    "print(\"Minúsculas:\", minusculas) # Salida: Minúsculas: ¡hola, mundo!\n",
    "\n",
    "# Reemplazar subcadena\n",
    "reemplazado = mensaje.replace(\"Hola\", \"Buenas\")\n",
    "print(\"Reemplazado:\", reemplazado) # Salida: Reemplazado: ¡Buenas, mundo!\n",
    "\n",
    "# Dividir en una lista\n",
    "palabras = mensaje.split(\", \")\n",
    "print(\"Palabras:\", palabras) # Salida: Palabras: ['Hola', '¡Mundo!']"
   ]
  },
  {
   "attachments": {},
   "cell_type": "markdown",
   "id": "27110ad5",
   "metadata": {},
   "source": [
    "### 3.4. Resumen\n",
    "\n",
    "En esta parte, exploró las cadenas y la manipulación de cadenas en Python. Las cadenas se usan para representar texto y se pueden manipular usando\n",
    "varias operaciones y métodos. Comprender las técnicas de manipulación de cadenas es crucial para trabajar con datos textuales en Python."
   ]
  }
 ],
 "metadata": {
  "jupytext": {
   "cell_metadata_filter": "-all",
   "main_language": "python",
   "notebook_metadata_filter": "-all"
  },
  "kernelspec": {
   "display_name": "Python 3",
   "language": "python",
   "name": "python3"
  },
  "language_info": {
   "codemirror_mode": {
    "name": "ipython",
    "version": 3
   },
   "file_extension": ".py",
   "mimetype": "text/x-python",
   "name": "python",
   "nbconvert_exporter": "python",
   "pygments_lexer": "ipython3",
   "version": "3.8.10"
  }
 },
 "nbformat": 4,
 "nbformat_minor": 5
}
