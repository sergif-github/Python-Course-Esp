{
 "cells": [
  {
   "attachments": {},
   "cell_type": "markdown",
   "id": "adc15652",
   "metadata": {},
   "source": [
    "# Módulo 1: Variables y tipos de datos\n",
    "\n",
    "## Parte 6: Trabajando con colecciones\n",
    "\n",
    "En Python, las colecciones son estructuras de datos que se utilizan para almacenar varios valores juntos. Hay varios tipos de colecciones que proporcionan diferentes funcionalidades para organizar y manipular datos.\n",
    "\n",
    "### 6.1. Lista\n",
    "\n",
    "Una lista es una colección ordenada que puede contener elementos de diferentes tipos de datos. Las listas son mutables, lo que significa que puede modificar sus elementos después de crearlos. Las listas se definen encerrando los elementos entre corchetes ([]) y separándolos con comas.\n",
    "\n",
    "Por ejemplo:"
   ]
  },
  {
   "cell_type": "code",
   "execution_count": null,
   "id": "9da19d68",
   "metadata": {},
   "outputs": [],
   "source": [
    "frutas = ['manzana', 'plátano', 'cereza']\n",
    "números = [1, 2, 3, 4, 5]\n",
    "mixto = [1, 'manzana', True]\n",
    "\n",
    "print(frutas) # Salida: ['manzana', 'plátano', 'cereza']\n",
    "print (números) # Salida: [1, 2, 3, 4, 5]\n",
    "print (mixto) # Salida: [1, 'manzana', Verdadero]"
   ]
  },
  {
   "attachments": {},
   "cell_type": "markdown",
   "id": "fe614e86",
   "metadata": {},
   "source": [
    "Las listas, como coleccion, admiten varias operaciones y métodos para agregar, eliminar y modificar elementos:"
   ]
  },
  {
   "cell_type": "code",
   "execution_count": null,
   "id": "49b5845a",
   "metadata": {},
   "outputs": [],
   "source": [
    "frutas = ['manzana', 'plátano', 'cereza']\n",
    "numeros = [1, 2, 3, 4, 5]\n",
    "mixto = [1, 'manzana',  True]\n",
    "\n",
    "# Agregar un elemento a una lista\n",
    "frutas.append('naranja')\n",
    "print(frutas) # Salida: ['manzana', 'plátano', 'cereza', 'naranja']\n",
    "\n",
    "# Obtener la longitud de una lista\n",
    "longitud = len(numeros)\n",
    "print (longitud) # Salida: 5\n",
    "\n",
    "# Acceder a un elemento por índice\n",
    "elemento = mixto[1]\n",
    "print (elemento) # Salida: 'manzana'\n",
    "\n",
    "# Eliminar un elemento de una lista\n",
    "numeros.remove(3)\n",
    "print (numeros) # Salida: [1, 2, 4, 5]\n",
    "\n",
    "# Comprobar si existe un elemento en una lista\n",
    "existe = 'manzana' in frutas\n",
    "print (existe) # Salida: Verdadero\n",
    "\n",
    "# Cuenta las ocurrencias de un elemento en una lista\n",
    "cuenta = mixto.count(1)\n",
    "print(cuenta) # Salida: 1\n",
    "\n",
    "# Invertir el orden de una lista\n",
    "frutas.reverse()\n",
    "print(frutas) # Salida: ['naranja', 'cereza', 'plátano', 'manzana']\n",
    "\n",
    "# Ordenar una lista en orden ascendente\n",
    "numeros.ordenar()\n",
    "print (números) # Salida: [1, 2, 4, 5]"
   ]
  },
  {
   "attachments": {},
   "cell_type": "markdown",
   "id": "69675aac",
   "metadata": {},
   "source": [
    "### 6.2. Tuplas\n",
    "\n",
    "Una tupla es una colección ordenada similar a una lista, pero inmutables, lo que significa que sus elementos no se pueden modificar una vez creados. Las tuplas se definen encerrando los elementos entre paréntesis (()) y separándolos con comas.\n",
    "\n",
    "Por ejemplo:"
   ]
  },
  {
   "cell_type": "code",
   "execution_count": null,
   "id": "9de15a1d",
   "metadata": {},
   "outputs": [],
   "source": [
    "coordenadas = (3, 4)\n",
    "persona = ('Juan', 25, 'Ingeniero')\n",
    "\n",
    "print (coordenadas) # Salida: (3, 4)\n",
    "print(persona) # Salida: ('Juan', 25, 'Ingeniero')"
   ]
  },
  {
   "attachments": {},
   "cell_type": "markdown",
   "id": "5048cc1a",
   "metadata": {},
   "source": [
    "Las tuplas se utilizan a menudo para representar una colección de valores relacionados que no deben modificarse.\n",
    "\n",
    "Llas tuplas, como colección, admiten varias operaciones y métodos:"
   ]
  },
  {
   "cell_type": "code",
   "execution_count": null,
   "id": "3323158b",
   "metadata": {},
   "outputs": [],
   "source": [
    "coordenadas = (3, 4)\n",
    "persona = ('Juan', 25, 'Ingeniero')\n",
    "\n",
    "# Acceder a un elemento por índice\n",
    "x = coordenadas[0]\n",
    "print(x) # Salida: 3\n",
    "\n",
    "# Obtener la longitud de una tupla\n",
    "longitud = len(persona)\n",
    "print(longitud) # Salida: 3\n",
    "\n",
    "# Concatenar dos tuplas\n",
    "combinado = coordenadas + persona\n",
    "print(combinado) # Salida: (3, 4, 'Juan', 25, 'Ingeniero')\n",
    "\n",
    "# Cuenta las ocurrencias de un elemento en una tupla\n",
    "cuenta = persona.count('Ingeniero')\n",
    "print(cuenta) # Salida: 1\n",
    "\n",
    "# Encuentra el índice de un elemento en una tupla\n",
    "indice = persona.index('Juan')\n",
    "print(indice) # Salida: 0\n",
    "\n",
    "# Comprobar si existe un elemento en una tupla\n",
    "existe = 25 in persona\n",
    "print(existe) # Salida: Verdadero"
   ]
  },
  {
   "attachments": {},
   "cell_type": "markdown",
   "id": "bb4d6643",
   "metadata": {},
   "source": [
    "### 6.3. Conjuntos\n",
    "\n",
    "Un conjunto es una colección desordenada de elementos únicos. Los conjuntos son mutables y puede agregar o eliminar elementos de ellos. Los conjuntos se definen encerrando elementos entre llaves ({}) o usando el constructor set().\n",
    "\n",
    "Por ejemplo:"
   ]
  },
  {
   "cell_type": "code",
   "execution_count": null,
   "id": "29b0f109",
   "metadata": {},
   "outputs": [],
   "source": [
    "frutas = {'manzana', 'plátano', 'cereza'}\n",
    "números = set([1, 2, 3, 4, 5])\n",
    "\n",
    "print(frutas) # Salida: {'manzana', 'plátano', 'cereza'}\n",
    "print(números) # Salida: {1, 2, 3, 4, 5}"
   ]
  },
  {
   "attachments": {},
   "cell_type": "markdown",
   "id": "fbfd830c",
   "metadata": {},
   "source": [
    "Los conjuntos son útiles para operaciones como encontrar elementos únicos, operaciones de conjuntos (unión, intersección, diferencia) y pruebas de pertenencia.\n",
    "\n",
    "Los conjuntos, como colección, admiten varias operaciones y métodos:"
   ]
  },
  {
   "cell_type": "code",
   "execution_count": null,
   "id": "9efdb152",
   "metadata": {},
   "outputs": [],
   "source": [
    "frutas = {'manzana', 'plátano', 'cereza'}\n",
    "numeros = set([1, 2, 3, 4, 5])\n",
    "\n",
    "# Agregar un elemento a un conjunto\n",
    "frutas.add('naranja')\n",
    "print(frutas) # Salida: {'manzana', 'plátano', 'cereza', 'naranja'}\n",
    "\n",
    "# Eliminar un elemento de un conjunto\n",
    "numeros.remove(3)\n",
    "print(numeros) # Salida: {1, 2, 4, 5}\n",
    "\n",
    "# Comprobar si existe un elemento en un conjunto\n",
    "existe = 'manzana' in frutas\n",
    "print(existe) # Salida: Verdadero\n",
    "\n",
    "# Obtener la longitud de un conjunto\n",
    "longitud = len(numeros)\n",
    "print(longitud) # Salida: 4\n",
    "\n",
    "# Realiza la unión de dos conjuntos\n",
    "combinado = frutas.union(numeros)\n",
    "print(combinado) # Salida: {1, 2, 4, 5, 'plátano', 'manzana', 'cereza', 'naranja'}\n",
    "\n",
    "# Realiza la intersección de dos conjuntos\n",
    "interseccion = frutas.intersection(numeros)\n",
    "print(interseccion) # Salida: establecer ()\n",
    "\n",
    "# Realizar diferencia de dos conjuntos\n",
    "diferencia = frutas.difference(numeros)\n",
    "print(diferencia) # Salida: {'plátano', 'manzana', 'cereza', 'naranja'}"
   ]
  },
  {
   "attachments": {},
   "cell_type": "markdown",
   "id": "09e4d281",
   "metadata": {},
   "source": [
    "### 6.4. Diccionarios\n",
    "\n",
    "Un diccionario es una colección desordenada de pares clave-valor. Cada valor está asociado con una clave única, lo que permite una recuperación eficiente de los valores en función de sus claves. Los diccionarios se definen encerrando pares clave-valor entre llaves ({}) o usando el constructor dict().\n",
    "\n",
    "Por ejemplo:"
   ]
  },
  {
   "cell_type": "code",
   "execution_count": null,
   "id": "75bbf0cb",
   "metadata": {},
   "outputs": [],
   "source": [
    "persona = {'nombre': 'Juan', 'edad': 25, 'ocupación': 'Ingeniero'}\n",
    "\n",
    "print(persona) # Salida: {'nombre': 'Juan', 'edad': 25, 'ocupación': 'Ingeniero'}"
   ]
  },
  {
   "attachments": {},
   "cell_type": "markdown",
   "id": "728a8818",
   "metadata": {},
   "source": [
    "Los diccionarios se usan comúnmente para almacenar y recuperar datos basados en claves específicas.\n",
    "\n",
    "Los diccionarios, como colección, admiten varias operaciones y métodos:"
   ]
  },
  {
   "cell_type": "code",
   "execution_count": null,
   "id": "9577a221",
   "metadata": {},
   "outputs": [],
   "source": [
    "persona = {'nombre': 'Juan', 'edad': 25, 'ocupacion': 'Ingeniero'}\n",
    "\n",
    "# Acceder a un valor por clave\n",
    "nombre = persona['nombre']\n",
    "print(nombre) # Salida: 'Juan'\n",
    "\n",
    "# Obtener las claves de un diccionario\n",
    "claves = persona.keys()\n",
    "print(claves) # Salida: dict_keys(['nombre', 'edad', 'ocupación'])\n",
    "\n",
    "# Obtener los valores de un diccionario\n",
    "valores = persona.values()\n",
    "print(valores) # Salida: dict_values(['Juan', 25, 'Ingeniero'])\n",
    "\n",
    "# Comprobar si existe una clave en un diccionario\n",
    "existe = 'edad' in persona\n",
    "print(existe) # Salida: Verdadero\n",
    "\n",
    "# Agregar un nuevo par clave-valor a un diccionario\n",
    "persona['ciudad'] = 'Nueva York'\n",
    "print(persona) # Salida: {'nombre': 'Juan', 'edad': 25, 'ocupación': 'Ingeniero', 'ciudad': 'Nueva York'}\n",
    "\n",
    "# Eliminar un par clave-valor de un diccionario\n",
    "valor_eliminado = persona.pop('ocupacion')\n",
    "print(valor_eliminado) # Salida: 'Ingeniero'\n",
    "print(persona) # Salida: {'nombre': 'Juan', 'edad': 25, 'ciudad': 'Nueva York'}\n",
    "\n",
    "# Borrar todos los pares clave-valor de un diccionario\n",
    "persona.clear()\n",
    "print(persona) # Salida: {}"
   ]
  },
  {
   "attachments": {},
   "cell_type": "markdown",
   "id": "99a14a30",
   "metadata": {},
   "source": [
    "### 6.5. Diferencias y eficiencia entre colecciones\n",
    "\n",
    "Cada colección tiene sus propias características que pueden impactar en su eficiencia para diferentes tareas.\n",
    "Vale la pena señalar que las diferencias de eficiencia entre estas colecciones pueden no ser significativas para tareas de pequeña escala. La elección de la colección adecuada depende de factores como el tamaño de los datos, la frecuencia y el tipo de operaciones realizadas y los requisitos específicos de su programa.\n",
    "\n",
    "Exploremos las diferencias y las consideraciones de eficiencia para cada una de estas colecciones:\n",
    "\n",
    "Listas\n",
    "- Características: Las listas son mutables, ordenadas y permiten elementos duplicados.\n",
    "- Eficiencia: Las listas brindan un acceso eficiente a los elementos en función de su índice, lo que facilita la recuperación o modificación de elementos individuales. Sin embargo, la búsqueda de elementos específicos puede ser más lenta para listas más grandes, ya que requiere recorrer toda la lista. Agregar o eliminar elementos al final de una lista es eficiente, pero insertar o eliminar elementos en el medio requiere cambiar los elementos posteriores.\n",
    "\n",
    "Tuplas\n",
    "- Características: Las tuplas son inmutables y ordenadas, similares a las listas.\n",
    "- Eficiencia: Las tuplas ofrecen una eficiencia similar a las listas para acceder a elementos por índice. Sin embargo, debido a su inmutabilidad, brindan la ventaja de ser hash, lo que los hace adecuados para usar como claves en diccionarios o elementos en conjuntos. Las tuplas también tienen una ligera ventaja en la eficiencia de la memoria en comparación con las listas.\n",
    "\n",
    "Conjuntos\n",
    "- Características: Los conjuntos son mutables, desordenados y almacenan solo elementos únicos.\n",
    "- Eficiencia: Los conjuntos son muy eficientes para las pruebas de pertenencia y la verificación de la singularidad. Utilizan indexación basada en hash, realizando operaciones como agregar o eliminar elementos, o verificar la membresía, muy rápido, incluso con conjuntos grandes. Sin embargo, los conjuntos no brindan acceso directo a elementos individuales, ya que no están ordenados.\n",
    "\n",
    "Diccionarios\n",
    "- Características: Los diccionarios son mutables, desordenados y almacenan elementos como pares clave-valor.\n",
    "- Eficiencia: Los diccionarios sobresalen en búsquedas eficientes basadas en claves. Usan tablas hash para almacenar y recuperar valores basados en claves únicas, lo que permite un acceso rápido incluso con diccionarios grandes. Sin embargo, iterar sobre los elementos del diccionario puede no mantener un orden específico ya que los elementos están desordenados. Agregar, actualizar o eliminar pares clave-valor en los diccionarios es generalmente eficiente.\n",
    "\n",
    "Las consideraciones de eficiencia dependen de las operaciones específicas y los casos de uso. Si necesita conservar el orden de los elementos y permitir duplicados, las listas o tuplas pueden ser opciones adecuadas. Si la singularidad y las pruebas rápidas de membresía son cruciales, los conjuntos ofrecen soluciones eficientes. Para tareas que involucran asignaciones de clave-valor o búsqueda rápida basada en claves, los diccionarios son la opción de acceso.\n",
    "\n",
    "\n",
    "### 6.6. Resumen\n",
    "\n",
    "En esta parte, exploró diferentes tipos de colecciones en Python, incluidas listas, tuplas, conjuntos y diccionarios. Cada tipo de colección tiene sus propias características y casos de uso. Comprender las colecciones es esencial para organizar y manipular datos de manera efectiva en sus programas."
   ]
  }
 ],
 "metadata": {
  "jupytext": {
   "cell_metadata_filter": "-all",
   "main_language": "python",
   "notebook_metadata_filter": "-all"
  },
  "kernelspec": {
   "display_name": "Python 3",
   "language": "python",
   "name": "python3"
  },
  "language_info": {
   "codemirror_mode": {
    "name": "ipython",
    "version": 3
   },
   "file_extension": ".py",
   "mimetype": "text/x-python",
   "name": "python",
   "nbconvert_exporter": "python",
   "pygments_lexer": "ipython3",
   "version": "3.8.10"
  }
 },
 "nbformat": 4,
 "nbformat_minor": 5
}
