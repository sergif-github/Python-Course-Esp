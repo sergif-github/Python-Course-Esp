{
 "cells": [
  {
   "attachments": {},
   "cell_type": "markdown",
   "id": "cddca993",
   "metadata": {
    "lines_to_next_cell": 0
   },
   "source": [
    "# Módulo 1: Variables y tipos de datos\n",
    "\n",
    "## Parte 5: Conversión de tipos\n",
    "\n",
    "En Python, puede convertir un tipo de datos en otro mediante la conversión de tipos o la conversión. La conversión de tipo le permite cambiar los datos\n",
    "tipo de un valor, mientras que la conversión \"casting\" especifica explícitamente el tipo de datos deseado.\n",
    "\n",
    "### 5.1. Conversión de tipos implícita\n",
    "\n",
    "Python realiza automáticamente una conversión de tipo implícita cuando encuentra expresiones que involucran diferentes tipos de datos. Por ejemplo,\n",
    "cuando realiza operaciones aritméticas entre diferentes tipos numéricos, Python convertirá automáticamente los operandos a un tipo común."
   ]
  },
  {
   "cell_type": "code",
   "execution_count": null,
   "id": "968e2e22",
   "metadata": {},
   "outputs": [],
   "source": [
    "x = 10\n",
    "y = 3.5\n",
    "\n",
    "resultado = x + y # Conversión implícita de int a float\n",
    "print(\"Tipo de resultado:\", type(resultado))\n",
    "print(\"Resultado:\", resultado)"
   ]
  },
  {
   "attachments": {},
   "cell_type": "markdown",
   "id": "1c9cd27c",
   "metadata": {
    "lines_to_next_cell": 0
   },
   "source": [
    "En este ejemplo, el entero x se convierte implícitamente en un flotante para realizar la operación de suma con y.\n",
    "\n",
    "### 5.2. Casting de tipo explícito\n",
    "\n",
    "Puede convertir explícitamente valores de un tipo de datos a otro utilizando funciones de conversión. Python proporciona varias funciones integradas para el tipo\n",
    "fundición, incluyendo:\n",
    "\n",
    "- int(): Convierte un valor a un número entero\n",
    "- float(): Convierte un valor en un flotante\n",
    "- str(): Convierte un valor en una cadena\n",
    "- bool(): Convierte un valor a un booleano\n",
    "\n",
    "Por ejemplo:"
   ]
  },
  {
   "cell_type": "code",
   "execution_count": null,
   "id": "6aa26680",
   "metadata": {},
   "outputs": [],
   "source": [
    "# Convertir un valor a un entero\n",
    "valor1 = \"10\"\n",
    "valor_entero = int(valor1)\n",
    "print(valor_entero) # Salida: 10\n",
    "print(type(valor_entero)) # Salida: <clase 'int'>\n",
    "\n",
    "# Convertir un valor en un flotante\n",
    "valor2 = \"3.14\"\n",
    "float_valor = float(valor2)\n",
    "print(float_valor) # Salida: 3.14\n",
    "print(type(float_valor)) # Salida: <clase 'float'>\n",
    "\n",
    "# Convertir un valor a una cadena\n",
    "valor3 = 42\n",
    "cadena_valor = str(valor3)\n",
    "print(cadena_valor) # Salida: \"42\"\n",
    "print(type(cadena_valor)) # Salida: <clase 'str'>\n",
    "\n",
    "# Convertir un valor a booleano\n",
    "valor4 = 0\n",
    "valor_bool = bool(valor4)\n",
    "print(valor_bool) # Salida: Falso\n",
    "print(type(valor_bool)) # Salida: <clase 'bool'>"
   ]
  },
  {
   "attachments": {},
   "cell_type": "markdown",
   "id": "5c06923c",
   "metadata": {},
   "source": [
    "En este ejemplo, comenzamos con diferentes valores (10, 3.14, 42 y 0) y aplicamos las funciones de conversión correspondientes (int(), float(), str() y bool()) para convertirlos a los tipos deseados. Luego, imprimimos los valores convertidos y sus tipos correspondientes usando la función print().\n",
    "\n",
    "### 5.3. Resumen\n",
    "\n",
    "En esta parte, exploró la conversión implícita y explícita de tipos en Python. La conversión de tipo implícita permite a Python convertir automáticamente\n",
    "valores de diferentes tipos de datos, mientras que la conversión de tipos explícita le permite convertir valores explícitamente mediante funciones de conversión.\n",
    "Comprender la conversión de tipos es importante para manipular y transformar datos en sus programas."
   ]
  }
 ],
 "metadata": {
  "jupytext": {
   "cell_metadata_filter": "-all",
   "main_language": "python",
   "notebook_metadata_filter": "-all"
  },
  "kernelspec": {
   "display_name": "Python 3",
   "language": "python",
   "name": "python3"
  },
  "language_info": {
   "codemirror_mode": {
    "name": "ipython",
    "version": 3
   },
   "file_extension": ".py",
   "mimetype": "text/x-python",
   "name": "python",
   "nbconvert_exporter": "python",
   "pygments_lexer": "ipython3",
   "version": "3.8.10"
  }
 },
 "nbformat": 4,
 "nbformat_minor": 5
}
