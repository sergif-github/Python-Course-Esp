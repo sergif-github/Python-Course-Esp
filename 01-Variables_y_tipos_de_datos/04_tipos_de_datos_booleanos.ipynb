{
 "cells": [
  {
   "attachments": {},
   "cell_type": "markdown",
   "id": "e6d05bcc",
   "metadata": {},
   "source": [
    "# Módulo 1: Variables y tipos de datos\n",
    "\n",
    "## Parte 4: Booleanos\n",
    "\n",
    "En Python, el tipo de datos bool representa valores booleanos que pueden tener dos estados posibles: verdadero o falso. Se usan comúnmente en la programación en declaraciones condicionales y operaciones lógicas para determinar el flujo del programa en función de ciertas condiciones.\n",
    "\n",
    "### 4.1. Valores booleanos\n",
    "\n",
    "Los valores booleanos True y False son palabras clave en Python y se utilizan para representar el concepto de verdad o falsedad.\n",
    "\n",
    "Por ejemplo:"
   ]
  },
  {
   "cell_type": "code",
   "execution_count": null,
   "id": "65a0b038",
   "metadata": {},
   "outputs": [],
   "source": [
    "esta_lloviendo = True\n",
    "hace_sol = False\n",
    "print(esta_lloviendo)\n",
    "print (hace_sol)"
   ]
  },
  {
   "attachments": {},
   "cell_type": "markdown",
   "id": "6d1c33a4",
   "metadata": {},
   "source": [
    "### 4.2. Operadores de comparación\n",
    "\n",
    "Python proporciona varios operadores de comparación que se pueden usar para comparar valores y generar resultados booleanos. Algunos operadores de comparación de uso común incluyen:\n",
    "\n",
    "- == (igual a)\n",
    "- != (no igual a)\n",
    "- \\> (mayor que)\n",
    "- < (menor que)\n",
    "- \\>= (mayor o igual que)\n",
    "- <= (menor o igual que)\n",
    "\n",
    "Estos operadores comparan dos valores y devuelven Verdadero o Falso según el resultado de la comparación. Por ejemplo:"
   ]
  },
  {
   "cell_type": "code",
   "execution_count": null,
   "id": "adc9b5cf",
   "metadata": {},
   "outputs": [],
   "source": [
    "x = 10\n",
    "y = 5\n",
    "\n",
    "resultado1 = x > y\n",
    "resultado2 = x == y\n",
    "resultado3 = x != y\n",
    "print(resultado1)\n",
    "print(resultado2)\n",
    "print(resultado3)"
   ]
  },
  {
   "attachments": {},
   "cell_type": "markdown",
   "id": "a8834213",
   "metadata": {},
   "source": [
    "### 4.3. Operadores logicos\n",
    "\n",
    "Python también proporciona operadores lógicos que se pueden usar para combinar múltiples valores o expresiones booleanos. Los tres operadores lógicos son:\n",
    "\n",
    "- and (Y lógico)\n",
    "- or (O lógico)\n",
    "- not (No lógico)\n",
    "\n",
    "Estos operadores le permiten realizar operaciones lógicas en valores booleanos y producir resultados booleanos.\n",
    "\n",
    "Por ejemplo:"
   ]
  },
  {
   "cell_type": "code",
   "execution_count": null,
   "id": "5ec2a6a9",
   "metadata": {},
   "outputs": [],
   "source": [
    "X = 10\n",
    "y = 5\n",
    "\n",
    "resultado1 = x > 0 and y > 0\n",
    "resultado2 = x > 10 or y > 10\n",
    "resultado3 = not (x > y)\n",
    "print(resultado1)\n",
    "print(resultado2)\n",
    "print(resultado3)"
   ]
  },
  {
   "attachments": {},
   "cell_type": "markdown",
   "id": "89718c64",
   "metadata": {},
   "source": [
    "### 4.4. Resumen\n",
    "\n",
    "En esta parte exploró el tipo de datos booleano en Python. Los booleanos representan verdad o falsedad y se usan comúnmente en declaraciones condicionales, operaciones lógicas y comparaciones. Comprender los valores y operadores booleanos es esencial para tomar decisiones y controlar el flujo de sus programas."
   ]
  }
 ],
 "metadata": {
  "jupytext": {
   "cell_metadata_filter": "-all",
   "main_language": "python",
   "notebook_metadata_filter": "-all"
  },
  "kernelspec": {
   "display_name": "Python 3",
   "language": "python",
   "name": "python3"
  },
  "language_info": {
   "codemirror_mode": {
    "name": "ipython",
    "version": 3
   },
   "file_extension": ".py",
   "mimetype": "text/x-python",
   "name": "python",
   "nbconvert_exporter": "python",
   "pygments_lexer": "ipython3",
   "version": "3.8.10"
  }
 },
 "nbformat": 4,
 "nbformat_minor": 5
}
