{
 "cells": [
  {
   "attachments": {},
   "cell_type": "markdown",
   "id": "06db9aa5",
   "metadata": {},
   "source": [
    "# Módulo 1: Variables y tipos de datos\n",
    "\n",
    "## Parte 2: Tipos de datos numéricos (int, float)\n",
    "\n",
    "En Python, hay dos tipos de datos numéricos principales: int y float. Estos tipos de datos se utilizan para representar números enteros y números de punto flotante, respectivamente.\n",
    "\n",
    "### 2.1. Tipo de datos entero (int)\n",
    "\n",
    "El tipo de datos int representa números enteros sin partes fraccionarias. Se puede utilizar para almacenar números positivos y negativos, así como cero.\n",
    "\n",
    "Por ejemplo:"
   ]
  },
  {
   "cell_type": "code",
   "execution_count": 1,
   "id": "347cac11",
   "metadata": {},
   "outputs": [],
   "source": [
    "edad = 25\n",
    "cantidad = -10\n",
    "población = 1000000"
   ]
  },
  {
   "attachments": {},
   "cell_type": "markdown",
   "id": "be8a55d5",
   "metadata": {},
   "source": [
    "Python proporciona varias operaciones aritméticas que se pueden realizar en valores enteros, como suma, resta, multiplicación y división.\n",
    "Estas operaciones devuelven resultados de tipo int cuando ambos operandos son enteros.\n",
    "\n",
    "Por ejemplo:"
   ]
  },
  {
   "cell_type": "code",
   "execution_count": null,
   "id": "62fa1c6c",
   "metadata": {},
   "outputs": [],
   "source": [
    "x = 10\n",
    "y = 3\n",
    "\n",
    "suma = x + y\n",
    "diferencia = x - y\n",
    "producto = x * y\n",
    "cociente = x / y\n",
    "\n",
    "print(\"Suma:\", suma)\n",
    "print(\"Diferencia:\", diferencia)\n",
    "print(\"Producto:\", producto)\n",
    "print(\"Cociente:\", cociente)"
   ]
  },
  {
   "attachments": {},
   "cell_type": "markdown",
   "id": "c25a18c2",
   "metadata": {},
   "source": [
    "### 2.2. Tipo de datos de coma flotante (float)\n",
    "\n",
    "El tipo de datos flotante representa números con partes fraccionarias.\n",
    "\n",
    "Por ejemplo:"
   ]
  },
  {
   "cell_type": "code",
   "execution_count": 4,
   "id": "fc66eec2",
   "metadata": {},
   "outputs": [],
   "source": [
    "pi = 3.14159\n",
    "temperatura = -10.5\n",
    "precio = 19.99"
   ]
  },
  {
   "attachments": {},
   "cell_type": "markdown",
   "id": "64ae2b52",
   "metadata": {},
   "source": [
    "Los números de punto flotante también se pueden usar en operaciones aritméticas:"
   ]
  },
  {
   "cell_type": "code",
   "execution_count": null,
   "id": "e008446d",
   "metadata": {},
   "outputs": [],
   "source": [
    "x = 5,0\n",
    "y = 2.0\n",
    "\n",
    "suma = x + y\n",
    "diferencia = x - y\n",
    "producto = x * y\n",
    "cociente = x / y\n",
    "\n",
    "print(\"Suma:\", suma)\n",
    "print(\"Diferencia:\", diferencia)\n",
    "print(\"Producto:\", producto)\n",
    "print(\"Cociente:\", cociente)"
   ]
  },
  {
   "attachments": {},
   "cell_type": "markdown",
   "id": "28ba86ce",
   "metadata": {},
   "source": [
    "Es importante notar que cuando se usa un int y un float en una operación aritmética, el resultado será un float:"
   ]
  },
  {
   "cell_type": "code",
   "execution_count": null,
   "id": "b27e5c66",
   "metadata": {},
   "outputs": [],
   "source": [
    "x = 10\n",
    "y = 3.0\n",
    "\n",
    "resultado = x / y\n",
    "\n",
    "print(\"Resultado:\", resultado)"
   ]
  },
  {
   "attachments": {},
   "cell_type": "markdown",
   "id": "8b7200df",
   "metadata": {},
   "source": [
    "### 2.3. Resumen\n",
    "\n",
    "En esta parte, exploró los tipos de datos int y float en Python. Estos tipos de datos se utilizan para representar números enteros y números de punto flotante,\n",
    "respectivamente. Admiten varias operaciones aritméticas y se pueden utilizar en cálculos matemáticos."
   ]
  }
 ],
 "metadata": {
  "jupytext": {
   "cell_metadata_filter": "-all",
   "main_language": "python",
   "notebook_metadata_filter": "-all"
  },
  "kernelspec": {
   "display_name": "Python 3",
   "language": "python",
   "name": "python3"
  },
  "language_info": {
   "name": "python",
   "version": "3.8.10"
  }
 },
 "nbformat": 4,
 "nbformat_minor": 5
}
