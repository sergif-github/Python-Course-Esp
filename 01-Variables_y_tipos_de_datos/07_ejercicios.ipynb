{
 "cells": [
  {
   "attachments": {},
   "cell_type": "markdown",
   "id": "b8d1c3ff",
   "metadata": {},
   "source": [
    "# Módulo 1: Variables y tipos de datos\n",
    "\n",
    "## Parte 7: Ejercicios\n",
    "\n",
    "### Ejercicio 1\n",
    "Escriba un programa en Python que asigne un valor de 5 a una variable x e imprima su valor."
   ]
  },
  {
   "cell_type": "code",
   "execution_count": null,
   "id": "e85b612b",
   "metadata": {},
   "outputs": [],
   "source": []
  },
  {
   "attachments": {},
   "cell_type": "markdown",
   "id": "849a8e20",
   "metadata": {
    "lines_to_next_cell": 2
   },
   "source": [
    "### Ejercicio 2\n",
    "Escriba un programa en Python que asigne los valores 10, 20 y 30 a las variables a, b y c respectivamente, todo en una sola línea.\n",
    "Imprime los valores de a, b y c."
   ]
  },
  {
   "cell_type": "code",
   "execution_count": null,
   "id": "4f9eb2f2",
   "metadata": {},
   "outputs": [],
   "source": []
  },
  {
   "attachments": {},
   "cell_type": "markdown",
   "id": "9ede90fe",
   "metadata": {
    "lines_to_next_cell": 2
   },
   "source": [
    "### Ejercicio 3\n",
    "Escriba un programa en Python que tome dos números como entrada del usuario y calcule su suma. Imprime el resultado."
   ]
  },
  {
   "cell_type": "code",
   "execution_count": null,
   "id": "8a4bdeac",
   "metadata": {},
   "outputs": [],
   "source": []
  },
  {
   "attachments": {},
   "cell_type": "markdown",
   "id": "f92465ea",
   "metadata": {
    "lines_to_next_cell": 2
   },
   "source": [
    "### Ejercicio 4\n",
    "Escriba un programa en Python que tome dos números como entrada del usuario y calcule su diferencia. Imprime el resultado."
   ]
  },
  {
   "cell_type": "code",
   "execution_count": null,
   "id": "8b37dba9",
   "metadata": {},
   "outputs": [],
   "source": []
  },
  {
   "attachments": {},
   "cell_type": "markdown",
   "id": "0a6d8c34",
   "metadata": {
    "lines_to_next_cell": 2
   },
   "source": [
    "### Ejercicio 5\n",
    "Escriba un programa en Python que tome dos números como entrada del usuario y calcule su producto. Imprime el resultado."
   ]
  },
  {
   "cell_type": "code",
   "execution_count": null,
   "id": "cd6ac3cf",
   "metadata": {},
   "outputs": [],
   "source": []
  },
  {
   "attachments": {},
   "cell_type": "markdown",
   "id": "45b89af0",
   "metadata": {
    "lines_to_next_cell": 2
   },
   "source": [
    "### Ejercicio 6\n",
    "Escriba un programa en Python que tome dos números como entrada del usuario y calcule su división. Imprime el resultado."
   ]
  },
  {
   "cell_type": "code",
   "execution_count": null,
   "id": "ebbc95d6",
   "metadata": {},
   "outputs": [],
   "source": []
  },
  {
   "attachments": {},
   "cell_type": "markdown",
   "id": "f0b430d3",
   "metadata": {
    "lines_to_next_cell": 2
   },
   "source": [
    "### Ejercicio 7\n",
    "Escriba un programa de Python que solicite al usuario que ingrese su nombre y lo almacene en una variable llamada nombre. Imprime el valor del nombre."
   ]
  },
  {
   "cell_type": "code",
   "execution_count": null,
   "id": "17d5c609",
   "metadata": {},
   "outputs": [],
   "source": []
  },
  {
   "attachments": {},
   "cell_type": "markdown",
   "id": "ff7cb1e1",
   "metadata": {
    "lines_to_next_cell": 2
   },
   "source": [
    "### Ejercicio 8\n",
    "Escriba un programa de Python que solicite al usuario que ingrese su nombre y apellido por separado. Concatena las dos cadenas\n",
    "y escriba el nombre completo."
   ]
  },
  {
   "cell_type": "code",
   "execution_count": null,
   "id": "85f10b88",
   "metadata": {},
   "outputs": [],
   "source": []
  },
  {
   "attachments": {},
   "cell_type": "markdown",
   "id": "5c7d80cf",
   "metadata": {
    "lines_to_next_cell": 2
   },
   "source": [
    "### Ejercicio 9\n",
    "Escriba un programa de Python que solicite al usuario que ingrese una oración y calcule la longitud de la oración. Imprime la longitud."
   ]
  },
  {
   "cell_type": "code",
   "execution_count": null,
   "id": "899d10ab",
   "metadata": {},
   "outputs": [],
   "source": []
  },
  {
   "attachments": {},
   "cell_type": "markdown",
   "id": "8baae4ed",
   "metadata": {
    "lines_to_next_cell": 2
   },
   "source": [
    "### Ejercicio 10\n",
    "Escriba un programa de Python que solicite al usuario que ingrese una oración y una palabra para buscar. Cuenta el número de ocurrencias\n",
    "de la palabra en la oración e imprime el conteo."
   ]
  },
  {
   "cell_type": "code",
   "execution_count": null,
   "id": "32f535c3",
   "metadata": {},
   "outputs": [],
   "source": []
  },
  {
   "attachments": {},
   "cell_type": "markdown",
   "id": "94faf88e",
   "metadata": {
    "lines_to_next_cell": 2
   },
   "source": [
    "### Ejercicio 11\n",
    "Escriba un programa en Python que solicite al usuario que ingrese una palabra y la almacene en una variable llamada palabra. Accede al primer carácter\n",
    "de la palabra e imprimelo."
   ]
  },
  {
   "cell_type": "code",
   "execution_count": null,
   "id": "bb2964dc",
   "metadata": {},
   "outputs": [],
   "source": []
  },
  {
   "attachments": {},
   "cell_type": "markdown",
   "id": "2831a998",
   "metadata": {
    "lines_to_next_cell": 2
   },
   "source": [
    "### Ejercicio 12\n",
    "Escriba un programa de Python que solicite al usuario que ingrese una oración y la almacene en una variable llamada oración. Use extración para imprimir los primeros tres caracteres de la oración."
   ]
  },
  {
   "cell_type": "code",
   "execution_count": null,
   "id": "7d96c99e",
   "metadata": {},
   "outputs": [],
   "source": []
  },
  {
   "attachments": {},
   "cell_type": "markdown",
   "id": "0b12268c",
   "metadata": {
    "lines_to_next_cell": 2
   },
   "source": [
    "### Ejercicio 13\n",
    "Escriba un programa de Python que solicite al usuario que ingrese una palabra. Use extración cadenas para extraer los primeros tres caracteres,\n",
    "los últimos tres caracteres y una subcadena que comienza desde el cuarto carácter hasta el final de la palabra. Imprime las subcadenas extraídas."
   ]
  },
  {
   "cell_type": "code",
   "execution_count": null,
   "id": "265f5834",
   "metadata": {},
   "outputs": [],
   "source": []
  },
  {
   "attachments": {},
   "cell_type": "markdown",
   "id": "871e61af",
   "metadata": {
    "lines_to_next_cell": 2
   },
   "source": [
    "### Ejercicio 14\n",
    "Escriba un programa de Python que solicite al usuario que ingrese una palabra. Invierta la palabra usando extración e imprima la palabra invertida."
   ]
  },
  {
   "cell_type": "code",
   "execution_count": null,
   "id": "acabe2d2",
   "metadata": {},
   "outputs": [],
   "source": []
  },
  {
   "attachments": {},
   "cell_type": "markdown",
   "id": "448d34ba",
   "metadata": {
    "lines_to_next_cell": 2
   },
   "source": [
    "### Ejercicio 15\n",
    "Escriba un programa en Python que solicite al usuario que ingrese una palabra y la almacene en una variable llamada palabra. Usa el método upper()\n",
    "para convertir la palabra a mayúsculas e imprimir el resultado."
   ]
  },
  {
   "cell_type": "code",
   "execution_count": null,
   "id": "9ac2fc9c",
   "metadata": {},
   "outputs": [],
   "source": []
  },
  {
   "attachments": {},
   "cell_type": "markdown",
   "id": "6779b136",
   "metadata": {
    "lines_to_next_cell": 2
   },
   "source": [
    "### Ejercicio 16\n",
    "Escriba un programa de Python que solicite al usuario que ingrese una oración. Convierta la oración a minúsculas e imprima el resultado."
   ]
  },
  {
   "cell_type": "code",
   "execution_count": null,
   "id": "c6c9447a",
   "metadata": {},
   "outputs": [],
   "source": []
  },
  {
   "attachments": {},
   "cell_type": "markdown",
   "id": "2eead950",
   "metadata": {
    "lines_to_next_cell": 2
   },
   "source": [
    "### Ejercicio 17\n",
    "Escriba un programa de Python que solicite al usuario que ingrese una oración. Divide la oración en una lista de palabras usando el método split().\n",
    "Imprime la lista de palabras."
   ]
  },
  {
   "cell_type": "code",
   "execution_count": null,
   "id": "e8a05916",
   "metadata": {},
   "outputs": [],
   "source": []
  },
  {
   "attachments": {},
   "cell_type": "markdown",
   "id": "933907c9",
   "metadata": {
    "lines_to_next_cell": 2
   },
   "source": [
    "### Ejercicio 18\n",
    "Escriba un programa en Python que defina dos variables booleanas lloviendo y soleado. Imprime los valores de las variables."
   ]
  },
  {
   "cell_type": "code",
   "execution_count": null,
   "id": "6e7175f5",
   "metadata": {},
   "outputs": [],
   "source": []
  },
  {
   "attachments": {},
   "cell_type": "markdown",
   "id": "7d12ecca",
   "metadata": {
    "lines_to_next_cell": 2
   },
   "source": [
    "### Ejercicio 19\n",
    "Escriba un programa de Python que solicite al usuario que ingrese su edad. Compare su edad con una edad adulta predefinida (por ejemplo, 18) usando\n",
    "el operador mayor que (>). Imprime si el usuario es adulto o no según el resultado de la comparación."
   ]
  },
  {
   "cell_type": "code",
   "execution_count": null,
   "id": "ed95fcee",
   "metadata": {},
   "outputs": [],
   "source": []
  },
  {
   "attachments": {},
   "cell_type": "markdown",
   "id": "adb75bdd",
   "metadata": {
    "lines_to_next_cell": 2
   },
   "source": [
    "### Ejercicio 20\n",
    "Escriba un programa de Python que solicite al usuario que ingrese un número. Verifique si el número es un número positivo mayor que 10 usando comparación (>) y operadores lógicos (y). Imprime el resultado."
   ]
  },
  {
   "cell_type": "code",
   "execution_count": null,
   "id": "e3626807",
   "metadata": {},
   "outputs": [],
   "source": []
  },
  {
   "attachments": {},
   "cell_type": "markdown",
   "id": "b29780a2",
   "metadata": {
    "lines_to_next_cell": 2
   },
   "source": [
    "### Ejercicio 21\n",
    "Escriba un programa de Python que solicite al usuario que ingrese un número. Comprueba si el número es divisible por 2 y 3 usando\n",
    "el operador lógico AND. Imprime el resultado."
   ]
  },
  {
   "cell_type": "code",
   "execution_count": null,
   "id": "adab727b",
   "metadata": {},
   "outputs": [],
   "source": []
  },
  {
   "attachments": {},
   "cell_type": "markdown",
   "id": "7a8378fd",
   "metadata": {
    "lines_to_next_cell": 2
   },
   "source": [
    "### Ejercicio 22\n",
    "Escriba un programa de Python que defina tres variables booleanas: es_estudiante, tiene_tareas y is_weekend. Asigna valores apropiados\n",
    "a estas variables. Escriba una declaración condicional usando operadores lógicos (y, o) para determinar si el estudiante tiene que hacer la tarea. Imprime el resultado."
   ]
  },
  {
   "cell_type": "code",
   "execution_count": null,
   "id": "3798c843",
   "metadata": {},
   "outputs": [],
   "source": []
  },
  {
   "attachments": {},
   "cell_type": "markdown",
   "id": "a3661c6b",
   "metadata": {
    "lines_to_next_cell": 2
   },
   "source": [
    "### Ejercicio 23\n",
    "Escriba un programa de Python que solicite al usuario que ingrese un número entero. Convierta el número entero en una cadena usando la función str() y asígnelo a una variable.\n",
    "Imprime el tipo de la variable."
   ]
  },
  {
   "cell_type": "code",
   "execution_count": null,
   "id": "46909fb7",
   "metadata": {},
   "outputs": [],
   "source": []
  },
  {
   "attachments": {},
   "cell_type": "markdown",
   "id": "21e72adc",
   "metadata": {
    "lines_to_next_cell": 2
   },
   "source": [
    "### Ejercicio 24\n",
    "Escriba un programa de Python que solicite al usuario que ingrese una cadena que contenga un número. Convierte la cadena a un número entero usando la función int(). Imprime el tipo de la variable."
   ]
  },
  {
   "cell_type": "code",
   "execution_count": null,
   "id": "57e9acbf",
   "metadata": {},
   "outputs": [],
   "source": []
  },
  {
   "attachments": {},
   "cell_type": "markdown",
   "id": "0a37ed7d",
   "metadata": {
    "lines_to_next_cell": 2
   },
   "source": [
    "### Ejercicio 25\n",
    "Escriba un programa en Python que defina un número flotante. Convierta el número flotante en un número entero usando la función int() y asígnelo a una variable.\n",
    "Imprime el tipo de la variable."
   ]
  },
  {
   "cell_type": "code",
   "execution_count": null,
   "id": "aadcf4d1",
   "metadata": {},
   "outputs": [],
   "source": []
  },
  {
   "attachments": {},
   "cell_type": "markdown",
   "id": "23c1927b",
   "metadata": {
    "lines_to_next_cell": 2
   },
   "source": [
    "### Ejercicio 26\n",
    "Cree una lista vacía llamada my_list. Agregue los números 1, 2, 3 y 4 a la lista. Elimina el número 3 de la lista.\n",
    "Imprime el contenido final de la lista."
   ]
  },
  {
   "cell_type": "code",
   "execution_count": null,
   "id": "3cd4acfd",
   "metadata": {},
   "outputs": [],
   "source": []
  },
  {
   "attachments": {},
   "cell_type": "markdown",
   "id": "2a756fc7",
   "metadata": {
    "lines_to_next_cell": 2
   },
   "source": [
    "### Ejercicio 27\n",
    "Cree una tupla llamada my_tuple con los valores 'manzana', 'plátano', 'cereza' y 'fecha'. Accede al segundo elemento de la tupla e imprímelo."
   ]
  },
  {
   "cell_type": "code",
   "execution_count": null,
   "id": "12e91685",
   "metadata": {},
   "outputs": [],
   "source": []
  },
  {
   "attachments": {},
   "cell_type": "markdown",
   "id": "f602da63",
   "metadata": {
    "lines_to_next_cell": 2
   },
   "source": [
    "### Ejercicio 28\n",
    "Cree dos conjuntos: conjunto1 con los valores 1, 2, 3 y 4, y conjunto2 con los valores 3, 4, 5 y 6. Imprima la unión de conjunto1 y conjunto2.\n",
    "Imprime la intersección de set1 y set2."
   ]
  },
  {
   "cell_type": "code",
   "execution_count": null,
   "id": "e445e18b",
   "metadata": {},
   "outputs": [],
   "source": []
  },
  {
   "attachments": {},
   "cell_type": "markdown",
   "id": "9c59e811",
   "metadata": {
    "lines_to_next_cell": 2
   },
   "source": [
    "### Ejercicio 29\n",
    "Cree un diccionario llamado my_dict con las claves 'nombre', 'edad' y 'ciudad' y sus valores correspondientes. Imprima el valor asociado\n",
    "con la tecla 'edad'. Agregue una nueva clave 'país' con el valor 'EE.UU.' al diccionario. Imprime el diccionario actualizado."
   ]
  },
  {
   "cell_type": "code",
   "execution_count": null,
   "id": "5295fb76",
   "metadata": {},
   "outputs": [],
   "source": []
  },
  {
   "attachments": {},
   "cell_type": "markdown",
   "id": "fe367d6b",
   "metadata": {},
   "source": [
    "### Ejercicio 30\n",
    "Cree un diccionario llamado puntuaciones_estudiantes con las claves 'Alice', 'Bob' y 'Charlie' y sus valores correspondientes como puntajes (0 de 100). Calcule el puntaje promedio de los estudiantes y guárdelo en una variable llamada promedio_puntaje. Imprime la puntuación media."
   ]
  },
  {
   "cell_type": "code",
   "execution_count": null,
   "id": "05d8c249",
   "metadata": {},
   "outputs": [],
   "source": []
  }
 ],
 "metadata": {
  "jupytext": {
   "cell_metadata_filter": "-all",
   "main_language": "python",
   "notebook_metadata_filter": "-all"
  },
  "kernelspec": {
   "display_name": "Python 3",
   "language": "python",
   "name": "python3"
  },
  "language_info": {
   "codemirror_mode": {
    "name": "ipython",
    "version": 3
   },
   "file_extension": ".py",
   "mimetype": "text/x-python",
   "name": "python",
   "nbconvert_exporter": "python",
   "pygments_lexer": "ipython3",
   "version": "3.8.10"
  }
 },
 "nbformat": 4,
 "nbformat_minor": 5
}
